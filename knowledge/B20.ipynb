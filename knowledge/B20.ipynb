{
  "cells": [
    {
      "cell_type": "code",
      "source": [
        "# ТЕСТИРОВАНИЕ B20 RELEASE\n",
        "\n",
        "from google.colab import drive\n",
        "drive.mount('/content/drive')"
      ],
      "metadata": {
        "colab": {
          "base_uri": "https://localhost:8080/"
        },
        "id": "1kbqMeB_pSLD",
        "outputId": "8753f880-77f1-4b4f-a726-538b28413e6d"
      },
      "execution_count": 1,
      "outputs": [
        {
          "output_type": "stream",
          "name": "stdout",
          "text": [
            "Drive already mounted at /content/drive; to attempt to forcibly remount, call drive.mount(\"/content/drive\", force_remount=True).\n"
          ]
        }
      ]
    },
    {
      "cell_type": "code",
      "source": [
        "!rm -rf /content/drive/MyDrive/KIA_TEST/FAISS_KIA_V4"
      ],
      "metadata": {
        "id": "3ijs5xXopVdr"
      },
      "execution_count": 2,
      "outputs": []
    },
    {
      "cell_type": "code",
      "source": [
        "!mkdir -p /content/drive/MyDrive/KIA_TEST/FAISS_KIA_V4"
      ],
      "metadata": {
        "id": "-ZCJHn6ApWfe"
      },
      "execution_count": 3,
      "outputs": []
    },
    {
      "cell_type": "code",
      "source": [
        "!git clone https://github.com/musicnova/KIA-GPT0.git /content/drive/MyDrive/KIA_TEST/FAISS_KIA_V4/faiss_b20"
      ],
      "metadata": {
        "colab": {
          "base_uri": "https://localhost:8080/"
        },
        "id": "hwWZKO2ApYls",
        "outputId": "08edc0fe-5be4-4003-a7fb-f963b216ff19"
      },
      "execution_count": 4,
      "outputs": [
        {
          "output_type": "stream",
          "name": "stdout",
          "text": [
            "Cloning into '/content/drive/MyDrive/KIA_TEST/FAISS_KIA_V4/faiss_b20'...\n",
            "remote: Enumerating objects: 1812, done.\u001b[K\n",
            "remote: Counting objects: 100% (631/631), done.\u001b[K\n",
            "remote: Compressing objects: 100% (268/268), done.\u001b[K\n",
            "remote: Total 1812 (delta 426), reused 522 (delta 361), pack-reused 1181\u001b[K\n",
            "Receiving objects: 100% (1812/1812), 32.34 MiB | 10.35 MiB/s, done.\n",
            "Resolving deltas: 100% (1046/1046), done.\n",
            "Updating files: 100% (161/161), done.\n"
          ]
        }
      ]
    },
    {
      "cell_type": "code",
      "source": [
        "!(cd /content/drive/MyDrive/KIA_TEST/FAISS_KIA_V4/faiss_b20 && git checkout faiss/B20)"
      ],
      "metadata": {
        "colab": {
          "base_uri": "https://localhost:8080/"
        },
        "id": "xzoBBJBepcO_",
        "outputId": "e5134c6b-04ef-4111-9d45-9a59f71942ff"
      },
      "execution_count": 5,
      "outputs": [
        {
          "output_type": "stream",
          "name": "stdout",
          "text": [
            "Branch 'faiss/B20' set up to track remote branch 'faiss/B20' from 'origin'.\n",
            "Switched to a new branch 'faiss/B20'\n"
          ]
        }
      ]
    },
    {
      "cell_type": "code",
      "source": [
        "!rm -rf faiss_routing"
      ],
      "metadata": {
        "id": "Hito4cGqpxQp"
      },
      "execution_count": 6,
      "outputs": []
    },
    {
      "cell_type": "code",
      "source": [
        "!rm -f database.md"
      ],
      "metadata": {
        "id": "pYIGMhvrpy6N"
      },
      "execution_count": 7,
      "outputs": []
    },
    {
      "cell_type": "code",
      "source": [
        "!cp -r /content/drive/MyDrive/KIA_TEST/FAISS_KIA_V4/faiss_b20/knowledge/faiss_routing faiss_routing"
      ],
      "metadata": {
        "id": "rPgxTCh4p0o7"
      },
      "execution_count": 8,
      "outputs": []
    },
    {
      "cell_type": "markdown",
      "metadata": {
        "id": "QsFGkXMMwcX3"
      },
      "source": [
        "# Code"
      ]
    },
    {
      "cell_type": "code",
      "execution_count": 9,
      "metadata": {
        "colab": {
          "base_uri": "https://localhost:8080/"
        },
        "id": "-nH2KyinoxhE",
        "outputId": "8365dc08-845f-4be1-ea5a-9213762cfe6b"
      },
      "outputs": [
        {
          "output_type": "stream",
          "name": "stdout",
          "text": [
            "Collecting tiktoken==0.4.0\n",
            "  Using cached tiktoken-0.4.0-cp310-cp310-manylinux_2_17_x86_64.manylinux2014_x86_64.whl (1.7 MB)\n",
            "Collecting langchain==0.0.231\n",
            "  Using cached langchain-0.0.231-py3-none-any.whl (1.3 MB)\n",
            "Collecting openai==0.27.8\n",
            "  Using cached openai-0.27.8-py3-none-any.whl (73 kB)\n",
            "Requirement already satisfied: faiss-cpu==1.7.4 in /usr/local/lib/python3.10/dist-packages (1.7.4)\n",
            "Requirement already satisfied: gspread in /usr/local/lib/python3.10/dist-packages (3.4.2)\n",
            "Requirement already satisfied: oauth2client in /usr/local/lib/python3.10/dist-packages (4.1.3)\n",
            "Requirement already satisfied: nltk in /usr/local/lib/python3.10/dist-packages (3.8.1)\n",
            "Collecting pydantic==1.10.8\n",
            "  Using cached pydantic-1.10.8-cp310-cp310-manylinux_2_17_x86_64.manylinux2014_x86_64.whl (3.1 MB)\n",
            "Requirement already satisfied: regex>=2022.1.18 in /usr/local/lib/python3.10/dist-packages (from tiktoken==0.4.0) (2023.6.3)\n",
            "Requirement already satisfied: requests>=2.26.0 in /usr/local/lib/python3.10/dist-packages (from tiktoken==0.4.0) (2.31.0)\n",
            "Requirement already satisfied: PyYAML>=5.4.1 in /usr/local/lib/python3.10/dist-packages (from langchain==0.0.231) (6.0.1)\n",
            "Requirement already satisfied: SQLAlchemy<3,>=1.4 in /usr/local/lib/python3.10/dist-packages (from langchain==0.0.231) (2.0.22)\n",
            "Requirement already satisfied: aiohttp<4.0.0,>=3.8.3 in /usr/local/lib/python3.10/dist-packages (from langchain==0.0.231) (3.8.6)\n",
            "Requirement already satisfied: async-timeout<5.0.0,>=4.0.0 in /usr/local/lib/python3.10/dist-packages (from langchain==0.0.231) (4.0.3)\n",
            "Collecting dataclasses-json<0.6.0,>=0.5.7 (from langchain==0.0.231)\n",
            "  Using cached dataclasses_json-0.5.14-py3-none-any.whl (26 kB)\n",
            "Collecting langchainplus-sdk<0.0.21,>=0.0.20 (from langchain==0.0.231)\n",
            "  Using cached langchainplus_sdk-0.0.20-py3-none-any.whl (25 kB)\n",
            "Requirement already satisfied: numexpr<3.0.0,>=2.8.4 in /usr/local/lib/python3.10/dist-packages (from langchain==0.0.231) (2.8.7)\n",
            "Requirement already satisfied: numpy<2,>=1 in /usr/local/lib/python3.10/dist-packages (from langchain==0.0.231) (1.23.5)\n",
            "Collecting openapi-schema-pydantic<2.0,>=1.2 (from langchain==0.0.231)\n",
            "  Using cached openapi_schema_pydantic-1.2.4-py3-none-any.whl (90 kB)\n",
            "Requirement already satisfied: tenacity<9.0.0,>=8.1.0 in /usr/local/lib/python3.10/dist-packages (from langchain==0.0.231) (8.2.3)\n",
            "Requirement already satisfied: tqdm in /usr/local/lib/python3.10/dist-packages (from openai==0.27.8) (4.66.1)\n",
            "Requirement already satisfied: typing-extensions>=4.2.0 in /usr/local/lib/python3.10/dist-packages (from pydantic==1.10.8) (4.5.0)\n",
            "Requirement already satisfied: google-auth in /usr/local/lib/python3.10/dist-packages (from gspread) (2.17.3)\n",
            "Requirement already satisfied: httplib2>=0.9.1 in /usr/local/lib/python3.10/dist-packages (from oauth2client) (0.22.0)\n",
            "Requirement already satisfied: pyasn1>=0.1.7 in /usr/local/lib/python3.10/dist-packages (from oauth2client) (0.5.0)\n",
            "Requirement already satisfied: pyasn1-modules>=0.0.5 in /usr/local/lib/python3.10/dist-packages (from oauth2client) (0.3.0)\n",
            "Requirement already satisfied: rsa>=3.1.4 in /usr/local/lib/python3.10/dist-packages (from oauth2client) (4.9)\n",
            "Requirement already satisfied: six>=1.6.1 in /usr/local/lib/python3.10/dist-packages (from oauth2client) (1.16.0)\n",
            "Requirement already satisfied: click in /usr/local/lib/python3.10/dist-packages (from nltk) (8.1.7)\n",
            "Requirement already satisfied: joblib in /usr/local/lib/python3.10/dist-packages (from nltk) (1.3.2)\n",
            "Requirement already satisfied: attrs>=17.3.0 in /usr/local/lib/python3.10/dist-packages (from aiohttp<4.0.0,>=3.8.3->langchain==0.0.231) (23.1.0)\n",
            "Requirement already satisfied: charset-normalizer<4.0,>=2.0 in /usr/local/lib/python3.10/dist-packages (from aiohttp<4.0.0,>=3.8.3->langchain==0.0.231) (3.3.1)\n",
            "Requirement already satisfied: multidict<7.0,>=4.5 in /usr/local/lib/python3.10/dist-packages (from aiohttp<4.0.0,>=3.8.3->langchain==0.0.231) (6.0.4)\n",
            "Requirement already satisfied: yarl<2.0,>=1.0 in /usr/local/lib/python3.10/dist-packages (from aiohttp<4.0.0,>=3.8.3->langchain==0.0.231) (1.9.2)\n",
            "Requirement already satisfied: frozenlist>=1.1.1 in /usr/local/lib/python3.10/dist-packages (from aiohttp<4.0.0,>=3.8.3->langchain==0.0.231) (1.4.0)\n",
            "Requirement already satisfied: aiosignal>=1.1.2 in /usr/local/lib/python3.10/dist-packages (from aiohttp<4.0.0,>=3.8.3->langchain==0.0.231) (1.3.1)\n",
            "Collecting marshmallow<4.0.0,>=3.18.0 (from dataclasses-json<0.6.0,>=0.5.7->langchain==0.0.231)\n",
            "  Using cached marshmallow-3.20.1-py3-none-any.whl (49 kB)\n",
            "Collecting typing-inspect<1,>=0.4.0 (from dataclasses-json<0.6.0,>=0.5.7->langchain==0.0.231)\n",
            "  Using cached typing_inspect-0.9.0-py3-none-any.whl (8.8 kB)\n",
            "Requirement already satisfied: pyparsing!=3.0.0,!=3.0.1,!=3.0.2,!=3.0.3,<4,>=2.4.2 in /usr/local/lib/python3.10/dist-packages (from httplib2>=0.9.1->oauth2client) (3.1.1)\n",
            "Requirement already satisfied: idna<4,>=2.5 in /usr/local/lib/python3.10/dist-packages (from requests>=2.26.0->tiktoken==0.4.0) (3.4)\n",
            "Requirement already satisfied: urllib3<3,>=1.21.1 in /usr/local/lib/python3.10/dist-packages (from requests>=2.26.0->tiktoken==0.4.0) (2.0.7)\n",
            "Requirement already satisfied: certifi>=2017.4.17 in /usr/local/lib/python3.10/dist-packages (from requests>=2.26.0->tiktoken==0.4.0) (2023.7.22)\n",
            "Requirement already satisfied: greenlet!=0.4.17 in /usr/local/lib/python3.10/dist-packages (from SQLAlchemy<3,>=1.4->langchain==0.0.231) (3.0.0)\n",
            "Requirement already satisfied: cachetools<6.0,>=2.0.0 in /usr/local/lib/python3.10/dist-packages (from google-auth->gspread) (5.3.2)\n",
            "Requirement already satisfied: packaging>=17.0 in /usr/local/lib/python3.10/dist-packages (from marshmallow<4.0.0,>=3.18.0->dataclasses-json<0.6.0,>=0.5.7->langchain==0.0.231) (23.2)\n",
            "Collecting mypy-extensions>=0.3.0 (from typing-inspect<1,>=0.4.0->dataclasses-json<0.6.0,>=0.5.7->langchain==0.0.231)\n",
            "  Using cached mypy_extensions-1.0.0-py3-none-any.whl (4.7 kB)\n",
            "Installing collected packages: pydantic, mypy-extensions, marshmallow, typing-inspect, tiktoken, openapi-schema-pydantic, langchainplus-sdk, openai, dataclasses-json, langchain\n",
            "  Attempting uninstall: pydantic\n",
            "    Found existing installation: pydantic 1.10.13\n",
            "    Uninstalling pydantic-1.10.13:\n",
            "      Successfully uninstalled pydantic-1.10.13\n",
            "\u001b[31mERROR: pip's dependency resolver does not currently take into account all the packages that are installed. This behaviour is the source of the following dependency conflicts.\n",
            "lida 0.0.10 requires fastapi, which is not installed.\n",
            "lida 0.0.10 requires kaleido, which is not installed.\n",
            "lida 0.0.10 requires python-multipart, which is not installed.\n",
            "lida 0.0.10 requires uvicorn, which is not installed.\n",
            "llmx 0.0.15a0 requires cohere, which is not installed.\u001b[0m\u001b[31m\n",
            "\u001b[0mSuccessfully installed dataclasses-json-0.5.14 langchain-0.0.231 langchainplus-sdk-0.0.20 marshmallow-3.20.1 mypy-extensions-1.0.0 openai-0.27.8 openapi-schema-pydantic-1.2.4 pydantic-1.10.8 tiktoken-0.4.0 typing-inspect-0.9.0\n"
          ]
        }
      ],
      "source": [
        "!pip  install  tiktoken==0.4.0  langchain==0.0.231 openai==0.27.8 faiss-cpu==1.7.4 gspread oauth2client nltk pydantic==1.10.8"
      ]
    },
    {
      "cell_type": "code",
      "execution_count": 10,
      "metadata": {
        "id": "wNTJkb02qexK"
      },
      "outputs": [],
      "source": [
        "import gdown\n",
        "from langchain.llms import OpenAI\n",
        "from langchain.docstore.document import Document\n",
        "import requests\n",
        "#database\n",
        "from langchain.embeddings.openai import OpenAIEmbeddings\n",
        "from langchain.vectorstores import FAISS\n",
        "from langchain.text_splitter import RecursiveCharacterTextSplitter\n",
        "#from langchain.document_loaders import TextLoader\n",
        "\n",
        "from langchain.prompts import PromptTemplate\n",
        "import pathlib\n",
        "import subprocess\n",
        "import tempfile\n",
        "import ipywidgets as widgets\n",
        "import gspread\n",
        "from oauth2client.service_account import ServiceAccountCredentials\n",
        "import re\n",
        "import getpass\n",
        "import os\n",
        "import openai\n",
        "import tiktoken\n",
        "\n",
        "\n"
      ]
    },
    {
      "cell_type": "code",
      "source": [
        "import os\n",
        "import platform\n",
        "\n",
        "def clear_screen():\n",
        "    system_platform = platform.system()  # определить операционную систему\n",
        "    if system_platform == \"Windows\":\n",
        "        os.system('cls')\n",
        "    else:\n",
        "        os.system('clear')"
      ],
      "metadata": {
        "id": "BAWhNQ0K7x6k"
      },
      "execution_count": 11,
      "outputs": []
    },
    {
      "cell_type": "code",
      "execution_count": 12,
      "metadata": {
        "id": "Lh42jUHVy3fq"
      },
      "outputs": [],
      "source": [
        "MODEL_GPT_3_5_TURBO_16K = ['gpt-3.5-turbo-16k', 0.003, 0.004]\n",
        "MODEL_GPT_3_5_TURBO = ['gpt-3.5-turbo', 0.0015, 0.002]  # 4,097 tokens\n",
        "MODEL_GPT_3_5_TURBO_INSTRUCT = ['gpt-3.5-turbo-instruct', 0.0015, 0.002]  # 4,097 tokens\n",
        "MODEL_GPT_4 = ['gpt-4', 0.03, 0.06]  # 8,192 tokens\n",
        "SELECT_MODEL_GPT = MODEL_GPT_4"
      ]
    },
    {
      "cell_type": "code",
      "execution_count": 13,
      "metadata": {
        "colab": {
          "base_uri": "https://localhost:8080/"
        },
        "id": "jSdHAWANqs7C",
        "outputId": "50d6ca7c-24af-4957-d70a-5c03812ffb95"
      },
      "outputs": [
        {
          "name": "stdout",
          "output_type": "stream",
          "text": [
            "OpenAI API Key:··········\n"
          ]
        }
      ],
      "source": [
        "# openai_key = getpass.getpass(\"OpenAI API Key:\")\n",
        "# os.environ[\"OPENAI_API_KEY\"] = openai_key\n",
        "# openai.api_key = openai_key"
      ]
    },
    {
      "cell_type": "code",
      "execution_count": 14,
      "metadata": {
        "id": "eAafR4VwqtFS"
      },
      "outputs": [],
      "source": [
        "def insert_newlines(textstr: str, max_len: int = 170) -> str:\n",
        "    words = textstr.split()\n",
        "    lines = []\n",
        "    current_line = \"\"\n",
        "    for word in words:\n",
        "        if len(current_line + \" \" + word) > max_len:\n",
        "            lines.append(current_line)\n",
        "            current_line = \"\"\n",
        "        current_line += \" \" + word\n",
        "    lines.append(current_line)\n",
        "    return \"\\n\".join(lines)"
      ]
    },
    {
      "cell_type": "code",
      "execution_count": 15,
      "metadata": {
        "id": "1YFsrIhi4Yct"
      },
      "outputs": [],
      "source": [
        "# функция для загрузки документа по ссылке из гугл драйв\n",
        "def load_document_text(url: str) -> str:\n",
        "    # Extract the document ID from the URL\n",
        "    match_ = re.search('/document/d/([a-zA-Z0-9-_]+)', url)\n",
        "    if match_ is None:\n",
        "        raise ValueError('Invalid Google Docs URL')\n",
        "    doc_id = match_.group(1)\n",
        "\n",
        "    # Download the document as plain text\n",
        "    response = requests.get(f'https://docs.google.com/document/d/{doc_id}/export?format=txt')\n",
        "    response.raise_for_status()\n",
        "    text = response.text\n",
        "\n",
        "    return text"
      ]
    },
    {
      "cell_type": "markdown",
      "metadata": {
        "id": "8l6EU0C7uUFp"
      },
      "source": [
        "## Собрать новую базу FAISS"
      ]
    },
    {
      "cell_type": "code",
      "execution_count": 16,
      "metadata": {
        "id": "YnSehGphiewU"
      },
      "outputs": [],
      "source": [
        "from langchain.text_splitter import MarkdownHeaderTextSplitter\n",
        "import re\n",
        "\n",
        "def load_file_knowledge(file_path: str) -> str:\n",
        "    # Чтение текстового файла\n",
        "    with open(file_path, 'r', encoding='utf-8') as file:\n",
        "        text = file.read()\n",
        "\n",
        "    headers_to_split_on = [\n",
        "        (\"#\", \"router\"),\n",
        "        (\"##\", \"Header2\"),\n",
        "        (\"###\", \"Header3\"),\n",
        "        (\"####\", \"Header4\"),\n",
        "    ]\n",
        "\n",
        "    markdown_splitter = MarkdownHeaderTextSplitter(headers_to_split_on=headers_to_split_on)\n",
        "    md_header_splits = markdown_splitter.split_text(text)\n",
        "\n",
        "    # Предполагается, что FAISS и OpenAIEmbeddings были импортированы или определены где-то выше\n",
        "    vectordateBase = FAISS.from_documents(md_header_splits, OpenAIEmbeddings())\n",
        "\n",
        "    return vectordateBase\n",
        "\n"
      ]
    },
    {
      "cell_type": "code",
      "execution_count": 17,
      "metadata": {
        "id": "9CrXhbfVqtP_"
      },
      "outputs": [],
      "source": [
        "## models_knowledge_base = load_file_knowledge('models.md')\n",
        "## technology_knowledge_base = load_file_knowledge('technology.md')\n",
        "## parts_knowledge_base = load_file_knowledge('parts.md')\n",
        "## oils_knowledge_base = load_file_knowledge('oils.md')\n",
        "## tech_knowledge_base = load_file_knowledge('tech.md')\n",
        "## accessories_knowledge_base = load_file_knowledge('accessories.md')\n",
        "## warranty_knowledge_base = load_file_knowledge('warranty.md')\n",
        "## service_knowledge_base = load_file_knowledge('service.md')\n",
        "## sales_knowledge_base = load_file_knowledge('sales.md')\n",
        "## apps_knowledge_base = load_file_knowledge('apps.md')\n",
        "## promotions_knowledge_base = load_file_knowledge('promotions.md')\n",
        "## #none_knowledge_base = load_file_knowledge('none.md')"
      ]
    },
    {
      "cell_type": "markdown",
      "metadata": {
        "id": "z3fiDyYSqvuA"
      },
      "source": [
        "## Проверка чанков **БЕЗ** сбора нового файла FAISS **БЕЗ** обращения к OpenAI\n"
      ]
    },
    {
      "cell_type": "code",
      "source": [
        "!pip  install  tiktoken==0.4.0  langchain==0.0.231 openai==0.27.8 faiss-cpu==1.7.4 gspread oauth2client nltk pydantic==1.10.8"
      ],
      "metadata": {
        "colab": {
          "base_uri": "https://localhost:8080/"
        },
        "id": "J_hi8kkfq6TV",
        "outputId": "08594bdd-41d1-4918-eea4-8861978d3467"
      },
      "execution_count": 18,
      "outputs": [
        {
          "output_type": "stream",
          "name": "stdout",
          "text": [
            "Requirement already satisfied: tiktoken==0.4.0 in /usr/local/lib/python3.10/dist-packages (0.4.0)\n",
            "Requirement already satisfied: langchain==0.0.231 in /usr/local/lib/python3.10/dist-packages (0.0.231)\n",
            "Requirement already satisfied: openai==0.27.8 in /usr/local/lib/python3.10/dist-packages (0.27.8)\n",
            "Requirement already satisfied: faiss-cpu==1.7.4 in /usr/local/lib/python3.10/dist-packages (1.7.4)\n",
            "Requirement already satisfied: gspread in /usr/local/lib/python3.10/dist-packages (3.4.2)\n",
            "Requirement already satisfied: oauth2client in /usr/local/lib/python3.10/dist-packages (4.1.3)\n",
            "Requirement already satisfied: nltk in /usr/local/lib/python3.10/dist-packages (3.8.1)\n",
            "Requirement already satisfied: pydantic==1.10.8 in /usr/local/lib/python3.10/dist-packages (1.10.8)\n",
            "Requirement already satisfied: regex>=2022.1.18 in /usr/local/lib/python3.10/dist-packages (from tiktoken==0.4.0) (2023.6.3)\n",
            "Requirement already satisfied: requests>=2.26.0 in /usr/local/lib/python3.10/dist-packages (from tiktoken==0.4.0) (2.31.0)\n",
            "Requirement already satisfied: PyYAML>=5.4.1 in /usr/local/lib/python3.10/dist-packages (from langchain==0.0.231) (6.0.1)\n",
            "Requirement already satisfied: SQLAlchemy<3,>=1.4 in /usr/local/lib/python3.10/dist-packages (from langchain==0.0.231) (2.0.22)\n",
            "Requirement already satisfied: aiohttp<4.0.0,>=3.8.3 in /usr/local/lib/python3.10/dist-packages (from langchain==0.0.231) (3.8.6)\n",
            "Requirement already satisfied: async-timeout<5.0.0,>=4.0.0 in /usr/local/lib/python3.10/dist-packages (from langchain==0.0.231) (4.0.3)\n",
            "Requirement already satisfied: dataclasses-json<0.6.0,>=0.5.7 in /usr/local/lib/python3.10/dist-packages (from langchain==0.0.231) (0.5.14)\n",
            "Requirement already satisfied: langchainplus-sdk<0.0.21,>=0.0.20 in /usr/local/lib/python3.10/dist-packages (from langchain==0.0.231) (0.0.20)\n",
            "Requirement already satisfied: numexpr<3.0.0,>=2.8.4 in /usr/local/lib/python3.10/dist-packages (from langchain==0.0.231) (2.8.7)\n",
            "Requirement already satisfied: numpy<2,>=1 in /usr/local/lib/python3.10/dist-packages (from langchain==0.0.231) (1.23.5)\n",
            "Requirement already satisfied: openapi-schema-pydantic<2.0,>=1.2 in /usr/local/lib/python3.10/dist-packages (from langchain==0.0.231) (1.2.4)\n",
            "Requirement already satisfied: tenacity<9.0.0,>=8.1.0 in /usr/local/lib/python3.10/dist-packages (from langchain==0.0.231) (8.2.3)\n",
            "Requirement already satisfied: tqdm in /usr/local/lib/python3.10/dist-packages (from openai==0.27.8) (4.66.1)\n",
            "Requirement already satisfied: typing-extensions>=4.2.0 in /usr/local/lib/python3.10/dist-packages (from pydantic==1.10.8) (4.5.0)\n",
            "Requirement already satisfied: google-auth in /usr/local/lib/python3.10/dist-packages (from gspread) (2.17.3)\n",
            "Requirement already satisfied: httplib2>=0.9.1 in /usr/local/lib/python3.10/dist-packages (from oauth2client) (0.22.0)\n",
            "Requirement already satisfied: pyasn1>=0.1.7 in /usr/local/lib/python3.10/dist-packages (from oauth2client) (0.5.0)\n",
            "Requirement already satisfied: pyasn1-modules>=0.0.5 in /usr/local/lib/python3.10/dist-packages (from oauth2client) (0.3.0)\n",
            "Requirement already satisfied: rsa>=3.1.4 in /usr/local/lib/python3.10/dist-packages (from oauth2client) (4.9)\n",
            "Requirement already satisfied: six>=1.6.1 in /usr/local/lib/python3.10/dist-packages (from oauth2client) (1.16.0)\n",
            "Requirement already satisfied: click in /usr/local/lib/python3.10/dist-packages (from nltk) (8.1.7)\n",
            "Requirement already satisfied: joblib in /usr/local/lib/python3.10/dist-packages (from nltk) (1.3.2)\n",
            "Requirement already satisfied: attrs>=17.3.0 in /usr/local/lib/python3.10/dist-packages (from aiohttp<4.0.0,>=3.8.3->langchain==0.0.231) (23.1.0)\n",
            "Requirement already satisfied: charset-normalizer<4.0,>=2.0 in /usr/local/lib/python3.10/dist-packages (from aiohttp<4.0.0,>=3.8.3->langchain==0.0.231) (3.3.1)\n",
            "Requirement already satisfied: multidict<7.0,>=4.5 in /usr/local/lib/python3.10/dist-packages (from aiohttp<4.0.0,>=3.8.3->langchain==0.0.231) (6.0.4)\n",
            "Requirement already satisfied: yarl<2.0,>=1.0 in /usr/local/lib/python3.10/dist-packages (from aiohttp<4.0.0,>=3.8.3->langchain==0.0.231) (1.9.2)\n",
            "Requirement already satisfied: frozenlist>=1.1.1 in /usr/local/lib/python3.10/dist-packages (from aiohttp<4.0.0,>=3.8.3->langchain==0.0.231) (1.4.0)\n",
            "Requirement already satisfied: aiosignal>=1.1.2 in /usr/local/lib/python3.10/dist-packages (from aiohttp<4.0.0,>=3.8.3->langchain==0.0.231) (1.3.1)\n",
            "Requirement already satisfied: marshmallow<4.0.0,>=3.18.0 in /usr/local/lib/python3.10/dist-packages (from dataclasses-json<0.6.0,>=0.5.7->langchain==0.0.231) (3.20.1)\n",
            "Requirement already satisfied: typing-inspect<1,>=0.4.0 in /usr/local/lib/python3.10/dist-packages (from dataclasses-json<0.6.0,>=0.5.7->langchain==0.0.231) (0.9.0)\n",
            "Requirement already satisfied: pyparsing!=3.0.0,!=3.0.1,!=3.0.2,!=3.0.3,<4,>=2.4.2 in /usr/local/lib/python3.10/dist-packages (from httplib2>=0.9.1->oauth2client) (3.1.1)\n",
            "Requirement already satisfied: idna<4,>=2.5 in /usr/local/lib/python3.10/dist-packages (from requests>=2.26.0->tiktoken==0.4.0) (3.4)\n",
            "Requirement already satisfied: urllib3<3,>=1.21.1 in /usr/local/lib/python3.10/dist-packages (from requests>=2.26.0->tiktoken==0.4.0) (2.0.7)\n",
            "Requirement already satisfied: certifi>=2017.4.17 in /usr/local/lib/python3.10/dist-packages (from requests>=2.26.0->tiktoken==0.4.0) (2023.7.22)\n",
            "Requirement already satisfied: greenlet!=0.4.17 in /usr/local/lib/python3.10/dist-packages (from SQLAlchemy<3,>=1.4->langchain==0.0.231) (3.0.0)\n",
            "Requirement already satisfied: cachetools<6.0,>=2.0.0 in /usr/local/lib/python3.10/dist-packages (from google-auth->gspread) (5.3.2)\n",
            "Requirement already satisfied: packaging>=17.0 in /usr/local/lib/python3.10/dist-packages (from marshmallow<4.0.0,>=3.18.0->dataclasses-json<0.6.0,>=0.5.7->langchain==0.0.231) (23.2)\n",
            "Requirement already satisfied: mypy-extensions>=0.3.0 in /usr/local/lib/python3.10/dist-packages (from typing-inspect<1,>=0.4.0->dataclasses-json<0.6.0,>=0.5.7->langchain==0.0.231) (1.0.0)\n"
          ]
        }
      ]
    },
    {
      "cell_type": "code",
      "source": [
        "import gdown\n",
        "from langchain.llms import OpenAI\n",
        "from langchain.docstore.document import Document\n",
        "import requests\n",
        "#database\n",
        "from langchain.embeddings.openai import OpenAIEmbeddings\n",
        "from langchain.vectorstores import FAISS\n",
        "from langchain.text_splitter import RecursiveCharacterTextSplitter\n",
        "#from langchain.document_loaders import TextLoader\n",
        "\n",
        "from langchain.prompts import PromptTemplate\n",
        "import pathlib\n",
        "import subprocess\n",
        "import tempfile\n",
        "import ipywidgets as widgets\n",
        "import gspread\n",
        "from oauth2client.service_account import ServiceAccountCredentials\n",
        "import re\n",
        "import getpass\n",
        "import os\n",
        "import openai\n",
        "import tiktoken\n",
        "\n",
        "class bcolors:\n",
        "    HEADER = '\\033[95m'\n",
        "    OKBLUE = '\\033[94m'\n",
        "    OKCYAN = '\\033[96m'\n",
        "    OKGREEN = '\\033[92m'\n",
        "    WARNING = '\\033[93m'\n",
        "    FAIL = '\\033[91m'\n",
        "    ENDC = '\\033[0m'\n",
        "    BOLD = '\\033[1m'\n",
        "    UNDERLINE = '\\033[4m'\n",
        "\n",
        "\n",
        "HISTORY = []"
      ],
      "metadata": {
        "id": "upyg9fjgq-sW"
      },
      "execution_count": 19,
      "outputs": []
    },
    {
      "cell_type": "code",
      "source": [
        "MODEL_GPT_3_5_TURBO_16K = ['gpt-3.5-turbo-16k', 0.003, 0.004]\n",
        "MODEL_GPT_3_5_TURBO = ['gpt-3.5-turbo', 0.0015, 0.002]  # 4,097 tokens\n",
        "MODEL_GPT_4 = ['gpt-4', 0.03, 0.06]  # 8,192 tokens\n",
        "SELECT_MODEL_GPT = MODEL_GPT_3_5_TURBO_16K"
      ],
      "metadata": {
        "id": "kzkg5bierBx_"
      },
      "execution_count": 20,
      "outputs": []
    },
    {
      "cell_type": "code",
      "source": [
        "openai_key = getpass.getpass(\"OpenAI API Key:\")\n",
        "os.environ[\"OPENAI_API_KEY\"] = openai_key\n",
        "openai.api_key = openai_key"
      ],
      "metadata": {
        "colab": {
          "base_uri": "https://localhost:8080/"
        },
        "id": "4qd6-_EUrDby",
        "outputId": "54dfa1d3-184f-460f-9f32-4f83e11b8253"
      },
      "execution_count": 28,
      "outputs": [
        {
          "name": "stdout",
          "output_type": "stream",
          "text": [
            "OpenAI API Key:··········\n"
          ]
        }
      ]
    },
    {
      "cell_type": "code",
      "source": [
        "# Загружаем векторный файл базы знаний! В коллаб надо в папку faiss загрузить 2 файла\n",
        "\n",
        "models_knowledge_base = FAISS.load_local(\"faiss_routing/faiss_models\", OpenAIEmbeddings())\n",
        "technology_knowledge_base = FAISS.load_local(\"faiss_routing/faiss_technology\", OpenAIEmbeddings())\n",
        "parts_knowledge_base = FAISS.load_local(\"faiss_routing/faiss_parts\", OpenAIEmbeddings())\n",
        "oils_knowledge_base = FAISS.load_local(\"faiss_routing/faiss_oils\", OpenAIEmbeddings())\n",
        "tech_knowledge_base = FAISS.load_local(\"faiss_routing/faiss_tech\", OpenAIEmbeddings())\n",
        "accessories_knowledge_base = FAISS.load_local(\"faiss_routing/faiss_accessories\", OpenAIEmbeddings())\n",
        "warranty_knowledge_base = FAISS.load_local(\"faiss_routing/faiss_warranty\", OpenAIEmbeddings())\n",
        "service_knowledge_base = FAISS.load_local(\"faiss_routing/faiss_service\", OpenAIEmbeddings())\n",
        "sales_knowledge_base = FAISS.load_local(\"faiss_routing/faiss_sales\", OpenAIEmbeddings())\n",
        "apps_knowledge_base = FAISS.load_local(\"faiss_routing/faiss_apps\", OpenAIEmbeddings())\n",
        "promotions_knowledge_base = FAISS.load_local(\"faiss_routing/faiss_promotions\", OpenAIEmbeddings())\n",
        "#none_knowledge_base = FAISS.load_local(\"faiss_routing/faiss_models\", OpenAIEmbeddings())"
      ],
      "metadata": {
        "id": "M1eAM1XfqxWg"
      },
      "execution_count": 29,
      "outputs": []
    },
    {
      "cell_type": "code",
      "source": [
        "from langchain.chains.router import MultiPromptChain\n",
        "from langchain.llms import OpenAI\n",
        "from langchain.chains import ConversationChain\n",
        "from langchain.chains.llm import LLMChain\n",
        "from langchain.prompts import PromptTemplate\n",
        "\n",
        "\n",
        "models_template = \"\"\"You are a very smart assistant for Kia. You know everything about KIA car models\n",
        "You are excellent at answering questions about Kia car models concisely and clearly.\n",
        "When you don't know the answer to a question, you admit that you don't know.\n",
        "\n",
        "Here is a question:\n",
        "{input}\"\"\"\n",
        "\n",
        "technology_template = \"\"\"You are a very smart assistant for KIA. You know everything about the technologies used in KIA cars.\n",
        "You are excellent at answering questions briefly and clearly about the technologies used in KIA cars.\n",
        "When you don't know the answer to a question, you admit that you don't know.\n",
        "\n",
        "Here is a question:\n",
        "{input}\"\"\"\n",
        "\n",
        "parts_template = \"\"\"You are a very smart assistant for KIA. You know all the information on spare parts for KIA cars.\n",
        "You are excellent at answering questions about spare parts for KIA cars briefly and clearly.\n",
        "When you don't know the answer to a question, you admit that you don't know.\n",
        "\n",
        "Here is a question:\n",
        "{input}\"\"\"\n",
        "\n",
        "oils_template = \"\"\"You are a very smart assistant for KIA. You know all the information on engine oils for KIA cars.\n",
        "You are excellent at answering questions about engine oils for KIA cars briefly and clearly.\n",
        "When you don't know the answer to a question, you admit that you don't know.\n",
        "\n",
        "Here is a question:\n",
        "{input}\"\"\"\n",
        "\n",
        "tech_template = \"\"\"You are a very smart assistant for KIA. You know everything about the maintenance of KIA cars.\n",
        "You are excellent at answering questions about KIA vehicle maintenance briefly and clearly.\n",
        "When you don't know the answer to a question, you admit that you don't know.\n",
        "\n",
        "Here is a question:\n",
        "{input}\"\"\"\n",
        "\n",
        "accessories_template = \"\"\"You are a very smart assistant for KIA. You know all the information about accessories for KIA cars.\n",
        "You are excellent at answering questions about accessories for KIA cars concisely and clearly.\n",
        "When you don't know the answer to a question, you admit that you don't know.\n",
        "\n",
        "Here is a question:\n",
        "{input}\"\"\"\n",
        "\n",
        "warranty_template = \"\"\"You are a very smart assistant for KIA. You know all the information about the warranty for KIA cars.\n",
        "You are excellent at answering questions about KIA vehicle warranties concisely and clearly.\n",
        "When you don't know the answer to a question, you admit that you don't know.\n",
        "\n",
        "Here is a question:\n",
        "{input}\"\"\"\n",
        "\n",
        "service_template = \"\"\"You are a very smart assistant for KIA. You know all the information about servicing KIA cars.\n",
        "You are excellent at answering questions about service for KIA vehicles briefly and clearly.\n",
        "When you don't know the answer to a question, you admit that you don't know.\n",
        "\n",
        "Here is a question:\n",
        "{input}\"\"\"\n",
        "\n",
        "sales_template = \"\"\"You are a very smart assistant for KIA. You know all the information about KIA car sales.\n",
        "You are excellent at answering questions about KIA car sales briefly and clearly.\n",
        "When you don't know the answer to a question, you admit that you don't know.\n",
        "\n",
        "Here is a question:\n",
        "{input}\"\"\"\n",
        "\n",
        "apps_template = \"\"\"You are a very smart assistant for KIA. You know all the information about KIA software.\n",
        "You are excellent at answering questions about KIA software briefly and clearly.\n",
        "When you don't know the answer to a question, you admit that you don't know.\n",
        "\n",
        "Here is a question:\n",
        "{input}\"\"\"\n",
        "\n",
        "promotion_template = \"\"\"You are a very smart assistant for KIA. You know everything about promotions of KIA company.\n",
        "You are excellent at answering questions about promotions of KIA company concisely and clearly.\n",
        "When you don't know the answer to a question, you admit that you don't know.\n",
        "\n",
        "Here is a question:\n",
        "{input}\"\"\"\n",
        "\n",
        "\n",
        "\n",
        "prompt_infos = [\n",
        "    {\n",
        "        \"name\": \"models\",\n",
        "        \"description\": \"Good for answering questions about models kia auto\",\n",
        "        \"prompt_template\": models_template,\n",
        "    },\n",
        "    {\n",
        "        \"name\": \"technology\",\n",
        "        \"description\": \"Good for answering questions about Kia technology.\",\n",
        "        \"prompt_template\": technology_template,\n",
        "    },\n",
        "    {\n",
        "        \"name\": \"parts\",\n",
        "        \"description\": \"Good for answering questions about Kia parts.\",\n",
        "        \"prompt_template\": parts_template,\n",
        "    },\n",
        "    {\n",
        "        \"name\": \"oils\",\n",
        "        \"description\": \"Good for answering questions about Kia engine oils.\",\n",
        "        \"prompt_template\": oils_template,\n",
        "    },\n",
        "    {\n",
        "        \"name\": \"tech\",\n",
        "        \"description\": \"Good for answering questions about technical problems with Kia vehicles.\",\n",
        "        \"prompt_template\": tech_template,\n",
        "    },\n",
        "    {\n",
        "        \"name\": \"accessories\",\n",
        "        \"description\": \"Good for answering questions about accessories used in Kia vehicles.\",\n",
        "        \"prompt_template\": accessories_template,\n",
        "    },\n",
        "    {\n",
        "        \"name\": \"warranty\",\n",
        "        \"description\": \"Good for answering questions about Kia vehicle warranties.\",\n",
        "        \"prompt_template\": warranty_template,\n",
        "    },\n",
        "    {\n",
        "        \"name\": \"service\",\n",
        "        \"description\": \"Good for answering Kia vehicle service questions.\",\n",
        "        \"prompt_template\": service_template,\n",
        "    },\n",
        "    {\n",
        "        \"name\": \"sales\",\n",
        "        \"description\": \"Good for answering Kia car sales questions.\",\n",
        "        \"prompt_template\": sales_template,\n",
        "    },\n",
        "    {\n",
        "        \"name\": \"apps\",\n",
        "        \"description\": \"Good for answering questions about using Kia software.\",\n",
        "        \"prompt_template\": apps_template,\n",
        "    },\n",
        "    {\n",
        "        \"name\": \"promotion\",\n",
        "        \"description\": \"Good for answering questions about Kia promotions.\",\n",
        "        \"prompt_template\": promotion_template,\n",
        "    },\n",
        "]\n",
        "\n",
        "llm = OpenAI()\n",
        "\n",
        "destination_chains = {}\n",
        "for p_info in prompt_infos:\n",
        "    name = p_info[\"name\"]\n",
        "    prompt_template = p_info[\"prompt_template\"]\n",
        "    prompt = PromptTemplate(template=prompt_template, input_variables=[\"input\"])\n",
        "    chain = LLMChain(llm=llm, prompt=prompt)\n",
        "    destination_chains[name] = chain\n",
        "default_chain = ConversationChain(llm=llm, output_key=\"text\")\n",
        "\n",
        "from langchain.chains.router.llm_router import LLMRouterChain, RouterOutputParser\n",
        "from langchain.chains.router.multi_prompt_prompt import MULTI_PROMPT_ROUTER_TEMPLATE\n",
        "\n",
        "destinations = [f\"{p['name']}: {p['description']}\" for p in prompt_infos]\n",
        "destinations_str = \"\\n\".join(destinations)\n",
        "print(destinations_str)\n",
        "router_template = MULTI_PROMPT_ROUTER_TEMPLATE.format(destinations=destinations_str)\n",
        "router_prompt = PromptTemplate(\n",
        "    template=router_template,\n",
        "    input_variables=[\"input\"],\n",
        "    output_parser=RouterOutputParser(),\n",
        ")\n",
        "\n",
        "\n",
        "router_chain = LLMRouterChain.from_llm(llm, router_prompt)\n",
        "\n",
        "\n",
        "\n",
        "chain = MultiPromptChain(\n",
        "    router_chain=router_chain,\n",
        "    destination_chains=destination_chains,\n",
        "    default_chain=default_chain,\n",
        "    verbose=True,\n",
        ")\n"
      ],
      "metadata": {
        "colab": {
          "base_uri": "https://localhost:8080/"
        },
        "id": "qLhnEzASR7G8",
        "outputId": "a03e5fac-4121-476b-dc7c-3c6b2d95477b"
      },
      "execution_count": 30,
      "outputs": [
        {
          "output_type": "stream",
          "name": "stdout",
          "text": [
            "models: Good for answering questions about models kia auto\n",
            "technology: Good for answering questions about Kia technology.\n",
            "parts: Good for answering questions about Kia parts.\n",
            "oils: Good for answering questions about Kia engine oils.\n",
            "tech: Good for answering questions about technical problems with Kia vehicles.\n",
            "accessories: Good for answering questions about accessories used in Kia vehicles.\n",
            "warranty: Good for answering questions about Kia vehicle warranties.\n",
            "service: Good for answering Kia vehicle service questions.\n",
            "sales: Good for answering Kia car sales questions.\n",
            "apps: Good for answering questions about using Kia software.\n",
            "promotion: Good for answering questions about Kia promotions.\n"
          ]
        }
      ]
    },
    {
      "cell_type": "code",
      "execution_count": 31,
      "metadata": {
        "id": "dsEKLyifvEto"
      },
      "outputs": [],
      "source": [
        "def _summarize_topic( dialog):\n",
        "        messages = [\n",
        "            {\"role\": \"system\",\n",
        "             \"content\": \"Ты - ассистент консультанта, основанный на AI. Ты умеешь профессионально суммаризировать присланные тебе диалоги консультанта и клиента. Твоя задача - суммаризировать диалог, который тебе пришел.\"},\n",
        "            {\"role\": \"user\",\n",
        "             \"content\": \"Суммаризируй следующий диалог консультанта и клиента: \" + \" \".join(dialog)}\n",
        "        ]\n",
        "\n",
        "        completion = openai.ChatCompletion.create(\n",
        "            model=SELECT_MODEL_GPT[0],\n",
        "            messages=messages,\n",
        "            temperature=0.1,  # Используем более низкую температуру для более определенной суммаризации\n",
        "            max_tokens=1000  # Ограничиваем количество токенов для суммаризации\n",
        "        )\n",
        "\n",
        "        return completion.choices[0].message.content\n",
        "\n",
        "def answer_index(topic, temp=0.1, top_similar_documents=3):\n",
        "\n",
        "        router_result = router_chain.__call__({\"input\": topic})\n",
        "        chosen_route = router_result['destination']\n",
        "        next_inputs = router_result['next_inputs']\n",
        "        print(f\"Выбранный маршрут: {chosen_route}\")\n",
        "        print(f\"Следующие входные данные: {next_inputs}\")\n",
        "\n",
        "        unit_to_multiplier = {\n",
        "            'models':  models_knowledge_base,\n",
        "            'technology': technology_knowledge_base,\n",
        "            'parts':  parts_knowledge_base,\n",
        "            'oils': oils_knowledge_base,\n",
        "            'tech': tech_knowledge_base,\n",
        "            'accessories': accessories_knowledge_base,\n",
        "            'warranty': warranty_knowledge_base,\n",
        "            'service': service_knowledge_base,\n",
        "            'sales': sales_knowledge_base,\n",
        "            'apps': apps_knowledge_base,\n",
        "            'promotions': promotions_knowledge_base\n",
        "        }\n",
        "\n",
        "        summarize_text = ''\n",
        "        if len(HISTORY) > 0:\n",
        "            summarize_text = \"Вот краткий обзор предыдущего диалога: \" + _summarize_topic(\n",
        "                [q + ' ' + (a if a is not None else '') for q, a in HISTORY])\n",
        "            print(f'САММАРИ \\n=== {summarize_text} \\n')\n",
        "\n",
        "        # Добавляем явное разделение между историей диалога и текущим вопросом\n",
        "        input_text = summarize_text + \"\\n\\nТекущий вопрос: \" + topic\n",
        "\n",
        "        knowledge_base = unit_to_multiplier.get(chosen_route, None)\n",
        "        if knowledge_base is not None:\n",
        "            docs = knowledge_base.similarity_search_with_score(topic, k=top_similar_documents)\n",
        "        else:\n",
        "            return  insert_newlines('Вопрос не понятен!!!')\n",
        "\n",
        "\n",
        "        responses = []\n",
        "        for i, (doc, score) in enumerate(docs):\n",
        "            if score < 1: # ТУТ ТЫ МОЖЕШЬ УПРАВЛЯТЬ праметром Л2 для чанков. 0..1\n",
        "                content = doc.page_content\n",
        "                response = f'\\n=======Отрывок документа №{i + 1}=====\\n{content}\\n'\n",
        "                print(f'\\n=====================Отрывок документа №{i + 1}=====================\\n')\n",
        "                print(f'=== score = {score}  Metadata документа ------------ {doc.metadata}')\n",
        "                print(f'\\n{content}\\n')\n",
        "                responses.append(response)\n",
        "\n",
        "        messages = [\n",
        "            {\"role\": \"system\", \"content\": prompt},\n",
        "            {\"role\": \"user\",\n",
        "             \"content\": f\"Документ с информацией для ответа клиенту: {responses}\\n\\nВопрос клиента: \\n{input_text}\"}\n",
        "        ]\n",
        "\n",
        "        completion = openai.ChatCompletion.create(\n",
        "            model=SELECT_MODEL_GPT[0],\n",
        "            messages=messages,\n",
        "            temperature=temp\n",
        "        )\n",
        "\n",
        "        answer = completion.choices[0].message.content\n",
        "\n",
        "        # Добавляем вопрос пользователя и ответ системы в историю\n",
        "        HISTORY.append((topic, answer if answer is not None else ''))\n",
        "\n",
        "        return  insert_newlines(answer)\n"
      ]
    },
    {
      "cell_type": "code",
      "execution_count": 32,
      "metadata": {
        "id": "g8N4WuC7qtKO"
      },
      "outputs": [],
      "source": [
        "def run_dialog():\n",
        "    AUTO_HELLO=\"Иван. Мне 10 лет. У папы сломалась KIA RIO в стандартной комплектации.\"\n",
        "    topic = 'Приветствую, я нейро-помощник KIA. Подскажите, какая у Вас марка машины? Как я могу к Вам обращаться?'\n",
        "    print('\\nМенеджер: ', topic+'\\n\\n')\n",
        "    print('\\nКлиент: ', AUTO_HELLO+'\\n\\n')\n",
        "    user_question = AUTO_HELLO\n",
        "    answer = answer_index(user_question)\n",
        "    HISTORY.append((topic, answer if answer is not None else ''))\n",
        "    print('\\nМенеджер: ', 'Какая Вам требуется помощь?'+'\\n\\n')\n",
        "    while True:\n",
        "        user_question = input('\\nКлиент: ')\n",
        "        if ((user_question.lower() == 'stop') or (user_question.lower() == 'стоп')):\n",
        "            break\n",
        "        try:\n",
        "            answer = answer_index(user_question)\n",
        "        except:\n",
        "            time.sleep(1)\n",
        "            HISTORY = []\n",
        "            answer_index(None, None, None, knowledge_only_langchain, AUTO_HELLO)\n",
        "        print('\\nМенеджер: ', answer+'\\n\\n')\n",
        "\n",
        "    return"
      ]
    },
    {
      "cell_type": "code",
      "execution_count": 33,
      "metadata": {
        "id": "YCBakZx6qtVM"
      },
      "outputs": [],
      "source": [
        "# Промпт моделей машин\n",
        "prompt = load_document_text ('https://docs.google.com/document/d/1i8HA7cX4Ut-tb9rf8wOgERU7lLe66xJYscizGtSSJl0')"
      ]
    },
    {
      "cell_type": "code",
      "execution_count": 34,
      "metadata": {
        "colab": {
          "base_uri": "https://localhost:8080/",
          "height": 1000
        },
        "id": "WWY1AS2GvTN5",
        "outputId": "726a4b5e-551b-4224-f1ed-c3d29f26dc5d"
      },
      "outputs": [
        {
          "output_type": "stream",
          "name": "stdout",
          "text": [
            "\n",
            "Менеджер:  Приветствую, я нейро-помощник KIA. Подскажите, какая у Вас марка машины? Как я могу к Вам обращаться?\n",
            "\n",
            "\n",
            "\n",
            "Клиент: Иван. Кеа рио.\n",
            "Выбранный маршрут: None\n",
            "Следующие входные данные: {'input': 'Иван. Кеа рио.'}\n",
            "\n",
            "Менеджер:  Какая Вам требуется помощь?\n",
            "\n",
            "\n",
            "\n",
            "Клиент: Масло какое брать?\n",
            "Выбранный маршрут: oils\n",
            "Следующие входные данные: {'input': 'Какое масло для автомобиля Kia выбрать?'}\n",
            "\n",
            "=====================Отрывок документа №1=====================\n",
            "\n",
            "=== score = 0.2999326288700104  Metadata документа ------------ {'router': 'oils'}\n",
            "\n",
            "Масло для двигателя\n",
            "\n",
            "\n",
            "=====================Отрывок документа №2=====================\n",
            "\n",
            "=== score = 0.44053494930267334  Metadata документа ------------ {'router': 'oils', 'Header2': 'Наименование: S-OIL 7 RED №9 SP 5W-20'}\n",
            "\n",
            "S-OIL 7 RED №9 SP 5W-20\n",
            "Предназначено для использования во всех бензиновых двигателях, включая двигатели с турбонаддувом и системой непосредственного впрыска топлива. Предотвращает возникновение проблем, связанных с ранним зажиганием на низких оборотах в двигателях T-GDI. Обеспечивает превосходные эксплуатационные характеристики, благодаря стабильным свойствам базового масла и высокой степени его очистки и улучшенную топливную эффективность. Новейший пакет присадок препятствует образованию нагара и отложений в двигателе.\n",
            "Подходит моделям с комплектациями: Ceed CD PE/ 2022/ хэтчбэк 5 дв./ 1.6 MPI/ Бензин/ Передний/ Автомат/ , Ceed CD PE/ 2021/ хэтчбэк 5 дв./ 1.6 MPI/ Бензин/ Передний/ Автомат/ , Ceed CD/ 2021/ хэтчбэк 5 дв./ 1.6 MPI/ Бензин/ Передний/ Автомат/ , Ceed CD/ 2021/ хэтчбэк 5 дв./ 1.6 MPI/ Бензин/ Передний/ Механика/ , Ceed CD/ 2020/ хэтчбэк 5 дв./ 1.6 MPI/ Бензин/ Передний/ Механика/ , Ceed CD/ 2020/ хэтчбэк 5 дв./ 1.6 MPI/ Бензин/ Передний/ Автомат/ , Ceed CD/ 2020/ хэтчбэк 5 дв./ 1.4 MPI/ Бензин/ Передний/ Механика/ , Ceed CD/ 2020/ хэтчбэк 5 дв./ 1.6 MPI/ Бензин/ Передний/ Механика/ , Ceed CD/ 2020/ хэтчбэк 5 дв./ 1.6 MPI/ Бензин/ Передний/ Автомат/ , Ceed CD/ 2020/ хэтчбэк 5 дв./ 1.4 MPI/ Бензин/ Передний/ Механика/ , Ceed CD/ 2019/ хэтчбэк 5 дв./ 1.6 MPI/ Бензин/ Передний/ Механика/ , Ceed CD/ 2019/ хэтчбэк 5 дв./ 1.6 MPI/ Бензин/ Передний/ Автомат/ , Ceed CD/ 2019/ хэтчбэк 5 дв./ 1.4 MPI/ Бензин/ Передний/ Механика/ , Ceed CD/ 2018/ хэтчбэк 5 дв./ 1.6 MPI/ Бензин/ Передний/ Механика/ , Ceed CD/ 2018/ хэтчбэк 5 дв./ 1.6 MPI/ Бензин/ Передний/ Автомат/ , Ceed CD/ 2018/ хэтчбэк 5 дв./ 1.6 MPI/ Бензин/ Передний/ Автомат/ , Ceed CD/ 2018/ хэтчбэк 5 дв./ 1.4 MPI/ Бензин/ Передний/ Механика/ , Cee'd JD FL/ 2018/ хэтчбэк 5 дв./ 1.4 MPI/ Бензин/ Передний/ Механика/ , Cee'd JD FL/ 2017/ хэтчбэк 5 дв./ 1.4 MPI/ Бензин/ Передний/ Механика/ , Cee'd JD FL/ 2017/ хэтчбэк 5 дв./ 1.4 MPI/ Бензин/ Передний/ Механика/ , Cee'd JD FL/ 2016/ хэтчбэк 5 дв./ 1.4 MPI/ Бензин/ Передний/ Механика/ , Cee'd JD FL/ 2015/ хэтчбэк 5 дв./ 1.4 MPI/ Бензин/ Передний/ Механика/ , Cee'd SW JD FL/ 2018/ универсал 5 дв./ 1.4 MPI/ Бензин/ Передний/ Механика/ , Cee'd SW JD FL/ 2017/ универсал 5 дв./ 1.4 MPI/ Бензин/ Передний/ Механика/ , Cee'd SW JD FL/ 2017/ универсал 5 дв./ 1.4 MPI/ Бензин/ Передний/ Механика/ , Cee'd SW JD FL/ 2016/ универсал 5 дв./ 1.4 MPI/ Бензин/ Передний/ Механика/ , Cee'd SW JD FL/ 2015/ универсал 5 дв./ 1.4 MPI/ Бензин/ Передний/ Механика/ , Ceed SW CD PE/ 2022/ универсал 5 дв./ 1.6 MPI/ Бензин/ Передний/ Автомат/ , Ceed SW CD/ 2022/ универсал 5 дв./ 1.6 MPI/ Бензин/ Передний/ Автомат/ , Ceed SW CD PE/ 2021/ универсал 5 дв./ 1.6 MPI/ Бензин/ Передний/ Автомат/ , Ceed SW CD/ 2021/ универсал 5 дв./ 1.6 MPI/ Бензин/ Передний/ Механика/ , Ceed SW CD/ 2021/ универсал 5 дв./ 1.6 MPI/ Бензин/ Передний/ Автомат/ , Ceed SW CD/ 2021/ универсал 5 дв./ 1.6 MPI/ Бензин/ Передний/ Автомат/ , Cerato BD/ 2022/ седан 4 дв./ 2.0 MPI/ Бензин/ Передний/ Автомат/ , Cerato BD/ 2022/ седан 4 дв./ 1.6 MPI/ Бензин/ Передний/ Механика/ , Cerato BD/ 2022/ седан 4 дв./ 1.6 MPI/ Бензин/ Передний/ Автомат/ , Cerato BD/ 2022/ седан 4 дв./ 1.6 MPI/ Бензин/ Передний/ Механика/ , Cerato BD/ 2022/ седан 4 дв./ 1.6 MPI/ Бензин/ Передний/ Автомат/ , Cerato BD/ 2022/ седан 4 дв./ 2.0 MPI/ Бензин/ Передний/ Автомат/ , Cerato BD/ 2021/ седан 4 дв./ 1.6 MPI/ Бензин/ Передний/ Механика/ , Cerato BD/ 2021/ седан 4 дв./ 1.6 MPI/ Бензин/ Передний/ Автомат/ , Cerato BD/ 2021/ седан 4 дв./ 2.0 MPI/ Бензин/ Передний/ Автомат/ , Cerato Classic YD FL/ 2021/ седан 4 дв./ 1.6 MPI/ Бензин/ Передний/ Механика/ , Cerato Classic YD FL/ 2021/ седан 4 дв./ 2.0 MPI/ Бензин/ Передний/ Автомат/ , Cerato Classic YD FL/ 2021/ седан 4 дв./ 1.6 MPI/ Бензин/ Передний/ Автомат/ , Cerato Classic YD FL/ 2021/ седан 4 дв./ 2.0 MPI/ Бензин/ Передний/ Автомат/ , Cerato Classic YD FL/ 2020/ седан 4 дв./ 1.6 MPI/ Бензин/ Передний/ Механика/ , Cerato Classic YD FL/ 2020/ седан 4 дв./ 1.6 MPI/ Бензин/ Передний/ Автомат/ , Cerato Classic YD FL/ 2020/ седан 4 дв./ 2.0 MPI/ Бензин/ Передний/ Автомат/ , Cerato Classic YD FL/ 2020/ седан 4 дв./ 1.6 MPI/ Бензин/ Передний/ Механика/ , Cerato Classic YD FL/ 2020/ седан 4 дв./ 1.6 MPI/ Бензин/ Передний/ Автомат/ , Cerato Classic YD FL/ 2020/ седан 4 дв./ 2.0 MPI/ Бензин/ Передний/ Автомат/ , Cerato Classic YD FL/ 2019/ седан 4 дв./ 1.6 MPI/ Бензин/ Передний/ Механика/ , Cerato Classic YD FL/ 2019/ седан 4 дв./ 1.6 MPI/ Бензин/ Передний/ Автомат/ , Cerato Classic YD FL/ 2019/ седан 4 дв./ 2.0 MPI/ Бензин/ Передний/ Автомат/ , Cerato Classic YD FL/ 2019/ седан 4 дв./ 1.6 MPI/ Бензин/ Передний/ Механика/ , Cerato Classic YD FL/ 2019/ седан 4 дв./ 1.6 MPI/ Бензин/ Передний/ Автомат/ , Cerato Classic YD FL/ 2019/ седан 4 дв./ 2.0 MPI/ Бензин/ Передний/ Автомат/ , Cerato Classic YD FL/ 2018/ седан 4 дв./ 1.6 MPI/ Бензин/ Передний/ Механика/ , Cerato Classic YD FL/ 2018/ седан 4 дв./ 1.6 MPI/ Бензин/ Передний/ Автомат/ , Cerato Classic YD FL/ 2018/ седан 4 дв./ 2.0 MPI/ Бензин/ Передний/ Автомат/ , Cerato Classic YD FL/ 2018/ седан 4 дв./ 1.6 MPI/ Бензин/ Передний/ Механика/ , Cerato Classic YD FL/ 2018/ седан 4 дв./ 1.6 MPI/ Бензин/ Передний/ Автомат/ , Cerato Classic YD FL/ 2018/ седан 4 дв./ 2.0 MPI/ Бензин/ Передний/ Автомат/ , Cerato Classic YD FL/ 2017/ седан 4 дв./ 1.6 MPI/ Бензин/ Передний/ Механика/ , Cerato Classic YD FL/ 2017/ седан 4 дв./ 1.6 MPI/ Бензин/ Передний/ Автомат/ , Cerato Classic YD FL/ 2017/ седан 4 дв./ 2.0 MPI/ Бензин/ Передний/ Автомат/ , Cerato Classic YD FL/ 2017/ седан 4 дв./ 1.6 MPI/ Бензин/ Передний/ Механика/ , Cerato Classic YD FL/ 2017/ седан 4 дв./ 1.6 MPI/ Бензин/ Передний/ Автомат/ , Cerato Classic YD FL/ 2017/ седан 4 дв./ 2.0 MPI/ Бензин/ Передний/ Автомат/ , Cerato Classic YD/ 2017/ седан 4 дв./ 1.6 MPI/ Бензин/ Передний/ Автомат/ , Cerato Classic YD FL/ 2016/ седан 4 дв./ 1.6 MPI/ Бензин/ Передний/ Механика/ , Cerato Classic YD FL/ 2016/ седан 4 дв./ 1.6 MPI/ Бензин/ Передний/ Автомат/ , Cerato Classic YD FL/ 2016/ седан 4 дв./ 2.0 MPI/ Бензин/ Передний/ Автомат/ , Cerato Classic YD/ 2016/ седан 4 дв./ 1.6 MPI/ Бензин/ Передний/ Механика/ , Cerato Classic YD/ 2016/ седан 4 дв./ 1.6 MPI/ Бензин/ Передний/ Автомат/ , Cerato Classic YD/ 2016/ седан 4 дв./ 2.0 MPI/ Бензин/ Передний/ Автомат/ , Cerato Classic YD/ 2015/ седан 4 дв./ 1.6 MPI/ Бензин/ Передний/ Механика/ , Cerato Classic YD/ 2015/ седан 4 дв./ 1.6 MPI/ Бензин/ Передний/ Автомат/ , Cerato Classic YD/ 2015/ седан 4 дв./ 2.0 MPI/ Бензин/ Передний/ Автомат/ , Cerato Classic YD/ 2014/ седан 4 дв./ 1.6 MPI/ Бензин/ Передний/ Механика/ , Cerato Classic YD/ 2014/ седан 4 дв./ 1.6 MPI/ Бензин/ Передний/ Автомат/ , Cerato Classic YD/ 2014/ седан 4 дв./ 2.0 MPI/ Бензин/ Передний/ Автомат/ , Cerato Classic YD/ 2014/ седан 4 дв./ 1.6 MPI/ Бензин/ Передний/ Механика/ , Cerato Classic YD/ 2014/ седан 4 дв./ 1.6 MPI/ Бензин/ Передний/ Автомат/ , Cerato Classic YD/ 2014/ седан 4 дв./ 2.0 MPI/ Бензин/ Передний/ Автомат/ , Cerato Classic YD/ 2014/ купе/ 2.0 MPI/ Бензин/ Передний/ Механика/ , Cerato Classic YD/ 2014/ купе/ 2.0 MPI/ Бензин/ Передний/ Автомат/ , Cerato Classic YD/ 2013/ седан 4 дв./ 1.6 MPI/ Бензин/ Передний/ Механика/ , Cerato Classic YD/ 2013/ седан 4 дв./ 1.6 MPI/ Бензин/ Передний/ Автомат/ , Cerato Classic YD/ 2013/ седан 4 дв./ 2.0 MPI/ Бензин/ Передний/ Автомат/ , Cerato Classic YD/ 2013/ купе/ 2.0 MPI/ Бензин/ Передний/ Механика/ , Cerato Classic YD/ 2013/ купе/ 2.0 MPI/ Бензин/ Передний/ Автомат/ , Cerato Classic YD/ 2013/ седан 4 дв./ 1.6 MPI/ Бензин/ Передний/ Механика/ , Cerato Classic YD/ 2013/ седан 4 дв./ 1.6 MPI/ Бензин/ Передний/ Автомат/ , Cerato Classic YD/ 2013/ седан 4 дв./ 2.0 MPI/ Бензин/ Передний/ Автомат/ , K5 DL3/ 2022/ седан 4 дв./ 2.0 MPI/ Бензин/ Передний/ Автомат/ , K5 DL3/ 2021/ седан 4 дв./ 2.0 MPI/ Бензин/ Передний/ Автомат/ , K5 DL3/ 2021/ седан 4 дв./ 2.0 MPI/ Бензин/ Передний/ Автомат/ , K5 DL3/ 2020/ седан 4 дв./ 2.0 MPI/ Бензин/ Передний/ Автомат/ , K5 DL3/ 2020/ седан 4 дв./ 2.0 MPI/ Бензин/ Передний/ Автомат/ , Optima JF FL/ 2020/ седан 4 дв./ 2.0 MPI/ Бензин/ Передний/ Автомат/ , Optima JF FL/ 2020/ седан 4 дв./ 2.0 MPI/ Бензин/ Передний/ Механика/ , Optima JF PE/ 2020/ седан 4 дв./ 2.0 MPI/ Бензин/ Передний/ Автомат/ , Optima JF PE/ 2020/ седан 4 дв./ 2.0 MPI/ Бензин/ Передний/ Механика/ , Optima JF FL/ 2019/ седан 4 дв./ 2.0 MPI/ Бензин/ Передний/ Автомат/ , Optima JF FL/ 2019/ седан 4 дв./ 2.0 MPI/ Бензин/ Передний/ Механика/ , Optima JF FL/ 2019/ седан 4 дв./ 2.0 MPI/ Бензин/ Передний/ Механика/ , Optima JF FL/ 2019/ седан 4 дв./ 2.0 MPI/ Бензин/ Передний/ Автомат/ , Optima JF FL/ 2018/ седан 4 дв./ 2.0 MPI/ Бензин/ Передний/ Механика/ , Optima JF FL/ 2018/ седан 4 дв./ 2.0 MPI/ Бензин/ Передний/ Автомат/ , Optima JF/ 2018/ седан 4 дв./ 2.0 MPI/ Бензин/ Передний/ Механика/ , Optima JF/ 2018/ седан 4 дв./ 2.0 MPI/ Бензин/ Передний/ Автомат/ , Optima JF/ 2017/ седан 4 дв./ 2.0 MPI/ Бензин/ Передний/ Механика/ , Optima JF/ 2017/ седан 4 дв./ 2.0 MPI/ Бензин/ Передний/ Автомат/ , Optima JF/ 2017/ седан 4 дв./ 2.0 MPI/ Бензин/ Передний/ Автомат/ , Optima JF/ 2017/ седан 4 дв./ 2.0 MPI/ Бензин/ Передний/ Механика/ , Optima JF/ 2017/ седан 4 дв./ 2.0 MPI/ Бензин/ Передний/ Автомат/ , Optima JF/ 2016/ седан 4 дв./ 2.0 MPI/ Бензин/ Передний/ Механика/ , Optima JF/ 2016/ седан 4 дв./ 2.0 MPI/ Бензин/ Передний/ Автомат/ , ProCee'd JD FL/ 2016/ хэтчбэк 3 дв./ 1.4 MPI/ Бензин/ Передний/ Механика/ , Rio FB PE/ 2022/ седан 4 дв./ 1.4 MPI/ Бензин/ Передний/ Механика/ , Rio FB PE/ 2022/ седан 4 дв./ 1.4 MPI/ Бензин/ Передний/ Автомат/ , Rio FB PE/ 2021/ седан 4 дв./ 1.4 MPI/ Бензин/ Передний/ Автомат/ , Rio FB PE/ 2021/ седан 4 дв./ 1.4 MPI/ Бензин/ Передний/ Механика/ , Rio FB PE/ 2021/ седан 4 дв./ 1.6 MPI/ Бензин/ Передний/ Автомат/ , Rio FB PE/ 2021/ седан 4 дв./ 1.4 MPI/ Бензин/ Передний/ Механика/ , Rio FB PE/ 2021/ седан 4 дв./ 1.6 MPI/ Бензин/ Передний/ Механика/ , Rio FB PE/ 2021/ седан 4 дв./ 1.4 MPI/ Бензин/ Передний/ Автомат/ , Rio FB PE/ 2020/ седан 4 дв./ 1.6 MPI/ Бензин/ Передний/ Механика/ , Rio FB PE/ 2020/ седан 4 дв./ 1.4 MPI/ Бензин/ Передний/ Автомат/ , Rio FB PE/ 2020/ седан 4 дв./ 1.6 MPI/ Бензин/ Передний/ Автомат/ , Rio FB PE/ 2020/ седан 4 дв./ 1.4 MPI/ Бензин/ Передний/ Механика/ , Rio FB/ 2020/ седан 4 дв./ 1.4 MPI/ Бензин/ Передний/ Автомат/ , Rio FB/ 2020/ седан 4 дв./ 1.4 MPI/ Бензин/ Передний/ Механика/ , Rio FB/ 2020/ седан 4 дв./ 1.6 MPI/ Бензин/ Передний/ Механика/ , Rio FB/ 2020/ седан 4 дв./ 1.6 MPI/ Бензин/ Передний/ Автомат/ , Rio FB/ 2019/ седан 4 дв./ 1.4 MPI/ Бензин/ Передний/ Механика/ , Rio FB/ 2019/ седан 4 дв./ 1.6 MPI/ Бензин/ Передний/ Автомат/ , Rio FB/ 2019/ седан 4 дв./ 1.4 MPI/ Бензин/ Передний/ Автомат/ , Rio FB/ 2019/ седан 4 дв./ 1.6 MPI/ Бензин/ Передний/ Механика/ , Rio FB/ 2019/ седан 4 дв./ 1.4 MPI/ Бензин/ Передний/ Автомат/ , Rio FB/ 2019/ седан 4 дв./ 1.6 MPI/ Бензин/ Передний/ Механика/ , Rio FB/ 2019/ седан 4 дв./ 1.4 MPI/ Бензин/ Передний/ Механика/ , Rio FB/ 2019/ седан 4 дв./ 1.6 MPI/ Бензин/ Передний/ Автомат/ , Rio FB/ 2018/ седан 4 дв./ 1.4 MPI/ Бензин/ Передний/ Механика/ , Rio FB/ 2018/ седан 4 дв./ 1.4 MPI/ Бензин/ Передний/ Автомат/ , Rio FB/ 2018/ седан 4 дв./ 1.6 MPI/ Бензин/ Передний/ Автомат/ , Rio FB/ 2018/ седан 4 дв./ 1.6 MPI/ Бензин/ Передний/ Механика/ , Rio FB/ 2018/ седан 4 дв./ 1.6 MPI/ Бензин/ Передний/ Автомат/ , Rio FB/ 2018/ седан 4 дв./ 1.4 MPI/ Бензин/ Передний/ Механика/ , Rio FB/ 2018/ седан 4 дв./ 1.4 MPI/ Бензин/ Передний/ Автомат/ , Rio FB/ 2018/ седан 4 дв./ 1.6 MPI/ Бензин/ Передний/ Механика/ , Rio FB/ 2017/ седан 4 дв./ 1.6 MPI/ Бензин/ Передний/ Автомат/ , Rio FB/ 2017/ седан 4 дв./ 1.6 MPI/ Бензин/ Передний/ Механика/ , Rio FB/ 2017/ седан 4 дв./ 1.4 MPI/ Бензин/ Передний/ Автомат/ , Rio FB/ 2017/ седан 4 дв./ 1.4 MPI/ Бензин/ Передний/ Механика/ , Rio X FB PE/ 2022/ хэтчбэк 5 дв./ 1.4 MPI/ Бензин/ Передний/ Механика/ , Rio X FB PE/ 2022/ хэтчбэк 5 дв./ 1.4 MPI/ Бензин/ Передний/ Автомат/ , Rio X FB PE/ 2021/ хэтчбэк 5 дв./ 1.4 MPI/ Бензин/ Передний/ Автомат/ , Rio X FB PE/ 2021/ хэтчбэк 5 дв./ 1.4 MPI/ Бензин/ Передний/ Механика/ , Rio X FB PE/ 2021/ хэтчбэк 5 дв./ 1.4 MPI/ Бензин/ Передний/ Автомат/ , Rio X FB PE/ 2021/ хэтчбэк 5 дв./ 1.6 MPI/ Бензин/ Передний/ Автомат/ , Rio X FB PE/ 2021/ хэтчбэк 5 дв./ 1.4 MPI/ Бензин/ Передний/ Механика/ , Rio X FB PE/ 2021/ хэтчбэк 5 дв./ 1.6 MPI/ Бензин/ Передний/ Механика/ , Rio X FB PE/ 2020/ хэтчбэк 5 дв./ 1.6 MPI/ Бензин/ Передний/ Автомат/ , Rio X FB PE/ 2020/ хэтчбэк 5 дв./ 1.4 MPI/ Бензин/ Передний/ Механика/ , Rio X FB PE/ 2020/ хэтчбэк 5 дв./ 1.4 MPI/ Бензин/ Передний/ Автомат/ , Rio X FB PE/ 2020/ хэтчбэк 5 дв./ 1.6 MPI/ Бензин/ Передний/ Механика/ , Rio X-Line FB/ 2020/ хэтчбэк 5 дв./ 1.6 MPI/ Бензин/ Передний/ Механика/ , Rio X-Line FB/ 2020/ хэтчбэк 5 дв./ 1.6 MPI/ Бензин/ Передний/ Автомат/ , Rio X-Line FB/ 2020/ хэтчбэк 5 дв./ 1.4 MPI/ Бензин/ Передний/ Механика/ , Rio X-Line FB/ 2020/ хэтчбэк 5 дв./ 1.4 MPI/ Бензин/ Передний/ Автомат/ , Rio X-Line FB/ 2019/ хэтчбэк 5 дв./ 1.4 MPI/ Бензин/ Передний/ Механика/ , Rio X-Line FB/ 2019/ хэтчбэк 5 дв./ 1.4 MPI/ Бензин/ Передний/ Автомат/ , Rio X-Line FB/ 2019/ хэтчбэк 5 дв./ 1.6 MPI/ Бензин/ Передний/ Автомат/ , Rio X-Line FB/ 2019/ хэтчбэк 5 дв./ 1.6 MPI/ Бензин/ Передний/ Механика/ , Rio X-Line FB/ 2019/ хэтчбэк 5 дв./ 1.6 MPI/ Бензин/ Передний/ Механика/ , Rio X-Line FB/ 2019/ хэтчбэк 5 дв./ 1.4 MPI/ Бензин/ Передний/ Механика/ , Rio X-Line FB/ 2019/ хэтчбэк 5 дв./ 1.4 MPI/ Бензин/ Передний/ Автомат/ , Rio X-Line FB/ 2019/ хэтчбэк 5 дв./ 1.6 MPI/ Бензин/ Передний/ Автомат/ , Rio X-Line FB/ 2018/ хэтчбэк 5 дв./ 1.4 MPI/ Бензин/ Передний/ Автомат/ , Rio X-Line FB/ 2018/ хэтчбэк 5 дв./ 1.4 MPI/ Бензин/ Передний/ Механика/ , Rio X-Line FB/ 2018/ хэтчбэк 5 дв./ 1.6 MPI/ Бензин/ Передний/ Автомат/ , Rio X-Line FB/ 2018/ хэтчбэк 5 дв./ 1.6 MPI/ Бензин/ Передний/ Механика/ , Rio X-Line FB/ 2018/ хэтчбэк 5 дв./ 1.4 MPI/ Бензин/ Передний/ Автомат/ , Rio X-Line FB/ 2018/ хэтчбэк 5 дв./ 1.6 MPI/ Бензин/ Передний/ Автомат/ , Rio X-Line FB/ 2018/ хэтчбэк 5 дв./ 1.4 MPI/ Бензин/ Передний/ Механика/ , Rio X-Line FB/ 2018/ хэтчбэк 5 дв./ 1.6 MPI/ Бензин/ Передний/ Механика/ , Rio X-Line FB/ 2017/ хэтчбэк 5 дв./ 1.4 MPI/ Бензин/ Передний/ Автомат/ , Rio X-Line FB/ 2017/ хэтчбэк 5 дв./ 1.6 MPI/ Бензин/ Передний/ Автомат/ , Rio X-Line FB/ 2017/ хэтчбэк 5 дв./ 1.6 MPI/ Бензин/ Передний/ Механика/ , Rio X-Line FB/ 2017/ хэтчбэк 5 дв./ 1.4 MPI/ Бензин/ Передний/ Механика/ , Seltos SP2/ 2022/ кроссовер 5 дв./ 2.0 MPI/ Бензин/ Полный/ Вариатор/ , Seltos SP2/ 2022/ кроссовер 5 дв./ 2.0 MPI/ Бензин/ Передний/ Вариатор/ , Seltos SP2/ 2022/ кроссовер 5 дв./ 1.6 MPI/ Бензин/ Полный/ Автомат/ , Seltos SP2/ 2022/ кроссовер 5 дв./ 1.6 MPI/ Бензин/ Полный/ Механика/ , Seltos SP2/ 2022/ кроссовер 5 дв./ 1.6 MPI/ Бензин/ Передний/ Механика/ , Seltos SP2/ 2022/ кроссовер 5 дв./ 1.6 MPI/ Бензин/ Передний/ Автомат/ , Seltos SP2/ 2022/ кроссовер 5 дв./ 2.0 MPI/ Бензин/ Полный/ Вариатор/ , Seltos SP2/ 2022/ кроссовер 5 дв./ 2.0 MPI/ Бензин/ Передний/ Вариатор/ , Seltos SP2/ 2022/ кроссовер 5 дв./ 1.6 MPI/ Бензин/ Полный/ Механика/ , Seltos SP2/ 2022/ кроссовер 5 дв./ 1.6 MPI/ Бензин/ Передний/ Автомат/ , Seltos SP2/ 2022/ кроссовер 5 дв./ 1.6 MPI/ Бензин/ Полный/ Автомат/ , Seltos SP2/ 2022/ кроссовер 5 дв./ 1.6 MPI/ Бензин/ Полный/ Механика/ , Seltos SP2/ 2022/ кроссовер 5 дв./ 1.6 MPI/ Бензин/ Передний/ Автомат/ , Seltos SP2/ 2022/ кроссовер 5 дв./ 1.6 MPI/ Бензин/ Передний/ Механика/ , Seltos SP2/ 2022/ кроссовер 5 дв./ 1.6 MPI/ Бензин/ Полный/ Автомат/ , Seltos SP2/ 2021/ кроссовер 5 дв./ 1.6 MPI/ Бензин/ Передний/ Механика/ , Seltos SP2/ 2021/ кроссовер 5 дв./ 1.6 MPI/ Бензин/ Полный/ Механика/ , Seltos SP2/ 2021/ кроссовер 5 дв./ 2.0 MPI/ Бензин/ Полный/ Вариатор/ , Seltos SP2/ 2021/ кроссовер 5 дв./ 1.6 MPI/ Бензин/ Передний/ Автомат/ , Seltos SP2/ 2021/ кроссовер 5 дв./ 2.0 MPI/ Бензин/ Передний/ Вариатор/ , Seltos SP2/ 2021/ кроссовер 5 дв./ 1.6 MPI/ Бензин/ Полный/ Автомат/ , Seltos SP2/ 2021/ кроссовер 5 дв./ 1.6 MPI/ Бензин/ Передний/ Механика/ , Seltos SP2/ 2021/ кроссовер 5 дв./ 1.6 MPI/ Бензин/ Полный/ Механика/ , Seltos SP2/ 2021/ кроссовер 5 дв./ 2.0 MPI/ Бензин/ Полный/ Вариатор/ , Seltos SP2/ 2021/ кроссовер 5 дв./ 1.6 MPI/ Бензин/ Передний/ Автомат/ , Seltos SP2/ 2021/ кроссовер 5 дв./ 2.0 MPI/ Бензин/ Передний/ Вариатор/ , Seltos SP2/ 2021/ кроссовер 5 дв./ 1.6 MPI/ Бензин/ Полный/ Автомат/ , Seltos SP2/ 2021/ кроссовер 5 дв./ 1.6 MPI/ Бензин/ Полный/ Автомат/ , Seltos SP2/ 2021/ кроссовер 5 дв./ 1.6 MPI/ Бензин/ Передний/ Автомат/ , Seltos SP2/ 2021/ кроссовер 5 дв./ 1.6 MPI/ Бензин/ Полный/ Механика/ , Seltos SP2/ 2021/ кроссовер 5 дв./ 2.0 MPI/ Бензин/ Полный/ Вариатор/ , Seltos SP2/ 2021/ кроссовер 5 дв./ 1.6 MPI/ Бензин/ Передний/ Механика/ , Seltos SP2/ 2021/ кроссовер 5 дв./ 2.0 MPI/ Бензин/ Передний/ Вариатор/ , Seltos SP2/ 2020/ кроссовер 5 дв./ 1.6 MPI/ Бензин/ Передний/ Механика/ , Seltos SP2/ 2020/ кроссовер 5 дв./ 1.6 MPI/ Бензин/ Передний/ Автомат/ , Seltos SP2/ 2020/ кроссовер 5 дв./ 1.6 MPI/ Бензин/ Полный/ Механика/ , Seltos SP2/ 2020/ кроссовер 5 дв./ 1.6 MPI/ Бензин/ Полный/ Автомат/ , Seltos SP2/ 2020/ кроссовер 5 дв./ 2.0 MPI/ Бензин/ Передний/ Вариатор/ , Seltos SP2/ 2020/ кроссовер 5 дв./ 2.0 MPI/ Бензин/ Полный/ Вариатор/ , Seltos SP2/ 2020/ кроссовер 5 дв./ 1.6 MPI/ Бензин/ Передний/ Автомат/ , Seltos SP2/ 2020/ кроссовер 5 дв./ 2.0 MPI/ Бензин/ Полный/ Вариатор/ , Seltos SP2/ 2020/ кроссовер 5 дв./ 1.6 MPI/ Бензин/ Передний/ Механика/ , Seltos SP2/ 2020/ кроссовер 5 дв./ 2.0 MPI/ Бензин/ Передний/ Вариатор/ , Seltos SP2/ 2020/ кроссовер 5 дв./ 1.6 MPI/ Бензин/ Полный/ Автомат/ , Seltos SP2/ 2020/ кроссовер 5 дв./ 1.6 MPI/ Бензин/ Полный/ Механика/ , Seltos SP2/ 2019/ кроссовер 5 дв./ 2.0 MPI/ Бензин/ Полный/ Вариатор/ , Sorento XM FL/ 2021/ кроссовер 5 дв./ 2.4 MPI/ Бензин/ Полный/ Автомат/ , Sorento XM FL/ 2021/ кроссовер 5 дв./ 2.4 MPI/ Бензин/ Передний/ Автомат/ , Sorento XM FL/ 2021/ кроссовер 5 дв./ 2.4 MPI/ Бензин/ Полный/ Автомат/ , Sorento XM FL/ 2021/ кроссовер 5 дв./ 2.4 MPI/ Бензин/ Полный/ Механика/ , Sorento XM FL/ 2020/ кроссовер 5 дв./ 2.4 MPI/ Бензин/ Передний/ Автомат/ , Sorento XM FL/ 2020/ кроссовер 5 дв./ 2.4 MPI/ Бензин/ Полный/ Механика/ , Sorento XM FL/ 2020/ кроссовер 5 дв./ 2.4 MPI/ Бензин/ Полный/ Автомат/ , Sorento XM FL/ 2020/ кроссовер 5 дв./ 2.4 MPI/ Бензин/ Передний/ Автомат/ , Sorento XM FL/ 2020/ кроссовер 5 дв./ 2.4 MPI/ Бензин/ Полный/ Механика/ , Sorento XM FL/ 2020/ кроссовер 5 дв./ 2.4 MPI/ Бензин/ Полный/ Автомат/ , Sorento XM FL/ 2020/ кроссовер 5 дв./ 2.4 MPI/ Бензин/ Полный/ Механика/ , Sorento XM FL/ 2020/ кроссовер 5 дв./ 2.4 MPI/ Бензин/ Полный/ Автомат/ , Sorento XM FL/ 2019/ кроссовер 5 дв./ 2.4 MPI/ Бензин/ Передний/ Автомат/ , Sorento XM FL/ 2019/ кроссовер 5 дв./ 2.4 MPI/ Бензин/ Полный/ Механика/ , Sorento XM FL/ 2019/ кроссовер 5 дв./ 2.4 MPI/ Бензин/ Полный/ Автомат/ , Sorento XM FL/ 2019/ кроссовер 5 дв./ 2.4 MPI/ Бензин/ Передний/ Автомат/ , Sorento XM FL/ 2019/ кроссовер 5 дв./ 2.4 MPI/ Бензин/ Полный/ Механика/ , Sorento XM FL/ 2019/ кроссовер 5 дв./ 2.4 MPI/ Бензин/ Полный/ Автомат/ , Sorento XM FL/ 2018/ кроссовер 5 дв./ 2.4 MPI/ Бензин/ Передний/ Автомат/ , Sorento XM FL/ 2018/ кроссовер 5 дв./ 2.4 MPI/ Бензин/ Полный/ Механика/ , Sorento XM FL/ 2018/ кроссовер 5 дв./ 2.4 MPI/ Бензин/ Полный/ Автомат/ , Sorento XM FL/ 2018/ кроссовер 5 дв./ 2.4 MPI/ Бензин/ Передний/ Автомат/ , Sorento XM FL/ 2018/ кроссовер 5 дв./ 2.4 MPI/ Бензин/ Полный/ Механика/ , Sorento XM FL/ 2018/ кроссовер 5 дв./ 2.4 MPI/ Бензин/ Полный/ Автомат/ , Sorento XM FL/ 2017/ кроссовер 5 дв./ 2.4 MPI/ Бензин/ Передний/ Автомат/ , Sorento XM FL/ 2017/ кроссовер 5 дв./ 2.4 MPI/ Бензин/ Полный/ Механика/ , Sorento XM FL/ 2017/ кроссовер 5 дв./ 2.4 MPI/ Бензин/ Полный/ Автомат/ , Sorento XM FL/ 2017/ кроссовер 5 дв./ 2.4 MPI/ Бензин/ Передний/ Автомат/ , Sorento XM FL/ 2017/ кроссовер 5 дв./ 2.4 MPI/ Бензин/ Полный/ Механика/ , Sorento XM FL/ 2017/ кроссовер 5 дв./ 2.4 MPI/ Бензин/ Полный/ Автомат/ , Sorento XM FL/ 2016/ кроссовер 5 дв./ 2.4 MPI/ Бензин/ Передний/ Автомат/ , Sorento XM FL/ 2016/ кроссовер 5 дв./ 2.4 MPI/ Бензин/ Полный/ Механика/ , Sorento XM FL/ 2016/ кроссовер 5 дв./ 2.4 MPI/ Бензин/ Полный/ Автомат/ , Sorento XM FL/ 2016/ кроссовер 5 дв./ 2.4 MPI/ Бензин/ Передний/ Автомат/ , Sorento XM FL/ 2016/ кроссовер 5 дв./ 2.4 MPI/ Бензин/ Полный/ Автомат/ , Sorento XM FL/ 2015/ кроссовер 5 дв./ 2.4 MPI/ Бензин/ Передний/ Автомат/ , Sorento XM FL/ 2015/ кроссовер 5 дв./ 2.4 MPI/ Бензин/ Полный/ Механика/ , Sorento XM FL/ 2015/ кроссовер 5 дв./ 2.4 MPI/ Бензин/ Полный/ Автомат/ , Sorento XM FL/ 2015/ кроссовер 5 дв./ 2.4 MPI/ Бензин/ Передний/ Автомат/ , Sorento XM FL/ 2015/ кроссовер 5 дв./ 2.4 MPI/ Бензин/ Полный/ Механика/ , Sorento XM FL/ 2015/ кроссовер 5 дв./ 2.4 MPI/ Бензин/ Полный/ Автомат/ , Sorento XM FL/ 2014/ кроссовер 5 дв./ 2.4 MPI/ Бензин/ Передний/ Автомат/ , Sorento XM FL/ 2014/ кроссовер 5 дв./ 2.4 MPI/ Бензин/ Полный/ Механика/ , Sorento XM FL/ 2014/ кроссовер 5 дв./ 2.4 MPI/ Бензин/ Полный/ Автомат/ , Sorento XM FL/ 2013/ кроссовер 5 дв./ 2.4 MPI/ Бензин/ Передний/ Механика/ , Sorento XM FL/ 2013/ кроссовер 5 дв./ 2.4 MPI/ Бензин/ Передний/ Автомат/ , Sorento XM FL/ 2013/ кроссовер 5 дв./ 2.4 MPI/ Бензин/ Полный/ Механика/ , Sorento XM FL/ 2013/ кроссовер 5 дв./ 2.4 MPI/ Бензин/ Полный/ Автомат/ , Sorento Prime UM FL/ 2020/ кроссовер 5 дв./ 3.5 MPI/ Бензин/ Полный/ Автомат/ , Sorento Prime UM PE/ 2020/ кроссовер 5 дв./ 3.5 MPI/ Бензин/ Полный/ Автомат/ , Sorento Prime UM PE/ 2020/ кроссовер 5 дв. (7 мест)/ 3.5 MPI/ Бензин/ Полный/ Автомат/ , Sorento Prime UM FL/ 2019/ кроссовер 5 дв./ 3.5 MPI/ Бензин/ Полный/ Автомат/ , Sorento Prime UM FL/ 2019/ кроссовер 5 дв./ 3.5 MPI/ Бензин/ Полный/ Автомат/ , Sorento Prime UM FL/ 2018/ кроссовер 5 дв./ 3.5 MPI/ Бензин/ Полный/ Автомат/ , Sorento Prime UM FL/ 2018/ кроссовер 5 дв./ 3.5 MPI/ Бензин/ Полный/ Автомат/ , Sorento Prime UM FL/ 2017/ кроссовер 5 дв./ 3.5 MPI/ Бензин/ Полный/ Автомат/ , Sorento Prime UM/ 2016/ кроссовер 5 дв./ 2.4 MPI/ Бензин/ Полный/ Автомат/ , Sorento Prime UM/ 2015/ кроссовер 5 дв./ 2.4 MPI/ Бензин/ Полный/ Автомат/ , Soul SK3/ 2022/ кроссовер 5 дв./ 1.6 MPI/ Бензин/ Передний/ Автомат/ , Soul SK3/ 2022/ кроссовер 5 дв./ 2.0 MPI/ Бензин/ Передний/ Автомат/ , Soul SK3/ 2022/ кроссовер 5 дв./ 2.0 MPI/ Бензин/ Передний/ Автомат/ , Soul SK3/ 2022/ кроссовер 5 дв./ 2.0 MPI/ Бензин/ Передний/ Автомат/ , Soul SK3/ 2022/ кроссовер 5 дв./ 1.6 MPI/ Бензин/ Передний/ Механика/ , Soul SK3/ 2022/ кроссовер 5 дв./ 1.6 MPI/ Бензин/ Передний/ Автомат/ , Soul SK3/ 2021/ кроссовер 5 дв./ 1.6 MPI/ Бензин/ Передний/ Автомат/ , Soul SK3/ 2021/ кроссовер 5 дв./ 2.0 MPI/ Бензин/ Передний/ Автомат/ , Soul SK3/ 2021/ кроссовер 5 дв./ 1.6 MPI/ Бензин/ Передний/ Автомат/ , Soul SK3/ 2021/ кроссовер 5 дв./ 1.6 MPI/ Бензин/ Передний/ Механика/ , Soul SK3/ 2021/ кроссовер 5 дв./ 2.0 MPI/ Бензин/ Передний/ Автомат/ , Soul SK3/ 2021/ кроссовер 5 дв./ 1.6 MPI/ Бензин/ Передний/ Автомат/ , Soul SK3/ 2021/ кроссовер 5 дв./ 2.0 MPI/ Бензин/ Передний/ Автомат/ , Soul SK3/ 2020/ кроссовер 5 дв./ 1.6 MPI/ Бензин/ Передний/ Механика/ , Soul SK3/ 2020/ кроссовер 5 дв./ 2.0 MPI/ Бензин/ Передний/ Автомат/ , Soul SK3/ 2020/ кроссовер 5 дв./ 1.6 MPI/ Бензин/ Передний/ Автомат/ , Soul SK3/ 2020/ кроссовер 5 дв./ 1.6 MPI/ Бензин/ Передний/ Автомат/ , Soul SK3/ 2020/ кроссовер 5 дв./ 2.0 MPI/ Бензин/ Передний/ Автомат/ , Soul SK3/ 2020/ кроссовер 5 дв./ 1.6 MPI/ Бензин/ Передний/ Механика/ , Soul SK3/ 2020/ кроссовер 5 дв./ 1.6 MPI/ Бензин/ Передний/ Механика/ , Soul SK3/ 2020/ кроссовер 5 дв./ 2.0 MPI/ Бензин/ Передний/ Автомат/ , Soul SK3/ 2020/ кроссовер 5 дв./ 1.6 MPI/ Бензин/ Передний/ Автомат/ , Soul SK3/ 2019/ кроссовер 5 дв./ 1.6 MPI/ Бензин/ Передний/ Автомат/ , Soul SK3/ 2019/ кроссовер 5 дв./ 1.6 MPI/ Бензин/ Передний/ Механика/ , Soul SK3/ 2019/ кроссовер 5 дв./ 2.0 MPI/ Бензин/ Передний/ Автомат/ , Soul PS FL/ 2019/ кроссовер 5 дв./ 2.0 MPI/ Бензин/ Передний/ Автомат/ , Soul PS FL/ 2019/ кроссовер 5 дв./ 1.6 MPI/ Бензин/ Передний/ Автомат/ , Soul PS FL/ 2019/ кроссовер 5 дв./ 1.6 MPI/ Бензин/ Передний/ Механика/ , Soul SK3/ 2019/ кроссовер 5 дв./ 1.6 MPI/ Бензин/ Передний/ Автомат/ , Soul SK3/ 2019/ кроссовер 5 дв./ 1.6 MPI/ Бензин/ Передний/ Механика/ , Soul SK3/ 2019/ кроссовер 5 дв./ 2.0 MPI/ Бензин/ Передний/ Автомат/ , Soul PS FL/ 2018/ кроссовер 5 дв./ 1.6 MPI/ Бензин/ Передний/ Механика/ , Soul PS FL/ 2018/ кроссовер 5 дв./ 2.0 MPI/ Бензин/ Передний/ Автомат/ , Soul PS FL/ 2018/ кроссовер 5 дв./ 1.6 MPI/ Бензин/ Передний/ Автомат/ , Soul PS FL/ 2018/ кроссовер 5 дв./ 1.6 MPI/ Бензин/ Передний/ Автомат/ , Soul PS FL/ 2018/ кроссовер 5 дв./ 2.0 MPI/ Бензин/ Передний/ Автомат/ , Soul PS FL/ 2018/ кроссовер 5 дв./ 1.6 MPI/ Бензин/ Передний/ Механика/ , Soul PS FL/ 2017/ кроссовер 5 дв./ 1.6 MPI/ Бензин/ Передний/ Механика/ , Soul PS FL/ 2017/ кроссовер 5 дв./ 1.6 MPI/ Бензин/ Передний/ Автомат/ , Soul PS FL/ 2017/ кроссовер 5 дв./ 2.0 MPI/ Бензин/ Передний/ Автомат/ , Soul PS FL/ 2017/ кроссовер 5 дв./ 2.0 MPI/ Бензин/ Передний/ Автомат/ , Soul PS FL/ 2017/ кроссовер 5 дв./ 1.6 MPI/ Бензин/ Передний/ Механика/ , Soul PS FL/ 2017/ кроссовер 5 дв./ 1.6 MPI/ Бензин/ Передний/ Автомат/ , Soul PS/ 2017/ кроссовер 5 дв./ 1.6 MPI/ Бензин/ Передний/ Автомат/ , Soul PS FL/ 2016/ кроссовер 5 дв./ 1.6 MPI/ Бензин/ Передний/ Автомат/ , Soul PS/ 2016/ кроссовер 5 дв./ 1.6 MPI/ Бензин/ Передний/ Механика/ , Soul PS/ 2016/ кроссовер 5 дв./ 1.6 MPI/ Бензин/ Передний/ Автомат/ , Soul PS/ 2015/ кроссовер 5 дв./ 1.6 MPI/ Бензин/ Передний/ Механика/ , Soul PS/ 2015/ кроссовер 5 дв./ 1.6 MPI/ Бензин/ Передний/ Автомат/ , Soul PS/ 2015/ кроссовер 5 дв./ 1.6 MPI/ Бензин/ Передний/ Механика/ , Soul PS/ 2015/ кроссовер 5 дв./ 1.6 MPI/ Бензин/ Передний/ Автомат/ , Soul PS/ 2014/ кроссовер 5 дв./ 1.6 MPI/ Бензин/ Передний/ Механика/ , Soul PS/ 2014/ кроссовер 5 дв./ 1.6 MPI/ Бензин/ Передний/ Автомат/ , Soul PS/ 2013/ кроссовер 5 дв./ 1.6 MPI/ Бензин/ Передний/ Автомат/ , Sportage QLe FL/ 2022/ кроссовер 5 дв./ 2.0 MPI/ Бензин/ Передний/ Механика/ , Sportage QLe FL/ 2022/ кроссовер 5 дв./ 2.0 MPI/ Бензин/ Передний/ Автомат/ , Sportage QLe FL/ 2022/ кроссовер 5 дв./ 2.0 MPI/ Бензин/ Полный/ Механика/ , Sportage QLe FL/ 2022/ кроссовер 5 дв./ 2.0 MPI/ Бензин/ Полный/ Автомат/ , Sportage QLe FL/ 2021/ кроссовер 5 дв./ 2.0 MPI/ Бензин/ Передний/ Механика/ , Sportage QLe FL/ 2021/ кроссовер 5 дв./ 2.0 MPI/ Бензин/ Полный/ Автомат/ , Sportage QLe FL/ 2021/ кроссовер 5 дв./ 2.0 MPI/ Бензин/ Передний/ Автомат/ , Sportage QLe FL/ 2021/ кроссовер 5 дв./ 2.0 MPI/ Бензин/ Полный/ Механика/ , Sportage QLe FL/ 2020/ кроссовер 5 дв./ 2.0 MPI/ Бензин/ Полный/ Механика/ , Sportage QLe FL/ 2020/ кроссовер 5 дв./ 2.0 MPI/ Бензин/ Передний/ Автомат/ , Sportage QLe FL/ 2020/ кроссовер 5 дв./ 2.0 MPI/ Бензин/ Передний/ Механика/ , Sportage QLe FL/ 2020/ кроссовер 5 дв./ 2.0 MPI/ Бензин/ Полный/ Автомат/ , Sportage QLe FL/ 2020/ кроссовер 5 дв./ 2.0 MPI/ Бензин/ Передний/ Автомат/ , Sportage QLe FL/ 2020/ кроссовер 5 дв./ 2.0 MPI/ Бензин/ Полный/ Механика/ , Sportage QLe FL/ 2020/ кроссовер 5 дв./ 2.0 MPI/ Бензин/ Передний/ Механика/ , Sportage QLe FL/ 2020/ кроссовер 5 дв./ 2.0 MPI/ Бензин/ Полный/ Автомат/ , Sportage QLe FL/ 2019/ кроссовер 5 дв./ 2.0 MPI/ Бензин/ Передний/ Механика/ , Sportage QLe FL/ 2019/ кроссовер 5 дв./ 2.0 MPI/ Бензин/ Полный/ Механика/ , Sportage QLe FL/ 2019/ кроссовер 5 дв./ 2.0 MPI/ Бензин/ Полный/ Автомат/ , Sportage QLe FL/ 2019/ кроссовер 5 дв./ 2.0 MPI/ Бензин/ Передний/ Автомат/ , Sportage QLe FL/ 2019/ кроссовер 5 дв./ 2.0 MPI/ Бензин/ Передний/ Механика/ , Sportage QLe FL/ 2019/ кроссовер 5 дв./ 2.0 MPI/ Бензин/ Передний/ Автомат/ , Sportage QLe FL/ 2019/ кроссовер 5 дв./ 2.0 MPI/ Бензин/ Полный/ Автомат/ , Sportage QLe FL/ 2019/ кроссовер 5 дв./ 2.0 MPI/ Бензин/ Полный/ Механика/ , Sportage QLe FL/ 2018/ кроссовер 5 дв./ 2.0 MPI/ Бензин/ Полный/ Автомат/ , Sportage QLe FL/ 2018/ кроссовер 5 дв./ 2.0 MPI/ Бензин/ Передний/ Автомат/ , Sportage QLe FL/ 2018/ кроссовер 5 дв./ 2.0 MPI/ Бензин/ Полный/ Механика/ , Sportage QLe FL/ 2018/ кроссовер 5 дв./ 2.0 MPI/ Бензин/ Передний/ Механика/ , Sportage QLe/ 2018/ кроссовер 5 дв./ 2.0 MPI/ Бензин/ Полный/ Автомат/ , Sportage QLe/ 2018/ кроссовер 5 дв./ 2.0 MPI/ Бензин/ Полный/ Механика/ , Sportage QLe/ 2018/ кроссовер 5 дв./ 2.0 MPI/ Бензин/ Передний/ Автомат/ , Sportage QLe/ 2018/ кроссовер 5 дв./ 2.0 MPI/ Бензин/ Передний/ Механика/ , Sportage QLe/ 2018/ кроссовер 5 дв./ 2.0 MPI/ Бензин/ Передний/ Автомат/ , Sportage QLe/ 2018/ кроссовер 5 дв./ 2.0 MPI/ Бензин/ Передний/ Механика/ , Sportage QLe/ 2018/ кроссовер 5 дв./ 2.0 MPI/ Бензин/ Полный/ Автомат/ , Sportage QLe/ 2017/ кроссовер 5 дв./ 2.0 MPI/ Бензин/ Полный/ Автомат/ , Sportage QLe/ 2017/ кроссовер 5 дв./ 2.0 MPI/ Бензин/ Передний/ Автомат/ , Sportage QLe/ 2017/ кроссовер 5 дв./ 2.0 MPI/ Бензин/ Передний/ Механика/ , Sportage QLe/ 2017/ кроссовер 5 дв./ 2.0 MPI/ Бензин/ Передний/ Автомат/ , Sportage QLe/ 2017/ кроссовер 5 дв./ 2.0 MPI/ Бензин/ Передний/ Механика/ , Sportage QLe/ 2017/ кроссовер 5 дв./ 2.0 MPI/ Бензин/ Полный/ Механика/ , Sportage QLe/ 2017/ кроссовер 5 дв./ 2.0 MPI/ Бензин/ Полный/ Автомат/ , Sportage QLe/ 2017/ кроссовер 5 дв./ 2.0 MPI/ Бензин/ Полный/ Автомат/ , Sportage QLe/ 2017/ кроссовер 5 дв./ 2.0 MPI/ Бензин/ Передний/ Автомат/ , Sportage QLe/ 2017/ кроссовер 5 дв./ 2.0 MPI/ Бензин/ Передний/ Механика/ , Sportage QLe/ 2017/ кроссовер 5 дв./ 2.0 MPI/ Бензин/ Полный/ Механика/ , Sportage QLe/ 2016/ кроссовер 5 дв./ 2.0 MPI/ Бензин/ Полный/ Автомат/ , Sportage QLe/ 2016/ кроссовер 5 дв./ 2.0 MPI/ Бензин/ Передний/ Механика/ , Sportage QLe/ 2016/ кроссовер 5 дв./ 2.0 MPI/ Бензин/ Передний/ Автомат/ , Sportage QLe/ 2016/ кроссовер 5 дв./ 2.0 MPI/ Бензин/ Полный/ Механика/ , Sportage QLe/ 2015/ кроссовер 5 дв./ 2.0 MPI/ Бензин/ Полный/ Автомат/ , Sportage SL FL/ 2015/ кроссовер 5 дв./ 2.0 MPI/ Бензин/ Передний/ Автомат/ , Sportage SL FL/ 2015/ кроссовер 5 дв./ 2.0 MPI/ Бензин/ Полный/ Автомат/ , Sportage SL FL/ 2015/ кроссовер 5 дв./ 2.0 MPI/ Бензин/ Полный/ Механика/ , Sportage SL FL/ 2015/ кроссовер 5 дв./ 2.0 MPI/ Бензин/ Передний/ Механика/ , Sportage SL FL/ 2015/ кроссовер 5 дв./ 2.0 MPI/ Бензин/ Полный/ Механика/ , Sportage SL FL/ 2015/ кроссовер 5 дв./ 2.0 MPI/ Бензин/ Полный/ Автомат/ , Sportage SL FL/ 2015/ кроссовер 5 дв./ 2.0 MPI/ Бензин/ Передний/ Автомат/ , Sportage SL FL/ 2015/ кроссовер 5 дв./ 2.0 MPI/ Бензин/ Передний/ Механика/ , Sportage SL FL/ 2014/ кроссовер 5 дв./ 2.0 MPI/ Бензин/ Полный/ Механика/ , Sportage SL FL/ 2014/ кроссовер 5 дв./ 2.0 MPI/ Бензин/ Передний/ Механика/ , Sportage SL FL/ 2014/ кроссовер 5 дв./ 2.0 MPI/ Бензин/ Полный/ Автомат/ , Sportage SL FL/ 2014/ кроссовер 5 дв./ 2.0 MPI/ Бензин/ Передний/ Автомат/\n",
            "\n",
            "\n",
            "=====================Отрывок документа №3=====================\n",
            "\n",
            "=== score = 0.4442787170410156  Metadata документа ------------ {'router': 'oils', 'Header2': 'Наименование: S-OIL 7 RED №9 SP 5W-40'}\n",
            "\n",
            "S-OIL 7 RED №9 SP 5W-40\n",
            "Предназначено для использования во всех бензиновых двигателях, включая двигатели с турбонаддувом и системой непосредственного впрыска топлива. Предотвращает возникновение проблем, связанных с ранним зажиганием на низких оборотах в двигателях T-GDI. Обеспечивает превосходные эксплуатационные характеристики, благодаря стабильным свойствам базового масла и высокой степени его очистки и повышенную прочность масляной пленки в рабочем состоянии. Новейший пакет присадок препятствует образованию нагара и отложений в двигателе.\n",
            "Подходит моделям с комплектациями: Soul SK3/ 2021/ кроссовер 5 дв./ 1.6 T-GDI/ Бензин/ Передний/ Робот/ , Soul SK3/ 2021/ кроссовер 5 дв./ 1.6 T-GDI/ Бензин/ Передний/ Робот/ , Soul SK3/ 2020/ кроссовер 5 дв./ 1.6 T-GDI/ Бензин/ Передний/ Робот/ , Soul SK3/ 2020/ кроссовер 5 дв./ 1.6 T-GDI/ Бензин/ Передний/ Робот/ , Soul SK3/ 2020/ кроссовер 5 дв./ 1.6 T-GDI/ Бензин/ Передний/ Робот/ , Soul SK3/ 2019/ кроссовер 5 дв./ 1.6 T-GDI/ Бензин/ Передний/ Робот/ , Soul SK3/ 2019/ кроссовер 5 дв./ 1.6 T-GDI/ Бензин/ Передний/ Робот/ , Sportage QLe/ 2018/ кроссовер 5 дв./ 1.6 T-GDI/ Бензин/ Полный/ Робот/ , Sportage QLe/ 2018/ кроссовер 5 дв./ 1.6 T-GDI/ Бензин/ Полный/ Робот/ , Sportage QLe/ 2017/ кроссовер 5 дв./ 1.6 T-GDI/ Бензин/ Полный/ Робот/ , Sportage QLe/ 2017/ кроссовер 5 дв./ 1.6 T-GDI/ Бензин/ Полный/ Робот/ , Sportage QLe/ 2016/ кроссовер 5 дв./ 1.6 T-GDI/ Бензин/ Полный/ Робот/\n",
            "\n"
          ]
        },
        {
          "output_type": "error",
          "ename": "InvalidRequestError",
          "evalue": "ignored",
          "traceback": [
            "\u001b[0;31m---------------------------------------------------------------------------\u001b[0m",
            "\u001b[0;31mInvalidRequestError\u001b[0m                       Traceback (most recent call last)",
            "\u001b[0;32m<ipython-input-34-0c567f5a59d5>\u001b[0m in \u001b[0;36m<cell line: 1>\u001b[0;34m()\u001b[0m\n\u001b[0;32m----> 1\u001b[0;31m \u001b[0mrun_dialog\u001b[0m\u001b[0;34m(\u001b[0m\u001b[0;34m)\u001b[0m\u001b[0;34m\u001b[0m\u001b[0;34m\u001b[0m\u001b[0m\n\u001b[0m",
            "\u001b[0;32m<ipython-input-32-8ce594ec97a8>\u001b[0m in \u001b[0;36mrun_dialog\u001b[0;34m()\u001b[0m\n\u001b[1;32m     10\u001b[0m         \u001b[0;32mif\u001b[0m \u001b[0;34m(\u001b[0m\u001b[0;34m(\u001b[0m\u001b[0muser_question\u001b[0m\u001b[0;34m.\u001b[0m\u001b[0mlower\u001b[0m\u001b[0;34m(\u001b[0m\u001b[0;34m)\u001b[0m \u001b[0;34m==\u001b[0m \u001b[0;34m'stop'\u001b[0m\u001b[0;34m)\u001b[0m \u001b[0;32mor\u001b[0m \u001b[0;34m(\u001b[0m\u001b[0muser_question\u001b[0m\u001b[0;34m.\u001b[0m\u001b[0mlower\u001b[0m\u001b[0;34m(\u001b[0m\u001b[0;34m)\u001b[0m \u001b[0;34m==\u001b[0m \u001b[0;34m'стоп'\u001b[0m\u001b[0;34m)\u001b[0m\u001b[0;34m)\u001b[0m\u001b[0;34m:\u001b[0m\u001b[0;34m\u001b[0m\u001b[0;34m\u001b[0m\u001b[0m\n\u001b[1;32m     11\u001b[0m             \u001b[0;32mbreak\u001b[0m\u001b[0;34m\u001b[0m\u001b[0;34m\u001b[0m\u001b[0m\n\u001b[0;32m---> 12\u001b[0;31m         \u001b[0manswer\u001b[0m \u001b[0;34m=\u001b[0m \u001b[0manswer_index\u001b[0m\u001b[0;34m(\u001b[0m\u001b[0muser_question\u001b[0m\u001b[0;34m)\u001b[0m\u001b[0;34m\u001b[0m\u001b[0;34m\u001b[0m\u001b[0m\n\u001b[0m\u001b[1;32m     13\u001b[0m         \u001b[0mprint\u001b[0m\u001b[0;34m(\u001b[0m\u001b[0;34m'\\nМенеджер: '\u001b[0m\u001b[0;34m,\u001b[0m \u001b[0manswer\u001b[0m\u001b[0;34m+\u001b[0m\u001b[0;34m'\\n\\n'\u001b[0m\u001b[0;34m)\u001b[0m\u001b[0;34m\u001b[0m\u001b[0;34m\u001b[0m\u001b[0m\n\u001b[1;32m     14\u001b[0m \u001b[0;34m\u001b[0m\u001b[0m\n",
            "\u001b[0;32m<ipython-input-31-9705ae438ccc>\u001b[0m in \u001b[0;36manswer_index\u001b[0;34m(topic, temp, top_similar_documents)\u001b[0m\n\u001b[1;32m     62\u001b[0m         ]\n\u001b[1;32m     63\u001b[0m \u001b[0;34m\u001b[0m\u001b[0m\n\u001b[0;32m---> 64\u001b[0;31m         completion = openai.ChatCompletion.create(\n\u001b[0m\u001b[1;32m     65\u001b[0m             \u001b[0mmodel\u001b[0m\u001b[0;34m=\u001b[0m\u001b[0mSELECT_MODEL_GPT\u001b[0m\u001b[0;34m[\u001b[0m\u001b[0;36m0\u001b[0m\u001b[0;34m]\u001b[0m\u001b[0;34m,\u001b[0m\u001b[0;34m\u001b[0m\u001b[0;34m\u001b[0m\u001b[0m\n\u001b[1;32m     66\u001b[0m             \u001b[0mmessages\u001b[0m\u001b[0;34m=\u001b[0m\u001b[0mmessages\u001b[0m\u001b[0;34m,\u001b[0m\u001b[0;34m\u001b[0m\u001b[0;34m\u001b[0m\u001b[0m\n",
            "\u001b[0;32m/usr/local/lib/python3.10/dist-packages/openai/api_resources/chat_completion.py\u001b[0m in \u001b[0;36mcreate\u001b[0;34m(cls, *args, **kwargs)\u001b[0m\n\u001b[1;32m     23\u001b[0m         \u001b[0;32mwhile\u001b[0m \u001b[0;32mTrue\u001b[0m\u001b[0;34m:\u001b[0m\u001b[0;34m\u001b[0m\u001b[0;34m\u001b[0m\u001b[0m\n\u001b[1;32m     24\u001b[0m             \u001b[0;32mtry\u001b[0m\u001b[0;34m:\u001b[0m\u001b[0;34m\u001b[0m\u001b[0;34m\u001b[0m\u001b[0m\n\u001b[0;32m---> 25\u001b[0;31m                 \u001b[0;32mreturn\u001b[0m \u001b[0msuper\u001b[0m\u001b[0;34m(\u001b[0m\u001b[0;34m)\u001b[0m\u001b[0;34m.\u001b[0m\u001b[0mcreate\u001b[0m\u001b[0;34m(\u001b[0m\u001b[0;34m*\u001b[0m\u001b[0margs\u001b[0m\u001b[0;34m,\u001b[0m \u001b[0;34m**\u001b[0m\u001b[0mkwargs\u001b[0m\u001b[0;34m)\u001b[0m\u001b[0;34m\u001b[0m\u001b[0;34m\u001b[0m\u001b[0m\n\u001b[0m\u001b[1;32m     26\u001b[0m             \u001b[0;32mexcept\u001b[0m \u001b[0mTryAgain\u001b[0m \u001b[0;32mas\u001b[0m \u001b[0me\u001b[0m\u001b[0;34m:\u001b[0m\u001b[0;34m\u001b[0m\u001b[0;34m\u001b[0m\u001b[0m\n\u001b[1;32m     27\u001b[0m                 \u001b[0;32mif\u001b[0m \u001b[0mtimeout\u001b[0m \u001b[0;32mis\u001b[0m \u001b[0;32mnot\u001b[0m \u001b[0;32mNone\u001b[0m \u001b[0;32mand\u001b[0m \u001b[0mtime\u001b[0m\u001b[0;34m.\u001b[0m\u001b[0mtime\u001b[0m\u001b[0;34m(\u001b[0m\u001b[0;34m)\u001b[0m \u001b[0;34m>\u001b[0m \u001b[0mstart\u001b[0m \u001b[0;34m+\u001b[0m \u001b[0mtimeout\u001b[0m\u001b[0;34m:\u001b[0m\u001b[0;34m\u001b[0m\u001b[0;34m\u001b[0m\u001b[0m\n",
            "\u001b[0;32m/usr/local/lib/python3.10/dist-packages/openai/api_resources/abstract/engine_api_resource.py\u001b[0m in \u001b[0;36mcreate\u001b[0;34m(cls, api_key, api_base, api_type, request_id, api_version, organization, **params)\u001b[0m\n\u001b[1;32m    151\u001b[0m         )\n\u001b[1;32m    152\u001b[0m \u001b[0;34m\u001b[0m\u001b[0m\n\u001b[0;32m--> 153\u001b[0;31m         response, _, api_key = requestor.request(\n\u001b[0m\u001b[1;32m    154\u001b[0m             \u001b[0;34m\"post\"\u001b[0m\u001b[0;34m,\u001b[0m\u001b[0;34m\u001b[0m\u001b[0;34m\u001b[0m\u001b[0m\n\u001b[1;32m    155\u001b[0m             \u001b[0murl\u001b[0m\u001b[0;34m,\u001b[0m\u001b[0;34m\u001b[0m\u001b[0;34m\u001b[0m\u001b[0m\n",
            "\u001b[0;32m/usr/local/lib/python3.10/dist-packages/openai/api_requestor.py\u001b[0m in \u001b[0;36mrequest\u001b[0;34m(self, method, url, params, headers, files, stream, request_id, request_timeout)\u001b[0m\n\u001b[1;32m    296\u001b[0m             \u001b[0mrequest_timeout\u001b[0m\u001b[0;34m=\u001b[0m\u001b[0mrequest_timeout\u001b[0m\u001b[0;34m,\u001b[0m\u001b[0;34m\u001b[0m\u001b[0;34m\u001b[0m\u001b[0m\n\u001b[1;32m    297\u001b[0m         )\n\u001b[0;32m--> 298\u001b[0;31m         \u001b[0mresp\u001b[0m\u001b[0;34m,\u001b[0m \u001b[0mgot_stream\u001b[0m \u001b[0;34m=\u001b[0m \u001b[0mself\u001b[0m\u001b[0;34m.\u001b[0m\u001b[0m_interpret_response\u001b[0m\u001b[0;34m(\u001b[0m\u001b[0mresult\u001b[0m\u001b[0;34m,\u001b[0m \u001b[0mstream\u001b[0m\u001b[0;34m)\u001b[0m\u001b[0;34m\u001b[0m\u001b[0;34m\u001b[0m\u001b[0m\n\u001b[0m\u001b[1;32m    299\u001b[0m         \u001b[0;32mreturn\u001b[0m \u001b[0mresp\u001b[0m\u001b[0;34m,\u001b[0m \u001b[0mgot_stream\u001b[0m\u001b[0;34m,\u001b[0m \u001b[0mself\u001b[0m\u001b[0;34m.\u001b[0m\u001b[0mapi_key\u001b[0m\u001b[0;34m\u001b[0m\u001b[0;34m\u001b[0m\u001b[0m\n\u001b[1;32m    300\u001b[0m \u001b[0;34m\u001b[0m\u001b[0m\n",
            "\u001b[0;32m/usr/local/lib/python3.10/dist-packages/openai/api_requestor.py\u001b[0m in \u001b[0;36m_interpret_response\u001b[0;34m(self, result, stream)\u001b[0m\n\u001b[1;32m    698\u001b[0m         \u001b[0;32melse\u001b[0m\u001b[0;34m:\u001b[0m\u001b[0;34m\u001b[0m\u001b[0;34m\u001b[0m\u001b[0m\n\u001b[1;32m    699\u001b[0m             return (\n\u001b[0;32m--> 700\u001b[0;31m                 self._interpret_response_line(\n\u001b[0m\u001b[1;32m    701\u001b[0m                     \u001b[0mresult\u001b[0m\u001b[0;34m.\u001b[0m\u001b[0mcontent\u001b[0m\u001b[0;34m.\u001b[0m\u001b[0mdecode\u001b[0m\u001b[0;34m(\u001b[0m\u001b[0;34m\"utf-8\"\u001b[0m\u001b[0;34m)\u001b[0m\u001b[0;34m,\u001b[0m\u001b[0;34m\u001b[0m\u001b[0;34m\u001b[0m\u001b[0m\n\u001b[1;32m    702\u001b[0m                     \u001b[0mresult\u001b[0m\u001b[0;34m.\u001b[0m\u001b[0mstatus_code\u001b[0m\u001b[0;34m,\u001b[0m\u001b[0;34m\u001b[0m\u001b[0;34m\u001b[0m\u001b[0m\n",
            "\u001b[0;32m/usr/local/lib/python3.10/dist-packages/openai/api_requestor.py\u001b[0m in \u001b[0;36m_interpret_response_line\u001b[0;34m(self, rbody, rcode, rheaders, stream)\u001b[0m\n\u001b[1;32m    761\u001b[0m         \u001b[0mstream_error\u001b[0m \u001b[0;34m=\u001b[0m \u001b[0mstream\u001b[0m \u001b[0;32mand\u001b[0m \u001b[0;34m\"error\"\u001b[0m \u001b[0;32min\u001b[0m \u001b[0mresp\u001b[0m\u001b[0;34m.\u001b[0m\u001b[0mdata\u001b[0m\u001b[0;34m\u001b[0m\u001b[0;34m\u001b[0m\u001b[0m\n\u001b[1;32m    762\u001b[0m         \u001b[0;32mif\u001b[0m \u001b[0mstream_error\u001b[0m \u001b[0;32mor\u001b[0m \u001b[0;32mnot\u001b[0m \u001b[0;36m200\u001b[0m \u001b[0;34m<=\u001b[0m \u001b[0mrcode\u001b[0m \u001b[0;34m<\u001b[0m \u001b[0;36m300\u001b[0m\u001b[0;34m:\u001b[0m\u001b[0;34m\u001b[0m\u001b[0;34m\u001b[0m\u001b[0m\n\u001b[0;32m--> 763\u001b[0;31m             raise self.handle_error_response(\n\u001b[0m\u001b[1;32m    764\u001b[0m                 \u001b[0mrbody\u001b[0m\u001b[0;34m,\u001b[0m \u001b[0mrcode\u001b[0m\u001b[0;34m,\u001b[0m \u001b[0mresp\u001b[0m\u001b[0;34m.\u001b[0m\u001b[0mdata\u001b[0m\u001b[0;34m,\u001b[0m \u001b[0mrheaders\u001b[0m\u001b[0;34m,\u001b[0m \u001b[0mstream_error\u001b[0m\u001b[0;34m=\u001b[0m\u001b[0mstream_error\u001b[0m\u001b[0;34m\u001b[0m\u001b[0;34m\u001b[0m\u001b[0m\n\u001b[1;32m    765\u001b[0m             )\n",
            "\u001b[0;31mInvalidRequestError\u001b[0m: This model's maximum context length is 16385 tokens. However, your messages resulted in 18771 tokens. Please reduce the length of the messages."
          ]
        }
      ],
      "source": [
        "\n",
        "run_dialog()"
      ]
    }
  ],
  "metadata": {
    "colab": {
      "provenance": []
    },
    "kernelspec": {
      "display_name": "Python 3",
      "name": "python3"
    },
    "language_info": {
      "name": "python"
    }
  },
  "nbformat": 4,
  "nbformat_minor": 0
}