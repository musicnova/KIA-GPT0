{
  "nbformat": 4,
  "nbformat_minor": 0,
  "metadata": {
    "colab": {
      "provenance": []
    },
    "kernelspec": {
      "name": "python3",
      "display_name": "Python 3"
    },
    "language_info": {
      "name": "python"
    }
  },
  "cells": [
    {
      "cell_type": "markdown",
      "source": [
        "# Code"
      ],
      "metadata": {
        "id": "QsFGkXMMwcX3"
      }
    },
    {
      "cell_type": "code",
      "execution_count": 1,
      "metadata": {
        "id": "-nH2KyinoxhE",
        "colab": {
          "base_uri": "https://localhost:8080/"
        },
        "outputId": "a58366d5-d862-465f-a3e4-fb155ae55fad"
      },
      "outputs": [
        {
          "output_type": "stream",
          "name": "stdout",
          "text": [
            "Requirement already satisfied: tiktoken==0.4.0 in /usr/local/lib/python3.10/dist-packages (0.4.0)\n",
            "Requirement already satisfied: langchain==0.0.231 in /usr/local/lib/python3.10/dist-packages (0.0.231)\n",
            "Requirement already satisfied: openai==0.27.8 in /usr/local/lib/python3.10/dist-packages (0.27.8)\n",
            "Requirement already satisfied: faiss-cpu==1.7.4 in /usr/local/lib/python3.10/dist-packages (1.7.4)\n",
            "Requirement already satisfied: gspread in /usr/local/lib/python3.10/dist-packages (3.4.2)\n",
            "Requirement already satisfied: oauth2client in /usr/local/lib/python3.10/dist-packages (4.1.3)\n",
            "Requirement already satisfied: nltk in /usr/local/lib/python3.10/dist-packages (3.8.1)\n",
            "Requirement already satisfied: pydantic==1.10.8 in /usr/local/lib/python3.10/dist-packages (1.10.8)\n",
            "Requirement already satisfied: regex>=2022.1.18 in /usr/local/lib/python3.10/dist-packages (from tiktoken==0.4.0) (2023.6.3)\n",
            "Requirement already satisfied: requests>=2.26.0 in /usr/local/lib/python3.10/dist-packages (from tiktoken==0.4.0) (2.31.0)\n",
            "Requirement already satisfied: PyYAML>=5.4.1 in /usr/local/lib/python3.10/dist-packages (from langchain==0.0.231) (6.0.1)\n",
            "Requirement already satisfied: SQLAlchemy<3,>=1.4 in /usr/local/lib/python3.10/dist-packages (from langchain==0.0.231) (2.0.21)\n",
            "Requirement already satisfied: aiohttp<4.0.0,>=3.8.3 in /usr/local/lib/python3.10/dist-packages (from langchain==0.0.231) (3.8.5)\n",
            "Requirement already satisfied: async-timeout<5.0.0,>=4.0.0 in /usr/local/lib/python3.10/dist-packages (from langchain==0.0.231) (4.0.3)\n",
            "Requirement already satisfied: dataclasses-json<0.6.0,>=0.5.7 in /usr/local/lib/python3.10/dist-packages (from langchain==0.0.231) (0.5.14)\n",
            "Requirement already satisfied: langchainplus-sdk<0.0.21,>=0.0.20 in /usr/local/lib/python3.10/dist-packages (from langchain==0.0.231) (0.0.20)\n",
            "Requirement already satisfied: numexpr<3.0.0,>=2.8.4 in /usr/local/lib/python3.10/dist-packages (from langchain==0.0.231) (2.8.7)\n",
            "Requirement already satisfied: numpy<2,>=1 in /usr/local/lib/python3.10/dist-packages (from langchain==0.0.231) (1.23.5)\n",
            "Requirement already satisfied: openapi-schema-pydantic<2.0,>=1.2 in /usr/local/lib/python3.10/dist-packages (from langchain==0.0.231) (1.2.4)\n",
            "Requirement already satisfied: tenacity<9.0.0,>=8.1.0 in /usr/local/lib/python3.10/dist-packages (from langchain==0.0.231) (8.2.3)\n",
            "Requirement already satisfied: tqdm in /usr/local/lib/python3.10/dist-packages (from openai==0.27.8) (4.66.1)\n",
            "Requirement already satisfied: typing-extensions>=4.2.0 in /usr/local/lib/python3.10/dist-packages (from pydantic==1.10.8) (4.5.0)\n",
            "Requirement already satisfied: google-auth in /usr/local/lib/python3.10/dist-packages (from gspread) (2.17.3)\n",
            "Requirement already satisfied: httplib2>=0.9.1 in /usr/local/lib/python3.10/dist-packages (from oauth2client) (0.22.0)\n",
            "Requirement already satisfied: pyasn1>=0.1.7 in /usr/local/lib/python3.10/dist-packages (from oauth2client) (0.5.0)\n",
            "Requirement already satisfied: pyasn1-modules>=0.0.5 in /usr/local/lib/python3.10/dist-packages (from oauth2client) (0.3.0)\n",
            "Requirement already satisfied: rsa>=3.1.4 in /usr/local/lib/python3.10/dist-packages (from oauth2client) (4.9)\n",
            "Requirement already satisfied: six>=1.6.1 in /usr/local/lib/python3.10/dist-packages (from oauth2client) (1.16.0)\n",
            "Requirement already satisfied: click in /usr/local/lib/python3.10/dist-packages (from nltk) (8.1.7)\n",
            "Requirement already satisfied: joblib in /usr/local/lib/python3.10/dist-packages (from nltk) (1.3.2)\n",
            "Requirement already satisfied: attrs>=17.3.0 in /usr/local/lib/python3.10/dist-packages (from aiohttp<4.0.0,>=3.8.3->langchain==0.0.231) (23.1.0)\n",
            "Requirement already satisfied: charset-normalizer<4.0,>=2.0 in /usr/local/lib/python3.10/dist-packages (from aiohttp<4.0.0,>=3.8.3->langchain==0.0.231) (3.2.0)\n",
            "Requirement already satisfied: multidict<7.0,>=4.5 in /usr/local/lib/python3.10/dist-packages (from aiohttp<4.0.0,>=3.8.3->langchain==0.0.231) (6.0.4)\n",
            "Requirement already satisfied: yarl<2.0,>=1.0 in /usr/local/lib/python3.10/dist-packages (from aiohttp<4.0.0,>=3.8.3->langchain==0.0.231) (1.9.2)\n",
            "Requirement already satisfied: frozenlist>=1.1.1 in /usr/local/lib/python3.10/dist-packages (from aiohttp<4.0.0,>=3.8.3->langchain==0.0.231) (1.4.0)\n",
            "Requirement already satisfied: aiosignal>=1.1.2 in /usr/local/lib/python3.10/dist-packages (from aiohttp<4.0.0,>=3.8.3->langchain==0.0.231) (1.3.1)\n",
            "Requirement already satisfied: marshmallow<4.0.0,>=3.18.0 in /usr/local/lib/python3.10/dist-packages (from dataclasses-json<0.6.0,>=0.5.7->langchain==0.0.231) (3.20.1)\n",
            "Requirement already satisfied: typing-inspect<1,>=0.4.0 in /usr/local/lib/python3.10/dist-packages (from dataclasses-json<0.6.0,>=0.5.7->langchain==0.0.231) (0.9.0)\n",
            "Requirement already satisfied: pyparsing!=3.0.0,!=3.0.1,!=3.0.2,!=3.0.3,<4,>=2.4.2 in /usr/local/lib/python3.10/dist-packages (from httplib2>=0.9.1->oauth2client) (3.1.1)\n",
            "Requirement already satisfied: idna<4,>=2.5 in /usr/local/lib/python3.10/dist-packages (from requests>=2.26.0->tiktoken==0.4.0) (3.4)\n",
            "Requirement already satisfied: urllib3<3,>=1.21.1 in /usr/local/lib/python3.10/dist-packages (from requests>=2.26.0->tiktoken==0.4.0) (2.0.5)\n",
            "Requirement already satisfied: certifi>=2017.4.17 in /usr/local/lib/python3.10/dist-packages (from requests>=2.26.0->tiktoken==0.4.0) (2023.7.22)\n",
            "Requirement already satisfied: greenlet!=0.4.17 in /usr/local/lib/python3.10/dist-packages (from SQLAlchemy<3,>=1.4->langchain==0.0.231) (2.0.2)\n",
            "Requirement already satisfied: cachetools<6.0,>=2.0.0 in /usr/local/lib/python3.10/dist-packages (from google-auth->gspread) (5.3.1)\n",
            "Requirement already satisfied: packaging>=17.0 in /usr/local/lib/python3.10/dist-packages (from marshmallow<4.0.0,>=3.18.0->dataclasses-json<0.6.0,>=0.5.7->langchain==0.0.231) (23.1)\n",
            "Requirement already satisfied: mypy-extensions>=0.3.0 in /usr/local/lib/python3.10/dist-packages (from typing-inspect<1,>=0.4.0->dataclasses-json<0.6.0,>=0.5.7->langchain==0.0.231) (1.0.0)\n"
          ]
        }
      ],
      "source": [
        "!pip  install  tiktoken==0.4.0  langchain==0.0.231 openai==0.27.8 faiss-cpu==1.7.4 gspread oauth2client nltk pydantic==1.10.8"
      ]
    },
    {
      "cell_type": "code",
      "source": [
        "import gdown\n",
        "from langchain.llms import OpenAI\n",
        "from langchain.docstore.document import Document\n",
        "import requests\n",
        "#database\n",
        "from langchain.embeddings.openai import OpenAIEmbeddings\n",
        "from langchain.vectorstores import FAISS\n",
        "from langchain.text_splitter import RecursiveCharacterTextSplitter\n",
        "#from langchain.document_loaders import TextLoader\n",
        "\n",
        "from langchain.prompts import PromptTemplate\n",
        "import pathlib\n",
        "import subprocess\n",
        "import tempfile\n",
        "import ipywidgets as widgets\n",
        "import gspread\n",
        "from oauth2client.service_account import ServiceAccountCredentials\n",
        "import re\n",
        "import getpass\n",
        "import os\n",
        "import openai\n",
        "import tiktoken\n",
        "\n",
        "class bcolors:\n",
        "    HEADER = '\\033[95m'\n",
        "    OKBLUE = '\\033[94m'\n",
        "    OKCYAN = '\\033[96m'\n",
        "    OKGREEN = '\\033[92m'\n",
        "    WARNING = '\\033[93m'\n",
        "    FAIL = '\\033[91m'\n",
        "    ENDC = '\\033[0m'\n",
        "    BOLD = '\\033[1m'\n",
        "    UNDERLINE = '\\033[4m'\n",
        "\n",
        "\n",
        "HISTORY = []\n",
        "\n"
      ],
      "metadata": {
        "id": "wNTJkb02qexK"
      },
      "execution_count": 2,
      "outputs": []
    },
    {
      "cell_type": "code",
      "source": [
        "MODEL_GPT_3_5_TURBO_16K = ['gpt-3.5-turbo-16k', 0.003, 0.004]\n",
        "MODEL_GPT_3_5_TURBO = ['gpt-3.5-turbo', 0.0015, 0.002]  # 4,097 tokens\n",
        "MODEL_GPT_4 = ['gpt-4', 0.03, 0.06]  # 8,192 tokens\n",
        "SELECT_MODEL_GPT = MODEL_GPT_3_5_TURBO"
      ],
      "metadata": {
        "id": "Lh42jUHVy3fq"
      },
      "execution_count": 3,
      "outputs": []
    },
    {
      "cell_type": "code",
      "source": [
        "openai_key = getpass.getpass(\"OpenAI API Key:\")\n",
        "os.environ[\"OPENAI_API_KEY\"] = openai_key\n",
        "openai.api_key = openai_key"
      ],
      "metadata": {
        "id": "jSdHAWANqs7C",
        "colab": {
          "base_uri": "https://localhost:8080/"
        },
        "outputId": "d1f46e41-c2e3-45ab-a7bc-dd036ce4c5bc"
      },
      "execution_count": 4,
      "outputs": [
        {
          "name": "stdout",
          "output_type": "stream",
          "text": [
            "OpenAI API Key:··········\n"
          ]
        }
      ]
    },
    {
      "cell_type": "code",
      "source": [
        "def insert_newlines(textstr: str, max_len: int = 170) -> str:\n",
        "    words = textstr.split()\n",
        "    lines = []\n",
        "    current_line = \"\"\n",
        "    for word in words:\n",
        "        if len(current_line + \" \" + word) > max_len:\n",
        "            lines.append(current_line)\n",
        "            current_line = \"\"\n",
        "        current_line += \" \" + word\n",
        "    lines.append(current_line)\n",
        "    return \"\\n\".join(lines)"
      ],
      "metadata": {
        "id": "eAafR4VwqtFS"
      },
      "execution_count": 5,
      "outputs": []
    },
    {
      "cell_type": "code",
      "source": [
        "# функция для загрузки документа по ссылке из гугл драйв\n",
        "def load_document_text(url: str) -> str:\n",
        "    # Extract the document ID from the URL\n",
        "    match_ = re.search('/document/d/([a-zA-Z0-9-_]+)', url)\n",
        "    if match_ is None:\n",
        "        raise ValueError('Invalid Google Docs URL')\n",
        "    doc_id = match_.group(1)\n",
        "\n",
        "    # Download the document as plain text\n",
        "    response = requests.get(f'https://docs.google.com/document/d/{doc_id}/export?format=txt')\n",
        "    response.raise_for_status()\n",
        "    text = response.text\n",
        "\n",
        "    return text"
      ],
      "metadata": {
        "id": "1YFsrIhi4Yct"
      },
      "execution_count": 6,
      "outputs": []
    },
    {
      "cell_type": "code",
      "source": [
        "from langchain.text_splitter import MarkdownHeaderTextSplitter\n",
        "\n",
        "def load_search_indexes(url: str) -> str:\n",
        "    # Extract the document ID from the URL\n",
        "    match_ = re.search('/document/d/([a-zA-Z0-9-_]+)', url)\n",
        "    if match_ is None:\n",
        "        raise ValueError('Invalid Google Docs URL')\n",
        "    doc_id = match_.group(1)\n",
        "\n",
        "    # Download the document as plain text\n",
        "    response = requests.get(f'https://docs.google.com/document/d/{doc_id}/export?format=txt')\n",
        "    response.raise_for_status()\n",
        "    #text = response.content.decode('unicode_escape')\n",
        "    text = response.text\n",
        "    headers_to_split_on = [\n",
        "        (\"#\", \"Header 1\"),\n",
        "        (\"##\", \"Header 2\"),\n",
        "        (\"###\", \"Header 3\"),\n",
        "    ]\n",
        "\n",
        "    markdown_splitter = MarkdownHeaderTextSplitter(headers_to_split_on=headers_to_split_on)\n",
        "    md_header_splits = markdown_splitter.split_text(text)\n",
        "\n",
        "    vectordateBase = FAISS.from_documents(md_header_splits, OpenAIEmbeddings())\n",
        "\n",
        "    return vectordateBase\n"
      ],
      "metadata": {
        "id": "hu-w7euIqtNF"
      },
      "execution_count": 7,
      "outputs": []
    },
    {
      "cell_type": "code",
      "source": [
        "knowledge_base = load_search_indexes('https://docs.google.com/document/d/1eGWGl6uZQvMC3D7zJosHEJLsnouBTgym_ZBuC2EoBb0')"
      ],
      "metadata": {
        "id": "9CrXhbfVqtP_"
      },
      "execution_count": 8,
      "outputs": []
    },
    {
      "cell_type": "code",
      "source": [
        "\n",
        "def _summarize_topic( dialog):\n",
        "        messages = [\n",
        "            {\"role\": \"system\",\n",
        "             \"content\": \"Ты - ассистент консультанта, основанный на AI. Ты умеешь профессионально суммаризировать присланные тебе диалоги консультанта и клиента. Твоя задача - суммаризировать диалог, который тебе пришел.\"},\n",
        "            {\"role\": \"user\",\n",
        "             \"content\": \"Суммаризируй следующий диалог консультанта и клиента: \" + \" \".join(dialog)}\n",
        "        ]\n",
        "\n",
        "        completion = openai.ChatCompletion.create(\n",
        "            model=SELECT_MODEL_GPT[0],\n",
        "            messages=messages,\n",
        "            temperature=0.1,  # Используем более низкую температуру для более определенной суммаризации\n",
        "            max_tokens=1000  # Ограничиваем количество токенов для суммаризации\n",
        "        )\n",
        "\n",
        "        return completion.choices[0].message.content\n",
        "\n",
        "\n",
        "\n",
        "def answer_index(topic, temp=0.1, top_similar_documents=5):\n",
        "        summarize_text = ''\n",
        "        if len(HISTORY) > 0:\n",
        "            summarize_text = \"Вот краткий обзор предыдущего диалога: \" + _summarize_topic(\n",
        "                [q + ' ' + (a if a is not None else '') for q, a in HISTORY])\n",
        "            print(f'САММАРИ \\n=== {summarize_text} \\n')\n",
        "\n",
        "        # Добавляем явное разделение между историей диалога и текущим вопросом\n",
        "        input_text = summarize_text + \"\\n\\nТекущий вопрос: \" + topic\n",
        "\n",
        "        docs = knowledge_base.similarity_search_with_score(topic, k=top_similar_documents)\n",
        "        responses = []\n",
        "        for i, (doc, score) in enumerate(docs):\n",
        "            if score < 1: # ТУТ ТЫ МОЖЕШЬ УПРАВЛЯТЬ праметром Л2 для чанков. 0..1\n",
        "                content = doc.page_content\n",
        "                response = f'\\n=====================Отрывок документа №{i + 1}=====================\\n{content}\\n'\n",
        "                print(f'\\n=====================Отрывок документа №{i + 1}=====================\\n')\n",
        "                print(f'=== score = {score}  Metadata документа ------------ {doc.metadata}')\n",
        "                print(f'\\n{content}\\n')\n",
        "                responses.append(response)\n",
        "\n",
        "\n",
        "        messages = [\n",
        "            {\"role\": \"system\", \"content\": prompt},\n",
        "            {\"role\": \"user\",\n",
        "             \"content\": f\"Документ с информацией для ответа пользователю: {responses}\\n\\nВопрос клиента: \\n{input_text}\"}\n",
        "        ]\n",
        "\n",
        "        completion = openai.ChatCompletion.create(\n",
        "            model=SELECT_MODEL_GPT[0],\n",
        "            messages=messages,\n",
        "            temperature=temp\n",
        "        )\n",
        "\n",
        "        answer = completion.choices[0].message.content\n",
        "\n",
        "        # Добавляем вопрос пользователя и ответ системы в историю\n",
        "        HISTORY.append((topic, answer if answer is not None else ''))\n",
        "\n",
        "        return insert_newlines(answer)  # возвращает ответ\n"
      ],
      "metadata": {
        "id": "dsEKLyifvEto"
      },
      "execution_count": 9,
      "outputs": []
    },
    {
      "cell_type": "code",
      "source": [
        "def run_dialog(system_doc_url, knowledge_base_url):\n",
        "\n",
        "    while True:\n",
        "        user_question = input('\\nКлиент: ')\n",
        "        if ((user_question.lower() == 'stop') or (user_question.lower() == 'стоп')):\n",
        "            break\n",
        "        answer = answer_index(user_question)\n",
        "        print('\\nМенеджер: ', answer+'\\n\\n')\n",
        "\n",
        "    return"
      ],
      "metadata": {
        "id": "g8N4WuC7qtKO"
      },
      "execution_count": 10,
      "outputs": []
    },
    {
      "cell_type": "code",
      "source": [
        "# Промпт моделей машин\n",
        "prompt = load_document_text ('https://docs.google.com/document/d/1i8HA7cX4Ut-tb9rf8wOgERU7lLe66xJYscizGtSSJl0')"
      ],
      "metadata": {
        "id": "YCBakZx6qtVM"
      },
      "execution_count": 11,
      "outputs": []
    },
    {
      "cell_type": "code",
      "source": [
        "temperature=0.3\n",
        "verbose=0\n",
        "#HISTORY = [] # Убери решетку если нужно обновлять историю диалогов после запуска, если не нужно обновлять то оставь так\n",
        "\n",
        "run_dialog(prompt, knowledge_base)"
      ],
      "metadata": {
        "id": "WWY1AS2GvTN5",
        "colab": {
          "base_uri": "https://localhost:8080/",
          "height": 1000
        },
        "outputId": "9d7ba7bd-7215-47b7-a745-54e184cfa09b"
      },
      "execution_count": 12,
      "outputs": [
        {
          "output_type": "stream",
          "name": "stdout",
          "text": [
            "\n",
            "Клиент: Какие у вас условия программы первый семейный автомобиль?\n",
            "\n",
            "=====================Отрывок документа №1=====================\n",
            "\n",
            "=== score = 0.3621709942817688  Metadata документа ------------ {'Header 1': 'Kia Carnival 2022 -  https://www.kia.ru/models/carnival/desc/', 'Header 2': 'Территория стиля и комфорта'}\n",
            "\n",
            "Территория стиля и комфорта\n",
            "Что перед вами? Роскошный и брутальный кроссовер? Солидный и практичный семейный автомобиль? Высокотехнологичное средство передвижения или просторный и комфортный пати-вэн для большой компании? Kia Carnival совмещает все это и готов удивлять вас долгие годы.\n",
            "Фото https://cdn.kia.ru/resize/1920x960/media-data/infographic/file/b32628c8-1d7d-401c-a57a-1169c5700dcf.jpeg\n",
            "\n",
            "\n",
            "=====================Отрывок документа №2=====================\n",
            "\n",
            "=== score = 0.36628758907318115  Metadata документа ------------ {'Header 1': 'Kia Picanto 2022 -  https://www.kia.ru/models/picanto/desc/', 'Header 2': 'Вдохновляйтесь. Заряжайтесь'}\n",
            "\n",
            "Вдохновляйтесь. Заряжайтесь\n",
            "Перед вами модный автомобиль, идеальный для городских улиц и скоростных магистралей. Дерзкий дизайн, продуманный интерьер и передовые технологии безопасности воплощают собой автомобиль, способный притягивать взгляды и восхищать, куда бы вы ни отправились.\n",
            "Фото https://cdn.kia.ru/resize/1920x960/media-data/infographics/picanto-Y21/inspiration.jpg\n",
            "\n",
            "\n",
            "=====================Отрывок документа №3=====================\n",
            "\n",
            "=== score = 0.3751281499862671  Metadata документа ------------ {'Header 1': 'Kia Cerato 2022 -  https://www.kia.ru/models/cerato/desc/', 'Header 2': 'Магия отличного настроения в каждой поездке'}\n",
            "\n",
            "Магия отличного настроения в каждой поездке\n",
            "Займите место за рулем Kia Cerato — и он вам подарит чувство бодрости и спокойной уверенности на целый день. Этот замечательный седан обладает впечатляющими характеристиками и оснащен новейшими технологиями, но самое главное — это стильный, удобный и практичный автомобиль. В такой компании жизнь обретает новые краски.\n",
            "Фото https://cdn.kia.ru/resize/1920x960/media-data/banners/models/cerato_new/desc/first.jpg\n",
            "\n",
            "\n",
            "=====================Отрывок документа №4=====================\n",
            "\n",
            "=== score = 0.3789159059524536  Metadata документа ------------ {'Header 1': 'Kia Ceed 2022 -  https://www.kia.ru/models/ceed/desc/', 'Header 2': 'Двигатель'}\n",
            "\n",
            "Двигатель\n",
            "Открывайте новые горизонты. Выберите один из двух бензиновых агрегатов мощностью от 128 до 150 л. с., работающих в паре с 6-ступенчатым автоматом или 7-ступенчатой роботизированной трансмиссией с двумя сцеплениями.\n",
            "Модели двигателей: 1.6 MPI, 1.5 T-GDI\n",
            "\n",
            "\n",
            "=====================Отрывок документа №5=====================\n",
            "\n",
            "=== score = 0.3789159059524536  Metadata документа ------------ {'Header 1': 'Kia Ceed SW 2022 -  https://www.kia.ru/models/ceed_sw/desc/', 'Header 2': 'Двигатель'}\n",
            "\n",
            "Двигатель\n",
            "Открывайте новые горизонты. Выберите один из двух бензиновых агрегатов мощностью от 128 до 150 л. с., работающих в паре с 6-ступенчатым автоматом или 7-ступенчатой роботизированной трансмиссией с двумя сцеплениями.\n",
            "Модели двигателей: 1.6 MPI, 1.5 T-GDI\n",
            "\n",
            "\n",
            "Менеджер:   Программа \"Первый семейный автомобиль\" предлагает специальные условия для приобретения автомобилей KIA семейного класса. Однако, для предоставления точной информации о\n",
            " доступных моделях и условиях программы, мне необходимо знать конкретную модель и конфигурацию автомобиля, который вас интересует. Пожалуйста, уточните модель и\n",
            " конфигурацию, чтобы я мог предоставить вам подробности.\n",
            "\n",
            "\n",
            "\n",
            "Клиент: Где получить промокод Яндекса для программы первый семейный автомобиль?\n",
            "САММАРИ \n",
            "=== Вот краткий обзор предыдущего диалога: Консультант спрашивает клиента о условиях программы \"Первый семейный автомобиль\". Он объясняет, что эта программа предлагает специальные условия для приобретения автомобилей KIA семейного класса. Однако, чтобы предоставить точную информацию о доступных моделях и условиях программы, консультанту необходимо знать конкретную модель и конфигурацию автомобиля, который интересует клиента. Консультант просит клиента уточнить модель и конфигурацию, чтобы он мог предоставить подробности. \n",
            "\n",
            "\n",
            "=====================Отрывок документа №1=====================\n",
            "\n",
            "=== score = 0.3508220911026001  Metadata документа ------------ {'Header 1': 'Kia Picanto 2022 -  https://www.kia.ru/models/picanto/desc/', 'Header 2': 'Вдохновляйтесь. Заряжайтесь'}\n",
            "\n",
            "Вдохновляйтесь. Заряжайтесь\n",
            "Перед вами модный автомобиль, идеальный для городских улиц и скоростных магистралей. Дерзкий дизайн, продуманный интерьер и передовые технологии безопасности воплощают собой автомобиль, способный притягивать взгляды и восхищать, куда бы вы ни отправились.\n",
            "Фото https://cdn.kia.ru/resize/1920x960/media-data/infographics/picanto-Y21/inspiration.jpg\n",
            "\n",
            "\n",
            "=====================Отрывок документа №2=====================\n",
            "\n",
            "=== score = 0.35701149702072144  Metadata документа ------------ {'Header 2': 'Встроенная навигация в Вашем автомобиле'}\n",
            "\n",
            "Встроенная навигация в Вашем автомобиле\n",
            "Автомобили бренда Kia оснащены головным устройством со встроенными сервисами «Яндекс.Навигатор» и «Яндекс.Карты». Карты сервисов навигации обновляются автоматически при работе в режиме онлайн (при подключении к интернету). Актуальную версию приложения «Яндекс.Навигатор» можно установить в официальных дилерских центрах.Актуальная версия приложения Яндекс.Навигатор для моделей Soul, Cerato, Sportage: 4.66, для модели Seltos: 5.26.775.В случае возникновения каких-либо вопросов, обратитесь, пожалуйста, на информационную линию Kia  8 (800) 301-08-80 или в сервисный центр MOTREX 8 (495) 318-47-27.Поддержка Android Auto и Apple CarPlayФункционал сервисов «Яндекс.Навигатор» и «Яндекс.Карты» теперь доступен в автомобилях с поддержкой Apple CarPlay и Android Auto.При подключении смартфона (по проводу или без – в зависимости от модели автомобиля), приложения от «Яндекс» появятся на экране медиацентра. Управлять ими также можно с экрана мультимедиа, включая поиск адресов и доступ к ранее сохраненным избранным местам. Предупреждения о наличии камер и скоростные ограничения работают без построенного маршрута. Кроме того, есть быстрый доступ к местам в закладках, на карте привычно отображаются пробки и дорожные события.Для того, чтобы пользоваться «Яндекс.Карты» в CarPlay и Android Auto нужно соблюсти три условия:На iPhone или Android должна быть установлена последняя версия приложения «Яндекс.Карты» или «Яндекс.Навигатора».Автомобиль должен поддерживать Apple CarPlay или Android Auto.Нужно быть авторизованным в приложении и иметь активную подписку «Яндекс.Плюс».Если вы получили промокод, то можете его активировать перейдя по ссылке.\n",
            "\n",
            "\n",
            "=====================Отрывок документа №3=====================\n",
            "\n",
            "=== score = 0.3660246729850769  Metadata документа ------------ {'Header 2': 'Система бесключевого доступа Smart Key и запуск двигателя кнопкой'}\n",
            "\n",
            "Система бесключевого доступа Smart Key и запуск двигателя кнопкой\n",
            "Для доступа в автомобиль и даже для пуска двигателя Вам не потребуется искать ключ. Ему достаточно просто лежать в кармане или сумке.\n",
            "\n",
            "\n",
            "=====================Отрывок документа №4=====================\n",
            "\n",
            "=== score = 0.36695536971092224  Metadata документа ------------ {'Header 1': 'Kia K9 2022 -  https://www.kia.ru/models/k9/desc/', 'Header 2': 'Пространство для вдохновения'}\n",
            "\n",
            "Пространство для вдохновения\n",
            "Салон Kia K9 поможет вам избавиться от вчерашней усталости и начать деньс новым вдохновением. Эргономичные удобные сиденья, роскошный интерьер,инновационный интерфейс с функцией распознавания рукописноговвода обеспечат исключительный опыт, который заинтригует и вдохновит вас.\n",
            "Фото https://cdn.kia.ru/resize/1920x960/media-data/infographics/k9/pic3.jpg\n",
            "\n",
            "\n",
            "=====================Отрывок документа №5=====================\n",
            "\n",
            "=== score = 0.3722708523273468  Metadata документа ------------ {'Header 1': 'Kia Cerato 2022 -  https://www.kia.ru/models/cerato/desc/', 'Header 2': 'Магия отличного настроения в каждой поездке'}\n",
            "\n",
            "Магия отличного настроения в каждой поездке\n",
            "Займите место за рулем Kia Cerato — и он вам подарит чувство бодрости и спокойной уверенности на целый день. Этот замечательный седан обладает впечатляющими характеристиками и оснащен новейшими технологиями, но самое главное — это стильный, удобный и практичный автомобиль. В такой компании жизнь обретает новые краски.\n",
            "Фото https://cdn.kia.ru/resize/1920x960/media-data/banners/models/cerato_new/desc/first.jpg\n",
            "\n",
            "\n",
            "Менеджер:   Я понимаю, что вы интересуетесь промокодом Яндекса для программы \"Первый семейный автомобиль\". Однако, я специализируюсь на предоставлении информации о продуктах и\n",
            " услугах автомобильной компании KIA. Я могу помочь вам с информацией о моделях автомобилей KIA, запчастях, специальных предложениях, сервисе и технологиях. Если у вас\n",
            " есть вопросы по этим темам, я с радостью помогу вам.\n",
            "\n",
            "\n"
          ]
        },
        {
          "output_type": "error",
          "ename": "KeyboardInterrupt",
          "evalue": "ignored",
          "traceback": [
            "\u001b[0;31m---------------------------------------------------------------------------\u001b[0m",
            "\u001b[0;31mKeyboardInterrupt\u001b[0m                         Traceback (most recent call last)",
            "\u001b[0;32m<ipython-input-12-93f2e4e1ba43>\u001b[0m in \u001b[0;36m<cell line: 5>\u001b[0;34m()\u001b[0m\n\u001b[1;32m      3\u001b[0m \u001b[0;31m#HISTORY = [] # Убери решетку если нужно обновлять историю диалогов после запуска, если не нужно обновлять то оставь так\u001b[0m\u001b[0;34m\u001b[0m\u001b[0;34m\u001b[0m\u001b[0m\n\u001b[1;32m      4\u001b[0m \u001b[0;34m\u001b[0m\u001b[0m\n\u001b[0;32m----> 5\u001b[0;31m \u001b[0mrun_dialog\u001b[0m\u001b[0;34m(\u001b[0m\u001b[0mprompt\u001b[0m\u001b[0;34m,\u001b[0m \u001b[0mknowledge_base\u001b[0m\u001b[0;34m)\u001b[0m\u001b[0;34m\u001b[0m\u001b[0;34m\u001b[0m\u001b[0m\n\u001b[0m",
            "\u001b[0;32m<ipython-input-10-e835fc593bf7>\u001b[0m in \u001b[0;36mrun_dialog\u001b[0;34m(system_doc_url, knowledge_base_url)\u001b[0m\n\u001b[1;32m      2\u001b[0m \u001b[0;34m\u001b[0m\u001b[0m\n\u001b[1;32m      3\u001b[0m     \u001b[0;32mwhile\u001b[0m \u001b[0;32mTrue\u001b[0m\u001b[0;34m:\u001b[0m\u001b[0;34m\u001b[0m\u001b[0;34m\u001b[0m\u001b[0m\n\u001b[0;32m----> 4\u001b[0;31m         \u001b[0muser_question\u001b[0m \u001b[0;34m=\u001b[0m \u001b[0minput\u001b[0m\u001b[0;34m(\u001b[0m\u001b[0;34m'\\nКлиент: '\u001b[0m\u001b[0;34m)\u001b[0m\u001b[0;34m\u001b[0m\u001b[0;34m\u001b[0m\u001b[0m\n\u001b[0m\u001b[1;32m      5\u001b[0m         \u001b[0;32mif\u001b[0m \u001b[0;34m(\u001b[0m\u001b[0;34m(\u001b[0m\u001b[0muser_question\u001b[0m\u001b[0;34m.\u001b[0m\u001b[0mlower\u001b[0m\u001b[0;34m(\u001b[0m\u001b[0;34m)\u001b[0m \u001b[0;34m==\u001b[0m \u001b[0;34m'stop'\u001b[0m\u001b[0;34m)\u001b[0m \u001b[0;32mor\u001b[0m \u001b[0;34m(\u001b[0m\u001b[0muser_question\u001b[0m\u001b[0;34m.\u001b[0m\u001b[0mlower\u001b[0m\u001b[0;34m(\u001b[0m\u001b[0;34m)\u001b[0m \u001b[0;34m==\u001b[0m \u001b[0;34m'стоп'\u001b[0m\u001b[0;34m)\u001b[0m\u001b[0;34m)\u001b[0m\u001b[0;34m:\u001b[0m\u001b[0;34m\u001b[0m\u001b[0;34m\u001b[0m\u001b[0m\n\u001b[1;32m      6\u001b[0m             \u001b[0;32mbreak\u001b[0m\u001b[0;34m\u001b[0m\u001b[0;34m\u001b[0m\u001b[0m\n",
            "\u001b[0;32m/usr/local/lib/python3.10/dist-packages/ipykernel/kernelbase.py\u001b[0m in \u001b[0;36mraw_input\u001b[0;34m(self, prompt)\u001b[0m\n\u001b[1;32m    849\u001b[0m                 \u001b[0;34m\"raw_input was called, but this frontend does not support input requests.\"\u001b[0m\u001b[0;34m\u001b[0m\u001b[0;34m\u001b[0m\u001b[0m\n\u001b[1;32m    850\u001b[0m             )\n\u001b[0;32m--> 851\u001b[0;31m         return self._input_request(str(prompt),\n\u001b[0m\u001b[1;32m    852\u001b[0m             \u001b[0mself\u001b[0m\u001b[0;34m.\u001b[0m\u001b[0m_parent_ident\u001b[0m\u001b[0;34m,\u001b[0m\u001b[0;34m\u001b[0m\u001b[0;34m\u001b[0m\u001b[0m\n\u001b[1;32m    853\u001b[0m             \u001b[0mself\u001b[0m\u001b[0;34m.\u001b[0m\u001b[0m_parent_header\u001b[0m\u001b[0;34m,\u001b[0m\u001b[0;34m\u001b[0m\u001b[0;34m\u001b[0m\u001b[0m\n",
            "\u001b[0;32m/usr/local/lib/python3.10/dist-packages/ipykernel/kernelbase.py\u001b[0m in \u001b[0;36m_input_request\u001b[0;34m(self, prompt, ident, parent, password)\u001b[0m\n\u001b[1;32m    893\u001b[0m             \u001b[0;32mexcept\u001b[0m \u001b[0mKeyboardInterrupt\u001b[0m\u001b[0;34m:\u001b[0m\u001b[0;34m\u001b[0m\u001b[0;34m\u001b[0m\u001b[0m\n\u001b[1;32m    894\u001b[0m                 \u001b[0;31m# re-raise KeyboardInterrupt, to truncate traceback\u001b[0m\u001b[0;34m\u001b[0m\u001b[0;34m\u001b[0m\u001b[0m\n\u001b[0;32m--> 895\u001b[0;31m                 \u001b[0;32mraise\u001b[0m \u001b[0mKeyboardInterrupt\u001b[0m\u001b[0;34m(\u001b[0m\u001b[0;34m\"Interrupted by user\"\u001b[0m\u001b[0;34m)\u001b[0m \u001b[0;32mfrom\u001b[0m \u001b[0;32mNone\u001b[0m\u001b[0;34m\u001b[0m\u001b[0;34m\u001b[0m\u001b[0m\n\u001b[0m\u001b[1;32m    896\u001b[0m             \u001b[0;32mexcept\u001b[0m \u001b[0mException\u001b[0m \u001b[0;32mas\u001b[0m \u001b[0me\u001b[0m\u001b[0;34m:\u001b[0m\u001b[0;34m\u001b[0m\u001b[0;34m\u001b[0m\u001b[0m\n\u001b[1;32m    897\u001b[0m                 \u001b[0mself\u001b[0m\u001b[0;34m.\u001b[0m\u001b[0mlog\u001b[0m\u001b[0;34m.\u001b[0m\u001b[0mwarning\u001b[0m\u001b[0;34m(\u001b[0m\u001b[0;34m\"Invalid Message:\"\u001b[0m\u001b[0;34m,\u001b[0m \u001b[0mexc_info\u001b[0m\u001b[0;34m=\u001b[0m\u001b[0;32mTrue\u001b[0m\u001b[0;34m)\u001b[0m\u001b[0;34m\u001b[0m\u001b[0;34m\u001b[0m\u001b[0m\n",
            "\u001b[0;31mKeyboardInterrupt\u001b[0m: Interrupted by user"
          ]
        }
      ]
    }
  ]
}