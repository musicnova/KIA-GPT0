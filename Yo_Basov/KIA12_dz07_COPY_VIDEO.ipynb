{
  "nbformat": 4,
  "nbformat_minor": 0,
  "metadata": {
    "colab": {
      "provenance": []
    },
    "kernelspec": {
      "name": "python3",
      "display_name": "Python 3"
    },
    "language_info": {
      "name": "python"
    }
  },
  "cells": [
    {
      "cell_type": "code",
      "source": [
        "# ЧЕРНОВОЙ ВАРИАНТ добавляет разделы video в раздел # section-3 и нейро копирайтером опиcывает структуру разделов\n",
        "\n",
        "from google.colab import drive\n",
        "drive.mount('/content/drive')"
      ],
      "metadata": {
        "colab": {
          "base_uri": "https://localhost:8080/"
        },
        "id": "QysPyVsSqKxT",
        "outputId": "7e5c50af-42df-45fd-deb5-6905df8644f3"
      },
      "execution_count": 1,
      "outputs": [
        {
          "output_type": "stream",
          "name": "stdout",
          "text": [
            "Drive already mounted at /content/drive; to attempt to forcibly remount, call drive.mount(\"/content/drive\", force_remount=True).\n"
          ]
        }
      ]
    },
    {
      "cell_type": "code",
      "source": [
        "with open(\"config.txt\", \"w\") as fw:\n",
        "    fw.write(\"[COLAB]\\n\")\n",
        "    fw.write(\"knowledge_dir=/content/drive/MyDrive/KIA_AVATAR/Scripts/knowledge\\n\")\n",
        "    fw.write(\"prev_knowledge_dir=/content/drive/MyDrive/KIA_AVATAR/Scripts/../knowledge\\n\")\n",
        "    fw.write(\"\\n\")\n",
        "    fw.write(\"[PROM]\\n\")\n",
        "    fw.write(\"knowledge_dir=/opt/knowledge\\n\")\n",
        "    fw.write(\"prev_knowledge_dir=/knowledge\\n\")\n",
        "    fw.write(\"\\n\")\n",
        "    fw.write(\"[CHATGPT]\\n\")\n",
        "    fw.write(\"api_key=?\\n\")\n",
        "    fw.write(\"tokens_limit=0\\n\")\n",
        "    fw.write(\"\\n\")\n",
        "    fw.write(\"[GOOGLE]\\n\")\n",
        "    fw.write(\"search_api_key=?\\n\")\n",
        "    fw.write(\"search_limit=0\\n\")\n",
        "    fw.write(\"\\n\")\n",
        "    fw.write(\"[YANDEX]\\n\")\n",
        "    fw.write(\"spellcheck_api_key=?\\n\")\n",
        "    fw.write(\"spellcheck_limit=0\\n\")\n",
        "    fw.write(\"\\n\")\n",
        "    fw.write(\"[GITHUB]\\n\")\n",
        "    fw.write(\"summary_api_key=?\\n\")\n",
        "    fw.write(\"summary_limit=0\\n\")\n",
        "    fw.write(\"\\n\")\n",
        "\n",
        "msg = \"\""
      ],
      "metadata": {
        "id": "qPsQctbNqUZD"
      },
      "execution_count": 2,
      "outputs": []
    },
    {
      "cell_type": "code",
      "source": [
        "!pip install tiktoken==0.4.0"
      ],
      "metadata": {
        "colab": {
          "base_uri": "https://localhost:8080/"
        },
        "id": "1qkJvfDJsCAm",
        "outputId": "0264009f-576e-4e0f-fa87-bcbdebfb9c91"
      },
      "execution_count": 3,
      "outputs": [
        {
          "output_type": "stream",
          "name": "stdout",
          "text": [
            "Requirement already satisfied: tiktoken==0.4.0 in /usr/local/lib/python3.10/dist-packages (0.4.0)\n",
            "Requirement already satisfied: regex>=2022.1.18 in /usr/local/lib/python3.10/dist-packages (from tiktoken==0.4.0) (2023.6.3)\n",
            "Requirement already satisfied: requests>=2.26.0 in /usr/local/lib/python3.10/dist-packages (from tiktoken==0.4.0) (2.31.0)\n",
            "Requirement already satisfied: charset-normalizer<4,>=2 in /usr/local/lib/python3.10/dist-packages (from requests>=2.26.0->tiktoken==0.4.0) (3.3.1)\n",
            "Requirement already satisfied: idna<4,>=2.5 in /usr/local/lib/python3.10/dist-packages (from requests>=2.26.0->tiktoken==0.4.0) (3.4)\n",
            "Requirement already satisfied: urllib3<3,>=1.21.1 in /usr/local/lib/python3.10/dist-packages (from requests>=2.26.0->tiktoken==0.4.0) (2.0.7)\n",
            "Requirement already satisfied: certifi>=2017.4.17 in /usr/local/lib/python3.10/dist-packages (from requests>=2.26.0->tiktoken==0.4.0) (2023.7.22)\n"
          ]
        }
      ]
    },
    {
      "cell_type": "code",
      "source": [
        "        import tiktoken\n",
        "\n",
        "        import configparser\n",
        "        import pathlib\n",
        "        import os\n",
        "        config = configparser.ConfigParser()\n",
        "        config.read('config.txt')\n",
        "        knowledge_dir = config[\"COLAB\"][\"knowledge_dir\"]\n",
        "        if knowledge_dir is None: knowledge_dir = \"./knowledge\"\n",
        "        pathlib.Path(knowledge_dir).mkdir(parents=True, exist_ok=True)\n",
        "        prev_knowledge_dir = config[\"COLAB\"][\"prev_knowledge_dir\"]\n",
        "        if prev_knowledge_dir is None: prev_knowledge_dir = \"../knowledge\"\n",
        "        pathlib.Path(prev_knowledge_dir).mkdir(parents=True, exist_ok=True)\n",
        "\n",
        "        def num_tokens_from_messages(model, messages):\n",
        "            \"\"\"Returns the number of tokens used by a list of messages.\"\"\"\n",
        "            try:\n",
        "                encoding = tiktoken.encoding_for_model(self.model)\n",
        "            except KeyError:\n",
        "                encoding = tiktoken.get_encoding(\"cl100k_base\")\n",
        "            if model in [\"gpt-3.5-turbo-0613\", \"gpt-3.5-turbo-16k\", \"gpt-4-0613\"]:  # note: future models may deviate from this\n",
        "                num_tokens = 0\n",
        "                for message in messages:\n",
        "                    num_tokens += 4  # every message follows {role/name}\\n{content}\\n\n",
        "                    for key, value in message.items():\n",
        "                        num_tokens += len(encoding.encode(value))\n",
        "                        if key == \"name\":  # if there's a name, the role is omitted\n",
        "                            num_tokens += -1  # role is always required and always 1 token\n",
        "                num_tokens += 2  # every reply is primed with assistant\n",
        "                return num_tokens\n",
        "            else:\n",
        "                raise NotImplementedError(f\"\"\"num_tokens_from_messages() is not presently implemented for model {model}.  See https://github.com/openai/openai-python/blob/main/chatml.md for information on how messages are converted to tokens.\"\"\")\n",
        "\n",
        "        info_cnt = 0\n",
        "        while True:\n",
        "            last_md_level_01 = \"#\"\n",
        "            last_md_level_02 = \"##\"\n",
        "            last_md_level_03 = \"###\"\n",
        "            with open(os.path.join(prev_knowledge_dir, \"pdf_database.txt\"), \"r\") as f:\n",
        "                info_cnt = info_cnt + 1\n",
        "                filepath_01 = os.path.join(knowledge_dir, f\"INFO-{info_cnt}.md\")\n",
        "                with open(filepath_01, \"w\") as f01:\n",
        "                    # f01.write(\"# info\\n\")\n",
        "                    for line in f.readlines():\n",
        "                        f01.write(line.replace(\"^#### \", \"##### \").replace(\"^### \", \"#### \").replace(\"^## \", \"### \").replace(\"^# \", \"## \"))\n",
        "            break\n",
        "\n",
        "        howto_cnt = 0\n",
        "        while True:\n",
        "            last_md_level_01 = \"#\"\n",
        "            last_md_level_02 = \"##\"\n",
        "            last_md_level_03 = \"###\"\n",
        "            with open(os.path.join(prev_knowledge_dir, \"video_database.txt\"), \"r\") as f:\n",
        "                howto_cnt = howto_cnt + 1\n",
        "                filepath_02 = os.path.join(knowledge_dir, f\"HOWTO-{howto_cnt}.md\")\n",
        "                with open(filepath_02, \"w\") as f02:\n",
        "                    # f02.write(\"# howto\\n\")\n",
        "                    for line in f.readlines():\n",
        "                        f02.write(line.replace(\"^#### \", \"##### \").replace(\"^### \", \"#### \").replace(\"^## \", \"### \").replace(\"^# \", \"## \"))\n",
        "            break\n",
        "\n",
        "        print(msg, \" ... OK\")"
      ],
      "metadata": {
        "colab": {
          "base_uri": "https://localhost:8080/"
        },
        "id": "ODHDRl6QqfD9",
        "outputId": "a8a4c0e8-e819-4b7a-9177-300639aadcdd"
      },
      "execution_count": 4,
      "outputs": [
        {
          "output_type": "stream",
          "name": "stdout",
          "text": [
            "  ... OK\n"
          ]
        }
      ]
    }
  ]
}