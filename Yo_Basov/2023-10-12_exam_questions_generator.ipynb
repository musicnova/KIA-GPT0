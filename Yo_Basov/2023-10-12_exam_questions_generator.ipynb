{
  "nbformat": 4,
  "nbformat_minor": 0,
  "metadata": {
    "colab": {
      "provenance": [],
      "collapsed_sections": [
        "GDp8XY1AOAUD"
      ],
      "toc_visible": true
    },
    "kernelspec": {
      "name": "python3",
      "display_name": "Python 3"
    },
    "language_info": {
      "name": "python"
    }
  },
  "cells": [
    {
      "cell_type": "markdown",
      "source": [
        "Коллаб с удобным выводом чанков https://youtu.be/Tk2W92d30jY"
      ],
      "metadata": {
        "id": "A0X9qZMKalMi"
      }
    },
    {
      "cell_type": "markdown",
      "source": [
        "# Code"
      ],
      "metadata": {
        "id": "QsFGkXMMwcX3"
      }
    },
    {
      "cell_type": "code",
      "execution_count": null,
      "metadata": {
        "id": "-nH2KyinoxhE",
        "colab": {
          "base_uri": "https://localhost:8080/"
        },
        "outputId": "f5c2ea3b-14cc-4cf7-c57b-326fbca188c2"
      },
      "outputs": [
        {
          "output_type": "stream",
          "name": "stdout",
          "text": [
            "Collecting tiktoken==0.4.0\n",
            "  Downloading tiktoken-0.4.0-cp310-cp310-manylinux_2_17_x86_64.manylinux2014_x86_64.whl (1.7 MB)\n",
            "\u001b[2K     \u001b[90m━━━━━━━━━━━━━━━━━━━━━━━━━━━━━━━━━━━━━━━━\u001b[0m \u001b[32m1.7/1.7 MB\u001b[0m \u001b[31m8.3 MB/s\u001b[0m eta \u001b[36m0:00:00\u001b[0m\n",
            "\u001b[?25hCollecting langchain==0.0.231\n",
            "  Downloading langchain-0.0.231-py3-none-any.whl (1.3 MB)\n",
            "\u001b[2K     \u001b[90m━━━━━━━━━━━━━━━━━━━━━━━━━━━━━━━━━━━━━━━━\u001b[0m \u001b[32m1.3/1.3 MB\u001b[0m \u001b[31m13.9 MB/s\u001b[0m eta \u001b[36m0:00:00\u001b[0m\n",
            "\u001b[?25hCollecting openai==0.27.8\n",
            "  Downloading openai-0.27.8-py3-none-any.whl (73 kB)\n",
            "\u001b[2K     \u001b[90m━━━━━━━━━━━━━━━━━━━━━━━━━━━━━━━━━━━━━━━━\u001b[0m \u001b[32m73.6/73.6 kB\u001b[0m \u001b[31m3.6 MB/s\u001b[0m eta \u001b[36m0:00:00\u001b[0m\n",
            "\u001b[?25hCollecting faiss-cpu==1.7.4\n",
            "  Downloading faiss_cpu-1.7.4-cp310-cp310-manylinux_2_17_x86_64.manylinux2014_x86_64.whl (17.6 MB)\n",
            "\u001b[2K     \u001b[90m━━━━━━━━━━━━━━━━━━━━━━━━━━━━━━━━━━━━━━━━\u001b[0m \u001b[32m17.6/17.6 MB\u001b[0m \u001b[31m29.4 MB/s\u001b[0m eta \u001b[36m0:00:00\u001b[0m\n",
            "\u001b[?25hRequirement already satisfied: gspread in /usr/local/lib/python3.10/dist-packages (3.4.2)\n",
            "Requirement already satisfied: oauth2client in /usr/local/lib/python3.10/dist-packages (4.1.3)\n",
            "Requirement already satisfied: nltk in /usr/local/lib/python3.10/dist-packages (3.8.1)\n",
            "Collecting pydantic==1.10.8\n",
            "  Downloading pydantic-1.10.8-cp310-cp310-manylinux_2_17_x86_64.manylinux2014_x86_64.whl (3.1 MB)\n",
            "\u001b[2K     \u001b[90m━━━━━━━━━━━━━━━━━━━━━━━━━━━━━━━━━━━━━━━━\u001b[0m \u001b[32m3.1/3.1 MB\u001b[0m \u001b[31m52.4 MB/s\u001b[0m eta \u001b[36m0:00:00\u001b[0m\n",
            "\u001b[?25hRequirement already satisfied: regex>=2022.1.18 in /usr/local/lib/python3.10/dist-packages (from tiktoken==0.4.0) (2023.6.3)\n",
            "Requirement already satisfied: requests>=2.26.0 in /usr/local/lib/python3.10/dist-packages (from tiktoken==0.4.0) (2.31.0)\n",
            "Requirement already satisfied: PyYAML>=5.4.1 in /usr/local/lib/python3.10/dist-packages (from langchain==0.0.231) (6.0.1)\n",
            "Requirement already satisfied: SQLAlchemy<3,>=1.4 in /usr/local/lib/python3.10/dist-packages (from langchain==0.0.231) (2.0.21)\n",
            "Requirement already satisfied: aiohttp<4.0.0,>=3.8.3 in /usr/local/lib/python3.10/dist-packages (from langchain==0.0.231) (3.8.5)\n",
            "Requirement already satisfied: async-timeout<5.0.0,>=4.0.0 in /usr/local/lib/python3.10/dist-packages (from langchain==0.0.231) (4.0.3)\n",
            "Collecting dataclasses-json<0.6.0,>=0.5.7 (from langchain==0.0.231)\n",
            "  Downloading dataclasses_json-0.5.14-py3-none-any.whl (26 kB)\n",
            "Collecting langchainplus-sdk<0.0.21,>=0.0.20 (from langchain==0.0.231)\n",
            "  Downloading langchainplus_sdk-0.0.20-py3-none-any.whl (25 kB)\n",
            "Requirement already satisfied: numexpr<3.0.0,>=2.8.4 in /usr/local/lib/python3.10/dist-packages (from langchain==0.0.231) (2.8.7)\n",
            "Requirement already satisfied: numpy<2,>=1 in /usr/local/lib/python3.10/dist-packages (from langchain==0.0.231) (1.23.5)\n",
            "Collecting openapi-schema-pydantic<2.0,>=1.2 (from langchain==0.0.231)\n",
            "  Downloading openapi_schema_pydantic-1.2.4-py3-none-any.whl (90 kB)\n",
            "\u001b[2K     \u001b[90m━━━━━━━━━━━━━━━━━━━━━━━━━━━━━━━━━━━━━━━━\u001b[0m \u001b[32m90.0/90.0 kB\u001b[0m \u001b[31m8.4 MB/s\u001b[0m eta \u001b[36m0:00:00\u001b[0m\n",
            "\u001b[?25hRequirement already satisfied: tenacity<9.0.0,>=8.1.0 in /usr/local/lib/python3.10/dist-packages (from langchain==0.0.231) (8.2.3)\n",
            "Requirement already satisfied: tqdm in /usr/local/lib/python3.10/dist-packages (from openai==0.27.8) (4.66.1)\n",
            "Requirement already satisfied: typing-extensions>=4.2.0 in /usr/local/lib/python3.10/dist-packages (from pydantic==1.10.8) (4.5.0)\n",
            "Requirement already satisfied: google-auth in /usr/local/lib/python3.10/dist-packages (from gspread) (2.17.3)\n",
            "Requirement already satisfied: httplib2>=0.9.1 in /usr/local/lib/python3.10/dist-packages (from oauth2client) (0.22.0)\n",
            "Requirement already satisfied: pyasn1>=0.1.7 in /usr/local/lib/python3.10/dist-packages (from oauth2client) (0.5.0)\n",
            "Requirement already satisfied: pyasn1-modules>=0.0.5 in /usr/local/lib/python3.10/dist-packages (from oauth2client) (0.3.0)\n",
            "Requirement already satisfied: rsa>=3.1.4 in /usr/local/lib/python3.10/dist-packages (from oauth2client) (4.9)\n",
            "Requirement already satisfied: six>=1.6.1 in /usr/local/lib/python3.10/dist-packages (from oauth2client) (1.16.0)\n",
            "Requirement already satisfied: click in /usr/local/lib/python3.10/dist-packages (from nltk) (8.1.7)\n",
            "Requirement already satisfied: joblib in /usr/local/lib/python3.10/dist-packages (from nltk) (1.3.2)\n",
            "Requirement already satisfied: attrs>=17.3.0 in /usr/local/lib/python3.10/dist-packages (from aiohttp<4.0.0,>=3.8.3->langchain==0.0.231) (23.1.0)\n",
            "Requirement already satisfied: charset-normalizer<4.0,>=2.0 in /usr/local/lib/python3.10/dist-packages (from aiohttp<4.0.0,>=3.8.3->langchain==0.0.231) (3.3.0)\n",
            "Requirement already satisfied: multidict<7.0,>=4.5 in /usr/local/lib/python3.10/dist-packages (from aiohttp<4.0.0,>=3.8.3->langchain==0.0.231) (6.0.4)\n",
            "Requirement already satisfied: yarl<2.0,>=1.0 in /usr/local/lib/python3.10/dist-packages (from aiohttp<4.0.0,>=3.8.3->langchain==0.0.231) (1.9.2)\n",
            "Requirement already satisfied: frozenlist>=1.1.1 in /usr/local/lib/python3.10/dist-packages (from aiohttp<4.0.0,>=3.8.3->langchain==0.0.231) (1.4.0)\n",
            "Requirement already satisfied: aiosignal>=1.1.2 in /usr/local/lib/python3.10/dist-packages (from aiohttp<4.0.0,>=3.8.3->langchain==0.0.231) (1.3.1)\n",
            "Collecting marshmallow<4.0.0,>=3.18.0 (from dataclasses-json<0.6.0,>=0.5.7->langchain==0.0.231)\n",
            "  Downloading marshmallow-3.20.1-py3-none-any.whl (49 kB)\n",
            "\u001b[2K     \u001b[90m━━━━━━━━━━━━━━━━━━━━━━━━━━━━━━━━━━━━━━━━\u001b[0m \u001b[32m49.4/49.4 kB\u001b[0m \u001b[31m4.0 MB/s\u001b[0m eta \u001b[36m0:00:00\u001b[0m\n",
            "\u001b[?25hCollecting typing-inspect<1,>=0.4.0 (from dataclasses-json<0.6.0,>=0.5.7->langchain==0.0.231)\n",
            "  Downloading typing_inspect-0.9.0-py3-none-any.whl (8.8 kB)\n",
            "Requirement already satisfied: pyparsing!=3.0.0,!=3.0.1,!=3.0.2,!=3.0.3,<4,>=2.4.2 in /usr/local/lib/python3.10/dist-packages (from httplib2>=0.9.1->oauth2client) (3.1.1)\n",
            "Requirement already satisfied: idna<4,>=2.5 in /usr/local/lib/python3.10/dist-packages (from requests>=2.26.0->tiktoken==0.4.0) (3.4)\n",
            "Requirement already satisfied: urllib3<3,>=1.21.1 in /usr/local/lib/python3.10/dist-packages (from requests>=2.26.0->tiktoken==0.4.0) (2.0.6)\n",
            "Requirement already satisfied: certifi>=2017.4.17 in /usr/local/lib/python3.10/dist-packages (from requests>=2.26.0->tiktoken==0.4.0) (2023.7.22)\n",
            "Requirement already satisfied: greenlet!=0.4.17 in /usr/local/lib/python3.10/dist-packages (from SQLAlchemy<3,>=1.4->langchain==0.0.231) (3.0.0)\n",
            "Requirement already satisfied: cachetools<6.0,>=2.0.0 in /usr/local/lib/python3.10/dist-packages (from google-auth->gspread) (5.3.1)\n",
            "Requirement already satisfied: packaging>=17.0 in /usr/local/lib/python3.10/dist-packages (from marshmallow<4.0.0,>=3.18.0->dataclasses-json<0.6.0,>=0.5.7->langchain==0.0.231) (23.2)\n",
            "Collecting mypy-extensions>=0.3.0 (from typing-inspect<1,>=0.4.0->dataclasses-json<0.6.0,>=0.5.7->langchain==0.0.231)\n",
            "  Downloading mypy_extensions-1.0.0-py3-none-any.whl (4.7 kB)\n",
            "Installing collected packages: faiss-cpu, pydantic, mypy-extensions, marshmallow, typing-inspect, tiktoken, openapi-schema-pydantic, langchainplus-sdk, openai, dataclasses-json, langchain\n",
            "  Attempting uninstall: pydantic\n",
            "    Found existing installation: pydantic 1.10.13\n",
            "    Uninstalling pydantic-1.10.13:\n",
            "      Successfully uninstalled pydantic-1.10.13\n",
            "Successfully installed dataclasses-json-0.5.14 faiss-cpu-1.7.4 langchain-0.0.231 langchainplus-sdk-0.0.20 marshmallow-3.20.1 mypy-extensions-1.0.0 openai-0.27.8 openapi-schema-pydantic-1.2.4 pydantic-1.10.8 tiktoken-0.4.0 typing-inspect-0.9.0\n"
          ]
        }
      ],
      "source": [
        "!pip  install  tiktoken==0.4.0  langchain==0.0.231 openai==0.27.8 faiss-cpu==1.7.4 gspread oauth2client nltk pydantic==1.10.8"
      ]
    },
    {
      "cell_type": "code",
      "source": [
        "import gdown\n",
        "from langchain.llms import OpenAI\n",
        "from langchain.docstore.document import Document\n",
        "import requests\n",
        "#database\n",
        "from langchain.embeddings.openai import OpenAIEmbeddings\n",
        "from langchain.vectorstores import FAISS\n",
        "from langchain.text_splitter import RecursiveCharacterTextSplitter\n",
        "#from langchain.document_loaders import TextLoader\n",
        "\n",
        "from langchain.prompts import PromptTemplate\n",
        "import pathlib\n",
        "import subprocess\n",
        "import tempfile\n",
        "import ipywidgets as widgets\n",
        "import gspread\n",
        "from oauth2client.service_account import ServiceAccountCredentials\n",
        "import re\n",
        "import getpass\n",
        "import os\n",
        "import openai\n",
        "import tiktoken\n",
        "\n",
        "class bcolors:\n",
        "    HEADER = '\\033[95m'\n",
        "    OKBLUE = '\\033[94m'\n",
        "    OKCYAN = '\\033[96m'\n",
        "    OKGREEN = '\\033[92m'\n",
        "    WARNING = '\\033[93m'\n",
        "    FAIL = '\\033[91m'\n",
        "    ENDC = '\\033[0m'\n",
        "    BOLD = '\\033[1m'\n",
        "    UNDERLINE = '\\033[4m'\n",
        "\n",
        "\n",
        "HISTORY = []\n",
        "\n"
      ],
      "metadata": {
        "id": "wNTJkb02qexK"
      },
      "execution_count": null,
      "outputs": []
    },
    {
      "cell_type": "code",
      "source": [
        "MODEL_GPT_3_5_TURBO_16K = ['gpt-3.5-turbo-16k', 0.003, 0.004]\n",
        "MODEL_GPT_3_5_TURBO = ['gpt-3.5-turbo', 0.0015, 0.002]  # 4,097 tokens\n",
        "MODEL_GPT_4 = ['gpt-4', 0.03, 0.06]  # 8,192 tokens\n",
        "#SELECT_MODEL_GPT = MODEL_GPT_3_5_TURBO\n",
        "SELECT_MODEL_GPT =MODEL_GPT_3_5_TURBO_16K"
      ],
      "metadata": {
        "id": "Lh42jUHVy3fq"
      },
      "execution_count": null,
      "outputs": []
    },
    {
      "cell_type": "code",
      "source": [
        "openai_key = getpass.getpass(\"OpenAI API Key:\")\n",
        "os.environ[\"OPENAI_API_KEY\"] = openai_key\n",
        "openai.api_key = openai_key"
      ],
      "metadata": {
        "id": "jSdHAWANqs7C",
        "colab": {
          "base_uri": "https://localhost:8080/"
        },
        "outputId": "28eab912-30f0-4a10-f5a9-975db77989cf"
      },
      "execution_count": null,
      "outputs": [
        {
          "name": "stdout",
          "output_type": "stream",
          "text": [
            "OpenAI API Key:··········\n"
          ]
        }
      ]
    },
    {
      "cell_type": "code",
      "source": [
        "def insert_newlines(textstr: str, max_len: int = 170) -> str:\n",
        "    words = textstr.split()\n",
        "    lines = []\n",
        "    current_line = \"\"\n",
        "    for word in words:\n",
        "        if len(current_line + \" \" + word) > max_len:\n",
        "            lines.append(current_line)\n",
        "            current_line = \"\"\n",
        "        current_line += \" \" + word\n",
        "    lines.append(current_line)\n",
        "    return \"\\n\".join(lines)"
      ],
      "metadata": {
        "id": "eAafR4VwqtFS"
      },
      "execution_count": null,
      "outputs": []
    },
    {
      "cell_type": "code",
      "source": [
        "# функция для загрузки документа по ссылке из гугл драйв\n",
        "def load_document_text(url: str) -> str:\n",
        "    # Extract the document ID from the URL\n",
        "    match_ = re.search('/document/d/([a-zA-Z0-9-_]+)', url)\n",
        "    if match_ is None:\n",
        "        raise ValueError('Invalid Google Docs URL')\n",
        "    doc_id = match_.group(1)\n",
        "\n",
        "    # Download the document as plain text\n",
        "    response = requests.get(f'https://docs.google.com/document/d/{doc_id}/export?format=txt')\n",
        "    response.raise_for_status()\n",
        "    text = response.text\n",
        "\n",
        "    return text"
      ],
      "metadata": {
        "id": "1YFsrIhi4Yct"
      },
      "execution_count": null,
      "outputs": []
    },
    {
      "cell_type": "code",
      "source": [
        "from langchain.text_splitter import MarkdownHeaderTextSplitter\n",
        "\n",
        "def load_search_indexes(url: str) -> str:\n",
        "    # Extract the document ID from the URL\n",
        "    match_ = re.search('/document/d/([a-zA-Z0-9-_]+)', url)\n",
        "    if match_ is None:\n",
        "        raise ValueError('Invalid Google Docs URL')\n",
        "    doc_id = match_.group(1)\n",
        "\n",
        "    # Download the document as plain text\n",
        "    response = requests.get(f'https://docs.google.com/document/d/{doc_id}/export?format=txt')\n",
        "    response.raise_for_status()\n",
        "    #text = response.content.decode('unicode_escape')\n",
        "    text = response.text\n",
        "    headers_to_split_on = [\n",
        "        (\"#\", \"Header1\"),\n",
        "        (\"##\", \"Header2\"),\n",
        "        (\"###\", \"Header3\"),\n",
        "    ]\n",
        "\n",
        "    markdown_splitter = MarkdownHeaderTextSplitter(headers_to_split_on=headers_to_split_on)\n",
        "    md_header_splits = markdown_splitter.split_text(text)\n",
        "\n",
        "    #записываем получившийся список из чанков в файл\n",
        "    with open('KIA_ByChuncks.txt', 'w') as f:\n",
        "      f.writelines(f\"{item}\\n\" for item in md_header_splits)\n",
        "    f.close()\n",
        "\n",
        "    vectordateBase = FAISS.from_documents(md_header_splits, OpenAIEmbeddings())\n",
        "\n",
        "    return vectordateBase\n"
      ],
      "metadata": {
        "id": "hu-w7euIqtNF"
      },
      "execution_count": null,
      "outputs": []
    },
    {
      "cell_type": "code",
      "source": [
        "#Это ссылка на мой файл БЗ от 20.09\n",
        "knowledge_base = load_search_indexes('https://docs.google.com/document/d/1X9ojw6qZwlo_J4kYllFHnUWS76WSgrr_75SJjAhVI0Y/edit?usp=sharing')"
      ],
      "metadata": {
        "id": "9CrXhbfVqtP_",
        "colab": {
          "base_uri": "https://localhost:8080/",
          "height": 514
        },
        "outputId": "435e94f7-a260-490a-c6f4-94cd8b087f10"
      },
      "execution_count": null,
      "outputs": [
        {
          "output_type": "stream",
          "name": "stderr",
          "text": [
            "WARNING:langchain.embeddings.openai:Retrying langchain.embeddings.openai.embed_with_retry.<locals>._embed_with_retry in 4.0 seconds as it raised RateLimitError: Rate limit reached for default-text-embedding-ada-002 in organization org-69eQOM7oFsdTeMFy70HnSJLq on tokens per min. Limit: 150000 / min. Current: 1 / min. Contact us through our help center at help.openai.com if you continue to have issues. Please add a payment method to your account to increase your rate limit. Visit https://platform.openai.com/account/billing to add a payment method..\n",
            "WARNING:langchain.embeddings.openai:Retrying langchain.embeddings.openai.embed_with_retry.<locals>._embed_with_retry in 4.0 seconds as it raised RateLimitError: Rate limit reached for default-text-embedding-ada-002 in organization org-69eQOM7oFsdTeMFy70HnSJLq on tokens per min. Limit: 150000 / min. Current: 1 / min. Contact us through our help center at help.openai.com if you continue to have issues. Please add a payment method to your account to increase your rate limit. Visit https://platform.openai.com/account/billing to add a payment method..\n",
            "WARNING:langchain.embeddings.openai:Retrying langchain.embeddings.openai.embed_with_retry.<locals>._embed_with_retry in 4.0 seconds as it raised RateLimitError: Rate limit reached for default-text-embedding-ada-002 in organization org-69eQOM7oFsdTeMFy70HnSJLq on tokens per min. Limit: 150000 / min. Current: 1 / min. Contact us through our help center at help.openai.com if you continue to have issues. Please add a payment method to your account to increase your rate limit. Visit https://platform.openai.com/account/billing to add a payment method..\n",
            "WARNING:langchain.embeddings.openai:Retrying langchain.embeddings.openai.embed_with_retry.<locals>._embed_with_retry in 8.0 seconds as it raised RateLimitError: Rate limit reached for default-text-embedding-ada-002 in organization org-69eQOM7oFsdTeMFy70HnSJLq on tokens per min. Limit: 150000 / min. Current: 0 / min. Contact us through our help center at help.openai.com if you continue to have issues. Please add a payment method to your account to increase your rate limit. Visit https://platform.openai.com/account/billing to add a payment method..\n",
            "WARNING:langchain.embeddings.openai:Retrying langchain.embeddings.openai.embed_with_retry.<locals>._embed_with_retry in 10.0 seconds as it raised RateLimitError: Rate limit reached for default-text-embedding-ada-002 in organization org-69eQOM7oFsdTeMFy70HnSJLq on tokens per min. Limit: 150000 / min. Current: 1 / min. Contact us through our help center at help.openai.com if you continue to have issues. Please add a payment method to your account to increase your rate limit. Visit https://platform.openai.com/account/billing to add a payment method..\n"
          ]
        },
        {
          "output_type": "error",
          "ename": "RateLimitError",
          "evalue": "ignored",
          "traceback": [
            "\u001b[0;31m---------------------------------------------------------------------------\u001b[0m",
            "\u001b[0;31mRateLimitError\u001b[0m                            Traceback (most recent call last)",
            "\u001b[0;32m<ipython-input-7-df034d096342>\u001b[0m in \u001b[0;36m<cell line: 2>\u001b[0;34m()\u001b[0m\n\u001b[1;32m      1\u001b[0m \u001b[0;31m#Это ссылка на мой файл БЗ от 20.09\u001b[0m\u001b[0;34m\u001b[0m\u001b[0;34m\u001b[0m\u001b[0m\n\u001b[0;32m----> 2\u001b[0;31m \u001b[0mknowledge_base\u001b[0m \u001b[0;34m=\u001b[0m \u001b[0mload_search_indexes\u001b[0m\u001b[0;34m(\u001b[0m\u001b[0;34m'https://docs.google.com/document/d/1X9ojw6qZwlo_J4kYllFHnUWS76WSgrr_75SJjAhVI0Y/edit?usp=sharing'\u001b[0m\u001b[0;34m)\u001b[0m\u001b[0;34m\u001b[0m\u001b[0;34m\u001b[0m\u001b[0m\n\u001b[0m",
            "\u001b[0;32m<ipython-input-6-040270ce5eaf>\u001b[0m in \u001b[0;36mload_search_indexes\u001b[0;34m(url)\u001b[0m\n\u001b[1;32m     27\u001b[0m     \u001b[0mf\u001b[0m\u001b[0;34m.\u001b[0m\u001b[0mclose\u001b[0m\u001b[0;34m(\u001b[0m\u001b[0;34m)\u001b[0m\u001b[0;34m\u001b[0m\u001b[0;34m\u001b[0m\u001b[0m\n\u001b[1;32m     28\u001b[0m \u001b[0;34m\u001b[0m\u001b[0m\n\u001b[0;32m---> 29\u001b[0;31m     \u001b[0mvectordateBase\u001b[0m \u001b[0;34m=\u001b[0m \u001b[0mFAISS\u001b[0m\u001b[0;34m.\u001b[0m\u001b[0mfrom_documents\u001b[0m\u001b[0;34m(\u001b[0m\u001b[0mmd_header_splits\u001b[0m\u001b[0;34m,\u001b[0m \u001b[0mOpenAIEmbeddings\u001b[0m\u001b[0;34m(\u001b[0m\u001b[0;34m)\u001b[0m\u001b[0;34m)\u001b[0m\u001b[0;34m\u001b[0m\u001b[0;34m\u001b[0m\u001b[0m\n\u001b[0m\u001b[1;32m     30\u001b[0m \u001b[0;34m\u001b[0m\u001b[0m\n\u001b[1;32m     31\u001b[0m     \u001b[0;32mreturn\u001b[0m \u001b[0mvectordateBase\u001b[0m\u001b[0;34m\u001b[0m\u001b[0;34m\u001b[0m\u001b[0m\n",
            "\u001b[0;32m/usr/local/lib/python3.10/dist-packages/langchain/vectorstores/base.py\u001b[0m in \u001b[0;36mfrom_documents\u001b[0;34m(cls, documents, embedding, **kwargs)\u001b[0m\n\u001b[1;32m    399\u001b[0m         \u001b[0mtexts\u001b[0m \u001b[0;34m=\u001b[0m \u001b[0;34m[\u001b[0m\u001b[0md\u001b[0m\u001b[0;34m.\u001b[0m\u001b[0mpage_content\u001b[0m \u001b[0;32mfor\u001b[0m \u001b[0md\u001b[0m \u001b[0;32min\u001b[0m \u001b[0mdocuments\u001b[0m\u001b[0;34m]\u001b[0m\u001b[0;34m\u001b[0m\u001b[0;34m\u001b[0m\u001b[0m\n\u001b[1;32m    400\u001b[0m         \u001b[0mmetadatas\u001b[0m \u001b[0;34m=\u001b[0m \u001b[0;34m[\u001b[0m\u001b[0md\u001b[0m\u001b[0;34m.\u001b[0m\u001b[0mmetadata\u001b[0m \u001b[0;32mfor\u001b[0m \u001b[0md\u001b[0m \u001b[0;32min\u001b[0m \u001b[0mdocuments\u001b[0m\u001b[0;34m]\u001b[0m\u001b[0;34m\u001b[0m\u001b[0;34m\u001b[0m\u001b[0m\n\u001b[0;32m--> 401\u001b[0;31m         \u001b[0;32mreturn\u001b[0m \u001b[0mcls\u001b[0m\u001b[0;34m.\u001b[0m\u001b[0mfrom_texts\u001b[0m\u001b[0;34m(\u001b[0m\u001b[0mtexts\u001b[0m\u001b[0;34m,\u001b[0m \u001b[0membedding\u001b[0m\u001b[0;34m,\u001b[0m \u001b[0mmetadatas\u001b[0m\u001b[0;34m=\u001b[0m\u001b[0mmetadatas\u001b[0m\u001b[0;34m,\u001b[0m \u001b[0;34m**\u001b[0m\u001b[0mkwargs\u001b[0m\u001b[0;34m)\u001b[0m\u001b[0;34m\u001b[0m\u001b[0;34m\u001b[0m\u001b[0m\n\u001b[0m\u001b[1;32m    402\u001b[0m \u001b[0;34m\u001b[0m\u001b[0m\n\u001b[1;32m    403\u001b[0m     \u001b[0;34m@\u001b[0m\u001b[0mclassmethod\u001b[0m\u001b[0;34m\u001b[0m\u001b[0;34m\u001b[0m\u001b[0m\n",
            "\u001b[0;32m/usr/local/lib/python3.10/dist-packages/langchain/vectorstores/faiss.py\u001b[0m in \u001b[0;36mfrom_texts\u001b[0;34m(cls, texts, embedding, metadatas, ids, **kwargs)\u001b[0m\n\u001b[1;32m    565\u001b[0m                 \u001b[0mfaiss\u001b[0m \u001b[0;34m=\u001b[0m \u001b[0mFAISS\u001b[0m\u001b[0;34m.\u001b[0m\u001b[0mfrom_texts\u001b[0m\u001b[0;34m(\u001b[0m\u001b[0mtexts\u001b[0m\u001b[0;34m,\u001b[0m \u001b[0membeddings\u001b[0m\u001b[0;34m)\u001b[0m\u001b[0;34m\u001b[0m\u001b[0;34m\u001b[0m\u001b[0m\n\u001b[1;32m    566\u001b[0m         \"\"\"\n\u001b[0;32m--> 567\u001b[0;31m         \u001b[0membeddings\u001b[0m \u001b[0;34m=\u001b[0m \u001b[0membedding\u001b[0m\u001b[0;34m.\u001b[0m\u001b[0membed_documents\u001b[0m\u001b[0;34m(\u001b[0m\u001b[0mtexts\u001b[0m\u001b[0;34m)\u001b[0m\u001b[0;34m\u001b[0m\u001b[0;34m\u001b[0m\u001b[0m\n\u001b[0m\u001b[1;32m    568\u001b[0m         return cls.__from(\n\u001b[1;32m    569\u001b[0m             \u001b[0mtexts\u001b[0m\u001b[0;34m,\u001b[0m\u001b[0;34m\u001b[0m\u001b[0;34m\u001b[0m\u001b[0m\n",
            "\u001b[0;32m/usr/local/lib/python3.10/dist-packages/langchain/embeddings/openai.py\u001b[0m in \u001b[0;36membed_documents\u001b[0;34m(self, texts, chunk_size)\u001b[0m\n\u001b[1;32m    474\u001b[0m         \u001b[0;31m# NOTE: to keep things simple, we assume the list may contain texts longer\u001b[0m\u001b[0;34m\u001b[0m\u001b[0;34m\u001b[0m\u001b[0m\n\u001b[1;32m    475\u001b[0m         \u001b[0;31m#       than the maximum context and use length-safe embedding function.\u001b[0m\u001b[0;34m\u001b[0m\u001b[0;34m\u001b[0m\u001b[0m\n\u001b[0;32m--> 476\u001b[0;31m         \u001b[0;32mreturn\u001b[0m \u001b[0mself\u001b[0m\u001b[0;34m.\u001b[0m\u001b[0m_get_len_safe_embeddings\u001b[0m\u001b[0;34m(\u001b[0m\u001b[0mtexts\u001b[0m\u001b[0;34m,\u001b[0m \u001b[0mengine\u001b[0m\u001b[0;34m=\u001b[0m\u001b[0mself\u001b[0m\u001b[0;34m.\u001b[0m\u001b[0mdeployment\u001b[0m\u001b[0;34m)\u001b[0m\u001b[0;34m\u001b[0m\u001b[0;34m\u001b[0m\u001b[0m\n\u001b[0m\u001b[1;32m    477\u001b[0m \u001b[0;34m\u001b[0m\u001b[0m\n\u001b[1;32m    478\u001b[0m     async def aembed_documents(\n",
            "\u001b[0;32m/usr/local/lib/python3.10/dist-packages/langchain/embeddings/openai.py\u001b[0m in \u001b[0;36m_get_len_safe_embeddings\u001b[0;34m(self, texts, engine, chunk_size)\u001b[0m\n\u001b[1;32m    324\u001b[0m \u001b[0;34m\u001b[0m\u001b[0m\n\u001b[1;32m    325\u001b[0m         \u001b[0;32mfor\u001b[0m \u001b[0mi\u001b[0m \u001b[0;32min\u001b[0m \u001b[0m_iter\u001b[0m\u001b[0;34m:\u001b[0m\u001b[0;34m\u001b[0m\u001b[0;34m\u001b[0m\u001b[0m\n\u001b[0;32m--> 326\u001b[0;31m             response = embed_with_retry(\n\u001b[0m\u001b[1;32m    327\u001b[0m                 \u001b[0mself\u001b[0m\u001b[0;34m,\u001b[0m\u001b[0;34m\u001b[0m\u001b[0;34m\u001b[0m\u001b[0m\n\u001b[1;32m    328\u001b[0m                 \u001b[0minput\u001b[0m\u001b[0;34m=\u001b[0m\u001b[0mtokens\u001b[0m\u001b[0;34m[\u001b[0m\u001b[0mi\u001b[0m \u001b[0;34m:\u001b[0m \u001b[0mi\u001b[0m \u001b[0;34m+\u001b[0m \u001b[0m_chunk_size\u001b[0m\u001b[0;34m]\u001b[0m\u001b[0;34m,\u001b[0m\u001b[0;34m\u001b[0m\u001b[0;34m\u001b[0m\u001b[0m\n",
            "\u001b[0;32m/usr/local/lib/python3.10/dist-packages/langchain/embeddings/openai.py\u001b[0m in \u001b[0;36membed_with_retry\u001b[0;34m(embeddings, **kwargs)\u001b[0m\n\u001b[1;32m    105\u001b[0m         \u001b[0;32mreturn\u001b[0m \u001b[0m_check_response\u001b[0m\u001b[0;34m(\u001b[0m\u001b[0mresponse\u001b[0m\u001b[0;34m)\u001b[0m\u001b[0;34m\u001b[0m\u001b[0;34m\u001b[0m\u001b[0m\n\u001b[1;32m    106\u001b[0m \u001b[0;34m\u001b[0m\u001b[0m\n\u001b[0;32m--> 107\u001b[0;31m     \u001b[0;32mreturn\u001b[0m \u001b[0m_embed_with_retry\u001b[0m\u001b[0;34m(\u001b[0m\u001b[0;34m**\u001b[0m\u001b[0mkwargs\u001b[0m\u001b[0;34m)\u001b[0m\u001b[0;34m\u001b[0m\u001b[0;34m\u001b[0m\u001b[0m\n\u001b[0m\u001b[1;32m    108\u001b[0m \u001b[0;34m\u001b[0m\u001b[0m\n\u001b[1;32m    109\u001b[0m \u001b[0;34m\u001b[0m\u001b[0m\n",
            "\u001b[0;32m/usr/local/lib/python3.10/dist-packages/tenacity/__init__.py\u001b[0m in \u001b[0;36mwrapped_f\u001b[0;34m(*args, **kw)\u001b[0m\n\u001b[1;32m    287\u001b[0m         \u001b[0;34m@\u001b[0m\u001b[0mfunctools\u001b[0m\u001b[0;34m.\u001b[0m\u001b[0mwraps\u001b[0m\u001b[0;34m(\u001b[0m\u001b[0mf\u001b[0m\u001b[0;34m)\u001b[0m\u001b[0;34m\u001b[0m\u001b[0;34m\u001b[0m\u001b[0m\n\u001b[1;32m    288\u001b[0m         \u001b[0;32mdef\u001b[0m \u001b[0mwrapped_f\u001b[0m\u001b[0;34m(\u001b[0m\u001b[0;34m*\u001b[0m\u001b[0margs\u001b[0m\u001b[0;34m:\u001b[0m \u001b[0mt\u001b[0m\u001b[0;34m.\u001b[0m\u001b[0mAny\u001b[0m\u001b[0;34m,\u001b[0m \u001b[0;34m**\u001b[0m\u001b[0mkw\u001b[0m\u001b[0;34m:\u001b[0m \u001b[0mt\u001b[0m\u001b[0;34m.\u001b[0m\u001b[0mAny\u001b[0m\u001b[0;34m)\u001b[0m \u001b[0;34m->\u001b[0m \u001b[0mt\u001b[0m\u001b[0;34m.\u001b[0m\u001b[0mAny\u001b[0m\u001b[0;34m:\u001b[0m\u001b[0;34m\u001b[0m\u001b[0;34m\u001b[0m\u001b[0m\n\u001b[0;32m--> 289\u001b[0;31m             \u001b[0;32mreturn\u001b[0m \u001b[0mself\u001b[0m\u001b[0;34m(\u001b[0m\u001b[0mf\u001b[0m\u001b[0;34m,\u001b[0m \u001b[0;34m*\u001b[0m\u001b[0margs\u001b[0m\u001b[0;34m,\u001b[0m \u001b[0;34m**\u001b[0m\u001b[0mkw\u001b[0m\u001b[0;34m)\u001b[0m\u001b[0;34m\u001b[0m\u001b[0;34m\u001b[0m\u001b[0m\n\u001b[0m\u001b[1;32m    290\u001b[0m \u001b[0;34m\u001b[0m\u001b[0m\n\u001b[1;32m    291\u001b[0m         \u001b[0;32mdef\u001b[0m \u001b[0mretry_with\u001b[0m\u001b[0;34m(\u001b[0m\u001b[0;34m*\u001b[0m\u001b[0margs\u001b[0m\u001b[0;34m:\u001b[0m \u001b[0mt\u001b[0m\u001b[0;34m.\u001b[0m\u001b[0mAny\u001b[0m\u001b[0;34m,\u001b[0m \u001b[0;34m**\u001b[0m\u001b[0mkwargs\u001b[0m\u001b[0;34m:\u001b[0m \u001b[0mt\u001b[0m\u001b[0;34m.\u001b[0m\u001b[0mAny\u001b[0m\u001b[0;34m)\u001b[0m \u001b[0;34m->\u001b[0m \u001b[0mWrappedFn\u001b[0m\u001b[0;34m:\u001b[0m\u001b[0;34m\u001b[0m\u001b[0;34m\u001b[0m\u001b[0m\n",
            "\u001b[0;32m/usr/local/lib/python3.10/dist-packages/tenacity/__init__.py\u001b[0m in \u001b[0;36m__call__\u001b[0;34m(self, fn, *args, **kwargs)\u001b[0m\n\u001b[1;32m    377\u001b[0m         \u001b[0mretry_state\u001b[0m \u001b[0;34m=\u001b[0m \u001b[0mRetryCallState\u001b[0m\u001b[0;34m(\u001b[0m\u001b[0mretry_object\u001b[0m\u001b[0;34m=\u001b[0m\u001b[0mself\u001b[0m\u001b[0;34m,\u001b[0m \u001b[0mfn\u001b[0m\u001b[0;34m=\u001b[0m\u001b[0mfn\u001b[0m\u001b[0;34m,\u001b[0m \u001b[0margs\u001b[0m\u001b[0;34m=\u001b[0m\u001b[0margs\u001b[0m\u001b[0;34m,\u001b[0m \u001b[0mkwargs\u001b[0m\u001b[0;34m=\u001b[0m\u001b[0mkwargs\u001b[0m\u001b[0;34m)\u001b[0m\u001b[0;34m\u001b[0m\u001b[0;34m\u001b[0m\u001b[0m\n\u001b[1;32m    378\u001b[0m         \u001b[0;32mwhile\u001b[0m \u001b[0;32mTrue\u001b[0m\u001b[0;34m:\u001b[0m\u001b[0;34m\u001b[0m\u001b[0;34m\u001b[0m\u001b[0m\n\u001b[0;32m--> 379\u001b[0;31m             \u001b[0mdo\u001b[0m \u001b[0;34m=\u001b[0m \u001b[0mself\u001b[0m\u001b[0;34m.\u001b[0m\u001b[0miter\u001b[0m\u001b[0;34m(\u001b[0m\u001b[0mretry_state\u001b[0m\u001b[0;34m=\u001b[0m\u001b[0mretry_state\u001b[0m\u001b[0;34m)\u001b[0m\u001b[0;34m\u001b[0m\u001b[0;34m\u001b[0m\u001b[0m\n\u001b[0m\u001b[1;32m    380\u001b[0m             \u001b[0;32mif\u001b[0m \u001b[0misinstance\u001b[0m\u001b[0;34m(\u001b[0m\u001b[0mdo\u001b[0m\u001b[0;34m,\u001b[0m \u001b[0mDoAttempt\u001b[0m\u001b[0;34m)\u001b[0m\u001b[0;34m:\u001b[0m\u001b[0;34m\u001b[0m\u001b[0;34m\u001b[0m\u001b[0m\n\u001b[1;32m    381\u001b[0m                 \u001b[0;32mtry\u001b[0m\u001b[0;34m:\u001b[0m\u001b[0;34m\u001b[0m\u001b[0;34m\u001b[0m\u001b[0m\n",
            "\u001b[0;32m/usr/local/lib/python3.10/dist-packages/tenacity/__init__.py\u001b[0m in \u001b[0;36miter\u001b[0;34m(self, retry_state)\u001b[0m\n\u001b[1;32m    323\u001b[0m             \u001b[0mretry_exc\u001b[0m \u001b[0;34m=\u001b[0m \u001b[0mself\u001b[0m\u001b[0;34m.\u001b[0m\u001b[0mretry_error_cls\u001b[0m\u001b[0;34m(\u001b[0m\u001b[0mfut\u001b[0m\u001b[0;34m)\u001b[0m\u001b[0;34m\u001b[0m\u001b[0;34m\u001b[0m\u001b[0m\n\u001b[1;32m    324\u001b[0m             \u001b[0;32mif\u001b[0m \u001b[0mself\u001b[0m\u001b[0;34m.\u001b[0m\u001b[0mreraise\u001b[0m\u001b[0;34m:\u001b[0m\u001b[0;34m\u001b[0m\u001b[0;34m\u001b[0m\u001b[0m\n\u001b[0;32m--> 325\u001b[0;31m                 \u001b[0;32mraise\u001b[0m \u001b[0mretry_exc\u001b[0m\u001b[0;34m.\u001b[0m\u001b[0mreraise\u001b[0m\u001b[0;34m(\u001b[0m\u001b[0;34m)\u001b[0m\u001b[0;34m\u001b[0m\u001b[0;34m\u001b[0m\u001b[0m\n\u001b[0m\u001b[1;32m    326\u001b[0m             \u001b[0;32mraise\u001b[0m \u001b[0mretry_exc\u001b[0m \u001b[0;32mfrom\u001b[0m \u001b[0mfut\u001b[0m\u001b[0;34m.\u001b[0m\u001b[0mexception\u001b[0m\u001b[0;34m(\u001b[0m\u001b[0;34m)\u001b[0m\u001b[0;34m\u001b[0m\u001b[0;34m\u001b[0m\u001b[0m\n\u001b[1;32m    327\u001b[0m \u001b[0;34m\u001b[0m\u001b[0m\n",
            "\u001b[0;32m/usr/local/lib/python3.10/dist-packages/tenacity/__init__.py\u001b[0m in \u001b[0;36mreraise\u001b[0;34m(self)\u001b[0m\n\u001b[1;32m    156\u001b[0m     \u001b[0;32mdef\u001b[0m \u001b[0mreraise\u001b[0m\u001b[0;34m(\u001b[0m\u001b[0mself\u001b[0m\u001b[0;34m)\u001b[0m \u001b[0;34m->\u001b[0m \u001b[0mt\u001b[0m\u001b[0;34m.\u001b[0m\u001b[0mNoReturn\u001b[0m\u001b[0;34m:\u001b[0m\u001b[0;34m\u001b[0m\u001b[0;34m\u001b[0m\u001b[0m\n\u001b[1;32m    157\u001b[0m         \u001b[0;32mif\u001b[0m \u001b[0mself\u001b[0m\u001b[0;34m.\u001b[0m\u001b[0mlast_attempt\u001b[0m\u001b[0;34m.\u001b[0m\u001b[0mfailed\u001b[0m\u001b[0;34m:\u001b[0m\u001b[0;34m\u001b[0m\u001b[0;34m\u001b[0m\u001b[0m\n\u001b[0;32m--> 158\u001b[0;31m             \u001b[0;32mraise\u001b[0m \u001b[0mself\u001b[0m\u001b[0;34m.\u001b[0m\u001b[0mlast_attempt\u001b[0m\u001b[0;34m.\u001b[0m\u001b[0mresult\u001b[0m\u001b[0;34m(\u001b[0m\u001b[0;34m)\u001b[0m\u001b[0;34m\u001b[0m\u001b[0;34m\u001b[0m\u001b[0m\n\u001b[0m\u001b[1;32m    159\u001b[0m         \u001b[0;32mraise\u001b[0m \u001b[0mself\u001b[0m\u001b[0;34m\u001b[0m\u001b[0;34m\u001b[0m\u001b[0m\n\u001b[1;32m    160\u001b[0m \u001b[0;34m\u001b[0m\u001b[0m\n",
            "\u001b[0;32m/usr/lib/python3.10/concurrent/futures/_base.py\u001b[0m in \u001b[0;36mresult\u001b[0;34m(self, timeout)\u001b[0m\n\u001b[1;32m    449\u001b[0m                     \u001b[0;32mraise\u001b[0m \u001b[0mCancelledError\u001b[0m\u001b[0;34m(\u001b[0m\u001b[0;34m)\u001b[0m\u001b[0;34m\u001b[0m\u001b[0;34m\u001b[0m\u001b[0m\n\u001b[1;32m    450\u001b[0m                 \u001b[0;32melif\u001b[0m \u001b[0mself\u001b[0m\u001b[0;34m.\u001b[0m\u001b[0m_state\u001b[0m \u001b[0;34m==\u001b[0m \u001b[0mFINISHED\u001b[0m\u001b[0;34m:\u001b[0m\u001b[0;34m\u001b[0m\u001b[0;34m\u001b[0m\u001b[0m\n\u001b[0;32m--> 451\u001b[0;31m                     \u001b[0;32mreturn\u001b[0m \u001b[0mself\u001b[0m\u001b[0;34m.\u001b[0m\u001b[0m__get_result\u001b[0m\u001b[0;34m(\u001b[0m\u001b[0;34m)\u001b[0m\u001b[0;34m\u001b[0m\u001b[0;34m\u001b[0m\u001b[0m\n\u001b[0m\u001b[1;32m    452\u001b[0m \u001b[0;34m\u001b[0m\u001b[0m\n\u001b[1;32m    453\u001b[0m                 \u001b[0mself\u001b[0m\u001b[0;34m.\u001b[0m\u001b[0m_condition\u001b[0m\u001b[0;34m.\u001b[0m\u001b[0mwait\u001b[0m\u001b[0;34m(\u001b[0m\u001b[0mtimeout\u001b[0m\u001b[0;34m)\u001b[0m\u001b[0;34m\u001b[0m\u001b[0;34m\u001b[0m\u001b[0m\n",
            "\u001b[0;32m/usr/lib/python3.10/concurrent/futures/_base.py\u001b[0m in \u001b[0;36m__get_result\u001b[0;34m(self)\u001b[0m\n\u001b[1;32m    401\u001b[0m         \u001b[0;32mif\u001b[0m \u001b[0mself\u001b[0m\u001b[0;34m.\u001b[0m\u001b[0m_exception\u001b[0m\u001b[0;34m:\u001b[0m\u001b[0;34m\u001b[0m\u001b[0;34m\u001b[0m\u001b[0m\n\u001b[1;32m    402\u001b[0m             \u001b[0;32mtry\u001b[0m\u001b[0;34m:\u001b[0m\u001b[0;34m\u001b[0m\u001b[0;34m\u001b[0m\u001b[0m\n\u001b[0;32m--> 403\u001b[0;31m                 \u001b[0;32mraise\u001b[0m \u001b[0mself\u001b[0m\u001b[0;34m.\u001b[0m\u001b[0m_exception\u001b[0m\u001b[0;34m\u001b[0m\u001b[0;34m\u001b[0m\u001b[0m\n\u001b[0m\u001b[1;32m    404\u001b[0m             \u001b[0;32mfinally\u001b[0m\u001b[0;34m:\u001b[0m\u001b[0;34m\u001b[0m\u001b[0;34m\u001b[0m\u001b[0m\n\u001b[1;32m    405\u001b[0m                 \u001b[0;31m# Break a reference cycle with the exception in self._exception\u001b[0m\u001b[0;34m\u001b[0m\u001b[0;34m\u001b[0m\u001b[0m\n",
            "\u001b[0;32m/usr/local/lib/python3.10/dist-packages/tenacity/__init__.py\u001b[0m in \u001b[0;36m__call__\u001b[0;34m(self, fn, *args, **kwargs)\u001b[0m\n\u001b[1;32m    380\u001b[0m             \u001b[0;32mif\u001b[0m \u001b[0misinstance\u001b[0m\u001b[0;34m(\u001b[0m\u001b[0mdo\u001b[0m\u001b[0;34m,\u001b[0m \u001b[0mDoAttempt\u001b[0m\u001b[0;34m)\u001b[0m\u001b[0;34m:\u001b[0m\u001b[0;34m\u001b[0m\u001b[0;34m\u001b[0m\u001b[0m\n\u001b[1;32m    381\u001b[0m                 \u001b[0;32mtry\u001b[0m\u001b[0;34m:\u001b[0m\u001b[0;34m\u001b[0m\u001b[0;34m\u001b[0m\u001b[0m\n\u001b[0;32m--> 382\u001b[0;31m                     \u001b[0mresult\u001b[0m \u001b[0;34m=\u001b[0m \u001b[0mfn\u001b[0m\u001b[0;34m(\u001b[0m\u001b[0;34m*\u001b[0m\u001b[0margs\u001b[0m\u001b[0;34m,\u001b[0m \u001b[0;34m**\u001b[0m\u001b[0mkwargs\u001b[0m\u001b[0;34m)\u001b[0m\u001b[0;34m\u001b[0m\u001b[0;34m\u001b[0m\u001b[0m\n\u001b[0m\u001b[1;32m    383\u001b[0m                 \u001b[0;32mexcept\u001b[0m \u001b[0mBaseException\u001b[0m\u001b[0;34m:\u001b[0m  \u001b[0;31m# noqa: B902\u001b[0m\u001b[0;34m\u001b[0m\u001b[0;34m\u001b[0m\u001b[0m\n\u001b[1;32m    384\u001b[0m                     \u001b[0mretry_state\u001b[0m\u001b[0;34m.\u001b[0m\u001b[0mset_exception\u001b[0m\u001b[0;34m(\u001b[0m\u001b[0msys\u001b[0m\u001b[0;34m.\u001b[0m\u001b[0mexc_info\u001b[0m\u001b[0;34m(\u001b[0m\u001b[0;34m)\u001b[0m\u001b[0;34m)\u001b[0m  \u001b[0;31m# type: ignore[arg-type]\u001b[0m\u001b[0;34m\u001b[0m\u001b[0;34m\u001b[0m\u001b[0m\n",
            "\u001b[0;32m/usr/local/lib/python3.10/dist-packages/langchain/embeddings/openai.py\u001b[0m in \u001b[0;36m_embed_with_retry\u001b[0;34m(**kwargs)\u001b[0m\n\u001b[1;32m    102\u001b[0m     \u001b[0;34m@\u001b[0m\u001b[0mretry_decorator\u001b[0m\u001b[0;34m\u001b[0m\u001b[0;34m\u001b[0m\u001b[0m\n\u001b[1;32m    103\u001b[0m     \u001b[0;32mdef\u001b[0m \u001b[0m_embed_with_retry\u001b[0m\u001b[0;34m(\u001b[0m\u001b[0;34m**\u001b[0m\u001b[0mkwargs\u001b[0m\u001b[0;34m:\u001b[0m \u001b[0mAny\u001b[0m\u001b[0;34m)\u001b[0m \u001b[0;34m->\u001b[0m \u001b[0mAny\u001b[0m\u001b[0;34m:\u001b[0m\u001b[0;34m\u001b[0m\u001b[0;34m\u001b[0m\u001b[0m\n\u001b[0;32m--> 104\u001b[0;31m         \u001b[0mresponse\u001b[0m \u001b[0;34m=\u001b[0m \u001b[0membeddings\u001b[0m\u001b[0;34m.\u001b[0m\u001b[0mclient\u001b[0m\u001b[0;34m.\u001b[0m\u001b[0mcreate\u001b[0m\u001b[0;34m(\u001b[0m\u001b[0;34m**\u001b[0m\u001b[0mkwargs\u001b[0m\u001b[0;34m)\u001b[0m\u001b[0;34m\u001b[0m\u001b[0;34m\u001b[0m\u001b[0m\n\u001b[0m\u001b[1;32m    105\u001b[0m         \u001b[0;32mreturn\u001b[0m \u001b[0m_check_response\u001b[0m\u001b[0;34m(\u001b[0m\u001b[0mresponse\u001b[0m\u001b[0;34m)\u001b[0m\u001b[0;34m\u001b[0m\u001b[0;34m\u001b[0m\u001b[0m\n\u001b[1;32m    106\u001b[0m \u001b[0;34m\u001b[0m\u001b[0m\n",
            "\u001b[0;32m/usr/local/lib/python3.10/dist-packages/openai/api_resources/embedding.py\u001b[0m in \u001b[0;36mcreate\u001b[0;34m(cls, *args, **kwargs)\u001b[0m\n\u001b[1;32m     31\u001b[0m         \u001b[0;32mwhile\u001b[0m \u001b[0;32mTrue\u001b[0m\u001b[0;34m:\u001b[0m\u001b[0;34m\u001b[0m\u001b[0;34m\u001b[0m\u001b[0m\n\u001b[1;32m     32\u001b[0m             \u001b[0;32mtry\u001b[0m\u001b[0;34m:\u001b[0m\u001b[0;34m\u001b[0m\u001b[0;34m\u001b[0m\u001b[0m\n\u001b[0;32m---> 33\u001b[0;31m                 \u001b[0mresponse\u001b[0m \u001b[0;34m=\u001b[0m \u001b[0msuper\u001b[0m\u001b[0;34m(\u001b[0m\u001b[0;34m)\u001b[0m\u001b[0;34m.\u001b[0m\u001b[0mcreate\u001b[0m\u001b[0;34m(\u001b[0m\u001b[0;34m*\u001b[0m\u001b[0margs\u001b[0m\u001b[0;34m,\u001b[0m \u001b[0;34m**\u001b[0m\u001b[0mkwargs\u001b[0m\u001b[0;34m)\u001b[0m\u001b[0;34m\u001b[0m\u001b[0;34m\u001b[0m\u001b[0m\n\u001b[0m\u001b[1;32m     34\u001b[0m \u001b[0;34m\u001b[0m\u001b[0m\n\u001b[1;32m     35\u001b[0m                 \u001b[0;31m# If a user specifies base64, we'll just return the encoded string.\u001b[0m\u001b[0;34m\u001b[0m\u001b[0;34m\u001b[0m\u001b[0m\n",
            "\u001b[0;32m/usr/local/lib/python3.10/dist-packages/openai/api_resources/abstract/engine_api_resource.py\u001b[0m in \u001b[0;36mcreate\u001b[0;34m(cls, api_key, api_base, api_type, request_id, api_version, organization, **params)\u001b[0m\n\u001b[1;32m    151\u001b[0m         )\n\u001b[1;32m    152\u001b[0m \u001b[0;34m\u001b[0m\u001b[0m\n\u001b[0;32m--> 153\u001b[0;31m         response, _, api_key = requestor.request(\n\u001b[0m\u001b[1;32m    154\u001b[0m             \u001b[0;34m\"post\"\u001b[0m\u001b[0;34m,\u001b[0m\u001b[0;34m\u001b[0m\u001b[0;34m\u001b[0m\u001b[0m\n\u001b[1;32m    155\u001b[0m             \u001b[0murl\u001b[0m\u001b[0;34m,\u001b[0m\u001b[0;34m\u001b[0m\u001b[0;34m\u001b[0m\u001b[0m\n",
            "\u001b[0;32m/usr/local/lib/python3.10/dist-packages/openai/api_requestor.py\u001b[0m in \u001b[0;36mrequest\u001b[0;34m(self, method, url, params, headers, files, stream, request_id, request_timeout)\u001b[0m\n\u001b[1;32m    296\u001b[0m             \u001b[0mrequest_timeout\u001b[0m\u001b[0;34m=\u001b[0m\u001b[0mrequest_timeout\u001b[0m\u001b[0;34m,\u001b[0m\u001b[0;34m\u001b[0m\u001b[0;34m\u001b[0m\u001b[0m\n\u001b[1;32m    297\u001b[0m         )\n\u001b[0;32m--> 298\u001b[0;31m         \u001b[0mresp\u001b[0m\u001b[0;34m,\u001b[0m \u001b[0mgot_stream\u001b[0m \u001b[0;34m=\u001b[0m \u001b[0mself\u001b[0m\u001b[0;34m.\u001b[0m\u001b[0m_interpret_response\u001b[0m\u001b[0;34m(\u001b[0m\u001b[0mresult\u001b[0m\u001b[0;34m,\u001b[0m \u001b[0mstream\u001b[0m\u001b[0;34m)\u001b[0m\u001b[0;34m\u001b[0m\u001b[0;34m\u001b[0m\u001b[0m\n\u001b[0m\u001b[1;32m    299\u001b[0m         \u001b[0;32mreturn\u001b[0m \u001b[0mresp\u001b[0m\u001b[0;34m,\u001b[0m \u001b[0mgot_stream\u001b[0m\u001b[0;34m,\u001b[0m \u001b[0mself\u001b[0m\u001b[0;34m.\u001b[0m\u001b[0mapi_key\u001b[0m\u001b[0;34m\u001b[0m\u001b[0;34m\u001b[0m\u001b[0m\n\u001b[1;32m    300\u001b[0m \u001b[0;34m\u001b[0m\u001b[0m\n",
            "\u001b[0;32m/usr/local/lib/python3.10/dist-packages/openai/api_requestor.py\u001b[0m in \u001b[0;36m_interpret_response\u001b[0;34m(self, result, stream)\u001b[0m\n\u001b[1;32m    698\u001b[0m         \u001b[0;32melse\u001b[0m\u001b[0;34m:\u001b[0m\u001b[0;34m\u001b[0m\u001b[0;34m\u001b[0m\u001b[0m\n\u001b[1;32m    699\u001b[0m             return (\n\u001b[0;32m--> 700\u001b[0;31m                 self._interpret_response_line(\n\u001b[0m\u001b[1;32m    701\u001b[0m                     \u001b[0mresult\u001b[0m\u001b[0;34m.\u001b[0m\u001b[0mcontent\u001b[0m\u001b[0;34m.\u001b[0m\u001b[0mdecode\u001b[0m\u001b[0;34m(\u001b[0m\u001b[0;34m\"utf-8\"\u001b[0m\u001b[0;34m)\u001b[0m\u001b[0;34m,\u001b[0m\u001b[0;34m\u001b[0m\u001b[0;34m\u001b[0m\u001b[0m\n\u001b[1;32m    702\u001b[0m                     \u001b[0mresult\u001b[0m\u001b[0;34m.\u001b[0m\u001b[0mstatus_code\u001b[0m\u001b[0;34m,\u001b[0m\u001b[0;34m\u001b[0m\u001b[0;34m\u001b[0m\u001b[0m\n",
            "\u001b[0;32m/usr/local/lib/python3.10/dist-packages/openai/api_requestor.py\u001b[0m in \u001b[0;36m_interpret_response_line\u001b[0;34m(self, rbody, rcode, rheaders, stream)\u001b[0m\n\u001b[1;32m    761\u001b[0m         \u001b[0mstream_error\u001b[0m \u001b[0;34m=\u001b[0m \u001b[0mstream\u001b[0m \u001b[0;32mand\u001b[0m \u001b[0;34m\"error\"\u001b[0m \u001b[0;32min\u001b[0m \u001b[0mresp\u001b[0m\u001b[0;34m.\u001b[0m\u001b[0mdata\u001b[0m\u001b[0;34m\u001b[0m\u001b[0;34m\u001b[0m\u001b[0m\n\u001b[1;32m    762\u001b[0m         \u001b[0;32mif\u001b[0m \u001b[0mstream_error\u001b[0m \u001b[0;32mor\u001b[0m \u001b[0;32mnot\u001b[0m \u001b[0;36m200\u001b[0m \u001b[0;34m<=\u001b[0m \u001b[0mrcode\u001b[0m \u001b[0;34m<\u001b[0m \u001b[0;36m300\u001b[0m\u001b[0;34m:\u001b[0m\u001b[0;34m\u001b[0m\u001b[0;34m\u001b[0m\u001b[0m\n\u001b[0;32m--> 763\u001b[0;31m             raise self.handle_error_response(\n\u001b[0m\u001b[1;32m    764\u001b[0m                 \u001b[0mrbody\u001b[0m\u001b[0;34m,\u001b[0m \u001b[0mrcode\u001b[0m\u001b[0;34m,\u001b[0m \u001b[0mresp\u001b[0m\u001b[0;34m.\u001b[0m\u001b[0mdata\u001b[0m\u001b[0;34m,\u001b[0m \u001b[0mrheaders\u001b[0m\u001b[0;34m,\u001b[0m \u001b[0mstream_error\u001b[0m\u001b[0;34m=\u001b[0m\u001b[0mstream_error\u001b[0m\u001b[0;34m\u001b[0m\u001b[0;34m\u001b[0m\u001b[0m\n\u001b[1;32m    765\u001b[0m             )\n",
            "\u001b[0;31mRateLimitError\u001b[0m: Rate limit reached for default-text-embedding-ada-002 in organization org-69eQOM7oFsdTeMFy70HnSJLq on tokens per min. Limit: 150000 / min. Current: 1 / min. Contact us through our help center at help.openai.com if you continue to have issues. Please add a payment method to your account to increase your rate limit. Visit https://platform.openai.com/account/billing to add a payment method."
          ]
        }
      ]
    },
    {
      "cell_type": "markdown",
      "source": [
        "## основная функция"
      ],
      "metadata": {
        "id": "gHPPx0JwwS1J"
      }
    },
    {
      "cell_type": "code",
      "source": [
        "\n",
        "def _summarize_topic( dialog):\n",
        "        messages = [\n",
        "            {\"role\": \"system\",\n",
        "             \"content\": \"Ты - ассистент консультанта, основанный на AI. Ты умеешь профессионально суммаризировать присланные тебе диалоги консультанта и клиента. Твоя задача - суммаризировать диалог, который тебе пришел.\"},\n",
        "            {\"role\": \"user\",\n",
        "             \"content\": \"Суммаризируй следующий диалог консультанта и клиента: \" + \" \".join(dialog)}\n",
        "        ]\n",
        "\n",
        "        completion = openai.ChatCompletion.create(\n",
        "            model=SELECT_MODEL_GPT[0],\n",
        "            messages=messages,\n",
        "            temperature=0.1,  # Используем более низкую температуру для более определенной суммаризации\n",
        "            max_tokens=1000  # Ограничиваем количество токенов для суммаризации\n",
        "        )\n",
        "\n",
        "        return completion.choices[0].message.content\n",
        "\n",
        "\n",
        "\n",
        "def answer_index(topic, temp=0.1, top_similar_documents=5):  #я поставила 3 документа, было 5\n",
        "        summarize_text = ''\n",
        "        #я Убираю саммари для тестирования\n",
        "        #яif len(HISTORY) > 0:\n",
        "        #я    summarize_text = \"Вот краткий обзор предыдущего диалога: \" + _summarize_topic(\n",
        "        #я        [q + ' ' + (a if a is not None else '') for q, a in HISTORY])\n",
        "        #я    print(f'САММАРИ \\n=== {summarize_text} \\n')\n",
        "\n",
        "        # Добавляем явное разделение между историей диалога и текущим вопросом\n",
        "        #яinput_text = summarize_text + \"\\n\\nТекущий вопрос: \" + topic\n",
        "        input_text = topic\n",
        "\n",
        "        docs = knowledge_base.similarity_search_with_score(topic, k=top_similar_documents)\n",
        "        responses = []\n",
        "        for i, (doc, score) in enumerate(docs):\n",
        "            if score < 1: # ТУТ ТЫ МОЖЕШЬ УПРАВЛЯТЬ праметром Л2 для чанков. 0..1\n",
        "                content = doc.page_content\n",
        "                response = f'\\n==================Отрывок документа №{i + 1}=====================\\n{content}\\n'\n",
        "                if verbose == 1:\n",
        "                  print(f'\\n=====================Отрывок документа №{i + 1}=====================\\n')\n",
        "                  print(f'=== score = {score}  Metadata документа ------------ {doc.metadata}')\n",
        "                  print(f'\\n{content}\\n')\n",
        "                responses.append(response)\n",
        "\n",
        "\n",
        "        messages = [\n",
        "            {\"role\": \"system\", \"content\": prompt},\n",
        "            {\"role\": \"user\",\n",
        "             \"content\": f\"Документ с информацией для ответа пользователю: {responses}\\n\\nВопрос клиента: \\n{input_text}\"}\n",
        "        ]\n",
        "\n",
        "        completion = openai.ChatCompletion.create(\n",
        "            model=SELECT_MODEL_GPT[0],\n",
        "            messages=messages,\n",
        "            temperature=temp\n",
        "        )\n",
        "\n",
        "        answer = completion.choices[0].message.content\n",
        "\n",
        "        # Добавляем вопрос пользователя и ответ системы в историю\n",
        "        #яHISTORY.append((topic, answer if answer is not None else ''))\n",
        "\n",
        "        return insert_newlines(answer)  # возвращает ответ\n"
      ],
      "metadata": {
        "id": "dsEKLyifvEto"
      },
      "execution_count": null,
      "outputs": []
    },
    {
      "cell_type": "code",
      "source": [
        "def run_dialog(system_doc_url, knowledge_base_url):\n",
        "\n",
        "    while True:\n",
        "        user_question = input('\\nКлиент: ')\n",
        "        if ((user_question.lower() == 'stop') or (user_question.lower() == 'стоп')):\n",
        "            break\n",
        "        answer = answer_index(user_question)\n",
        "        print('\\nМенеджер: ', answer+'\\n\\n')\n",
        "\n",
        "    return"
      ],
      "metadata": {
        "id": "g8N4WuC7qtKO"
      },
      "execution_count": null,
      "outputs": []
    },
    {
      "cell_type": "code",
      "source": [
        "# Промпт моделей машин\n",
        "prompt = load_document_text ('https://docs.google.com/document/d/1i8HA7cX4Ut-tb9rf8wOgERU7lLe66xJYscizGtSSJl0')"
      ],
      "metadata": {
        "id": "YCBakZx6qtVM"
      },
      "execution_count": null,
      "outputs": []
    },
    {
      "cell_type": "code",
      "source": [
        "temperature=0.3\n",
        "verbose=1\n",
        "\n",
        "#HISTORY = [] # Убери решетку если нужно обновлять историю диалогов после запуска, если не нужно обновлять то оставь так\n",
        "\n",
        "run_dialog(prompt, knowledge_base)"
      ],
      "metadata": {
        "id": "WWY1AS2GvTN5",
        "colab": {
          "base_uri": "https://localhost:8080/"
        },
        "outputId": "8fdeda41-9500-4fc4-d65d-d73bc40ba109"
      },
      "execution_count": null,
      "outputs": [
        {
          "name": "stdout",
          "output_type": "stream",
          "text": [
            "\n",
            "Клиент: Чем отличаются комплектации Comfort Kia Ceed\n",
            "\n",
            "=====================Отрывок документа №1=====================\n",
            "\n",
            "=== score = 0.2215176820755005  Metadata документа ------------ {'Header 1': 'Kia Ceed 2022 - https://www.kia.ru/models/ceed/desc/', 'Header 2': 'Комфорт'}\n",
            "\n",
            "Комфорт\n",
            "Достоин быть вашим. В Kia Ceed собрано все самое необходимое, чтобы  ваше вождение было максимально удобным и комфортным. Настройте все под себя и разместитесь удобнее. Превратите автомобиль в место, в котором хочется находиться как можно дольше.\n",
            "Климат-контроль. Обогрев передних и задних сидений. Память настроек (IMS). Подрулевые рычаги переключения передач. Система бесключевого доступа Smart Key и запуск двигателя кнопкой. Климат-контроль. Для поддержания нужного климата в салоне можно выбрать как обычный кондиционер с ручным управлением, так и двухзонный климат-контроль для настройки индивидуального климата для водителя и пассажира.. Обогрев передних и задних сидений. Обогрев передних и задних сидений позаботится о вас и пассажирах во время некомфортной погоды.. Память настроек (IMS). Больше не нужно каждый раз регулировать сиденье. Система памяти сохраняет настройки положения сиденья для 2 водителей. Подрулевые рычаги переключения передач. Быстрая смена передач кончиками пальцев подарит вам чувство полного контроля над автомобилем.. Система бесключевого доступа Smart Key и запуск двигателя кнопкой. Система бесключевого доступа в автомобиль и дистанционного запуска двигателя - удобное и полезное решение, которое вы непременно оцените.. 1 / 5. Климат-контроль. Обогрев передних и задних сидений. Память настроек (IMS). Подрулевые рычаги переключения передач. Система бесключевого доступа Smart Key и запуск двигателя кнопкой\n",
            "\n",
            "\n",
            "=====================Отрывок документа №2=====================\n",
            "\n",
            "=== score = 0.22239196300506592  Metadata документа ------------ {'Header 1': 'Kia Ceed SW 2022 - https://www.kia.ru/models/ceed_sw/desc/', 'Header 2': 'Комфорт'}\n",
            "\n",
            "Комфорт\n",
            "Достоин быть вашим. В Kia Ceed SW собрано все самое необходимое, чтобы  ваше вождение было максимально удобным и комфортным. Настройте все под себя и разместитесь удобнее. Превратите автомобиль в место, в котором хочется находиться как можно дольше.\n",
            "Обогрев передних и задних сидений. Климат-контроль. Память настроек (IMS). Подрулевые рычаги переключения передач. Система бесключевого доступа Smart Key и запуск двигателя кнопкой. Багажное отделение. Обогрев передних и задних сидений. Обогрев передних и задних сидений позаботится о вас и пассажирах во время некомфортной погоды.. Климат-контроль. Для поддержания нужного климата в салоне можно выбрать как обычный кондиционер с ручным управлением, так и двухзонный климат-контроль для настройки индивидуального климата для водителя и пассажира.. Память настроек (IMS). Больше не нужно каждый раз регулировать сиденье. Система памяти сохраняет настройки положения сиденья для 2 водителей. Подрулевые рычаги переключения передач. Быстрая смена передач кончиками пальцев подарит вам чувство полного контроля над автомобилем.. Система бесключевого доступа Smart Key и запуск двигателя кнопкой. Система бесключевого доступа в автомобиль и дистанционного запуска двигателя - удобное и полезное решение, которое вы непременно оцените.. Багажное отделение. В просторный багажник легко поместится малогабаритное спортивное оборудование и несколько чемоданов, а широкая задняя дверь обеспечит удобство погрузки.. 1 / 6. Обогрев передних и задних сидений. Климат-контроль. Память настроек (IMS). Подрулевые рычаги переключения передач. Система бесключевого доступа Smart Key и запуск двигателя кнопкой. Багажное отделение\n",
            "\n",
            "\n",
            "=====================Отрывок документа №3=====================\n",
            "\n",
            "=== score = 0.23287668824195862  Metadata документа ------------ {'Header 1': 'Kia Ceed 2022 - https://www.kia.ru/models/ceed/desc/', 'Header 2': 'Комплектации', 'Header 3': 'Комплектация: Kia Ceed Comfort 1.6 MPI / 128 л.с. / Бензин / Автомат, 6AT / Передний привод'}\n",
            "\n",
            "Комплектация: Kia Ceed Comfort 1.6 MPI / 128 л.с. / Бензин / Автомат, 6AT / Передний привод\n",
            "Цена: 2 244 900 ₽\n",
            "Стандартное оборудование : Ручки дверей, окрашенные в цвет кузова, Передние и задние брызговики, Увеличенный дорожный просвет, Полка багажного отделения, Рулевое колесо и ручка селектора трансмиссии с отделкой кожей*, Фронтальные подушки безопасности, Передние боковые подушки и шторки безопасности, Иммобилайзер, Система экстренной связи ЭРА-ГЛОНАСС, Система контроля давления в шинах (TPMS), Антиблокировочная система тормозов (ABS), Система активного управления стабилизацией (VSM), Система помощи при старте на подъёме (HAC), Система помощи при экстренном торможении (BAS), Датчик света, Запасное колесо временного использования, Напоминание о пассажирах на заднем ряду (ROA), Мультифункциональное рулевое колесо, Передние и задние стеклоподъемники с электроприводом, Регулировка рулевой колонки по высоте и по вылету, Тройное срабатывание указателей поворота при однократном нажатии, Боковые зеркала заднего вида с электроприводом в цвет кузова, Bluetooth для подключения мобильных устройств, Ключ с дистанционным управлением центральным замком, Кондиционер, Круиз-контроль\n",
            "Опции комплектации : Боковые зеркала заднего вида с электрорегулировкой и подогревом , Подогрев форсунок омывателя лобового стекла, Подогрев рулевого колеса , Подогрев передних сидений , Дополнительный электрический отопитель салона, Стальные диски 15\" с декоративными колпаками и шинами 195/65 R15, Сиденья с отделкой тканью, Камера заднего вида , Приборная панель Supervision c цветным дисплеем 4.2''\n",
            "Технические характеристики : Город, г/км: 223; Трасса, г/км: 135; В комбинированном цикле, г/км: 168; Двигатель: 1.6 MPI; Мощность, л.с.: 128; Крутящий момент, Н·м: 154,6; Тип топлива: Бензин, АИ 92; Рабочий объем, л: 1.6; Рабочий объем, см3: 1591; Экологический класс: Евро-5; Коробка передач: Автомат (6AT); Привод: Передний; Время разгона 0-100 км/ч, с: 11,5; Расход топлива комбинированный, л/100 км: 7,2; Тип кузова: Хэтчбек; Габариты (длина/ширина/высота), мм: 4310 / 1800 / 1457; Колесная база, мм: 2650; Дорожный просвет, мм: 150; Объём багажника (VDA), л: 395\n",
            "Спецификация : Код модели: J7S6D261F; OCN: S03H; Модельный год: 2022; Год производства: 2022\n",
            "\n",
            "\n",
            "=====================Отрывок документа №4=====================\n",
            "\n",
            "=== score = 0.24191755056381226  Metadata документа ------------ {'Header 1': 'Kia Ceed 2022 - https://www.kia.ru/models/ceed/desc/', 'Header 2': 'Наслаждайтесь лучшим'}\n",
            "\n",
            "Наслаждайтесь лучшим\n",
            "Продвинутый и при этом интуитивно понятный — в Kia Ceed весь интерьер построен вокруг водителя. Ощущение простора дополняют мягкие на ощупь материалы, подчеркивающие высокое качество исполнения салона.\n",
            "Фото https://cdn.kia.ru/resize/1920x960/media-data/infographics/ceed_new/enjoy.jpg\n",
            "\n",
            "\n",
            "=====================Отрывок документа №5=====================\n",
            "\n",
            "=== score = 0.24192510545253754  Metadata документа ------------ {'Header 1': 'Kia Ceed SW 2022 - https://www.kia.ru/models/ceed_sw/desc/', 'Header 2': 'Комплектации', 'Header 3': 'Комплектация: Kia Ceed SW Comfort 1.6 MPI / 128 л.с. / Бензин / Автомат, 6AT / Передний привод'}\n",
            "\n",
            "Комплектация: Kia Ceed SW Comfort 1.6 MPI / 128 л.с. / Бензин / Автомат, 6AT / Передний привод\n",
            "Цена: 2 314 900 ₽\n",
            "Стандартное оборудование : Ручки дверей, окрашенные в цвет кузова, Передние и задние брызговики, Увеличенный дорожный просвет, Рейлинги на крыше, Шторка багажного отделения, Дополнительная розетка 12V в багажном отделении, Органайзер багажного отсека, Рулевое колесо и ручка селектора трансмиссии с отделкой кожей*, Фронтальные подушки безопасности, Передние боковые подушки и шторки безопасности, Иммобилайзер, Система экстренной связи ЭРА-ГЛОНАСС, Система контроля давления в шинах (TPMS), Антиблокировочная система тормозов (ABS), Система активного управления стабилизацией (VSM), Система помощи при старте на подъёме (HAC), Система помощи при экстренном торможении (BAS), Датчик света, Запасное колесо временного использования, Напоминание о пассажирах на заднем ряду (ROA), Мультифункциональное рулевое колесо, Передние и задние стеклоподъемники с электроприводом, Регулировка рулевой колонки по высоте и по вылету, Тройное срабатывание указателей поворота при однократном нажатии, Боковые зеркала заднего вида с электроприводом в цвет кузова, Bluetooth для подключения мобильных устройств, Ключ с дистанционным управлением центральным замком, Кондиционер, Круиз-контроль\n",
            "Опции комплектации : Боковые зеркала заднего вида с электрорегулировкой и подогревом , Подогрев форсунок омывателя лобового стекла, Подогрев рулевого колеса , Подогрев передних сидений , Дополнительный электрический отопитель салона, Сиденья с отделкой тканью, Камера заднего вида , Приборная панель Supervision c цветным дисплеем 4.2''\n",
            "Технические характеристики : Город, г/км: 223; Трасса, г/км: 135; В комбинированном цикле, г/км: 168; Двигатель: 1.6 MPI; Мощность, л.с.: 128; Крутящий момент, Н·м: 154,6; Тип топлива: Бензин, АИ 92; Рабочий объем, л: 1.6; Рабочий объем, см3: 1591; Экологический класс: Евро-5; Коробка передач: Автомат (6AT); Привод: Передний; Время разгона 0-100 км/ч, с: 11,8; Расход топлива комбинированный, л/100 км: 7,2; Тип кузова: Универсал; Габариты (длина/ширина/высота), мм: 4600 / 1800 / 1475; Колесная база, мм: 2650; Дорожный просвет, мм: 150; Объём багажника (VDA), л: 625\n",
            "Спецификация : Код модели: J7W5D261F; OCN: K772; Модельный год: 2022; Год производства: 2022\n",
            "\n",
            "\n",
            "Менеджер:   Комплектации Comfort Kia Ceed отличаются по наличию опций и стандартного оборудования. Вот основные различия: 1. Комплектация Kia Ceed Comfort 1.6 MPI / 128 л.с. /\n",
            " Бензин / Автомат, 6AT / Передний привод: - Ручки дверей, окрашенные в цвет кузова - Передние и задние брызговики - Увеличенный дорожный просвет - Полка багажного\n",
            " отделения - Рулевое колесо и ручка селектора трансмиссии с отделкой кожей - Фронтальные подушки безопасности - Передние боковые подушки и шторки безопасности -\n",
            " Иммобилайзер - Система экстренной связи ЭРА-ГЛОНАСС - Система контроля давления в шинах (TPMS) - Антиблокировочная система тормозов (ABS) - Система активного управления\n",
            " стабилизацией (VSM) - Система помощи при старте на подъёме (HAC) - Система помощи при экстренном торможении (BAS) - Датчик света - Запасное колесо временного\n",
            " использования - Напоминание о пассажирах на заднем ряду (ROA) - Мультифункциональное рулевое колесо - Передние и задние стеклоподъемники с электроприводом - Регулировка\n",
            " рулевой колонки по высоте и по вылету - Тройное срабатывание указателей поворота при однократном нажатии - Боковые зеркала заднего вида с электроприводом в цвет кузова -\n",
            " Bluetooth для подключения мобильных устройств - Ключ с дистанционным управлением центральным замком - Кондиционер - Круиз-контроль 2. Комплектация Kia Ceed SW Comfort\n",
            " 1.6 MPI / 128 л.с. / Бензин / Автомат, 6AT / Передний привод: - Ручки дверей, окрашенные в цвет кузова - Передние и задние брызговики - Увеличенный дорожный просвет -\n",
            " Рейлинги на крыше - Шторка багажного отделения - Дополнительная розетка 12V в багажном отделении - Органайзер багажного отсека - Рулевое колесо и ручка селектора\n",
            " трансмиссии с отделкой кожей - Фронтальные подушки безопасности - Передние боковые подушки и шторки безопасности - Иммобилайзер - Система экстренной связи ЭРА-ГЛОНАСС -\n",
            " Система контроля давления в шинах (TPMS) - Антиблокировочная система тормозов (ABS) - Система активного управления стабилизацией (VSM) - Система помощи при старте на\n",
            " подъёме (HAC) - Система помощи при экстренном торможении (BAS) - Датчик света - Запасное колесо временного использования - Напоминание о пассажирах на заднем ряду (ROA)\n",
            " - Мультифункциональное рулевое колесо - Передние и задние стеклоподъемники с электроприводом - Регулировка рулевой колонки по высоте и по вылету - Тройное срабатывание\n",
            " указателей поворота при однократном нажатии - Боковые зеркала заднего вида с электроприводом в цвет кузова - Bluetooth для подключения мобильных устройств - Ключ с\n",
            " дистанционным управлением центральным замком - Кондиционер - Круиз-контроль Обе комплектации имеют одинаковые технические характеристики и стоимость. Разница заключается\n",
            " в типе кузова: хэтчбек (Kia Ceed) и универсал (Kia Ceed SW).\n",
            "\n",
            "\n",
            "\n",
            "Клиент: стоп\n"
          ]
        }
      ]
    },
    {
      "cell_type": "code",
      "source": [
        "HISTORY = []"
      ],
      "metadata": {
        "id": "kxwjBwDxXw8a"
      },
      "execution_count": null,
      "outputs": []
    },
    {
      "cell_type": "markdown",
      "source": [
        "## Собственно диалог"
      ],
      "metadata": {
        "id": "sFyI9HuPx6zb"
      }
    },
    {
      "cell_type": "code",
      "source": [
        "temperature=0.1\n",
        "verbose=1\n",
        "\n",
        "#HISTORY = [] # Убери решетку если нужно обновлять историю диалогов после запуска, если не нужно обновлять то оставь так\n",
        "\n",
        "run_dialog(prompt, knowledge_base)"
      ],
      "metadata": {
        "colab": {
          "base_uri": "https://localhost:8080/"
        },
        "id": "Rz_TatDtRFu1",
        "outputId": "f733cdc1-a20a-405b-c83c-68cc8af98e84"
      },
      "execution_count": null,
      "outputs": [
        {
          "name": "stdout",
          "output_type": "stream",
          "text": [
            "\n",
            "Клиент: Какая минимальная комплектация Carnival и ее цена\n",
            "\n",
            "=====================Отрывок документа №1=====================\n",
            "\n",
            "=== score = 0.32416218519210815  Metadata документа ------------ {'Header 1': 'Kia Carnival 2022 - https://www.kia.ru/models/carnival/desc/', 'Header 2': 'Комплектации', 'Header 3': 'Комплектация: Kia Carnival Premium+ 3.5 MPI / 249 л.с. / Бензин / Автомат, 8AT / Передний привод'}\n",
            "\n",
            "Комплектация: Kia Carnival Premium+ 3.5 MPI / 249 л.с. / Бензин / Автомат, 8AT / Передний привод\n",
            "Цена: 5 324 900 ₽\n",
            "Стандартное оборудование : Светодиодные дневные ходовые огни, Дополнительный светодиодный стоп-сигнал, Два разъёма USB для зарядки мобильных устройств в передней панели, Разъём USB для зарядки мобильных устройств в боковой части спинки передних сидений, Дополнительная розетка 12V в багажном отделении, Крепления для детского кресла ISOFIX на втором и третьем ряду сидений, Система помощи при старте на подъёме (HAC), Система активного управления стабилизацией (VSM), Фронтальные подушки безопасности, Передние боковые подушки и шторки безопасности, Коленная подушка безопасности водителя, Крепления для детского кресла ISOFIX на втором и третьем ряду сидений, Система экстренной связи ЭРА-ГЛОНАСС, Система контроля давления в шинах (TPMS), Запасное колесо временного использования, Круиз-контроль, Механическая регулировка сидений второго ряда в продольном направлении, Сиденья третьего ряда со спинками, складывающимися в пол в соотношении 60:40, Bluetooth для подключения мобильных устройств , Регулировка рулевой колонки по высоте и вылету, Система выбора режима движения (Drive Mode Select), Электрический стояночный тормоз (EPB)\n",
            "Опции комплектации : Сдвижные задние боковые двери с электроприводом и дистанционным управлением, Интеллектуальная система открывания багажника и сдвижных задних боковых дверей , Решетка радиатора с отделкой хромом, Задняя стойка с отделкой хромом, Рейлинги на крыше, Светодиодные противотуманные фары, Светодиодные задние фонари , Два люка с электроприводом , Тонировка стёкол задних дверей, Проекционные светодиодные фары, Электропривод складывания боковых зеркал заднего вида, Климат-контроль для второго и третьего ряда сидений , Передние и задние стеклоподъёмники с функцией Auto, Система бесключевого доступа Smart Key и запуск двигателя кнопкой, Дистанционный запуск двигателя с ключа, Премиальная аудиосистема Bose с 11 динамиками, сабвуфером и внешним усилителем, Камера для общения с пассажирами второго и третьего ряда, Розетка 220в в центральной консоли, Беспроводная зарядка для мобильных устройств , Задние датчики парковки, Передние датчики парковки, Салонное зеркало заднего вида с автоматическим затемнением, Напоминание о пассажирах на заднем ряду (ROA), Электрорегулировка сиденья переднего пассажира в 8 направлениях, Вентиляция передних сидений , Вентиляция сидений второго ряда, Навигационная система 12,3'' с поддержкой Apple Carplay и Android Auto, Телематические сервисы Kia Connect**, Электронный селектор трансмиссии (Shift by Wire), Подрулевые \"лепестки\" переключения передач, Солнцезащитные шторки для пассажиров второго и третьего рядов, 7 посадочных мест , 2 отдельных сиденья второго ряда с подлокотниками и поддержкой для ног , Электрорегулировка сидений второго ряда в 6 направлениях с функцией перевода сидений в режим релаксации, Сиденья с комбинированной кожаной отделкой*, Рулевое колесо с отделкой кожей*, Сетка для крепления багажа, Интеллектуальный круиз-контроль (SCC) c функцией Stop&Go , Интеллектуальный ограничитель скорости (ISLA), Система предотвращения фронтального столкновения с функцией предупреждения столкновения при повороте на перекрестке (FCA-JT) , Система предотвращения выезда из полосы движения (LKA), Ассистент движения в полосе (LFA) , Система предупреждения о столкновении с автомобилем в слепой зоне (BCW), Система предупреждения бокового столкновения при выезде с парковки задним ходом (RCCW), Система предотвращения столкновения с автомобилем в слепой зоне (BCA) , Система предотвращения бокового столкновения при выезде с парковки задним ходом (RCCA), Камеры, отображающие слепые зоны на панель приборов (BVM) , Система безопасного выхода из автомобиля (SEW), Система контроля внимания водителя (DAW), Ассистент управления дальним светом (HBA), Предупреждение о начале движения впередиидущего автомобиля (LVDA), Подогрев передних сидений , Электрообогрев лобового стекла, Подогрев форсунок омывателя лобового стекла, Боковые зеркала заднего вида с электрорегулировкой и подогревом, Подогрев рулевого колеса, Подогрев сидений второго ряда\n",
            "Технические характеристики : Тип кузова: Кроссвэн; Габариты (длина/ширина/высота), мм: 5155 / 1995 / 1750 ; Колесная база, мм: 3090; Дорожный просвет, мм: 182; Объём багажника (VDA), л: 2827-627; Город, г/км: 332; Трасса, г/км: 179; В комбинированном цикле, г/км: 235; Двигатель: 3.5 MPI; Мощность, л.с.: 249; Крутящий момент, Н·м: 331.5 ; Тип топлива: Бензин, АИ 92-95; Рабочий объем, см3: 3470; Экологический класс: Евро-5; Коробка передач: Автомат (8AT); Привод: Передний; Время разгона 0-100 км/ч, с: 8.5; Расход топлива комбинированный, л/100 км: 10.3; Максимальная скорость (км/ч): 190; Ускорение (сек) 0->100 (км/ч): 8.5; Ускорение (сек) 60->100 (км/ч): 4,5; Ускорение (сек) 80->120 (км/ч): 5,6; Путь при торможении со 100 до 0 км/ч (м): 42.2; В городском цикле (л. / 100 км): 14.6; Объем топливного бака (л.): 72; В загородном цикле (л. / 100 км): 7.8; В комбинированном цикле (л. / 100 км): 10.3\n",
            "Спецификация : Код модели: HSB7J961J; OCN: H212; Модельный год: 2022; Год производства: 2022\n",
            "\n",
            "\n",
            "=====================Отрывок документа №2=====================\n",
            "\n",
            "=== score = 0.32528620958328247  Metadata документа ------------ {'Header 1': 'Kia Carnival 2022 - https://www.kia.ru/models/carnival/desc/', 'Header 2': 'Комплектации', 'Header 3': 'Комплектация: Kia Carnival Prestige 3.5 MPI / 249 л.с. / Бензин / Автомат, 8AT / Передний привод'}\n",
            "\n",
            "Комплектация: Kia Carnival Prestige 3.5 MPI / 249 л.с. / Бензин / Автомат, 8AT / Передний привод\n",
            "Цена: 4 934 900 ₽\n",
            "Стандартное оборудование : Светодиодные дневные ходовые огни, Дополнительный светодиодный стоп-сигнал, Два разъёма USB для зарядки мобильных устройств в передней панели, Разъём USB для зарядки мобильных устройств в боковой части спинки передних сидений, Дополнительная розетка 12V в багажном отделении, Крепления для детского кресла ISOFIX на втором и третьем ряду сидений, Система помощи при старте на подъёме (HAC), Система активного управления стабилизацией (VSM), Фронтальные подушки безопасности, Передние боковые подушки и шторки безопасности, Коленная подушка безопасности водителя, Крепления для детского кресла ISOFIX на втором и третьем ряду сидений, Система экстренной связи ЭРА-ГЛОНАСС, Система контроля давления в шинах (TPMS), Запасное колесо временного использования, Круиз-контроль, Механическая регулировка сидений второго ряда в продольном направлении, Сиденья третьего ряда со спинками, складывающимися в пол в соотношении 60:40, Bluetooth для подключения мобильных устройств , Регулировка рулевой колонки по высоте и вылету, Система выбора режима движения (Drive Mode Select), Электрический стояночный тормоз (EPB)\n",
            "Опции комплектации : Сдвижные задние боковые двери с электроприводом и дистанционным управлением, Интеллектуальная система открывания багажника и сдвижных задних боковых дверей , Решетка радиатора с отделкой хромом, Задняя стойка с отделкой хромом, Рейлинги на крыше, Светодиодные противотуманные фары, Светодиодные задние фонари , Проекционные светодиодные фары, Сиденья с отделкой искусственной кожей, Рулевое колесо с отделкой кожей*, Органайзер в боковой панели багажника, Сетка для крепления багажа, Передняя панель с отделкой вставками под текстуру дерева, Система предупреждения о столкновении с автомобилем в слепой зоне (BCW), Система предупреждения бокового столкновения при выезде с парковки задним ходом (RCCW), Система безопасного выхода из автомобиля (SEW), Климат-контроль для второго и третьего ряда сидений , Передние и задние стеклоподъёмники с функцией Auto, Система бесключевого доступа Smart Key и запуск двигателя кнопкой, Дистанционный запуск двигателя с ключа, Телематические сервисы Kia Connect**, Розетка 220в в центральной консоли, Беспроводная зарядка для мобильных устройств , Задние датчики парковки, Передние датчики парковки, Салонное зеркало заднего вида с автоматическим затемнением, Напоминание о пассажирах на заднем ряду (ROA), Электрорегулировка сиденья водителя в 10 направлениях, Камера для общения с пассажирами второго и третьего ряда, Навигационная система 12,3'' с поддержкой Apple Carplay и Android Auto, Электропривод складывания боковых зеркал заднего вида, Солнцезащитные шторки для пассажиров второго и третьего рядов, 3 отдельных сиденья второго ряда, съемные, с возможностью установки против хода движения , 8 посадочных мест, Подогрев передних сидений , Электрообогрев лобового стекла, Подогрев форсунок омывателя лобового стекла, Боковые зеркала заднего вида с электрорегулировкой и подогревом, Подогрев рулевого колеса\n",
            "Технические характеристики : Тип кузова: Кроссвэн; Габариты (длина/ширина/высота), мм: 5155 / 1995 / 1750 ; Колесная база, мм: 3090; Дорожный просвет, мм: 182; Объём багажника (VDA), л: 2905-627; Город, г/км: 332; Трасса, г/км: 179; В комбинированном цикле, г/км: 235; Двигатель: 3.5 MPI; Мощность, л.с.: 249; Крутящий момент, Н·м: 331.5 ; Тип топлива: Бензин, АИ 92-95; Рабочий объем, см3: 3470; Экологический класс: Евро-5; Коробка передач: Автомат (8AT); Привод: Передний; Время разгона 0-100 км/ч, с: 8.5; Расход топлива комбинированный, л/100 км: 10.3; Максимальная скорость (км/ч): 190; Ускорение (сек) 0->100 (км/ч): 8.5; Ускорение (сек) 60->100 (км/ч): 4,5; Ускорение (сек) 80->120 (км/ч): 5,6; Путь при торможении со 100 до 0 км/ч (м): 42.2; В городском цикле (л. / 100 км): 14.6; Объем топливного бака (л.): 72; В загородном цикле (л. / 100 км): 7.8; В комбинированном цикле (л. / 100 км): 10.3\n",
            "Спецификация : Код модели: HSB8J961J; OCN: G617; Модельный год: 2022; Год производства: 2022\n",
            "\n",
            "\n",
            "=====================Отрывок документа №3=====================\n",
            "\n",
            "=== score = 0.3256416916847229  Metadata документа ------------ {'Header 1': 'Kia Carnival 2022 - https://www.kia.ru/models/carnival/desc/', 'Header 2': 'Комплектации', 'Header 3': 'Комплектация: Kia Carnival Premium 3.5 MPI / 249 л.с. / Бензин / Автомат, 8AT / Передний привод'}\n",
            "\n",
            "Комплектация: Kia Carnival Premium 3.5 MPI / 249 л.с. / Бензин / Автомат, 8AT / Передний привод\n",
            "Цена: 5 174 900 ₽\n",
            "Стандартное оборудование : Светодиодные дневные ходовые огни, Дополнительный светодиодный стоп-сигнал, Два разъёма USB для зарядки мобильных устройств в передней панели, Разъём USB для зарядки мобильных устройств в боковой части спинки передних сидений, Дополнительная розетка 12V в багажном отделении, Крепления для детского кресла ISOFIX на втором и третьем ряду сидений, Система помощи при старте на подъёме (HAC), Система активного управления стабилизацией (VSM), Фронтальные подушки безопасности, Передние боковые подушки и шторки безопасности, Коленная подушка безопасности водителя, Крепления для детского кресла ISOFIX на втором и третьем ряду сидений, Система экстренной связи ЭРА-ГЛОНАСС, Система контроля давления в шинах (TPMS), Запасное колесо временного использования, Круиз-контроль, Механическая регулировка сидений второго ряда в продольном направлении, Сиденья третьего ряда со спинками, складывающимися в пол в соотношении 60:40, Bluetooth для подключения мобильных устройств , Регулировка рулевой колонки по высоте и вылету, Система выбора режима движения (Drive Mode Select), Электрический стояночный тормоз (EPB)\n",
            "Опции комплектации : Сдвижные задние боковые двери с электроприводом и дистанционным управлением, Интеллектуальная система открывания багажника и сдвижных задних боковых дверей , Решетка радиатора с отделкой хромом, Задняя стойка с отделкой хромом, Рейлинги на крыше, Светодиодные противотуманные фары, Светодиодные задние фонари , Два люка с электроприводом , Тонировка стёкол задних дверей, Проекционные светодиодные фары, Сиденья с отделкой искусственной кожей, Рулевое колесо с отделкой кожей*, Сетка для крепления багажа, Интеллектуальный круиз-контроль (SCC) c функцией Stop&Go , Интеллектуальный ограничитель скорости (ISLA), Система предотвращения фронтального столкновения с функцией предупреждения столкновения при повороте на перекрестке (FCA-JT) , Система предотвращения выезда из полосы движения (LKA), Ассистент движения в полосе (LFA) , Система предупреждения о столкновении с автомобилем в слепой зоне (BCW), Система предупреждения бокового столкновения при выезде с парковки задним ходом (RCCW), Система предотвращения столкновения с автомобилем в слепой зоне (BCA) , Система предотвращения бокового столкновения при выезде с парковки задним ходом (RCCA), Камеры, отображающие слепые зоны на панель приборов (BVM) , Система безопасного выхода из автомобиля (SEW), Предупреждение о начале движения впередиидущего автомобиля (LVDA), Система контроля внимания водителя (DAW), Ассистент управления дальним светом (HBA), Климат-контроль для второго и третьего ряда сидений , Передние и задние стеклоподъёмники с функцией Auto, Система бесключевого доступа Smart Key и запуск двигателя кнопкой, Дистанционный запуск двигателя с ключа, Телематические сервисы Kia Connect**, Камера для общения с пассажирами второго и третьего ряда, Розетка 220в в центральной консоли, Беспроводная зарядка для мобильных устройств , Задние датчики парковки, Передние датчики парковки, Салонное зеркало заднего вида с автоматическим затемнением, Напоминание о пассажирах на заднем ряду (ROA), Вентиляция передних сидений , Навигационная система 12,3'' с поддержкой Apple Carplay и Android Auto, Электронный селектор трансмиссии (Shift by Wire), Подрулевые \"лепестки\" переключения передач, Электропривод складывания боковых зеркал заднего вида, Солнцезащитные шторки для пассажиров второго и третьего рядов, 3 отдельных сиденья второго ряда, съемные, с возможностью установки против хода движения , Электрорегулировка сиденья переднего пассажира в 8 направлениях, 8 посадочных мест, Подогрев передних сидений , Электрообогрев лобового стекла, Подогрев форсунок омывателя лобового стекла, Боковые зеркала заднего вида с электрорегулировкой и подогревом, Подогрев рулевого колеса\n",
            "Технические характеристики : Тип кузова: Кроссвэн; Габариты (длина/ширина/высота), мм: 5155 / 1995 / 1750 ; Колесная база, мм: 3090; Дорожный просвет, мм: 182; Объём багажника (VDA), л: 2905-627; Город, г/км: 332; Трасса, г/км: 179; В комбинированном цикле, г/км: 235; Двигатель: 3.5 MPI; Мощность, л.с.: 249; Крутящий момент, Н·м: 331.5 ; Тип топлива: Бензин, АИ 92-95; Рабочий объем, см3: 3470; Экологический класс: Евро-5; Коробка передач: Автомат (8AT); Привод: Передний; Время разгона 0-100 км/ч, с: 8.5; Расход топлива комбинированный, л/100 км: 10.3; Максимальная скорость (км/ч): 190; Ускорение (сек) 0->100 (км/ч): 8.5; Ускорение (сек) 60->100 (км/ч): 4,5; Ускорение (сек) 80->120 (км/ч): 5,6; Путь при торможении со 100 до 0 км/ч (м): 42.2; В городском цикле (л. / 100 км): 14.6; Объем топливного бака (л.): 72; В загородном цикле (л. / 100 км): 7.8; В комбинированном цикле (л. / 100 км): 10.3\n",
            "Спецификация : Код модели: HSB8J961J; OCN: H211; Модельный год: 2022; Год производства: 2022\n",
            "\n",
            "\n",
            "=====================Отрывок документа №4=====================\n",
            "\n",
            "=== score = 0.3302299678325653  Metadata документа ------------ {'Header 1': 'Kia Carnival 2022 - https://www.kia.ru/models/carnival/desc/', 'Header 2': 'Территория стиля и комфорта'}\n",
            "\n",
            "Территория стиля и комфорта\n",
            "Что перед вами? Роскошный и брутальный кроссовер? Солидный и практичный семейный автомобиль? Высокотехнологичное средство передвижения или просторный и комфортный пати-вэн для большой компании? Kia Carnival совмещает все это и готов удивлять вас долгие годы.\n",
            "Фото https://cdn.kia.ru/resize/1920x960/media-data/infographic/file/b32628c8-1d7d-401c-a57a-1169c5700dcf.jpeg\n",
            "\n",
            "\n",
            "=====================Отрывок документа №5=====================\n",
            "\n",
            "=== score = 0.3305625021457672  Metadata документа ------------ {'Header 1': 'Kia Carnival 2022 - https://www.kia.ru/models/carnival/desc/', 'Header 2': 'Комплектации', 'Header 3': 'Комплектация: Kia Carnival Premium+ 2.2 CRDi / 199 л.с. / Дизель / Автомат, 8AT / Передний привод'}\n",
            "\n",
            "Комплектация: Kia Carnival Premium+ 2.2 CRDi / 199 л.с. / Дизель / Автомат, 8AT / Передний привод\n",
            "Цена: 5 184 900 ₽\n",
            "Стандартное оборудование : Светодиодные дневные ходовые огни, Дополнительный светодиодный стоп-сигнал, Два разъёма USB для зарядки мобильных устройств в передней панели, Разъём USB для зарядки мобильных устройств в боковой части спинки передних сидений, Дополнительная розетка 12V в багажном отделении, Крепления для детского кресла ISOFIX на втором и третьем ряду сидений, Система помощи при старте на подъёме (HAC), Система активного управления стабилизацией (VSM), Фронтальные подушки безопасности, Передние боковые подушки и шторки безопасности, Коленная подушка безопасности водителя, Крепления для детского кресла ISOFIX на втором и третьем ряду сидений, Система экстренной связи ЭРА-ГЛОНАСС, Система контроля давления в шинах (TPMS), Запасное колесо временного использования, Круиз-контроль, Механическая регулировка сидений второго ряда в продольном направлении, Сиденья третьего ряда со спинками, складывающимися в пол в соотношении 60:40, Bluetooth для подключения мобильных устройств , Регулировка рулевой колонки по высоте и вылету, Система выбора режима движения (Drive Mode Select), Электрический стояночный тормоз (EPB)\n",
            "Опции комплектации : Сдвижные задние боковые двери с электроприводом и дистанционным управлением, Интеллектуальная система открывания багажника и сдвижных задних боковых дверей , Решетка радиатора с отделкой хромом, Задняя стойка с отделкой хромом, Рейлинги на крыше, Светодиодные противотуманные фары, Светодиодные задние фонари , Два люка с электроприводом , Тонировка стёкол задних дверей, Проекционные светодиодные фары, Электропривод складывания боковых зеркал заднего вида, Климат-контроль для второго и третьего ряда сидений , Передние и задние стеклоподъёмники с функцией Auto, Система бесключевого доступа Smart Key и запуск двигателя кнопкой, Дистанционный запуск двигателя с ключа, Премиальная аудиосистема Bose с 11 динамиками, сабвуфером и внешним усилителем, Камера для общения с пассажирами второго и третьего ряда, Розетка 220в в центральной консоли, Беспроводная зарядка для мобильных устройств , Задние датчики парковки, Передние датчики парковки, Салонное зеркало заднего вида с автоматическим затемнением, Напоминание о пассажирах на заднем ряду (ROA), Электрорегулировка сиденья переднего пассажира в 8 направлениях, Вентиляция передних сидений , Вентиляция сидений второго ряда, Навигационная система 12,3'' с поддержкой Apple Carplay и Android Auto, Телематические сервисы Kia Connect**, Электронный селектор трансмиссии (Shift by Wire), Подрулевые \"лепестки\" переключения передач, Солнцезащитные шторки для пассажиров второго и третьего рядов, 7 посадочных мест , 2 отдельных сиденья второго ряда с подлокотниками и поддержкой для ног , Электрорегулировка сидений второго ряда в 6 направлениях с функцией перевода сидений в режим релаксации, Сиденья с комбинированной кожаной отделкой*, Рулевое колесо с отделкой кожей*, Сетка для крепления багажа, Интеллектуальный круиз-контроль (SCC) c функцией Stop&Go , Интеллектуальный ограничитель скорости (ISLA), Система предотвращения фронтального столкновения с функцией предупреждения столкновения при повороте на перекрестке (FCA-JT) , Система предотвращения выезда из полосы движения (LKA), Ассистент движения в полосе (LFA) , Система предупреждения о столкновении с автомобилем в слепой зоне (BCW), Система предупреждения бокового столкновения при выезде с парковки задним ходом (RCCW), Система предотвращения столкновения с автомобилем в слепой зоне (BCA) , Система предотвращения бокового столкновения при выезде с парковки задним ходом (RCCA), Камеры, отображающие слепые зоны на панель приборов (BVM) , Система безопасного выхода из автомобиля (SEW), Система контроля внимания водителя (DAW), Ассистент управления дальним светом (HBA), Предупреждение о начале движения впередиидущего автомобиля (LVDA), Подогрев передних сидений , Электрообогрев лобового стекла, Подогрев форсунок омывателя лобового стекла, Боковые зеркала заднего вида с электрорегулировкой и подогревом, Подогрев рулевого колеса, Подогрев сидений второго ряда\n",
            "Технические характеристики : Тип кузова: Кроссвэн; Габариты (длина/ширина/высота), мм: 5155 / 1995 / 1750 ; Колесная база, мм: 3090; Дорожный просвет, мм: 182; Объём багажника (VDA), л: 2827-627; Город, г/км: 205; Трасса, г/км: 149; В комбинированном цикле, г/км: 170; Двигатель: 2.2 CRDI ; Мощность, л.с.: 199; Крутящий момент, Н·м: 440; Тип топлива: Дизель; Рабочий объем, см3: 2151; Экологический класс: Евро-5; Коробка передач: Автомат (8AT); Привод: Передний; Время разгона 0-100 км/ч, с: 10.7; Расход топлива комбинированный, л/100 км: 6.5; Максимальная скорость (км/ч): 190; Ускорение (сек) 0->100 (км/ч): 10.7; Ускорение (сек) 60->100 (км/ч): 5,9; Ускорение (сек) 80->120 (км/ч): 8,2; Путь при торможении со 100 до 0 км/ч (м): 42.2; В городском цикле (л. / 100 км): 7.8; Объем топливного бака (л.): 72; В загородном цикле (л. / 100 км): 5.7; В комбинированном цикле (л. / 100 км): 6.5\n",
            "Спецификация : Код модели: HSB72HC5J; OCN: H212; Модельный год: 2022; Год производства: 2022\n",
            "\n",
            "\n",
            "Менеджер:   Минимальная комплектация Kia Carnival - это Carnival Premium 3.5 MPI с бензиновым двигателем, автоматической коробкой передач и передним приводом. Цена этой комплектации\n",
            " составляет 5 174 900 ₽.\n",
            "\n",
            "\n",
            "\n",
            "Клиент: Какая минимальная цена карнивал\n",
            "\n",
            "=====================Отрывок документа №1=====================\n",
            "\n",
            "=== score = 0.3741065561771393  Metadata документа ------------ {'Header 1': 'kiaflex'}\n",
            "\n",
            "Аренда автомобилей Kia по подписке\n",
            "Аренда автомобилей Kia по подписке\n",
            "Всё включено в единый платёж\n",
            "Выгоднее, чем кредит Новый способ владения авто  Единый тариф Действует во всех регионах РФ  Гибкость Подписка от 1 суток до 3 лет  Страхование Застрахованы ОСАГО и КАСКО  Оплата Каждые 30 дней для подписки свыше 1 мес.  Поддержка 24/7 Помощь на дороге и по телефону  Без ограничений В любой регион РФ и за рубеж  Техобслуживание ТО у дилеров включено  Гарантия Все автомобили с гарантией производителя  Шины Комплект зима/лето и хранение бесплатно\n",
            "Новый гибкий тариф\n",
            "Чем дольше подписка —тем выгоднее тариф\n",
            "Выгода формируется за счёт снижения стоимости подписки в сутки в зависимости отдлительности контракта на подписку.\n",
            "Сервисы включены в стоимость\n",
            "Выберите модель Kia\n",
            "Rio\n",
            "1 сутки\n",
            "2 700 ₽/сутки\n",
            "Базовый тариф\n",
            "1 месяц\n",
            "2 193 ₽/сутки\n",
            "Выгода 508 ₽/сутки**\n",
            "12 месяцев\n",
            "1 364 ₽/сутки\n",
            "Выгода 1 336 ₽/сутки**\n",
            "Seltos\n",
            "1 сутки\n",
            "3 700 ₽/сутки\n",
            "Базовый тариф\n",
            "1 месяц\n",
            "2 903 ₽/сутки\n",
            "Выгода 798 ₽/сутки**\n",
            "12 месяцев\n",
            "1 638 ₽/сутки\n",
            "Выгода 2 062 ₽/сутки**\n",
            "Sportage\n",
            "1 сутки\n",
            "5 100 ₽/сутки\n",
            "Базовый тариф\n",
            "1 месяц\n",
            "3 795 ₽/сутки\n",
            "Выгода 1 305 ₽/сутки**\n",
            "12 месяцев\n",
            "2 149 ₽/сутки\n",
            "Выгода 2 951 ₽/сутки**\n",
            "K5\n",
            "1 сутки\n",
            "4 700 ₽/сутки\n",
            "Базовый тариф\n",
            "1 месяц\n",
            "3 540 ₽/сутки\n",
            "Выгода 1 160 ₽/сутки**\n",
            "12 месяцев\n",
            "1 988 ₽/сутки\n",
            "Выгода 2 712 ₽/сутки**\n",
            "Sorento\n",
            "1 сутки\n",
            "5 900 ₽/сутки\n",
            "Базовый тариф\n",
            "1 месяц\n",
            "4 450 ₽/сутки\n",
            "Выгода 1 450 ₽/сутки**\n",
            "12 месяцев\n",
            "2 647 ₽/сутки\n",
            "Выгода 3 253 ₽/сутки**\n",
            "Carnival\n",
            "1 сутки\n",
            "6 300 ₽/сутки\n",
            "Базовый тариф\n",
            "1 месяц\n",
            "4 705 ₽/сутки\n",
            "Выгода 1 595 ₽/сутки**\n",
            "12 месяцев\n",
            "2 755 ₽/сутки\n",
            "Выгода 3 545 ₽/сутки**\n",
            "Два шага к подписке Kia Flex\n",
            "Отправьте заявку дилеру Kia Flex\n",
            "Ожидайте приглашение\n",
            "Приезжайте к дилеру Kia Flex\n",
            "Подпишите договор и получите авто\n",
            "Сегодня Kia Flex доступен в городах\n",
            "Выбирайте Kia Flex. Выбирайте Мобильность!\n",
            "Брянск\n",
            "БН-Моторс\n",
            "г. Брянск, пр-т Ст. Димитрова, 62 Пн-Сб с 9-00 до 20-00; Вс с 9-00 до 18-00;\n",
            "+7 (4832) 31-23-01\n",
            "+7 (4832) 31-23-01\n",
            "Иркутск\n",
            "Агат-Авто\n",
            "г. Иркутск, ул. Трактовая, 22А Пн-Вс с 8:30 до 20:00\n",
            "+7 (3952) 337-337\n",
            "+7 (3952) 337-337\n",
            "Красноярск\n",
            "СИАЛАВТО\n",
            "г. Красноярск, ул. Пограничников, д. 101 Пн-Сб с 8:30 до 20:00; Вс с 9:00 до 19:00. Режим работы сервиса: Пн-Сб с 8:30 до 20:00; Вс с 9:00 до 19:00\n",
            "+7 (391) 274-90-10\n",
            "+7 (391) 274-90-10\n",
            "СИАЛАВТО-Взлётка\n",
            "г. Красноярск, ул.Караульная, 86 Пн-Сб с 8:30 до 20:00; Вс с 9:00 до 19:00. Режим работы сервиса: Пн-Сб с 8:30 до 20:00; Вс с 9:00 до 19:00\n",
            "+7 (391) 274-90-15\n",
            "+7 (391) 274-90-15\n",
            "Москва\n",
            "АвтоГЕРМЕС Рябиновая ул.\n",
            "г. Москва, Рябиновая ул., д. 43Б Пн.-Вс. 7:00-21:00\n",
            "+7 (495) 136-04-00\n",
            "+7 (495) 136-04-00\n",
            "АвтоГЕРМЕС МКАД 44 км\n",
            "г. Москва, МКАД 44 км, д. 1 (внешняя сторона) Пн.-Вс. с 7:00 до 21:00\n",
            "+7 (495) 136-04-00\n",
            "+7 (495) 136-04-00\n",
            "АвтоГЕРМЕС Рязанский проспект\n",
            "г.  Москва, Рязанский проспект, дом 2, стр. 27 Пн.-Вс. с 7:00 до 21:00\n",
            "+7 (495) 136-04-00\n",
            "+7 (495) 136-04-00\n",
            "АвтоГЕРМЕС Ярославское ш.\n",
            "г. Москва, ул. Красная Сосна, д. 5, стр. 1 Пн.-Вс. с 7:00 до 21:00\n",
            "+7 (495) 136-04-00\n",
            "+7 (495) 136-04-00\n",
            "РОЛЬФ Центр\n",
            "г. Москва, 2-й Магистральный тупик, 5а Салон 8:00 - 22:00 ; Отдел запасных частей 8:00 - 20:00\n",
            "+7(495)755-85-85\n",
            "+7(495)755-85-85\n",
            "Новосибирск\n",
            "МЕГАПАРК\n",
            "г. Новосибирск, ул. Ватутина, д.46 Пн-Вс с 07:30 до 21:00\n",
            "+7 (383) 200-35-35\n",
            "+7 (383) 200-35-35\n",
            "Обнинск\n",
            "БН-Моторс Обнинск\n",
            "Калужская обл., г. Обнинск, Киевское шоссе 25В, стр.2 Пн-Сб с 9-00 до 20-00; Вс с 9-00 до 18-00;\n",
            "+7 (48439) 7-96-08\n",
            "+7 (48439) 7-96-08\n",
            "Пермь\n",
            "САТУРН-Р-АВТО\n",
            "г. Пермь, Шоссе Космонавтов 368В Пн-вск с 09:00 до 21:00\n",
            "+7 (342) 254-40-40\n",
            "+7 (342) 254-40-40\n",
            "Санкт-Петербург\n",
            "РОЛЬФ Пулково\n",
            "г. Санкт-Петербург, ул.Стартовая 4а Отдел продаж: Пн-Вс с 8.00 до 21.00 Сервис: Пн-Вс с 8.00 до 21.00\n",
            "+7 (812) 614-01-19\n",
            "+7 (812) 614-01-19\n",
            "Смоленск\n",
            "Киа Центр Смоленск\n",
            "г. Смоленск, ул. Кутузова, д. 50 Отдел продаж: Пн-ВС с 9:00 до 20:00; Отдел сервиса: Пн-СБ с 9:00 до 18:00;\n",
            "+7 (4812) 70-07-77\n",
            "+7 (4812) 70-07-77\n",
            "Тюмень\n",
            "Никко Kиа на Одесской\n",
            "г. Тюмень, ул. Одесская, д. 1г. с 09:00 до 20:00 без выходных\n",
            "+7 (3452) 56-05-05\n",
            "+7 (3452) 56-05-05\n",
            "Чебоксары\n",
            "Альянс-Моторс\n",
            "г. Чебоксары, ул. Автомобилистов, д.1 Пн-Вс 08.00 до 20.00\n",
            "+7 (835) 232-11-10\n",
            "+7 (835) 232-11-10\n",
            "Челябинск\n",
            "Автокомплекс «Регинас»\n",
            "г. Челябинск, Свердловский тракт, 5-Р Салон: с 9:00 до 20:00. Сервис 8:00 до 20:00.\n",
            "+7 (351) 211-75-75\n",
            "+7 (351) 211-75-75\n",
            "В чём конкурентные преимущества Kia Flex?  Автомобили в проекте принадлежат дилерам. А это значит, что они своевременно обслуживаются в течение всего срока эксплуатации. Ведь дилер стремится сохранить высокую остаточную стоимость автомобиля. Подписка Kia Flex - одна из форм владения автомобилей Kia, поэтому дилер заинтересован выстроить долгосрочные отношения с клиентом, даже если автомобиль арендуется на несколько дней. В каких городах доступна подписка Kia Flex? Какие модели доступны?  Актуальный список городов всегда доступен на официальном сайте. Клиенты Kia Flex могут выбрать подписку на модели: Rio, Seltos, Sportage, K5, Sorento и Carnival. Какой порядок оплаты за подписку?  Предусмотрена единоразовая предоплата для подписки на срок до 30 суток. Подписка продолжительностью свыше 30 суток оплачивается каждые 30 дней, вне зависимости от количества дней в календарном месяце. Оплата производится у дилера и позже станет доступна в мобильном приложении Kia Flex. По умолчанию период подписки с 12:00 первого дня подписки до 12:00 последнего дня подписки. Точное время начала и конца подписки согласуйте с дилером Kia Flex. Кто является клиентом, для кого создавалась программа Kia Flex?  Программа аренды автомобилей Kia по подписке рассчитана на граждан России старше 25 лет с опытом вождения от 3х лет. Краткосрочные тарифы выбирают путешественники, командированные работники и клиенты Киа для продолжительного тест-драйва. Долгосрочные тарифы пользуются высоким спросом у клиентов, выбирающих рациональный подход к планированию бюджета. Мы наблюдаем тренд замещения привычного способа владения автомобилем - услугами мобильности. Какой лимит пробега? Возможен ли выезд за границу России?  Действует ограничение 30 000 км в год. Подписка Kia Flex подразумевает использование автомобиля на территории России. Выезд за границу возможен только после согласования с дилером. Что включено в подписку? Доступна ли эвакуация автомобиля по запросу?  В стоимость подписки включено: ОСАГО, КАСКО, зимняя и летняя резина, хранение и монтаж, ТО по регламенту, поддержка по телефону и на дорогах 24/7. Помощь на дорогах – это эвакуация, замена колеса, подвоз топлива, запуск двигателя, разблокировка дверей, осуществление мелкого ремонта на месте поломки и технические консультации по телефону. Какие условия досрочного прекращения подписки?  В случае одностороннего отказа Арендатора от Договора:• Подписка длительностью до 30 дней включительно - Арендодатель не производит перерасчет арендных платежей, а сумма внесенного авансового платежа возврату Арендатору не подлежит.• Подписка длительностью до 360 дней включительно - Арендодатель производит перерасчет арендного платежа за текущий месяц аренды по следующей формуле: фактический срок аренды Автомобиля, исчисляемый в днях и увеличенный на 7 (семь) дополнительных дней. Арендатор обязуется оплатить Арендодателю указанный арендный платеж, включая возникшую в связи с перерасчетом разницу, но за вычетом внесенного ранее авансового платежа, на основании соответствующего счета, выставленного Арендодателем, одновременно с возвратом Автомобиля Арендодателю.• Подписка длительностью от 361 дней включительно до 1080 дней включительно - Арендодатель производит перерасчет арендного платежа за текущий месяц по следующей формуле: фактический срок аренды Автомобиля, исчисляемый в месяцах и увеличенный на 1 (один) дополнительный месяц. Арендатор обязуется оплатить Арендодателю указанный арендный платеж, включая возникшую в связи с перерасчетом разницу, но за вычетом внесенного ранее авансового платежа, на основании соответствующего счета, выставленного Арендодателем, одновременно с возвратом Автомобиля Арендодателю. Кто может управлять автомобилем? Можно ли подключить в такси?  Передача управления автомобилем разрешена лицам, указанным в договоре с дилером. В настоящее время подписка доступна для физических и юридических лиц для частных целей использования, не связанных с извлечением коммерческой прибыли. Подключение автомобилей к такси, каршерингу, субаренде – запрещено. Страхование включено в подписку? А детское кресло есть?  Да, все автомобили Kia Flex застрахованы КАСКО и ОСАГО. Базовое оснащение автомобиля включает комплект летней и зимней резины, комплект автомобилиста и резиновые коврики. Дополнительное оборудование может быть установлено в дилерском центре Kia. Могу ли я выбрать автомобиль другой модели, не из представленного списка?  Обратитесь к дилеру для заявки на автомобиль другой модели. Тариф обсуждается с дилером индивидуально. Какие комплектации автомобилей участвуют в Kia Flex? Могу я выбрать?  Рекомендованные комплектации указаны на сайте: Rio 1.6 AT Luxe; Seltos 1.6 AT Luxe;  Sportage 2.0 AT Comfort; K5 2,0 AT Comfort; Sorento Prestige; Carnival Luxe. Вы можете выбрать автомобиль из наличия или оставить заявку дилеру на желаемую модель в нужной комплектации. Что делать, если у меня автомобиль в другой комплектации?  Дилер Kia Flex имеет право скорректировать тариф с учётом соразмерной разницы в цене.Остались вопросы?\n",
            "Информационная линия Kia  8 800 301 08 80\n",
            "Документы\n",
            "\n",
            "\n",
            "=====================Отрывок документа №2=====================\n",
            "\n",
            "=== score = 0.400218665599823  Metadata документа ------------ {'Header 1': 'Kia Carnival 2022 - https://www.kia.ru/models/carnival/desc/', 'Header 2': 'Комплектации', 'Header 3': 'Комплектация: Kia Carnival Premium+ 3.5 MPI / 249 л.с. / Бензин / Автомат, 8AT / Передний привод'}\n",
            "\n",
            "Комплектация: Kia Carnival Premium+ 3.5 MPI / 249 л.с. / Бензин / Автомат, 8AT / Передний привод\n",
            "Цена: 5 324 900 ₽\n",
            "Стандартное оборудование : Светодиодные дневные ходовые огни, Дополнительный светодиодный стоп-сигнал, Два разъёма USB для зарядки мобильных устройств в передней панели, Разъём USB для зарядки мобильных устройств в боковой части спинки передних сидений, Дополнительная розетка 12V в багажном отделении, Крепления для детского кресла ISOFIX на втором и третьем ряду сидений, Система помощи при старте на подъёме (HAC), Система активного управления стабилизацией (VSM), Фронтальные подушки безопасности, Передние боковые подушки и шторки безопасности, Коленная подушка безопасности водителя, Крепления для детского кресла ISOFIX на втором и третьем ряду сидений, Система экстренной связи ЭРА-ГЛОНАСС, Система контроля давления в шинах (TPMS), Запасное колесо временного использования, Круиз-контроль, Механическая регулировка сидений второго ряда в продольном направлении, Сиденья третьего ряда со спинками, складывающимися в пол в соотношении 60:40, Bluetooth для подключения мобильных устройств , Регулировка рулевой колонки по высоте и вылету, Система выбора режима движения (Drive Mode Select), Электрический стояночный тормоз (EPB)\n",
            "Опции комплектации : Сдвижные задние боковые двери с электроприводом и дистанционным управлением, Интеллектуальная система открывания багажника и сдвижных задних боковых дверей , Решетка радиатора с отделкой хромом, Задняя стойка с отделкой хромом, Рейлинги на крыше, Светодиодные противотуманные фары, Светодиодные задние фонари , Два люка с электроприводом , Тонировка стёкол задних дверей, Проекционные светодиодные фары, Электропривод складывания боковых зеркал заднего вида, Климат-контроль для второго и третьего ряда сидений , Передние и задние стеклоподъёмники с функцией Auto, Система бесключевого доступа Smart Key и запуск двигателя кнопкой, Дистанционный запуск двигателя с ключа, Премиальная аудиосистема Bose с 11 динамиками, сабвуфером и внешним усилителем, Камера для общения с пассажирами второго и третьего ряда, Розетка 220в в центральной консоли, Беспроводная зарядка для мобильных устройств , Задние датчики парковки, Передние датчики парковки, Салонное зеркало заднего вида с автоматическим затемнением, Напоминание о пассажирах на заднем ряду (ROA), Электрорегулировка сиденья переднего пассажира в 8 направлениях, Вентиляция передних сидений , Вентиляция сидений второго ряда, Навигационная система 12,3'' с поддержкой Apple Carplay и Android Auto, Телематические сервисы Kia Connect**, Электронный селектор трансмиссии (Shift by Wire), Подрулевые \"лепестки\" переключения передач, Солнцезащитные шторки для пассажиров второго и третьего рядов, 7 посадочных мест , 2 отдельных сиденья второго ряда с подлокотниками и поддержкой для ног , Электрорегулировка сидений второго ряда в 6 направлениях с функцией перевода сидений в режим релаксации, Сиденья с комбинированной кожаной отделкой*, Рулевое колесо с отделкой кожей*, Сетка для крепления багажа, Интеллектуальный круиз-контроль (SCC) c функцией Stop&Go , Интеллектуальный ограничитель скорости (ISLA), Система предотвращения фронтального столкновения с функцией предупреждения столкновения при повороте на перекрестке (FCA-JT) , Система предотвращения выезда из полосы движения (LKA), Ассистент движения в полосе (LFA) , Система предупреждения о столкновении с автомобилем в слепой зоне (BCW), Система предупреждения бокового столкновения при выезде с парковки задним ходом (RCCW), Система предотвращения столкновения с автомобилем в слепой зоне (BCA) , Система предотвращения бокового столкновения при выезде с парковки задним ходом (RCCA), Камеры, отображающие слепые зоны на панель приборов (BVM) , Система безопасного выхода из автомобиля (SEW), Система контроля внимания водителя (DAW), Ассистент управления дальним светом (HBA), Предупреждение о начале движения впередиидущего автомобиля (LVDA), Подогрев передних сидений , Электрообогрев лобового стекла, Подогрев форсунок омывателя лобового стекла, Боковые зеркала заднего вида с электрорегулировкой и подогревом, Подогрев рулевого колеса, Подогрев сидений второго ряда\n",
            "Технические характеристики : Тип кузова: Кроссвэн; Габариты (длина/ширина/высота), мм: 5155 / 1995 / 1750 ; Колесная база, мм: 3090; Дорожный просвет, мм: 182; Объём багажника (VDA), л: 2827-627; Город, г/км: 332; Трасса, г/км: 179; В комбинированном цикле, г/км: 235; Двигатель: 3.5 MPI; Мощность, л.с.: 249; Крутящий момент, Н·м: 331.5 ; Тип топлива: Бензин, АИ 92-95; Рабочий объем, см3: 3470; Экологический класс: Евро-5; Коробка передач: Автомат (8AT); Привод: Передний; Время разгона 0-100 км/ч, с: 8.5; Расход топлива комбинированный, л/100 км: 10.3; Максимальная скорость (км/ч): 190; Ускорение (сек) 0->100 (км/ч): 8.5; Ускорение (сек) 60->100 (км/ч): 4,5; Ускорение (сек) 80->120 (км/ч): 5,6; Путь при торможении со 100 до 0 км/ч (м): 42.2; В городском цикле (л. / 100 км): 14.6; Объем топливного бака (л.): 72; В загородном цикле (л. / 100 км): 7.8; В комбинированном цикле (л. / 100 км): 10.3\n",
            "Спецификация : Код модели: HSB7J961J; OCN: H212; Модельный год: 2022; Год производства: 2022\n",
            "\n",
            "\n",
            "=====================Отрывок документа №3=====================\n",
            "\n",
            "=== score = 0.40106910467147827  Metadata документа ------------ {'Header 1': 'Kia Carnival 2022 - https://www.kia.ru/models/carnival/desc/', 'Header 2': 'Комплектации', 'Header 3': 'Комплектация: Kia Carnival Prestige 3.5 MPI / 249 л.с. / Бензин / Автомат, 8AT / Передний привод'}\n",
            "\n",
            "Комплектация: Kia Carnival Prestige 3.5 MPI / 249 л.с. / Бензин / Автомат, 8AT / Передний привод\n",
            "Цена: 4 934 900 ₽\n",
            "Стандартное оборудование : Светодиодные дневные ходовые огни, Дополнительный светодиодный стоп-сигнал, Два разъёма USB для зарядки мобильных устройств в передней панели, Разъём USB для зарядки мобильных устройств в боковой части спинки передних сидений, Дополнительная розетка 12V в багажном отделении, Крепления для детского кресла ISOFIX на втором и третьем ряду сидений, Система помощи при старте на подъёме (HAC), Система активного управления стабилизацией (VSM), Фронтальные подушки безопасности, Передние боковые подушки и шторки безопасности, Коленная подушка безопасности водителя, Крепления для детского кресла ISOFIX на втором и третьем ряду сидений, Система экстренной связи ЭРА-ГЛОНАСС, Система контроля давления в шинах (TPMS), Запасное колесо временного использования, Круиз-контроль, Механическая регулировка сидений второго ряда в продольном направлении, Сиденья третьего ряда со спинками, складывающимися в пол в соотношении 60:40, Bluetooth для подключения мобильных устройств , Регулировка рулевой колонки по высоте и вылету, Система выбора режима движения (Drive Mode Select), Электрический стояночный тормоз (EPB)\n",
            "Опции комплектации : Сдвижные задние боковые двери с электроприводом и дистанционным управлением, Интеллектуальная система открывания багажника и сдвижных задних боковых дверей , Решетка радиатора с отделкой хромом, Задняя стойка с отделкой хромом, Рейлинги на крыше, Светодиодные противотуманные фары, Светодиодные задние фонари , Проекционные светодиодные фары, Сиденья с отделкой искусственной кожей, Рулевое колесо с отделкой кожей*, Органайзер в боковой панели багажника, Сетка для крепления багажа, Передняя панель с отделкой вставками под текстуру дерева, Система предупреждения о столкновении с автомобилем в слепой зоне (BCW), Система предупреждения бокового столкновения при выезде с парковки задним ходом (RCCW), Система безопасного выхода из автомобиля (SEW), Климат-контроль для второго и третьего ряда сидений , Передние и задние стеклоподъёмники с функцией Auto, Система бесключевого доступа Smart Key и запуск двигателя кнопкой, Дистанционный запуск двигателя с ключа, Телематические сервисы Kia Connect**, Розетка 220в в центральной консоли, Беспроводная зарядка для мобильных устройств , Задние датчики парковки, Передние датчики парковки, Салонное зеркало заднего вида с автоматическим затемнением, Напоминание о пассажирах на заднем ряду (ROA), Электрорегулировка сиденья водителя в 10 направлениях, Камера для общения с пассажирами второго и третьего ряда, Навигационная система 12,3'' с поддержкой Apple Carplay и Android Auto, Электропривод складывания боковых зеркал заднего вида, Солнцезащитные шторки для пассажиров второго и третьего рядов, 3 отдельных сиденья второго ряда, съемные, с возможностью установки против хода движения , 8 посадочных мест, Подогрев передних сидений , Электрообогрев лобового стекла, Подогрев форсунок омывателя лобового стекла, Боковые зеркала заднего вида с электрорегулировкой и подогревом, Подогрев рулевого колеса\n",
            "Технические характеристики : Тип кузова: Кроссвэн; Габариты (длина/ширина/высота), мм: 5155 / 1995 / 1750 ; Колесная база, мм: 3090; Дорожный просвет, мм: 182; Объём багажника (VDA), л: 2905-627; Город, г/км: 332; Трасса, г/км: 179; В комбинированном цикле, г/км: 235; Двигатель: 3.5 MPI; Мощность, л.с.: 249; Крутящий момент, Н·м: 331.5 ; Тип топлива: Бензин, АИ 92-95; Рабочий объем, см3: 3470; Экологический класс: Евро-5; Коробка передач: Автомат (8AT); Привод: Передний; Время разгона 0-100 км/ч, с: 8.5; Расход топлива комбинированный, л/100 км: 10.3; Максимальная скорость (км/ч): 190; Ускорение (сек) 0->100 (км/ч): 8.5; Ускорение (сек) 60->100 (км/ч): 4,5; Ускорение (сек) 80->120 (км/ч): 5,6; Путь при торможении со 100 до 0 км/ч (м): 42.2; В городском цикле (л. / 100 км): 14.6; Объем топливного бака (л.): 72; В загородном цикле (л. / 100 км): 7.8; В комбинированном цикле (л. / 100 км): 10.3\n",
            "Спецификация : Код модели: HSB8J961J; OCN: G617; Модельный год: 2022; Год производства: 2022\n",
            "\n",
            "\n",
            "=====================Отрывок документа №4=====================\n",
            "\n",
            "=== score = 0.40222200751304626  Metadata документа ------------ {'Header 1': 'Kia Carnival 2022 - https://www.kia.ru/models/carnival/desc/', 'Header 2': 'Комплектации', 'Header 3': 'Комплектация: Kia Carnival Premium 3.5 MPI / 249 л.с. / Бензин / Автомат, 8AT / Передний привод'}\n",
            "\n",
            "Комплектация: Kia Carnival Premium 3.5 MPI / 249 л.с. / Бензин / Автомат, 8AT / Передний привод\n",
            "Цена: 5 174 900 ₽\n",
            "Стандартное оборудование : Светодиодные дневные ходовые огни, Дополнительный светодиодный стоп-сигнал, Два разъёма USB для зарядки мобильных устройств в передней панели, Разъём USB для зарядки мобильных устройств в боковой части спинки передних сидений, Дополнительная розетка 12V в багажном отделении, Крепления для детского кресла ISOFIX на втором и третьем ряду сидений, Система помощи при старте на подъёме (HAC), Система активного управления стабилизацией (VSM), Фронтальные подушки безопасности, Передние боковые подушки и шторки безопасности, Коленная подушка безопасности водителя, Крепления для детского кресла ISOFIX на втором и третьем ряду сидений, Система экстренной связи ЭРА-ГЛОНАСС, Система контроля давления в шинах (TPMS), Запасное колесо временного использования, Круиз-контроль, Механическая регулировка сидений второго ряда в продольном направлении, Сиденья третьего ряда со спинками, складывающимися в пол в соотношении 60:40, Bluetooth для подключения мобильных устройств , Регулировка рулевой колонки по высоте и вылету, Система выбора режима движения (Drive Mode Select), Электрический стояночный тормоз (EPB)\n",
            "Опции комплектации : Сдвижные задние боковые двери с электроприводом и дистанционным управлением, Интеллектуальная система открывания багажника и сдвижных задних боковых дверей , Решетка радиатора с отделкой хромом, Задняя стойка с отделкой хромом, Рейлинги на крыше, Светодиодные противотуманные фары, Светодиодные задние фонари , Два люка с электроприводом , Тонировка стёкол задних дверей, Проекционные светодиодные фары, Сиденья с отделкой искусственной кожей, Рулевое колесо с отделкой кожей*, Сетка для крепления багажа, Интеллектуальный круиз-контроль (SCC) c функцией Stop&Go , Интеллектуальный ограничитель скорости (ISLA), Система предотвращения фронтального столкновения с функцией предупреждения столкновения при повороте на перекрестке (FCA-JT) , Система предотвращения выезда из полосы движения (LKA), Ассистент движения в полосе (LFA) , Система предупреждения о столкновении с автомобилем в слепой зоне (BCW), Система предупреждения бокового столкновения при выезде с парковки задним ходом (RCCW), Система предотвращения столкновения с автомобилем в слепой зоне (BCA) , Система предотвращения бокового столкновения при выезде с парковки задним ходом (RCCA), Камеры, отображающие слепые зоны на панель приборов (BVM) , Система безопасного выхода из автомобиля (SEW), Предупреждение о начале движения впередиидущего автомобиля (LVDA), Система контроля внимания водителя (DAW), Ассистент управления дальним светом (HBA), Климат-контроль для второго и третьего ряда сидений , Передние и задние стеклоподъёмники с функцией Auto, Система бесключевого доступа Smart Key и запуск двигателя кнопкой, Дистанционный запуск двигателя с ключа, Телематические сервисы Kia Connect**, Камера для общения с пассажирами второго и третьего ряда, Розетка 220в в центральной консоли, Беспроводная зарядка для мобильных устройств , Задние датчики парковки, Передние датчики парковки, Салонное зеркало заднего вида с автоматическим затемнением, Напоминание о пассажирах на заднем ряду (ROA), Вентиляция передних сидений , Навигационная система 12,3'' с поддержкой Apple Carplay и Android Auto, Электронный селектор трансмиссии (Shift by Wire), Подрулевые \"лепестки\" переключения передач, Электропривод складывания боковых зеркал заднего вида, Солнцезащитные шторки для пассажиров второго и третьего рядов, 3 отдельных сиденья второго ряда, съемные, с возможностью установки против хода движения , Электрорегулировка сиденья переднего пассажира в 8 направлениях, 8 посадочных мест, Подогрев передних сидений , Электрообогрев лобового стекла, Подогрев форсунок омывателя лобового стекла, Боковые зеркала заднего вида с электрорегулировкой и подогревом, Подогрев рулевого колеса\n",
            "Технические характеристики : Тип кузова: Кроссвэн; Габариты (длина/ширина/высота), мм: 5155 / 1995 / 1750 ; Колесная база, мм: 3090; Дорожный просвет, мм: 182; Объём багажника (VDA), л: 2905-627; Город, г/км: 332; Трасса, г/км: 179; В комбинированном цикле, г/км: 235; Двигатель: 3.5 MPI; Мощность, л.с.: 249; Крутящий момент, Н·м: 331.5 ; Тип топлива: Бензин, АИ 92-95; Рабочий объем, см3: 3470; Экологический класс: Евро-5; Коробка передач: Автомат (8AT); Привод: Передний; Время разгона 0-100 км/ч, с: 8.5; Расход топлива комбинированный, л/100 км: 10.3; Максимальная скорость (км/ч): 190; Ускорение (сек) 0->100 (км/ч): 8.5; Ускорение (сек) 60->100 (км/ч): 4,5; Ускорение (сек) 80->120 (км/ч): 5,6; Путь при торможении со 100 до 0 км/ч (м): 42.2; В городском цикле (л. / 100 км): 14.6; Объем топливного бака (л.): 72; В загородном цикле (л. / 100 км): 7.8; В комбинированном цикле (л. / 100 км): 10.3\n",
            "Спецификация : Код модели: HSB8J961J; OCN: H211; Модельный год: 2022; Год производства: 2022\n",
            "\n",
            "\n",
            "=====================Отрывок документа №5=====================\n",
            "\n",
            "=== score = 0.4058057367801666  Metadata документа ------------ {'Header 1': 'Kia Carnival 2022 - https://www.kia.ru/models/carnival/desc/', 'Header 2': 'Комплектации', 'Header 3': 'Комплектация: Kia Carnival Premium+ 2.2 CRDi / 199 л.с. / Дизель / Автомат, 8AT / Передний привод'}\n",
            "\n",
            "Комплектация: Kia Carnival Premium+ 2.2 CRDi / 199 л.с. / Дизель / Автомат, 8AT / Передний привод\n",
            "Цена: 5 184 900 ₽\n",
            "Стандартное оборудование : Светодиодные дневные ходовые огни, Дополнительный светодиодный стоп-сигнал, Два разъёма USB для зарядки мобильных устройств в передней панели, Разъём USB для зарядки мобильных устройств в боковой части спинки передних сидений, Дополнительная розетка 12V в багажном отделении, Крепления для детского кресла ISOFIX на втором и третьем ряду сидений, Система помощи при старте на подъёме (HAC), Система активного управления стабилизацией (VSM), Фронтальные подушки безопасности, Передние боковые подушки и шторки безопасности, Коленная подушка безопасности водителя, Крепления для детского кресла ISOFIX на втором и третьем ряду сидений, Система экстренной связи ЭРА-ГЛОНАСС, Система контроля давления в шинах (TPMS), Запасное колесо временного использования, Круиз-контроль, Механическая регулировка сидений второго ряда в продольном направлении, Сиденья третьего ряда со спинками, складывающимися в пол в соотношении 60:40, Bluetooth для подключения мобильных устройств , Регулировка рулевой колонки по высоте и вылету, Система выбора режима движения (Drive Mode Select), Электрический стояночный тормоз (EPB)\n",
            "Опции комплектации : Сдвижные задние боковые двери с электроприводом и дистанционным управлением, Интеллектуальная система открывания багажника и сдвижных задних боковых дверей , Решетка радиатора с отделкой хромом, Задняя стойка с отделкой хромом, Рейлинги на крыше, Светодиодные противотуманные фары, Светодиодные задние фонари , Два люка с электроприводом , Тонировка стёкол задних дверей, Проекционные светодиодные фары, Электропривод складывания боковых зеркал заднего вида, Климат-контроль для второго и третьего ряда сидений , Передние и задние стеклоподъёмники с функцией Auto, Система бесключевого доступа Smart Key и запуск двигателя кнопкой, Дистанционный запуск двигателя с ключа, Премиальная аудиосистема Bose с 11 динамиками, сабвуфером и внешним усилителем, Камера для общения с пассажирами второго и третьего ряда, Розетка 220в в центральной консоли, Беспроводная зарядка для мобильных устройств , Задние датчики парковки, Передние датчики парковки, Салонное зеркало заднего вида с автоматическим затемнением, Напоминание о пассажирах на заднем ряду (ROA), Электрорегулировка сиденья переднего пассажира в 8 направлениях, Вентиляция передних сидений , Вентиляция сидений второго ряда, Навигационная система 12,3'' с поддержкой Apple Carplay и Android Auto, Телематические сервисы Kia Connect**, Электронный селектор трансмиссии (Shift by Wire), Подрулевые \"лепестки\" переключения передач, Солнцезащитные шторки для пассажиров второго и третьего рядов, 7 посадочных мест , 2 отдельных сиденья второго ряда с подлокотниками и поддержкой для ног , Электрорегулировка сидений второго ряда в 6 направлениях с функцией перевода сидений в режим релаксации, Сиденья с комбинированной кожаной отделкой*, Рулевое колесо с отделкой кожей*, Сетка для крепления багажа, Интеллектуальный круиз-контроль (SCC) c функцией Stop&Go , Интеллектуальный ограничитель скорости (ISLA), Система предотвращения фронтального столкновения с функцией предупреждения столкновения при повороте на перекрестке (FCA-JT) , Система предотвращения выезда из полосы движения (LKA), Ассистент движения в полосе (LFA) , Система предупреждения о столкновении с автомобилем в слепой зоне (BCW), Система предупреждения бокового столкновения при выезде с парковки задним ходом (RCCW), Система предотвращения столкновения с автомобилем в слепой зоне (BCA) , Система предотвращения бокового столкновения при выезде с парковки задним ходом (RCCA), Камеры, отображающие слепые зоны на панель приборов (BVM) , Система безопасного выхода из автомобиля (SEW), Система контроля внимания водителя (DAW), Ассистент управления дальним светом (HBA), Предупреждение о начале движения впередиидущего автомобиля (LVDA), Подогрев передних сидений , Электрообогрев лобового стекла, Подогрев форсунок омывателя лобового стекла, Боковые зеркала заднего вида с электрорегулировкой и подогревом, Подогрев рулевого колеса, Подогрев сидений второго ряда\n",
            "Технические характеристики : Тип кузова: Кроссвэн; Габариты (длина/ширина/высота), мм: 5155 / 1995 / 1750 ; Колесная база, мм: 3090; Дорожный просвет, мм: 182; Объём багажника (VDA), л: 2827-627; Город, г/км: 205; Трасса, г/км: 149; В комбинированном цикле, г/км: 170; Двигатель: 2.2 CRDI ; Мощность, л.с.: 199; Крутящий момент, Н·м: 440; Тип топлива: Дизель; Рабочий объем, см3: 2151; Экологический класс: Евро-5; Коробка передач: Автомат (8AT); Привод: Передний; Время разгона 0-100 км/ч, с: 10.7; Расход топлива комбинированный, л/100 км: 6.5; Максимальная скорость (км/ч): 190; Ускорение (сек) 0->100 (км/ч): 10.7; Ускорение (сек) 60->100 (км/ч): 5,9; Ускорение (сек) 80->120 (км/ч): 8,2; Путь при торможении со 100 до 0 км/ч (м): 42.2; В городском цикле (л. / 100 км): 7.8; Объем топливного бака (л.): 72; В загородном цикле (л. / 100 км): 5.7; В комбинированном цикле (л. / 100 км): 6.5\n",
            "Спецификация : Код модели: HSB72HC5J; OCN: H212; Модельный год: 2022; Год производства: 2022\n",
            "\n",
            "\n",
            "Менеджер:   Минимальная цена на Kia Carnival составляет 4 934 900 ₽. Это относится к комплектации Kia Carnival Prestige 3.5 MPI / 249 л.с. / Бензин / Автомат, 8AT / Передний привод.\n",
            "\n",
            "\n",
            "\n",
            "Клиент: Какая цена у Син Комфорт\n",
            "\n",
            "=====================Отрывок документа №1=====================\n",
            "\n",
            "=== score = 0.3517429828643799  Metadata документа ------------ {'Header 1': 'Kia Carnival 2022 - https://www.kia.ru/models/carnival/desc/', 'Header 2': 'Интерьер'}\n",
            "\n",
            "Интерьер\n",
            "Зона вашего комфорт\n",
            "\n",
            "\n",
            "=====================Отрывок документа №2=====================\n",
            "\n",
            "=== score = 0.3589172959327698  Metadata документа ------------ {'Header 1': 'kiaflex'}\n",
            "\n",
            "Аренда автомобилей Kia по подписке\n",
            "Аренда автомобилей Kia по подписке\n",
            "Всё включено в единый платёж\n",
            "Выгоднее, чем кредит Новый способ владения авто  Единый тариф Действует во всех регионах РФ  Гибкость Подписка от 1 суток до 3 лет  Страхование Застрахованы ОСАГО и КАСКО  Оплата Каждые 30 дней для подписки свыше 1 мес.  Поддержка 24/7 Помощь на дороге и по телефону  Без ограничений В любой регион РФ и за рубеж  Техобслуживание ТО у дилеров включено  Гарантия Все автомобили с гарантией производителя  Шины Комплект зима/лето и хранение бесплатно\n",
            "Новый гибкий тариф\n",
            "Чем дольше подписка —тем выгоднее тариф\n",
            "Выгода формируется за счёт снижения стоимости подписки в сутки в зависимости отдлительности контракта на подписку.\n",
            "Сервисы включены в стоимость\n",
            "Выберите модель Kia\n",
            "Rio\n",
            "1 сутки\n",
            "2 700 ₽/сутки\n",
            "Базовый тариф\n",
            "1 месяц\n",
            "2 193 ₽/сутки\n",
            "Выгода 508 ₽/сутки**\n",
            "12 месяцев\n",
            "1 364 ₽/сутки\n",
            "Выгода 1 336 ₽/сутки**\n",
            "Seltos\n",
            "1 сутки\n",
            "3 700 ₽/сутки\n",
            "Базовый тариф\n",
            "1 месяц\n",
            "2 903 ₽/сутки\n",
            "Выгода 798 ₽/сутки**\n",
            "12 месяцев\n",
            "1 638 ₽/сутки\n",
            "Выгода 2 062 ₽/сутки**\n",
            "Sportage\n",
            "1 сутки\n",
            "5 100 ₽/сутки\n",
            "Базовый тариф\n",
            "1 месяц\n",
            "3 795 ₽/сутки\n",
            "Выгода 1 305 ₽/сутки**\n",
            "12 месяцев\n",
            "2 149 ₽/сутки\n",
            "Выгода 2 951 ₽/сутки**\n",
            "K5\n",
            "1 сутки\n",
            "4 700 ₽/сутки\n",
            "Базовый тариф\n",
            "1 месяц\n",
            "3 540 ₽/сутки\n",
            "Выгода 1 160 ₽/сутки**\n",
            "12 месяцев\n",
            "1 988 ₽/сутки\n",
            "Выгода 2 712 ₽/сутки**\n",
            "Sorento\n",
            "1 сутки\n",
            "5 900 ₽/сутки\n",
            "Базовый тариф\n",
            "1 месяц\n",
            "4 450 ₽/сутки\n",
            "Выгода 1 450 ₽/сутки**\n",
            "12 месяцев\n",
            "2 647 ₽/сутки\n",
            "Выгода 3 253 ₽/сутки**\n",
            "Carnival\n",
            "1 сутки\n",
            "6 300 ₽/сутки\n",
            "Базовый тариф\n",
            "1 месяц\n",
            "4 705 ₽/сутки\n",
            "Выгода 1 595 ₽/сутки**\n",
            "12 месяцев\n",
            "2 755 ₽/сутки\n",
            "Выгода 3 545 ₽/сутки**\n",
            "Два шага к подписке Kia Flex\n",
            "Отправьте заявку дилеру Kia Flex\n",
            "Ожидайте приглашение\n",
            "Приезжайте к дилеру Kia Flex\n",
            "Подпишите договор и получите авто\n",
            "Сегодня Kia Flex доступен в городах\n",
            "Выбирайте Kia Flex. Выбирайте Мобильность!\n",
            "Брянск\n",
            "БН-Моторс\n",
            "г. Брянск, пр-т Ст. Димитрова, 62 Пн-Сб с 9-00 до 20-00; Вс с 9-00 до 18-00;\n",
            "+7 (4832) 31-23-01\n",
            "+7 (4832) 31-23-01\n",
            "Иркутск\n",
            "Агат-Авто\n",
            "г. Иркутск, ул. Трактовая, 22А Пн-Вс с 8:30 до 20:00\n",
            "+7 (3952) 337-337\n",
            "+7 (3952) 337-337\n",
            "Красноярск\n",
            "СИАЛАВТО\n",
            "г. Красноярск, ул. Пограничников, д. 101 Пн-Сб с 8:30 до 20:00; Вс с 9:00 до 19:00. Режим работы сервиса: Пн-Сб с 8:30 до 20:00; Вс с 9:00 до 19:00\n",
            "+7 (391) 274-90-10\n",
            "+7 (391) 274-90-10\n",
            "СИАЛАВТО-Взлётка\n",
            "г. Красноярск, ул.Караульная, 86 Пн-Сб с 8:30 до 20:00; Вс с 9:00 до 19:00. Режим работы сервиса: Пн-Сб с 8:30 до 20:00; Вс с 9:00 до 19:00\n",
            "+7 (391) 274-90-15\n",
            "+7 (391) 274-90-15\n",
            "Москва\n",
            "АвтоГЕРМЕС Рябиновая ул.\n",
            "г. Москва, Рябиновая ул., д. 43Б Пн.-Вс. 7:00-21:00\n",
            "+7 (495) 136-04-00\n",
            "+7 (495) 136-04-00\n",
            "АвтоГЕРМЕС МКАД 44 км\n",
            "г. Москва, МКАД 44 км, д. 1 (внешняя сторона) Пн.-Вс. с 7:00 до 21:00\n",
            "+7 (495) 136-04-00\n",
            "+7 (495) 136-04-00\n",
            "АвтоГЕРМЕС Рязанский проспект\n",
            "г.  Москва, Рязанский проспект, дом 2, стр. 27 Пн.-Вс. с 7:00 до 21:00\n",
            "+7 (495) 136-04-00\n",
            "+7 (495) 136-04-00\n",
            "АвтоГЕРМЕС Ярославское ш.\n",
            "г. Москва, ул. Красная Сосна, д. 5, стр. 1 Пн.-Вс. с 7:00 до 21:00\n",
            "+7 (495) 136-04-00\n",
            "+7 (495) 136-04-00\n",
            "РОЛЬФ Центр\n",
            "г. Москва, 2-й Магистральный тупик, 5а Салон 8:00 - 22:00 ; Отдел запасных частей 8:00 - 20:00\n",
            "+7(495)755-85-85\n",
            "+7(495)755-85-85\n",
            "Новосибирск\n",
            "МЕГАПАРК\n",
            "г. Новосибирск, ул. Ватутина, д.46 Пн-Вс с 07:30 до 21:00\n",
            "+7 (383) 200-35-35\n",
            "+7 (383) 200-35-35\n",
            "Обнинск\n",
            "БН-Моторс Обнинск\n",
            "Калужская обл., г. Обнинск, Киевское шоссе 25В, стр.2 Пн-Сб с 9-00 до 20-00; Вс с 9-00 до 18-00;\n",
            "+7 (48439) 7-96-08\n",
            "+7 (48439) 7-96-08\n",
            "Пермь\n",
            "САТУРН-Р-АВТО\n",
            "г. Пермь, Шоссе Космонавтов 368В Пн-вск с 09:00 до 21:00\n",
            "+7 (342) 254-40-40\n",
            "+7 (342) 254-40-40\n",
            "Санкт-Петербург\n",
            "РОЛЬФ Пулково\n",
            "г. Санкт-Петербург, ул.Стартовая 4а Отдел продаж: Пн-Вс с 8.00 до 21.00 Сервис: Пн-Вс с 8.00 до 21.00\n",
            "+7 (812) 614-01-19\n",
            "+7 (812) 614-01-19\n",
            "Смоленск\n",
            "Киа Центр Смоленск\n",
            "г. Смоленск, ул. Кутузова, д. 50 Отдел продаж: Пн-ВС с 9:00 до 20:00; Отдел сервиса: Пн-СБ с 9:00 до 18:00;\n",
            "+7 (4812) 70-07-77\n",
            "+7 (4812) 70-07-77\n",
            "Тюмень\n",
            "Никко Kиа на Одесской\n",
            "г. Тюмень, ул. Одесская, д. 1г. с 09:00 до 20:00 без выходных\n",
            "+7 (3452) 56-05-05\n",
            "+7 (3452) 56-05-05\n",
            "Чебоксары\n",
            "Альянс-Моторс\n",
            "г. Чебоксары, ул. Автомобилистов, д.1 Пн-Вс 08.00 до 20.00\n",
            "+7 (835) 232-11-10\n",
            "+7 (835) 232-11-10\n",
            "Челябинск\n",
            "Автокомплекс «Регинас»\n",
            "г. Челябинск, Свердловский тракт, 5-Р Салон: с 9:00 до 20:00. Сервис 8:00 до 20:00.\n",
            "+7 (351) 211-75-75\n",
            "+7 (351) 211-75-75\n",
            "В чём конкурентные преимущества Kia Flex?  Автомобили в проекте принадлежат дилерам. А это значит, что они своевременно обслуживаются в течение всего срока эксплуатации. Ведь дилер стремится сохранить высокую остаточную стоимость автомобиля. Подписка Kia Flex - одна из форм владения автомобилей Kia, поэтому дилер заинтересован выстроить долгосрочные отношения с клиентом, даже если автомобиль арендуется на несколько дней. В каких городах доступна подписка Kia Flex? Какие модели доступны?  Актуальный список городов всегда доступен на официальном сайте. Клиенты Kia Flex могут выбрать подписку на модели: Rio, Seltos, Sportage, K5, Sorento и Carnival. Какой порядок оплаты за подписку?  Предусмотрена единоразовая предоплата для подписки на срок до 30 суток. Подписка продолжительностью свыше 30 суток оплачивается каждые 30 дней, вне зависимости от количества дней в календарном месяце. Оплата производится у дилера и позже станет доступна в мобильном приложении Kia Flex. По умолчанию период подписки с 12:00 первого дня подписки до 12:00 последнего дня подписки. Точное время начала и конца подписки согласуйте с дилером Kia Flex. Кто является клиентом, для кого создавалась программа Kia Flex?  Программа аренды автомобилей Kia по подписке рассчитана на граждан России старше 25 лет с опытом вождения от 3х лет. Краткосрочные тарифы выбирают путешественники, командированные работники и клиенты Киа для продолжительного тест-драйва. Долгосрочные тарифы пользуются высоким спросом у клиентов, выбирающих рациональный подход к планированию бюджета. Мы наблюдаем тренд замещения привычного способа владения автомобилем - услугами мобильности. Какой лимит пробега? Возможен ли выезд за границу России?  Действует ограничение 30 000 км в год. Подписка Kia Flex подразумевает использование автомобиля на территории России. Выезд за границу возможен только после согласования с дилером. Что включено в подписку? Доступна ли эвакуация автомобиля по запросу?  В стоимость подписки включено: ОСАГО, КАСКО, зимняя и летняя резина, хранение и монтаж, ТО по регламенту, поддержка по телефону и на дорогах 24/7. Помощь на дорогах – это эвакуация, замена колеса, подвоз топлива, запуск двигателя, разблокировка дверей, осуществление мелкого ремонта на месте поломки и технические консультации по телефону. Какие условия досрочного прекращения подписки?  В случае одностороннего отказа Арендатора от Договора:• Подписка длительностью до 30 дней включительно - Арендодатель не производит перерасчет арендных платежей, а сумма внесенного авансового платежа возврату Арендатору не подлежит.• Подписка длительностью до 360 дней включительно - Арендодатель производит перерасчет арендного платежа за текущий месяц аренды по следующей формуле: фактический срок аренды Автомобиля, исчисляемый в днях и увеличенный на 7 (семь) дополнительных дней. Арендатор обязуется оплатить Арендодателю указанный арендный платеж, включая возникшую в связи с перерасчетом разницу, но за вычетом внесенного ранее авансового платежа, на основании соответствующего счета, выставленного Арендодателем, одновременно с возвратом Автомобиля Арендодателю.• Подписка длительностью от 361 дней включительно до 1080 дней включительно - Арендодатель производит перерасчет арендного платежа за текущий месяц по следующей формуле: фактический срок аренды Автомобиля, исчисляемый в месяцах и увеличенный на 1 (один) дополнительный месяц. Арендатор обязуется оплатить Арендодателю указанный арендный платеж, включая возникшую в связи с перерасчетом разницу, но за вычетом внесенного ранее авансового платежа, на основании соответствующего счета, выставленного Арендодателем, одновременно с возвратом Автомобиля Арендодателю. Кто может управлять автомобилем? Можно ли подключить в такси?  Передача управления автомобилем разрешена лицам, указанным в договоре с дилером. В настоящее время подписка доступна для физических и юридических лиц для частных целей использования, не связанных с извлечением коммерческой прибыли. Подключение автомобилей к такси, каршерингу, субаренде – запрещено. Страхование включено в подписку? А детское кресло есть?  Да, все автомобили Kia Flex застрахованы КАСКО и ОСАГО. Базовое оснащение автомобиля включает комплект летней и зимней резины, комплект автомобилиста и резиновые коврики. Дополнительное оборудование может быть установлено в дилерском центре Kia. Могу ли я выбрать автомобиль другой модели, не из представленного списка?  Обратитесь к дилеру для заявки на автомобиль другой модели. Тариф обсуждается с дилером индивидуально. Какие комплектации автомобилей участвуют в Kia Flex? Могу я выбрать?  Рекомендованные комплектации указаны на сайте: Rio 1.6 AT Luxe; Seltos 1.6 AT Luxe;  Sportage 2.0 AT Comfort; K5 2,0 AT Comfort; Sorento Prestige; Carnival Luxe. Вы можете выбрать автомобиль из наличия или оставить заявку дилеру на желаемую модель в нужной комплектации. Что делать, если у меня автомобиль в другой комплектации?  Дилер Kia Flex имеет право скорректировать тариф с учётом соразмерной разницы в цене.Остались вопросы?\n",
            "Информационная линия Kia  8 800 301 08 80\n",
            "Документы\n",
            "\n",
            "\n",
            "=====================Отрывок документа №3=====================\n",
            "\n",
            "=== score = 0.3628285229206085  Metadata документа ------------ {'Header 1': 'Kia Cerato 2022 - https://www.kia.ru/models/cerato/desc/', 'Header 2': 'Комфорт'}\n",
            "\n",
            "Комфорт\n",
            "Ваш уголок комфорта в любой точке планеты. Просторный салон Cerato — это изящные линии, удобные сиденья и приятные на ощупь материалы отделки. Во всех комплектациях сиденья в обоих рядах оборудованы удобными рельефными подушками, а на задних сиденьях достаточно места, чтобы удобно расположиться двум или трем пассажирам.\n",
            "Сиденья с обогревом. Рулевое колесо с подогревом. Встроенная система памяти (IMS). Двухзонный климат-контроль. Зеркало заднего вида с автозатемнением. Сиденья с обогревом. В холодные дни обогрев сидений быстро обеспечит комфортную температуру,чтобы вы могли расслабитьсяи сосредоточиться на вождении.. Рулевое колесо с подогревом. Комфортная температура руля в холодную погоду делает поездку не только приятной, но и более безопасной.. Встроенная система памяти (IMS). IMS позволяет сохранять персонализированные настройки для двух водителей.. Двухзонный климат-контроль. Автоматическая климатическая установка постоянно поддерживает идеальную температуру для вас и ваших спутников.. Зеркало заднего вида с автозатемнением. 1 / 5. Сиденья с обогревом. Рулевое колесо с подогревом. Встроенная система памяти (IMS). Двухзонный климат-контроль. Зеркало заднего вида с автозатемнением\n",
            "\n",
            "\n",
            "=====================Отрывок документа №4=====================\n",
            "\n",
            "=== score = 0.3674930930137634  Metadata документа ------------ {'Header 1': 'Kia Carnival 2022 - https://www.kia.ru/models/carnival/desc/', 'Header 2': 'Территория стиля и комфорта'}\n",
            "\n",
            "Территория стиля и комфорта\n",
            "Что перед вами? Роскошный и брутальный кроссовер? Солидный и практичный семейный автомобиль? Высокотехнологичное средство передвижения или просторный и комфортный пати-вэн для большой компании? Kia Carnival совмещает все это и готов удивлять вас долгие годы.\n",
            "Фото https://cdn.kia.ru/resize/1920x960/media-data/infographic/file/b32628c8-1d7d-401c-a57a-1169c5700dcf.jpeg\n",
            "\n",
            "\n",
            "=====================Отрывок документа №5=====================\n",
            "\n",
            "=== score = 0.3676254153251648  Metadata документа ------------ {'Header 1': 'Kia K9 2022 - https://www.kia.ru/models/k9/desc/', 'Header 2': 'Комфорт'}\n",
            "\n",
            "Комфорт\n",
            "Погрузитесь в безупречный комфорт. Отправьтесь к месту назначения, используя возможности дополненной реальности. Технологические решения Kia K9, призванные обеспечивать максимальный комфорт, впечатлят вас. Интерьер автомобиля подарит вам релаксацию и вдохновение.\n",
            "Два монитора для пассажиров на заднем ряду. Задние сиденья с электроприводом. Фоновая подсветка интерьера. Солнцезащитная шторка с электроприводомдля задних пассажиров. Сиденья повышенного комфорта Ergo Motion. Стекла с дополнительной шумоизоляцией. Вставки из натурального дерева. Два монитора для пассажиров на заднем ряду. Сенсорными мониторами для задних сидений можно пользоваться независимо друг от друга.. Задние сиденья с электроприводом. Левое и правое задние сиденья управляются независимо друг от друга, что обеспечивает более комфортную и роскошную поездку.. Фоновая подсветка интерьера. Измените цвет интерьера с помощью мягкого освещения, которое подстроит салон под ваше настроение.. Солнцезащитная шторка с электроприводомдля задних пассажиров. Сиденья повышенного комфорта Ergo Motion. Стекла с дополнительной шумоизоляцией. Вставки из натурального дерева. 1 / 7. Два монитора для пассажиров на заднем ряду. Задние сиденья с электроприводом. Фоновая подсветка интерьера. Солнцезащитная шторка с электроприводомдля задних пассажиров. Сиденья повышенного комфорта Ergo Motion. Стекла с дополнительной шумоизоляцией. Вставки из натурального дерева\n",
            "\n",
            "\n",
            "Менеджер:   Для того чтобы предоставить точную информацию о цене модели \"Син Комфорт\", мне необходимо уточнить, о какой модели и комплектации автомобиля вы говорите. Пожалуйста,\n",
            " укажите модель и комплектацию, чтобы я мог предоставить вам актуальную информацию о цене.\n",
            "\n",
            "\n",
            "\n",
            "Клиент: стоп\n"
          ]
        }
      ]
    },
    {
      "cell_type": "markdown",
      "source": [
        "# Мои дополнения для автоматизации тестирования"
      ],
      "metadata": {
        "id": "aOME6ut5mVVS"
      }
    },
    {
      "cell_type": "markdown",
      "source": [
        "# Просто эксперименты"
      ],
      "metadata": {
        "id": "GDp8XY1AOAUD"
      }
    },
    {
      "cell_type": "code",
      "source": [
        "topic = 'Какая цена у Сид Комфорт'\n",
        "docs = knowledge_base.similarity_search_with_score(topic, k=5)\n",
        "responses = []\n",
        "for i, (doc, score) in enumerate(docs):\n",
        "   if score < 1: # ТУТ ТЫ МОЖЕШЬ УПРАВЛЯТЬ праметром Л2 для чанков. 0..1\n",
        "      print(f'=== score = {score}  Metadata документа ------------ {doc.metadata}')\n"
      ],
      "metadata": {
        "colab": {
          "base_uri": "https://localhost:8080/"
        },
        "id": "qrlk-KUAN_7Z",
        "outputId": "fb38fb22-a917-4a85-d13b-2b9989c1d6bc"
      },
      "execution_count": null,
      "outputs": [
        {
          "output_type": "stream",
          "name": "stdout",
          "text": [
            "=== score = 0.34520357847213745  Metadata документа ------------ {'Header1': 'Kia Carnival 2022 - https://www.kia.ru/models/carnival/desc/', 'Header2': 'Интерьер'}\n",
            "=== score = 0.3497665822505951  Metadata документа ------------ {'Header1': 'Kia Cerato 2022 - https://www.kia.ru/models/cerato/desc/', 'Header2': 'Комфорт'}\n",
            "=== score = 0.3562178611755371  Metadata документа ------------ {'Header1': 'Kia Soul 2022 - https://www.kia.ru/models/soul/desc/', 'Header2': 'Комфорт'}\n",
            "=== score = 0.36482396721839905  Metadata документа ------------ {'Header1': 'Kia K9 2022 - https://www.kia.ru/models/k9/desc/', 'Header2': 'Комфорт'}\n",
            "=== score = 0.3661295771598816  Metadata документа ------------ {'Header1': 'Kia Carnival 2022 - https://www.kia.ru/models/carnival/desc/', 'Header2': 'Комфорт'}\n"
          ]
        }
      ]
    },
    {
      "cell_type": "code",
      "source": [
        "topic = 'Какая цена у Сид Комфорт'\n",
        "docs = knowledge_base.similarity_search_with_score(topic, k= 5, filter=dict(Header2 = 'Комфорт'))\n",
        "responses = []\n",
        "for i, (doc, score) in enumerate(docs):\n",
        "   if score < 1: # ТУТ ТЫ МОЖЕШЬ УПРАВЛЯТЬ праметром Л2 для чанков. 0..1\n",
        "      print(f'=== score = {score}  Metadata документа ------------ {doc.metadata}')\n"
      ],
      "metadata": {
        "colab": {
          "base_uri": "https://localhost:8080/"
        },
        "id": "CJOtajanVGfD",
        "outputId": "43cc5956-ef6e-4abe-e0af-aee9b858b80e"
      },
      "execution_count": null,
      "outputs": [
        {
          "output_type": "stream",
          "name": "stdout",
          "text": [
            "=== score = 0.349797785282135  Metadata документа ------------ {'Header1': 'Kia Cerato 2022 - https://www.kia.ru/models/cerato/desc/', 'Header2': 'Комфорт'}\n",
            "=== score = 0.3563109338283539  Metadata документа ------------ {'Header1': 'Kia Soul 2022 - https://www.kia.ru/models/soul/desc/', 'Header2': 'Комфорт'}\n",
            "=== score = 0.3649287223815918  Metadata документа ------------ {'Header1': 'Kia K9 2022 - https://www.kia.ru/models/k9/desc/', 'Header2': 'Комфорт'}\n",
            "=== score = 0.3662051558494568  Metadata документа ------------ {'Header1': 'Kia Carnival 2022 - https://www.kia.ru/models/carnival/desc/', 'Header2': 'Комфорт'}\n",
            "=== score = 0.36660271883010864  Metadata документа ------------ {'Header1': 'Kia Rio 2022 - https://www.kia.ru/models/rio/desc/', 'Header2': 'Комфорт'}\n"
          ]
        }
      ]
    },
    {
      "cell_type": "code",
      "source": [
        "topic = 'Какая цена у Ceed Comfort'\n",
        "docs = knowledge_base.similarity_search_with_score(topic, k= 5, filter=dict(Header1 = 'Kia Ceed 2022 - https://www.kia.ru/models/ceed/desc/'))\n",
        "responses = []\n",
        "for i, (doc, score) in enumerate(docs):\n",
        "   if score < 1: # ТУТ ТЫ МОЖЕШЬ УПРАВЛЯТЬ праметром Л2 для чанков. 0..1\n",
        "      print(f'=== score = {score}  Metadata документа ------------ {doc.metadata}')"
      ],
      "metadata": {
        "colab": {
          "base_uri": "https://localhost:8080/"
        },
        "id": "0vOWHvnwfsqf",
        "outputId": "ff5f3593-f13a-49d1-e152-d5bd0da40037"
      },
      "execution_count": null,
      "outputs": [
        {
          "output_type": "stream",
          "name": "stdout",
          "text": [
            "=== score = 0.2673403322696686  Metadata документа ------------ {'Header1': 'Kia Ceed 2022 - https://www.kia.ru/models/ceed/desc/', 'Header2': 'Комплектации', 'Header3': 'Комплектация: Kia Ceed Comfort 1.6 MPI / 128 л.с. / Бензин / Автомат, 6AT / Передний привод'}\n",
            "=== score = 0.282987117767334  Metadata документа ------------ {'Header1': 'Kia Ceed 2022 - https://www.kia.ru/models/ceed/desc/', 'Header2': 'Комфорт'}\n",
            "=== score = 0.3074369430541992  Metadata документа ------------ {'Header1': 'Kia Ceed 2022 - https://www.kia.ru/models/ceed/desc/', 'Header2': 'Комплектации', 'Header3': 'Комплектация: Kia Ceed Premium 1.6 MPI / 128 л.с. / Бензин / Автомат, 6AT / Передний привод'}\n",
            "=== score = 0.30959129333496094  Metadata документа ------------ {'Header1': 'Kia Ceed 2022 - https://www.kia.ru/models/ceed/desc/', 'Header2': 'Комплектации', 'Header3': 'Комплектация: Kia Ceed Luxe 1.6 MPI / 128 л.с. / Бензин / Автомат, 6AT / Передний привод'}\n",
            "=== score = 0.3104107081890106  Metadata документа ------------ {'Header1': 'Kia Ceed 2022 - https://www.kia.ru/models/ceed/desc/', 'Header2': 'Комплектации', 'Header3': 'Комплектация: Kia Ceed Prestige 1.6 MPI / 128 л.с. / Бензин / Автомат, 6AT / Передний привод'}\n"
          ]
        }
      ]
    },
    {
      "cell_type": "code",
      "source": [
        "topic = 'Какая цена у Сид Комфорт'\n",
        "docs = knowledge_base.similarity_search_with_score(topic, k= 5, filter=dict(Header1 = 'Kia Ceed 2022 - https://www.kia.ru/models/ceed/desc/', Header2= 'Комплектации'))\n",
        "responses = []\n",
        "for i, (doc, score) in enumerate(docs):\n",
        "   if score < 1: # ТУТ ТЫ МОЖЕШЬ УПРАВЛЯТЬ праметром Л2 для чанков. 0..1\n",
        "      print(f'=== score = {score}  Metadata документа ------------ {doc.metadata}')\n"
      ],
      "metadata": {
        "id": "MLHvn6UEcl7R"
      },
      "execution_count": null,
      "outputs": []
    },
    {
      "cell_type": "code",
      "source": [
        "from langchain.schema import Document\n",
        "embeddings = OpenAIEmbeddings()\n",
        "\n",
        "list_of_documents = [\n",
        "    Document(page_content=\"foo\", metadata=dict(page=1, header1 = 'dfdcfvf')),\n",
        "    Document(page_content=\"bar\", metadata=dict(page=1, header1 = 'dfdcfvf')),\n",
        "    Document(page_content=\"foo\", metadata=dict(page=2, header1 = 'wwwwww')),\n",
        "    Document(page_content=\"barbar\", metadata=dict(page=2, header1 = 'dfdcfvf')),\n",
        "    Document(page_content=\"foo\", metadata=dict(page=3, header1 = 'wwwwww')),\n",
        "    Document(page_content=\"bar burr\", metadata=dict(page=3, header1 = 'dfdcfvf')),\n",
        "    Document(page_content=\"foo\", metadata=dict(page=4, header1 = 'wwwwww')),\n",
        "    Document(page_content=\"bar bruh\", metadata=dict(page=4, header1 = 'dfdcfvf')),\n",
        "]\n",
        "db = FAISS.from_documents(list_of_documents, embeddings)\n",
        "results_with_scores = db.similarity_search_with_score(\"foo\")\n",
        "for doc, score in results_with_scores:\n",
        "    print(f\"Content: {doc.page_content}, Metadata: {doc.metadata}, Score: {score}\")"
      ],
      "metadata": {
        "colab": {
          "base_uri": "https://localhost:8080/"
        },
        "id": "gLfr4XJkaFvf",
        "outputId": "25f162b7-4923-4e2e-b0f1-42c5f950ddb4"
      },
      "execution_count": null,
      "outputs": [
        {
          "output_type": "stream",
          "name": "stdout",
          "text": [
            "Content: foo, Metadata: {'page': 1, 'header1': 'dfdcfvf'}, Score: 7.443106359386348e-15\n",
            "Content: foo, Metadata: {'page': 2, 'header1': 'wwwwww'}, Score: 7.443106359386348e-15\n",
            "Content: foo, Metadata: {'page': 3, 'header1': 'wwwwww'}, Score: 7.443106359386348e-15\n",
            "Content: foo, Metadata: {'page': 4, 'header1': 'wwwwww'}, Score: 7.443106359386348e-15\n"
          ]
        }
      ]
    },
    {
      "cell_type": "code",
      "source": [
        "list_of_documents"
      ],
      "metadata": {
        "colab": {
          "base_uri": "https://localhost:8080/"
        },
        "id": "phYplrIlaZq7",
        "outputId": "c3990902-1140-4c4d-ee1a-48d50693898a"
      },
      "execution_count": null,
      "outputs": [
        {
          "output_type": "execute_result",
          "data": {
            "text/plain": [
              "[Document(page_content='foo', metadata={'page': 1, 'header1': 'dfdcfvf'}),\n",
              " Document(page_content='bar', metadata={'page': 1, 'header1': 'dfdcfvf'}),\n",
              " Document(page_content='foo', metadata={'page': 2, 'header1': 'wwwwww'}),\n",
              " Document(page_content='barbar', metadata={'page': 2, 'header1': 'dfdcfvf'}),\n",
              " Document(page_content='foo', metadata={'page': 3, 'header1': 'wwwwww'}),\n",
              " Document(page_content='bar burr', metadata={'page': 3, 'header1': 'dfdcfvf'}),\n",
              " Document(page_content='foo', metadata={'page': 4, 'header1': 'wwwwww'}),\n",
              " Document(page_content='bar bruh', metadata={'page': 4, 'header1': 'dfdcfvf'})]"
            ]
          },
          "metadata": {},
          "execution_count": 185
        }
      ]
    },
    {
      "cell_type": "code",
      "source": [
        "results_with_scores = db.similarity_search_with_score(\"foo\",)\n",
        "for doc, score in results_with_scores:\n",
        "    print(f\"Content: {doc.page_content}, Metadata: {doc.metadata}, Score: {score}\")"
      ],
      "metadata": {
        "colab": {
          "base_uri": "https://localhost:8080/"
        },
        "id": "TRMY_X2pbjcB",
        "outputId": "fceefde2-17bb-49be-fc83-cd72112953d6"
      },
      "execution_count": null,
      "outputs": [
        {
          "output_type": "stream",
          "name": "stdout",
          "text": [
            "Content: foo, Metadata: {'page': 1, 'header1': 'dfdcfvf'}, Score: 1.4206958439899608e-05\n",
            "Content: foo, Metadata: {'page': 2}, Score: 1.4206958439899608e-05\n",
            "Content: foo, Metadata: {'page': 3}, Score: 1.4206958439899608e-05\n",
            "Content: foo, Metadata: {'page': 4}, Score: 1.4206958439899608e-05\n"
          ]
        }
      ]
    },
    {
      "cell_type": "code",
      "source": [
        "results_with_scores = db.similarity_search_with_score(\"foo\", filter=dict(page=1))\n",
        "for doc, score in results_with_scores:\n",
        "    print(f\"Content: {doc.page_content}, Metadata: {doc.metadata}, Score: {score}\")"
      ],
      "metadata": {
        "colab": {
          "base_uri": "https://localhost:8080/"
        },
        "id": "kk66oTopbgg7",
        "outputId": "c1043519-ae68-4c48-ad0a-5ef77e28276c"
      },
      "execution_count": null,
      "outputs": [
        {
          "output_type": "stream",
          "name": "stdout",
          "text": [
            "Content: foo, Metadata: {'page': 1, 'header1': 'dfdcfvf'}, Score: 7.443106359386348e-15\n",
            "Content: bar, Metadata: {'page': 1}, Score: 0.3131275773048401\n"
          ]
        }
      ]
    },
    {
      "cell_type": "code",
      "source": [
        "results_with_scores = db.similarity_search_with_score(\"foo\", filter=dict(header1='wwwwww'))\n",
        "for doc, score in results_with_scores:\n",
        "    print(f\"Content: {doc.page_content}, Metadata: {doc.metadata}, Score: {score}\")"
      ],
      "metadata": {
        "colab": {
          "base_uri": "https://localhost:8080/"
        },
        "id": "aArs0lrRbnPS",
        "outputId": "9cce93c2-40ad-4b63-b18b-1fdd9a49f7c3"
      },
      "execution_count": null,
      "outputs": [
        {
          "output_type": "stream",
          "name": "stdout",
          "text": [
            "Content: foo, Metadata: {'page': 2, 'header1': 'wwwwww'}, Score: 7.443106359386348e-15\n",
            "Content: foo, Metadata: {'page': 3, 'header1': 'wwwwww'}, Score: 7.443106359386348e-15\n",
            "Content: foo, Metadata: {'page': 4, 'header1': 'wwwwww'}, Score: 7.443106359386348e-15\n"
          ]
        }
      ]
    },
    {
      "cell_type": "markdown",
      "source": [
        "# Автоматическое заполнение файла ответами"
      ],
      "metadata": {
        "id": "IhShELnyv99g"
      }
    },
    {
      "cell_type": "code",
      "source": [
        "#authenticate, and create the interface to Sheets\n",
        "from google.colab import auth\n",
        "auth.authenticate_user()\n",
        "\n",
        "import gspread\n",
        "from google.auth import default\n",
        "creds, _ = default()\n",
        "\n",
        "gc = gspread.authorize(creds)"
      ],
      "metadata": {
        "id": "83pIeeq-sgm-"
      },
      "execution_count": null,
      "outputs": []
    },
    {
      "cell_type": "code",
      "source": [
        "worksheet = gc.open_by_url('https://docs.google.com/spreadsheets/d/1dlzmaiKBX8ZxIc-OM9XUrv2vkQVgY1Gs5SYPm9ZZQ8s/edit?usp=sharing')"
      ],
      "metadata": {
        "id": "clN88OTpsm90"
      },
      "execution_count": null,
      "outputs": []
    },
    {
      "cell_type": "code",
      "source": [
        "#получаем список всех листов файла\n",
        "worksheet_list = worksheet.worksheets()\n",
        "print(worksheet_list)"
      ],
      "metadata": {
        "colab": {
          "base_uri": "https://localhost:8080/"
        },
        "id": "5OcmjElSsuBm",
        "outputId": "5c7acfff-4cad-45fc-f14b-3a26511326c8"
      },
      "execution_count": null,
      "outputs": [
        {
          "output_type": "stream",
          "name": "stdout",
          "text": [
            "[<Worksheet 'Инструкция !!!' id:839332776>, <Worksheet 'Вопросы' id:1214543959>, <Worksheet 'Сводная таблица 1' id:123014530>, <Worksheet 'Статистика' id:620905567>, <Worksheet 'Вопросы v1' id:2129939177>, <Worksheet 'Типовые проблемы' id:816259107>, <Worksheet 'Доп вопросы' id:1850819785>, <Worksheet 'Чанки' id:238143192>, <Worksheet 'from bot' id:302818179>]\n"
          ]
        }
      ]
    },
    {
      "cell_type": "code",
      "source": [
        "#обращаемся к нашему листу\n",
        "sheet = worksheet.worksheet(\"Вопросы\")\n",
        "#получаем все строки листа\n",
        "rows = sheet.get_all_values()"
      ],
      "metadata": {
        "id": "d0OpOPmWsxCt"
      },
      "execution_count": null,
      "outputs": []
    },
    {
      "cell_type": "code",
      "source": [
        "#задаем номер ВОПРОСА (то есть значения, указанного в столбце A), которые проверяем\n",
        "start_index = 186\n",
        "end_index= 263\n",
        "\n",
        "\n",
        "selected_rows = rows[start_index:end_index+1]"
      ],
      "metadata": {
        "id": "K-bHasbus1KJ"
      },
      "execution_count": null,
      "outputs": []
    },
    {
      "cell_type": "code",
      "source": [
        "print(selected_rows)"
      ],
      "metadata": {
        "colab": {
          "base_uri": "https://localhost:8080/"
        },
        "id": "-NodPWaUs3qd",
        "outputId": "7cdffc02-432b-4455-e2a2-f3ccf7e720ca"
      },
      "execution_count": null,
      "outputs": [
        {
          "output_type": "stream",
          "name": "stdout",
          "text": [
            "[['186', 'Марки. Picanto', '', 'Какие варианты комплектации доступны для модели Kia Picanto?', '', '', '', '', ' ', ' ', '', '', '', '', '', '', '', '', '', '', '', ''], ['187', 'Марки. Picanto', '', 'Какие опции входят в комплектацию Comfort модели Kia Picanto?', '', '', '', '', ' ', ' ', '', '', '', '', '', '', '', '', '', '', '', ''], ['188', 'Марки. Picanto', '', 'Какие особенности безопасности имеет Kia Picanto?', '', '', '', '', ' ', ' ', '', '', '', '', '', '', '', '', '', '', '', ''], ['189', 'Марки. Picanto', '', 'Какие двигатели доступны для Kia Picanto и какая их мощность?', '', '', '', '', ' ', ' ', '', '', '', '', '', '', '', '', '', '', '', ''], ['190', 'Марки. Picanto', '', 'Какой объем багажника у Kia Picanto и как он может быть увеличен?', '', '', '', '', ' ', ' ', '', '', '', '', '', '', '', '', '', '', '', ''], ['191', 'Марки. Picanto', '', 'Какие особенности комфорта предлагает Kia Picanto?', '', '', '', '', ' ', ' ', '', '', '', '', '', '', '', '', '', '', '', ''], ['192', 'Марки. Picanto', '', 'Какие технологические возможности есть у Kia Picanto?', '', '', '', '', ' ', ' ', '', '', '', '', '', '', '', '', '', '', '', ''], ['193', 'Марки. Picanto', '', 'Какие функции поддержки связи с мобильными устройствами есть у Kia Picanto?', '', '', '', '', ' ', ' ', '', '', '', '', '', '', '', '', '', '', '', ''], ['194', 'Марки. Picanto', '', 'Где можно найти дополнительную информацию о комплектациях и опциях для Kia Picanto?', '', '', '', '', ' ', ' ', '', '', '', '', '', '', '', '', '', '', '', ''], ['195', 'Марки. Picanto', '', 'Какие скидки или специальные предложения доступны для покупки Kia Picanto?', '', '', '', '', ' ', ' ', '', '', '', '', '', '', '', '', '', '', '', ''], ['196', 'Технологии', '', 'Как работает ассистент движения в полосе', '', '', '', '', ' ', ' ', '', '', '', '', '', '', '', '', '', '', '', ''], ['197', 'Технологии', '', 'Что такое LFA', '', '', '', '', ' ', ' ', '', '', '', '', '', '', '', '', '', '', '', ''], ['198', 'Технологии', '', 'Какая скорость поддерживается системой ассистента движения в полосе (LFA) и как она использует камеру и радары-датчики для обеспечения безопасной дистанции и центрирования автомобиля на полосе?', '', '', '', '', ' ', ' ', '', '', '', '', '', '', '', '', '', '', '', ''], ['199', 'Марки', '', 'В каких моделях есть ассистент движения', '', '', '', '', ' ', ' ', '', '', '', '', '', '', '', '', '', '', '', ''], ['200', 'Технологии', '', 'Как работает система предотвращения выезда из полосы движения (LKA) в автомобиле KIA?', '', '', '', '', ' ', ' ', '', '', '', '', '', '', '', '', '', '', '', ''], ['201', 'Технологии', '', 'Как работает интеллектуальный круиз-контроль (SCC) с функцией Stop&Go на автомобилях KIA?', '', '', '', '', ' ', ' ', '', '', '', '', '', '', '', '', '', '', '', ''], ['202', 'Технологии', '', 'Как работает интеллектуальный круиз-контроль с функцией движения в пробке и как он помогает водителю?', '', '', '', '', ' ', ' ', '', '', '', '', '', '', '', '', '', '', '', ''], ['203', 'Марки', '', 'В каких моделях есть а', '', '', '', '', ' ', ' ', '', '', '', '', '', '', '', '', '', '', '', ''], ['204', 'Технологии', '', 'Какие функции доступны через Kia Connect на смартфоне?', '', '', '', '', ' ', ' ', '', '', '', '', '', '', '', '', '', '', '', ''], ['205', 'Технологии', '', 'Какие функции можно активировать через приложение Kia Connect и какую информацию можно получить о состоянии автомобиля?', '', '', '', '', ' ', ' ', '', '', '', '', '', '', '', '', '', '', '', ''], ['206', 'Технологии', '', 'Какие функции можно активировать дистанционно с помощью Kia Connect?', '', '', '', '', ' ', ' ', '', '', '', '', '', '', '', '', '', '', '', ''], ['207', 'Технологии', '', 'Какие функции доступны в Kia Connect и как их активировать в автомобиле?', '', '', '', '', ' ', ' ', '', '', '', '', '', '', '', '', '', '', '', ''], ['208', 'Технологии', '', 'Какие функции доступны в приложении Kia Connect для дистанционного управления автомобилем?', '', '', '', '', ' ', ' ', '', '', '', '', '', '', '', '', '', '', '', ''], ['209', 'Технологии', '', 'Какие функции и сервисы доступны клиенту при использовании приложения Kia Connect для дистанционного управления автомобилем?', '', '', '', '', ' ', ' ', '', '', '', '', '', '', '', '', '', '', '', ''], ['210', 'Технологии', '', 'Как работает функция камер контроля слепых зон (BVM) в автомобилях KIA?', '', '', '', '', ' ', ' ', '', '', '', '', '', '', '', '', '', '', '', ''], ['211', 'Технологии', '', 'Как работает система контроля внимания водителя (DAW) в автомобилях KIA и можно ли ее настроить по своим индивидуальным пожеланиям?', '', '', '', '', ' ', ' ', '', '', '', '', '', '', '', '', '', '', '', ''], ['212', 'Технологии', '', 'В каких моделях есть функция DAW', '', '', '', '', ' ', ' ', '', '', '', '', '', '', '', '', '', '', '', ''], ['213', 'Технологии', '', 'Что такое SLIF и в каких моделях она есть ', '', '', '', '', ' ', ' ', '', '', '', '', '', '', '', '', '', '', '', ''], ['214', 'Технологии', '', 'Какие функции есть в системе распознавания дорожных знаков (SLIF) и как работает система предотвращения фронтального столкновения (FCA)?', '', '', '', '', ' ', ' ', '', '', '', '', '', '', '', '', '', '', '', ''], ['215', 'Технологии', '', 'Какие функции системы FCA в автомобилях KIA и как она работает?', '', '', '', '', ' ', ' ', '', '', '', '', '', '', '', '', '', '', '', ''], ['216', 'Технологии', '', 'Как работает функция распознавания пешеходов в KIA и как она предотвращает столкновения в случае, если водитель не отреагирует на предупреждение?', '', '', '', '', ' ', ' ', '', '', '', '', '', '', '', '', '', '', '', ''], ['217', 'Технологии', '', 'Какие средства позволяют водителю получить всю необходимую информацию без отвлечения от дороги в автомобилях KIA?', '', '', '', '', ' ', ' ', '', '', '', '', '', '', '', '', '', '', '', ''], ['218', 'Технологии', '', 'Как работает система кругового обзора (SVM) в автомобилях KIA и как она помогает водителю в процессе парковки?', '', '', '', '', ' ', ' ', '', '', '', '', '', '', '', '', '', '', '', ''], ['219', 'Технологии', '', 'Какая конструкция трансмиссии Smartstream 8DCT позволяет избегать перегревов при предельных нагрузках и специально разработана для работы с мощными дизельными двигателями?', '', '', '', '', ' ', ' ', '', '', '', '', '', '', '', '', '', '', '', ''], ['220', 'Технологии', '', 'Какая аудиосистема устанавливается на автомобили KIA и какие технологии она поддерживает для повышения качества звука?', '', '', '', '', ' ', ' ', '', '', '', '', '', '', '', '', '', '', '', ''], ['221', 'Технологии', '', 'Какие новые функции доступны в мультимедийных системах автомобилей KIA?', '', '', '', '', ' ', ' ', '', '', '', '', '', '', '', '', '', '', '', ''], ['222', 'Технологии', '', 'Как использовать беспроводную зарядку в автомобилях KIA?', '', '', '', '', ' ', ' ', '', '', '', '', '', '', '', '', '', '', '', ''], ['223', 'Технологии', '', 'Как система выбора режима движения Drive Mode Select улучшает динамические характеристики автомобиля KIA?', '', '', '', '', ' ', ' ', '', '', '', '', '', '', '', '', '', '', '', ''], ['224', 'Технологии', '', 'Как система полного привода автомобилей KIA помогает преодолевать сложные участки дороги и повышает безопасность на скользких дорогах?', '', '', '', '', ' ', ' ', '', '', '', '', '', '', '', '', '', '', '', ''], ['225', 'Технологии', '', 'Как работает режим 4WD Lock на кроссоверах и внедорожниках KIA?', '', '', '', '', ' ', ' ', '', '', '', '', '', '', '', '', '', '', '', ''], ['226', 'Технологии', '', 'Какая функция у системы управления полным приводом Kia автоматически переключается в режим после достижения скорости 40 км/ч?', '', '', '', '', ' ', ' ', '', '', '', '', '', '', '', '', '', '', '', ''], ['227', 'Технологии', '', 'Какие типы коробок передач используются на большинстве автомобилей Kia и на какие модели устанавливается 8-ступенчатая автоматическая трансмиссия гидромеханического типа?', '', '', '', '', ' ', ' ', '', '', '', '', '', '', '', '', '', '', '', ''], ['228', 'Технологии', '', 'На каких марках устанавливается роботизированная трансмиссия', '', '', '', '', ' ', ' ', '', '', '', '', '', '', '', '', '', '', '', ''], ['229', 'Технологии', '', 'Какое количество ступеней имеет роботизированная автоматическая трансмиссия DCT нового поколения', '', '', '', '', ' ', ' ', '', '', '', '', '', '', '', '', '', '', '', ''], ['230', 'Технологии', '', 'Какие трансмиссии устанавливаются на автомобили Kia и как они сочетаются с разными типами двигателей?', '', '', '', '', ' ', ' ', '', '', '', '', '', '', '', '', '', '', '', ''], ['231', 'Технологии', '', 'Какой привод используется в вариаторе IVT и почему он способен работать с большим крутящим моментом и выдерживать более высокие нагрузки?', '', '', '', '', ' ', ' ', '', '', '', '', '', '', '', '', '', '', '', ''], ['232', 'Технологии', '', 'Какие преимущества имеют двигатели с распределенным впрыском по технологии Gasoline Direct Injection (GDI) перед двигателями с непосредственным впрыском по технологии Multi Point Injection (MPI)?', '', '', '', '', ' ', ' ', '', '', '', '', '', '', '', '', '', '', '', ''], ['233', 'Технологии', '', 'Какое преимущество предоставляют двигатели GDI и турбированные двигатели T-GDI в автомобилях KIA?', '', '', '', '', ' ', ' ', '', '', '', '', '', '', '', '', '', '', '', ''], ['234', 'Технологии', '', 'Как работает система дистанционного запуска двигателя и прогрева автомобиля у KIA?', '', '', '', '', ' ', ' ', '', '', '', '', '', '', '', '', '', '', '', ''], ['235', 'Технологии', '', 'Какой способ доступа и запуска двигателя автомобиля доступен в автомобилях KIA?', '', '', '', '', ' ', ' ', '', '', '', '', '', '', '', '', '', '', '', ''], ['236', 'Технологии', '', 'Как обновить карты навигации в автомобиле KIA и где установить актуальную версию приложения \"Яндекс.Навигатор\"?', '', '', '', '', ' ', ' ', '', '', '', '', '', '', '', '', '', '', '', ''], ['237', 'Технологии', '', 'Как управлять сервисами \"Яндекс.Навигатор\" и \"Яндекс.Карты\" в автомобиле KIA с поддержкой Apple CarPlay и Android Auto?', '', '', '', '', ' ', ' ', '', '', '', '', '', '', '', '', '', '', '', ''], ['238', 'Технологии', '', 'Как пользоваться функционалом \"Яндекс.Навигатор\" и \"Яндекс.Карты\" в автомобилях KIA с поддержкой Apple CarPlay и Android Auto?', '', '', '', '', ' ', ' ', '', '', '', '', '', '', '', '', '', '', '', ''], ['239', 'Технологии', '', 'Как я могу использовать приложение Kia Connect для дистанционного управления своим автомобилем и получения информации о его состоянии?', '', '', '', '', ' ', ' ', '', '', '', '', '', '', '', '', '', '', '', ''], ['240', 'Технологии', '', 'Какие условия нужно соблюсти, чтобы пользоваться \"Яндекс.Карты\" в CarPlay и Android Auto?', '', '', '', '', ' ', ' ', '', '', '', '', '', '', '', '', '', '', '', ''], ['241', 'Технологии', '', 'Каким образом получить доступ к сервисам «Яндекс.Навигатор» и «Яндекс.Карты» в автомобилях KIA с поддержкой Apple CarPlay и Android Auto?', '', '', '', '', ' ', ' ', '', '', '', '', '', '', '', '', '', '', '', ''], ['242', 'Технологии', '', 'Какие условия необходимы для использования приложения «Яндекс.Карты» в автомобилях KIA с поддержкой Apple CarPlay и Android Auto?', '', '', '', '', ' ', ' ', '', '', '', '', '', '', '', '', '', '', '', ''], ['243', 'Технологии', '', 'Как мне получить доступ к функциям «Яндекс.Плюс» и активировать промокод на сайте KIA для них?', '', '', '', '', ' ', ' ', '', '', '', '', '', '', '', '', '', '', '', ''], ['244', 'Технологии', '', 'Как работает система беспроводной зарядки для смартфонов в автомобиле KIA?', '', '', '', '', ' ', ' ', '', '', '', '', '', '', '', '', '', '', '', ''], ['245', 'Технологии', '', 'Как работает динамическая подсветка интерьера Mood Lamp в автомобилях KIA?', '', '', '', '', ' ', ' ', '', '', '', '', '', '', '', '', '', '', '', ''], ['246', 'Технологии', '', 'Какие преимущества имеет роботизированная трансмиссия Smartstream 8DCT с двумя сцеплениями \"мокрого\" типа, устанавливаемая в автомобилях KIA?', '', '', '', '', ' ', ' ', '', '', '', '', '', '', '', '', '', '', '', ''], ['247', 'Технологии', '', 'Какие особенности трансмиссии Smartstream 8DCT позволяют ей работать с мощными дизельными двигателями, развивающими крутящий момент более 350 Hm?', '', '', '', '', ' ', ' ', '', '', '', '', '', '', '', '', '', '', '', ''], ['248', 'Технологии', '', 'Как подключить свой смартфон и использовать приложения, включая карты, на экране мультимедийной системы в автомобилях KIA?', '', '', '', '', ' ', ' ', '', '', '', '', '', '', '', '', '', '', '', ''], ['249', 'Технологии', '', 'Какая функция помогает водителю управлять основными функциями системы, не отвлекаясь от дороги?', '', '', '', '', ' ', ' ', '', '', '', '', '', '', '', '', '', '', '', ''], ['250', 'Технологии', '', 'На каких моделях автомобилей KIA устанавливается мультимедийная система с дисплеем диагональю 7\" и 8\"?', '', '', '', '', ' ', ' ', '', '', '', '', '', '', '', '', '', '', '', ''], ['251', 'Технологии', '', 'Какие функции имеет мультимедийная система AVN в автомобилях KIA, кроме встроенной навигации с сервисом определения пробок от TomTom?', '', '', '', '', ' ', ' ', '', '', '', '', '', '', '', '', '', '', '', ''], ['252', 'Технологии', '', 'Как активировать и использовать платформы Android Auto и Apple Carplay на мультимедийной системе автомобиля KIA?', '', '', '', '', ' ', ' ', '', '', '', '', '', '', '', '', '', '', '', ''], ['253', 'Технологии', '', 'Какие функции доступны через приложение Kia Connect для дистанционного управления автомобилем?', '', '', '', '', ' ', ' ', '', '', '', '', '', '', '', '', '', '', '', ''], ['254', 'Технологии', '', 'Какие модели автомобилей от KIA оснащены навигационной системой с дисплеем диагональю 8\" и какие - с дисплеем диагональю 10.25\"?', '', '', '', '', ' ', ' ', '', '', '', '', '', '', '', '', '', '', '', ''], ['255', 'Технологии', '', 'Как работает ассистент управления дальним светом (HBA) у автомобилей KIA?', '', '', '', '', ' ', ' ', '', '', '', '', '', '', '', '', '', '', '', ''], ['256', 'Технологии', '', 'Как работает интеллектуальная система автоматической парковки в автомобилях KIA?', '', '', '', '', ' ', ' ', '', '', '', '', '', '', '', '', '', '', '', ''], ['257', 'Технологии', '', 'Как активировать и использовать систему автоматической парковки в автомобилях KIA?', '', '', '', '', ' ', ' ', '', '', '', '', '', '', '', '', '', '', '', ''], ['258', 'Технологии', '', 'Как работает интеллектуальная система автоматической парковки в автомобилях KIA?', '', '', '', '', ' ', ' ', '', '', '', '', '', '', '', '', '', '', '', ''], ['259', 'Технологии', '', 'Как работают камеры контроля слепых зон на автомобилях KIA и какие преимущества они предоставляют водителю?', '', '', '', '', ' ', ' ', '', '', '', '', '', '', '', '', '', '', '', ''], ['260', 'Технологии', '', 'Как работает система предотвращения столкновения с автомобилем в слепой зоне (BCA) в автомобиле KIA?', '', '', '', '', ' ', ' ', '', '', '', '', '', '', '', '', '', '', '', ''], ['261', 'Технологии', '', 'Как система предупреждения при выезде с парковки задним ходом (RCCW) отслеживает приближающиеся автомобили?', '', '', '', '', ' ', ' ', '', '', '', '', '', '', '', '', '', '', '', ''], ['262', 'Технологии', '', 'Как проекционный дисплей (HUD) помогает водителю не отвлекаться от дороги и читать различные данные?', '', '', '', '', ' ', ' ', '', '', '', '', '', '', '', '', '', '', '', ''], ['263', 'Технологии', '', 'Какие производители аудиосистем премиум класса устанавливаются на автомобили KIA и какую технологию повышения качества проигрывания МР3 они используют?', '267', '', '', '', ' ', ' ', '', '', '', '', '', '', '', '', '', '', '', '']]\n"
          ]
        }
      ]
    },
    {
      "cell_type": "code",
      "source": [
        "temperature=0.3\n",
        "verbose=0\n",
        "\n",
        "\n",
        "answer = ''\n",
        "for row in selected_rows:                #если все подряд надо for i, row in  enumerate(rows[1:], start=2):\n",
        "  question_history = []\n",
        "  dialog = \"\"\n",
        "\n",
        "  print(row[0], row[3])\n",
        "  rowno =int(row[0])\n",
        "\n",
        "  user_question = row[3]\n",
        "  answer = answer_index(user_question)\n",
        "\n",
        "\n",
        "  sheet.update_cell(rowno+1, 5, answer)\n",
        "\n",
        "\n",
        "print(\"Завершено!\")"
      ],
      "metadata": {
        "colab": {
          "base_uri": "https://localhost:8080/"
        },
        "id": "wt10Arq4tVma",
        "outputId": "2760c844-6aae-4ec5-ffa4-c45cc7362c3c"
      },
      "execution_count": null,
      "outputs": [
        {
          "output_type": "stream",
          "name": "stdout",
          "text": [
            "186 Какие варианты комплектации доступны для модели Kia Picanto?\n",
            "187 Какие опции входят в комплектацию Comfort модели Kia Picanto?\n",
            "188 Какие особенности безопасности имеет Kia Picanto?\n",
            "189 Какие двигатели доступны для Kia Picanto и какая их мощность?\n",
            "190 Какой объем багажника у Kia Picanto и как он может быть увеличен?\n",
            "191 Какие особенности комфорта предлагает Kia Picanto?\n",
            "192 Какие технологические возможности есть у Kia Picanto?\n",
            "193 Какие функции поддержки связи с мобильными устройствами есть у Kia Picanto?\n",
            "194 Где можно найти дополнительную информацию о комплектациях и опциях для Kia Picanto?\n",
            "195 Какие скидки или специальные предложения доступны для покупки Kia Picanto?\n",
            "196 Как работает ассистент движения в полосе\n",
            "197 Что такое LFA\n",
            "198 Какая скорость поддерживается системой ассистента движения в полосе (LFA) и как она использует камеру и радары-датчики для обеспечения безопасной дистанции и центрирования автомобиля на полосе?\n",
            "199 В каких моделях есть ассистент движения\n",
            "200 Как работает система предотвращения выезда из полосы движения (LKA) в автомобиле KIA?\n",
            "201 Как работает интеллектуальный круиз-контроль (SCC) с функцией Stop&Go на автомобилях KIA?\n",
            "202 Как работает интеллектуальный круиз-контроль с функцией движения в пробке и как он помогает водителю?\n",
            "203 В каких моделях есть а\n",
            "204 Какие функции доступны через Kia Connect на смартфоне?\n",
            "205 Какие функции можно активировать через приложение Kia Connect и какую информацию можно получить о состоянии автомобиля?\n",
            "206 Какие функции можно активировать дистанционно с помощью Kia Connect?\n",
            "207 Какие функции доступны в Kia Connect и как их активировать в автомобиле?\n",
            "208 Какие функции доступны в приложении Kia Connect для дистанционного управления автомобилем?\n",
            "209 Какие функции и сервисы доступны клиенту при использовании приложения Kia Connect для дистанционного управления автомобилем?\n",
            "210 Как работает функция камер контроля слепых зон (BVM) в автомобилях KIA?\n",
            "211 Как работает система контроля внимания водителя (DAW) в автомобилях KIA и можно ли ее настроить по своим индивидуальным пожеланиям?\n",
            "212 В каких моделях есть функция DAW\n",
            "213 Что такое SLIF и в каких моделях она есть \n",
            "214 Какие функции есть в системе распознавания дорожных знаков (SLIF) и как работает система предотвращения фронтального столкновения (FCA)?\n",
            "215 Какие функции системы FCA в автомобилях KIA и как она работает?\n",
            "216 Как работает функция распознавания пешеходов в KIA и как она предотвращает столкновения в случае, если водитель не отреагирует на предупреждение?\n",
            "217 Какие средства позволяют водителю получить всю необходимую информацию без отвлечения от дороги в автомобилях KIA?\n",
            "218 Как работает система кругового обзора (SVM) в автомобилях KIA и как она помогает водителю в процессе парковки?\n",
            "219 Какая конструкция трансмиссии Smartstream 8DCT позволяет избегать перегревов при предельных нагрузках и специально разработана для работы с мощными дизельными двигателями?\n",
            "220 Какая аудиосистема устанавливается на автомобили KIA и какие технологии она поддерживает для повышения качества звука?\n",
            "221 Какие новые функции доступны в мультимедийных системах автомобилей KIA?\n",
            "222 Как использовать беспроводную зарядку в автомобилях KIA?\n",
            "223 Как система выбора режима движения Drive Mode Select улучшает динамические характеристики автомобиля KIA?\n",
            "224 Как система полного привода автомобилей KIA помогает преодолевать сложные участки дороги и повышает безопасность на скользких дорогах?\n",
            "225 Как работает режим 4WD Lock на кроссоверах и внедорожниках KIA?\n",
            "226 Какая функция у системы управления полным приводом Kia автоматически переключается в режим после достижения скорости 40 км/ч?\n",
            "227 Какие типы коробок передач используются на большинстве автомобилей Kia и на какие модели устанавливается 8-ступенчатая автоматическая трансмиссия гидромеханического типа?\n",
            "228 На каких марках устанавливается роботизированная трансмиссия\n",
            "229 Какое количество ступеней имеет роботизированная автоматическая трансмиссия DCT нового поколения\n",
            "230 Какие трансмиссии устанавливаются на автомобили Kia и как они сочетаются с разными типами двигателей?\n",
            "231 Какой привод используется в вариаторе IVT и почему он способен работать с большим крутящим моментом и выдерживать более высокие нагрузки?\n",
            "232 Какие преимущества имеют двигатели с распределенным впрыском по технологии Gasoline Direct Injection (GDI) перед двигателями с непосредственным впрыском по технологии Multi Point Injection (MPI)?\n",
            "233 Какое преимущество предоставляют двигатели GDI и турбированные двигатели T-GDI в автомобилях KIA?\n",
            "234 Как работает система дистанционного запуска двигателя и прогрева автомобиля у KIA?\n",
            "235 Какой способ доступа и запуска двигателя автомобиля доступен в автомобилях KIA?\n",
            "236 Как обновить карты навигации в автомобиле KIA и где установить актуальную версию приложения \"Яндекс.Навигатор\"?\n",
            "237 Как управлять сервисами \"Яндекс.Навигатор\" и \"Яндекс.Карты\" в автомобиле KIA с поддержкой Apple CarPlay и Android Auto?\n",
            "238 Как пользоваться функционалом \"Яндекс.Навигатор\" и \"Яндекс.Карты\" в автомобилях KIA с поддержкой Apple CarPlay и Android Auto?\n",
            "239 Как я могу использовать приложение Kia Connect для дистанционного управления своим автомобилем и получения информации о его состоянии?\n",
            "240 Какие условия нужно соблюсти, чтобы пользоваться \"Яндекс.Карты\" в CarPlay и Android Auto?\n",
            "241 Каким образом получить доступ к сервисам «Яндекс.Навигатор» и «Яндекс.Карты» в автомобилях KIA с поддержкой Apple CarPlay и Android Auto?\n",
            "242 Какие условия необходимы для использования приложения «Яндекс.Карты» в автомобилях KIA с поддержкой Apple CarPlay и Android Auto?\n",
            "243 Как мне получить доступ к функциям «Яндекс.Плюс» и активировать промокод на сайте KIA для них?\n",
            "244 Как работает система беспроводной зарядки для смартфонов в автомобиле KIA?\n",
            "245 Как работает динамическая подсветка интерьера Mood Lamp в автомобилях KIA?\n",
            "246 Какие преимущества имеет роботизированная трансмиссия Smartstream 8DCT с двумя сцеплениями \"мокрого\" типа, устанавливаемая в автомобилях KIA?\n",
            "247 Какие особенности трансмиссии Smartstream 8DCT позволяют ей работать с мощными дизельными двигателями, развивающими крутящий момент более 350 Hm?\n",
            "248 Как подключить свой смартфон и использовать приложения, включая карты, на экране мультимедийной системы в автомобилях KIA?\n",
            "249 Какая функция помогает водителю управлять основными функциями системы, не отвлекаясь от дороги?\n",
            "250 На каких моделях автомобилей KIA устанавливается мультимедийная система с дисплеем диагональю 7\" и 8\"?\n",
            "251 Какие функции имеет мультимедийная система AVN в автомобилях KIA, кроме встроенной навигации с сервисом определения пробок от TomTom?\n",
            "252 Как активировать и использовать платформы Android Auto и Apple Carplay на мультимедийной системе автомобиля KIA?\n",
            "253 Какие функции доступны через приложение Kia Connect для дистанционного управления автомобилем?\n",
            "254 Какие модели автомобилей от KIA оснащены навигационной системой с дисплеем диагональю 8\" и какие - с дисплеем диагональю 10.25\"?\n",
            "255 Как работает ассистент управления дальним светом (HBA) у автомобилей KIA?\n",
            "256 Как работает интеллектуальная система автоматической парковки в автомобилях KIA?\n",
            "257 Как активировать и использовать систему автоматической парковки в автомобилях KIA?\n",
            "258 Как работает интеллектуальная система автоматической парковки в автомобилях KIA?\n",
            "259 Как работают камеры контроля слепых зон на автомобилях KIA и какие преимущества они предоставляют водителю?\n",
            "260 Как работает система предотвращения столкновения с автомобилем в слепой зоне (BCA) в автомобиле KIA?\n",
            "261 Как система предупреждения при выезде с парковки задним ходом (RCCW) отслеживает приближающиеся автомобили?\n",
            "262 Как проекционный дисплей (HUD) помогает водителю не отвлекаться от дороги и читать различные данные?\n",
            "263 Какие производители аудиосистем премиум класса устанавливаются на автомобили KIA и какую технологию повышения качества проигрывания МР3 они используют?\n",
            "Завершено!\n"
          ]
        }
      ]
    }
  ]
}