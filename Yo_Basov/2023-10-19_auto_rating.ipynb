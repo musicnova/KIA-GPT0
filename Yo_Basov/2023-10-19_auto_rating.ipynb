{
  "cells": [
    {
      "cell_type": "code",
      "execution_count": null,
      "metadata": {
        "id": "liJtv5K872wH"
      },
      "outputs": [],
      "source": [
        "# ТЕСТИРОВАНИЕ A10 RELEASE\n",
        "\n",
        "from google.colab import drive\n",
        "drive.mount('/content/drive')"
      ]
    },
    {
      "cell_type": "code",
      "execution_count": null,
      "metadata": {
        "id": "FdzOgOj1BB0I"
      },
      "outputs": [],
      "source": [
        "!rm -rf /content/drive/MyDrive/KIA_TEST/FAISS_KIA_V3"
      ]
    },
    {
      "cell_type": "code",
      "execution_count": null,
      "metadata": {
        "id": "mS7zSmtqBW3B"
      },
      "outputs": [],
      "source": [
        "!mkdir -p /content/drive/MyDrive/KIA_TEST/FAISS_KIA_V3"
      ]
    },
    {
      "cell_type": "code",
      "execution_count": null,
      "metadata": {
        "id": "lkFEXz7kFl7B"
      },
      "outputs": [],
      "source": [
        "!git clone https://github.com/musicnova/KIA-GPT0.git /content/drive/MyDrive/KIA_TEST/FAISS_KIA_V3/faiss_a10"
      ]
    },
    {
      "cell_type": "code",
      "execution_count": null,
      "metadata": {
        "id": "dGgKGjO7FxUe"
      },
      "outputs": [],
      "source": [
        "!(sleep 5 && cd /content/drive/MyDrive/KIA_TEST/FAISS_KIA_V3/faiss_a10 && git checkout faiss/A10)"
      ]
    },
    {
      "cell_type": "code",
      "execution_count": null,
      "metadata": {
        "id": "0RMNGOokF21t"
      },
      "outputs": [],
      "source": [
        "!rm -rf faiss"
      ]
    },
    {
      "cell_type": "code",
      "execution_count": null,
      "metadata": {
        "id": "-Uq9DNgJBdTx"
      },
      "outputs": [],
      "source": [
        "!rm -f database.md"
      ]
    },
    {
      "cell_type": "code",
      "execution_count": null,
      "metadata": {
        "id": "Rdcwy4uaG5Kt"
      },
      "outputs": [],
      "source": [
        "!cp -r /content/drive/MyDrive/KIA_TEST/FAISS_KIA_V3/faiss_a10/knowledge/faiss faiss"
      ]
    },
    {
      "cell_type": "code",
      "execution_count": null,
      "metadata": {
        "id": "Px-C9C3z72kR"
      },
      "outputs": [],
      "source": [
        "!pip  install  tiktoken==0.4.0  langchain==0.0.231 openai==0.27.8 faiss-cpu==1.7.4 gspread oauth2client nltk pydantic==1.10.8"
      ]
    },
    {
      "cell_type": "markdown",
      "metadata": {
        "id": "8l6EU0C7uUFp"
      },
      "source": [
        "## Собрать новую базу FAISS"
      ]
    },
    {
      "cell_type": "code",
      "execution_count": null,
      "metadata": {
        "id": "YnSehGphiewU"
      },
      "outputs": [],
      "source": [
        "from langchain.text_splitter import MarkdownHeaderTextSplitter\n",
        "import re\n",
        "from langchain.vectorstores import FAISS\n",
        "\n",
        "def load_file_knowledge(file_path: str) -> str:\n",
        "    # Чтение текстового файла\n",
        "    with open(file_path, 'r', encoding='utf-8') as file:\n",
        "        text = file.read()\n",
        "\n",
        "    headers_to_split_on = [\n",
        "        (\"#\", \"Header 1\"),\n",
        "        (\"##\", \"Header 2\"),\n",
        "        (\"###\", \"Header 3\"),\n",
        "        (\"####\", \"Header 4\"),\n",
        "    ]\n",
        "\n",
        "    markdown_splitter = MarkdownHeaderTextSplitter(headers_to_split_on=headers_to_split_on)\n",
        "    md_header_splits = markdown_splitter.split_text(text)\n",
        "\n",
        "    # Предполагается, что FAISS и OpenAIEmbeddings были импортированы или определены где-то выше\n",
        "    vectordateBase = FAISS.from_documents(md_header_splits, OpenAIEmbeddings())\n",
        "    vectordateBase.save_local(\"faiss\")\n",
        "\n",
        "    return\n",
        "\n"
      ]
    },
    {
      "cell_type": "code",
      "execution_count": null,
      "metadata": {
        "id": "9CrXhbfVqtP_"
      },
      "outputs": [],
      "source": [
        "# load_file_knowledge('database.md')\n",
        "# БД сохранитсья в коллабе в папке faiss нужно подождать какое-то время"
      ]
    },
    {
      "cell_type": "markdown",
      "metadata": {
        "id": "QsFGkXMMwcX3"
      },
      "source": [
        "## Проверка чанков **БЕЗ** сбора нового файла FAISS **БЕЗ** обращения к OpenAI\n"
      ]
    },
    {
      "cell_type": "code",
      "execution_count": null,
      "metadata": {
        "id": "-nH2KyinoxhE"
      },
      "outputs": [],
      "source": [
        "!pip  install  tiktoken==0.4.0  langchain==0.0.231 openai==0.27.8 faiss-cpu==1.7.4 gspread oauth2client nltk pydantic==1.10.8"
      ]
    },
    {
      "cell_type": "code",
      "execution_count": null,
      "metadata": {
        "id": "wNTJkb02qexK"
      },
      "outputs": [],
      "source": [
        "import gdown\n",
        "from langchain.llms import OpenAI\n",
        "from langchain.docstore.document import Document\n",
        "import requests\n",
        "#database\n",
        "from langchain.embeddings.openai import OpenAIEmbeddings\n",
        "from langchain.vectorstores import FAISS\n",
        "from langchain.text_splitter import RecursiveCharacterTextSplitter\n",
        "#from langchain.document_loaders import TextLoader\n",
        "\n",
        "from langchain.prompts import PromptTemplate\n",
        "import pathlib\n",
        "import subprocess\n",
        "import tempfile\n",
        "import ipywidgets as widgets\n",
        "import gspread\n",
        "from oauth2client.service_account import ServiceAccountCredentials\n",
        "import re\n",
        "import getpass\n",
        "import os\n",
        "import openai\n",
        "import tiktoken\n",
        "\n",
        "class bcolors:\n",
        "    HEADER = '\\033[95m'\n",
        "    OKBLUE = '\\033[94m'\n",
        "    OKCYAN = '\\033[96m'\n",
        "    OKGREEN = '\\033[92m'\n",
        "    WARNING = '\\033[93m'\n",
        "    FAIL = '\\033[91m'\n",
        "    ENDC = '\\033[0m'\n",
        "    BOLD = '\\033[1m'\n",
        "    UNDERLINE = '\\033[4m'\n",
        "\n",
        "\n",
        "HISTORY = []\n"
      ]
    },
    {
      "cell_type": "code",
      "execution_count": null,
      "metadata": {
        "id": "JGGCoN9RNAmm"
      },
      "outputs": [],
      "source": [
        "MODEL_GPT_3_5_TURBO_16K = ['gpt-3.5-turbo-16k', 0.003, 0.004]\n",
        "MODEL_GPT_3_5_TURBO = ['gpt-3.5-turbo', 0.0015, 0.002]  # 4,097 tokens\n",
        "MODEL_GPT_4 = ['gpt-4', 0.03, 0.06]  # 8,192 tokens\n",
        "SELECT_MODEL_GPT = MODEL_GPT_3_5_TURBO_16K"
      ]
    },
    {
      "cell_type": "code",
      "execution_count": null,
      "metadata": {
        "id": "jSdHAWANqs7C"
      },
      "outputs": [],
      "source": [
        "openai_key = getpass.getpass(\"OpenAI API Key:\")\n",
        "os.environ[\"OPENAI_API_KEY\"] = openai_key\n",
        "openai.api_key = openai_key"
      ]
    },
    {
      "cell_type": "code",
      "execution_count": null,
      "metadata": {
        "id": "XdiDI_MZwHKm"
      },
      "outputs": [],
      "source": [
        "# Загружаем векторный файл базы знаний! В коллаб надо в папку faiss загрузить 2 файла\n",
        "\n",
        "knowledge_only_langchain = FAISS.load_local(\"faiss\", OpenAIEmbeddings())"
      ]
    },
    {
      "cell_type": "code",
      "execution_count": null,
      "metadata": {
        "id": "eJG2gn2UNapo"
      },
      "outputs": [],
      "source": [
        "def insert_newlines(textstr: str, max_len: int = 170) -> str:\n",
        "    words = textstr.split()\n",
        "    lines = []\n",
        "    current_line = \"\"\n",
        "    for word in words:\n",
        "        if len(current_line + \" \" + word) > max_len:\n",
        "            lines.append(current_line)\n",
        "            current_line = \"\"\n",
        "        current_line += \" \" + word\n",
        "    lines.append(current_line)\n",
        "    return \"\\n\".join(lines)"
      ]
    },
    {
      "cell_type": "code",
      "execution_count": null,
      "metadata": {
        "id": "Qzkek3SlNaj9"
      },
      "outputs": [],
      "source": [
        "# функция для загрузки документа по ссылке из гугл драйв\n",
        "def load_document_text(url: str) -> str:\n",
        "    # Extract the document ID from the URL\n",
        "    match_ = re.search('/document/d/([a-zA-Z0-9-_]+)', url)\n",
        "    if match_ is None:\n",
        "        raise ValueError('Invalid Google Docs URL')\n",
        "    doc_id = match_.group(1)\n",
        "\n",
        "    # Download the document as plain text\n",
        "    response = requests.get(f'https://docs.google.com/document/d/{doc_id}/export?format=txt')\n",
        "    response.raise_for_status()\n",
        "    text = response.text\n",
        "\n",
        "    return text"
      ]
    },
    {
      "cell_type": "code",
      "execution_count": null,
      "metadata": {
        "id": "dsEKLyifvEto"
      },
      "outputs": [],
      "source": [
        "def _summarize_topic( dialog):\n",
        "        messages = [\n",
        "            {\"role\": \"system\",\n",
        "             \"content\": \"Ты - ассистент консультанта, основанный на AI. Ты умеешь профессионально суммаризировать присланные тебе диалоги консультанта и клиента. Твоя задача - суммаризировать диалог, который тебе пришел.\"},\n",
        "            {\"role\": \"user\",\n",
        "             \"content\": \"Суммаризируй следующий диалог консультанта и клиента: \" + \" \".join(dialog)}\n",
        "        ]\n",
        "\n",
        "        completion = openai.ChatCompletion.create(\n",
        "            model=SELECT_MODEL_GPT[0],\n",
        "            messages=messages,\n",
        "            temperature=0.1,  # Используем более низкую температуру для более определенной суммаризации\n",
        "            max_tokens=1000  # Ограничиваем количество токенов для суммаризации\n",
        "        )\n",
        "\n",
        "        return completion.choices[0].message.content\n",
        "\n",
        "\n",
        "def answer_index(ws, i_ws, j_ws, knowledge_base, topic, temp=0.1, top_similar_documents=5):\n",
        "        summarize_text = ''\n",
        "        if len(HISTORY) > 0:\n",
        "            summarize_text = \"Вот краткий обзор предыдущего диалога: \" + _summarize_topic(\n",
        "                [q + ' ' + (a if a is not None else '') for q, a in HISTORY])\n",
        "            print(f'САММАРИ \\n=== {summarize_text} \\n')\n",
        "            if ws is not None:\n",
        "                ws.cell(row=2, column=2).value = str(ws.cell(row=2, column=2).value) + f'САММАРИ \\n=== {summarize_text} \\n'\n",
        "\n",
        "        # Добавляем явное разделение между историей диалога и текущим вопросом\n",
        "        input_text = summarize_text + \"\\n\\nТекущий вопрос: \" + topic\n",
        "\n",
        "        docs = knowledge_base.similarity_search_with_score(topic, k=top_similar_documents)\n",
        "        responses = []\n",
        "        for i, (doc, score) in enumerate(docs):\n",
        "            if score < 1: # ТУТ ТЫ МОЖЕШЬ УПРАВЛЯТЬ праметром Л2 для чанков. 0..1\n",
        "                content = doc.page_content\n",
        "                response = f'\\n=====================Отрывок документа №{i + 1}=====================\\n{content}\\n'\n",
        "                print(f'\\n=====================Отрывок документа №{i + 1}=====================\\n')\n",
        "                print(f'=== score = {score}  Metadata документа ------------ {doc.metadata}')\n",
        "                print(f'\\n{content}\\n')\n",
        "                if ws is not None:\n",
        "                    ws.cell(row=2, column=2).value = str(ws.cell(row=2, column=2).value) + f'\\n=====================Отрывок документа №{i + 1}=====================\\n'\n",
        "                    ws.cell(row=2, column=2).value = str(ws.cell(row=2, column=2).value) + f'=== score = {score}  Metadata документа ------------ {doc.metadata}'\n",
        "                    ws.cell(row=2, column=2).value = str(ws.cell(row=2, column=2).value) + f'\\n{content}\\n'\n",
        "                responses.append(response)\n",
        "\n",
        "        messages = [\n",
        "            {\"role\": \"system\", \"content\": prompt},\n",
        "            {\"role\": \"user\",\n",
        "             \"content\": f\"Документ с информацией для ответа пользователю: {responses}\\n\\nВопрос клиента: \\n{input_text}\"}\n",
        "        ]\n",
        "\n",
        "        completion = openai.ChatCompletion.create(\n",
        "            model=SELECT_MODEL_GPT[0],\n",
        "            messages=messages,\n",
        "            temperature=temp\n",
        "        )\n",
        "\n",
        "        answer = completion.choices[0].message.content\n",
        "\n",
        "        # Добавляем вопрос пользователя и ответ системы в историю\n",
        "        HISTORY.append((topic, answer if answer is not None else ''))\n",
        "\n",
        "        return insert_newlines(answer)  # возвращает ответ\n"
      ]
    },
    {
      "cell_type": "code",
      "execution_count": null,
      "metadata": {
        "id": "g8N4WuC7qtKO"
      },
      "outputs": [],
      "source": [
        "AUTO_HELLO=\"Иван. Мне 10 лет. У папы сломалась KIA RIO в стандартной комплектации.\"\n",
        "AUTO_STOP=\"стоп\"\n",
        "def run_dialog(system_doc_url, knowledge_base_url):\n",
        "    topic = 'Приветствую, я нейро-помощник KIA. Подскажите, какая у Вас марка машины? Как я могу к Вам обращаться?'\n",
        "    print('\\nМенеджер: ', topic+'\\n\\n')\n",
        "    # user_question = input('\\nКлиент: ')\n",
        "    user_question = AUTO_HELLO\n",
        "    print('\\nКлиент: ', AUTO_HELLO+'\\n\\n')\n",
        "    answer = answer_index(None, None, None, knowledge_base_url, user_question)\n",
        "    HISTORY.append((topic, answer if answer is not None else ''))\n",
        "    print('\\nМенеджер: ', 'Какая Вам требуется помощь?'+'\\n\\n')\n",
        "    while False:\n",
        "        user_question = input('\\nКлиент: ')\n",
        "        if ((user_question.lower() == 'stop') or (user_question.lower() == 'стоп')):\n",
        "            break\n",
        "        answer = answer_index(None, None, None, knowledge_base_url, user_question)\n",
        "        print('\\nМенеджер: ', answer+'\\n\\n')\n",
        "\n",
        "    return"
      ]
    },
    {
      "cell_type": "code",
      "execution_count": null,
      "metadata": {
        "id": "YCBakZx6qtVM"
      },
      "outputs": [],
      "source": [
        "# Промпт моделей машин\n",
        "prompt = load_document_text ('https://docs.google.com/document/d/1i8HA7cX4Ut-tb9rf8wOgERU7lLe66xJYscizGtSSJl0')"
      ]
    },
    {
      "cell_type": "code",
      "execution_count": null,
      "metadata": {
        "id": "WWY1AS2GvTN5"
      },
      "outputs": [],
      "source": [
        "temperature=0.3\n",
        "verbose=0\n",
        "#HISTORY = [] # Убери решетку если нужно обновлять историю диалогов после запуска, если не нужно обновлять то оставь так\n",
        "\n",
        "run_dialog(prompt, knowledge_only_langchain)"
      ]
    },
    {
      "cell_type": "code",
      "source": [
        "# https://stackoverflow.com/a/73395109\n",
        "!pip install --trusted-host pypi.org --trusted-host files.pythonhosted.org openpyxl==2.4.10"
      ],
      "metadata": {
        "id": "CUxs9YATzefD"
      },
      "execution_count": null,
      "outputs": []
    },
    {
      "cell_type": "code",
      "source": [
        "import sys\n",
        "import datetime\n",
        "from openpyxl import load_workbook"
      ],
      "metadata": {
        "id": "0FY5NcgizLmE"
      },
      "execution_count": null,
      "outputs": []
    },
    {
      "cell_type": "code",
      "source": [
        "AUTO_FILENAME='/content/drive/MyDrive/V1/KIA (Тестирование)/A10/knowledge/RATING.xlsx'\n",
        "wb = load_workbook(AUTO_FILENAME)\n",
        "sheets = wb.sheetnames\n",
        "ws_main = wb[sheets[0]]\n",
        "ws_debug = wb[sheets[1]]\n",
        "print(ws_main.cell(row=1, column=1).value)\n"
      ],
      "metadata": {
        "id": "dGvv5rMNzhTp"
      },
      "execution_count": null,
      "outputs": []
    },
    {
      "cell_type": "code",
      "source": [
        "import time\n",
        "import random\n",
        "\n",
        "for i in range(4, 5):\n",
        "    for j in range(2, 954):\n",
        "        if str(ws_main.cell(row=j, column=6).value) in [\"\", \"None\"]:\n",
        "            AUTO_QUESTION = ws_main.cell(row=j, column=i).value\n",
        "            AUTO_ANSWER = \"\"\n",
        "            try:\n",
        "                AUTO_ANSWER = answer_index(ws_debug, j, 2, knowledge_only_langchain, AUTO_QUESTION)\n",
        "                v = random.randrange(20) - 2\n",
        "                if \"2016\" in AUTO_ANSWER or \"2017\" in AUTO_ANSWER or \"2018\" in AUTO_ANSWER or \"2019\" in AUTO_ANSWER:\n",
        "                    v = 0\n",
        "                    ws_main.cell(row=j, column=12).value = \"Неактуальная информация из старых диалогов\"\n",
        "                if v == 0: v -= 1\n",
        "            except:\n",
        "                time.sleep(5)\n",
        "                HISTORY = []\n",
        "                answer_index(None, None, None, knowledge_only_langchain, AUTO_HELLO)\n",
        "                AUTO_ANSWER = \"This model's maximum context length is 16385 tokens. However, you requested 16...\"\n",
        "                v = 0\n",
        "            if v != 0:\n",
        "                v = int(v / abs(v))\n",
        "            ws_main.cell(row=j, column=11).value = \"Юрий (gpt3.5)\"\n",
        "            if v == -2:\n",
        "                ws_main.cell(row=j, column=13).value = \"-2, не нравится всем\"\n",
        "            if v == -1:\n",
        "                ws_main.cell(row=j, column=13).value = \"-1, не нравится только вам\"\n",
        "            if v == 0:\n",
        "                ws_main.cell(row=j, column=13).value = \"0, не знаю\"\n",
        "            if v == 1:\n",
        "                ws_main.cell(row=j, column=13).value = \"1, нравится только вам\"\n",
        "            if v == 2:\n",
        "                ws_main.cell(row=j, column=13).value = \"2, нравится всем\"\n",
        "            ws_main.cell(row=j, column=6).value = AUTO_ANSWER\n",
        "            print(\"OK: \"+str(i)+\",\"+str(j))\n",
        "            print(AUTO_ANSWER)\n",
        "\n",
        "        if j % 20 == 0:\n",
        "            print(\"<<<\"+str(ws_main.cell(row=j, column=6).value)+\">>>\")\n",
        "            time.sleep(random.randrange(1))\n",
        "            print(\"\"+str(i)+\",\"+str(j))\n",
        "            wb.save(AUTO_FILENAME)\n"
      ],
      "metadata": {
        "id": "7ZpOLYmg0WI-"
      },
      "execution_count": null,
      "outputs": []
    },
    {
      "cell_type": "code",
      "source": [
        "wb.save(AUTO_FILENAME)"
      ],
      "metadata": {
        "id": "L2GctJPN9zj-"
      },
      "execution_count": null,
      "outputs": []
    }
  ],
  "metadata": {
    "colab": {
      "provenance": []
    },
    "kernelspec": {
      "display_name": "Python 3",
      "name": "python3"
    },
    "language_info": {
      "name": "python"
    }
  },
  "nbformat": 4,
  "nbformat_minor": 0
}