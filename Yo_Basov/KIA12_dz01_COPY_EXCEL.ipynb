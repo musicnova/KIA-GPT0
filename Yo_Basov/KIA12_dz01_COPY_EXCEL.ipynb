{
  "nbformat": 4,
  "nbformat_minor": 0,
  "metadata": {
    "colab": {
      "provenance": []
    },
    "kernelspec": {
      "name": "python3",
      "display_name": "Python 3"
    },
    "language_info": {
      "name": "python"
    }
  },
  "cells": [
    {
      "cell_type": "code",
      "source": [
        "# ЧЕРНОВОЙ ВАРИАНТ строит из эксель первую базу знаний раздела # section-0 и нейро копирайтером опиывает структуру разделов\n",
        "\n",
        "from google.colab import drive\n",
        "drive.mount('/content/drive')"
      ],
      "metadata": {
        "colab": {
          "base_uri": "https://localhost:8080/"
        },
        "id": "FB6aCC20Dpby",
        "outputId": "f1f104e5-eb7b-451f-d387-7659e62c4624"
      },
      "execution_count": null,
      "outputs": [
        {
          "output_type": "stream",
          "name": "stdout",
          "text": [
            "Drive already mounted at /content/drive; to attempt to forcibly remount, call drive.mount(\"/content/drive\", force_remount=True).\n"
          ]
        }
      ]
    },
    {
      "cell_type": "code",
      "source": [
        "with open(\"config.txt\", \"w\") as fw:\n",
        "    fw.write(\"[COLAB]\\n\")\n",
        "    fw.write(\"knowledge_dir=/content/drive/MyDrive/KIA_AVATAR/Scripts/knowledge\\n\")\n",
        "    fw.write(\"prev_knowledge_dir=/content/drive/MyDrive/KIA_AVATAR/Scripts/../knowledge\\n\")\n",
        "    fw.write(\"\\n\")\n",
        "    fw.write(\"[PROM]\\n\")\n",
        "    fw.write(\"knowledge_dir=/opt/knowledge\\n\")\n",
        "    fw.write(\"prev_knowledge_dir=/knowledge\\n\")\n",
        "    fw.write(\"\\n\")\n",
        "    fw.write(\"[STEP01_COPY_EXCEL]\\n\")\n",
        "    fw.write(\"api_key=?\\n\")\n",
        "    fw.write(\"neuro_copyrighter_limit=0\\n\")\n",
        "    fw.write(\"\\n\")\n",
        "    fw.write(\"[STEP03_COPY_WEBSITE]\\n\")\n",
        "    fw.write(\"api_key=?\\n\")\n",
        "    fw.write(\"neuro_copyrighter_limit=0\\n\")\n",
        "    fw.write(\"\\n\")\n",
        "    fw.write(\"[STEP05_COPY_PDF]\\n\")\n",
        "    fw.write(\"api_key=?\\n\")\n",
        "    fw.write(\"neuro_copyrighter_limit=0\\n\")\n",
        "    fw.write(\"\\n\")\n",
        "    fw.write(\"[STEP07_COPY_VIDEO]\\n\")\n",
        "    fw.write(\"api_key=?\\n\")\n",
        "    fw.write(\"neuro_copyrighter_limit=0\\n\")\n",
        "\n",
        "msg = \"\""
      ],
      "metadata": {
        "id": "vHg3OvXaDpWm"
      },
      "execution_count": null,
      "outputs": []
    },
    {
      "cell_type": "code",
      "source": [
        "        # 1. Автомобили Kia в кредит - расчитать кредит на покупку https://www.kia.ru/buy/calc/\n",
        "        # 2. Расчет стоимости ТО - https://www.kia.ru/service/calculator_to/\n",
        "        # 3. Программа Trade-In - https://www.kia.ru/buy/trade-in/\n",
        "        EXCEL_TEXT = \"\"\n",
        "        import configparser\n",
        "        import pathlib\n",
        "        import os\n",
        "        config = configparser.ConfigParser()\n",
        "        config.read('config.txt')\n",
        "        knowledge_dir = config[\"COLAB\"][\"knowledge_dir\"]\n",
        "        if knowledge_dir is None: knowledge_dir = \"./knowledge\"\n",
        "        pathlib.Path(knowledge_dir).mkdir(parents=True, exist_ok=True)\n",
        "        filepath_00 = os.path.join(knowledge_dir, \"COPY.md\")\n",
        "        with open(filepath_00, \"w\") as f00:\n",
        "            f00.write(\"# section-0\\n\")\n",
        "        filepath_01 = os.path.join(knowledge_dir, \"COPY.md\")\n",
        "        with open(filepath_01, \"a\") as f01:\n",
        "            f01.write(\"## 01\\n\")\n",
        "            f01.write(\"\"\"Таблица: \"?\", Цена: \"?\"\\n\"\"\")\n",
        "            f01.write(\"###\\n\")\n",
        "        filepath_02 = os.path.join(knowledge_dir, \"COPY.md\")\n",
        "        with open(filepath_02, \"a\") as f02:\n",
        "            f02.write(\"## 02\\n\")\n",
        "            f02.write(\"\"\"Таблица: \"?\", Цена: \"?\"\\n\"\"\")\n",
        "            f02.write(\"###\\n\")\n",
        "        filepath_03 = os.path.join(knowledge_dir, \"COPY.md\")\n",
        "        with open(filepath_03, \"a\") as f03:\n",
        "            f03.write(\"## 03\\n\")\n",
        "            f03.write(\"\"\"Таблица: \"?\", Цена: \"?\"\\n\"\"\")\n",
        "            f03.write(\"###\\n\")\n",
        "\n",
        "        print(msg, \" ... OK\")"
      ],
      "metadata": {
        "colab": {
          "base_uri": "https://localhost:8080/"
        },
        "id": "J1koSdFoDpOq",
        "outputId": "c0e0b39d-9d0c-474b-bc14-26aaa0102593"
      },
      "execution_count": null,
      "outputs": [
        {
          "output_type": "stream",
          "name": "stdout",
          "text": [
            "  ... OK\n"
          ]
        }
      ]
    }
  ]
}