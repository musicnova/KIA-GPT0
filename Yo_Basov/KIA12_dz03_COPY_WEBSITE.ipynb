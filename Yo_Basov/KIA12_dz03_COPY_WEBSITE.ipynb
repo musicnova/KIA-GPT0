{
  "nbformat": 4,
  "nbformat_minor": 0,
  "metadata": {
    "colab": {
      "provenance": []
    },
    "kernelspec": {
      "name": "python3",
      "display_name": "Python 3"
    },
    "language_info": {
      "name": "python"
    }
  },
  "cells": [
    {
      "cell_type": "code",
      "source": [
        "# ЧЕРНОВОЙ ВАРИАНТ добавляет разделы вебсайта в раздел # section-1 и нейро копирайтером опиывает структуру разделов\n",
        "from google.colab import drive\n",
        "drive.mount('/content/drive')"
      ],
      "metadata": {
        "id": "7cfcuLj4Hcry"
      },
      "execution_count": null,
      "outputs": []
    },
    {
      "cell_type": "code",
      "source": [
        "with open(\"config.txt\", \"w\") as fw:\n",
        "    fw.write(\"[COLAB]\\n\")\n",
        "    fw.write(\"knowledge_dir=/content/drive/MyDrive/KIA_AVATAR/Scripts/knowledge\\n\")\n",
        "    fw.write(\"prev_knowledge_dir=/content/drive/MyDrive/KIA_AVATAR/Scripts/../knowledge\\n\")\n",
        "    fw.write(\"\\n\")\n",
        "    fw.write(\"[PROM]\\n\")\n",
        "    fw.write(\"knowledge_dir=/opt/knowledge\\n\")\n",
        "    fw.write(\"prev_knowledge_dir=/knowledge\\n\")\n",
        "    fw.write(\"\\n\")\n",
        "    fw.write(\"[STEP01_COPY_EXCEL]\\n\")\n",
        "    fw.write(\"api_key=?\\n\")\n",
        "    fw.write(\"neuro_copyrighter_limit=0\\n\")\n",
        "    fw.write(\"\\n\")\n",
        "    fw.write(\"[STEP03_COPY_WEBSITE]\\n\")\n",
        "    fw.write(\"api_key=?\\n\")\n",
        "    fw.write(\"neuro_copyrighter_limit=0\\n\")\n",
        "\n",
        "msg = \"\""
      ],
      "metadata": {
        "id": "CY_iorHvHlv5"
      },
      "execution_count": null,
      "outputs": []
    },
    {
      "cell_type": "code",
      "source": [
        "        import configparser\n",
        "        import pathlib\n",
        "        import os\n",
        "        config = configparser.ConfigParser()\n",
        "        config.read('config.txt')\n",
        "        knowledge_dir = config[\"COLAB\"][\"knowledge_dir\"]\n",
        "        if knowledge_dir is None: knowledge_dir = \"./knowledge\"\n",
        "        pathlib.Path(knowledge_dir).mkdir(parents=True, exist_ok=True)\n",
        "        prev_knowledge_dir = config[\"COLAB\"][\"prev_knowledge_dir\"]\n",
        "        if prev_knowledge_dir is None: prev_knowledge_dir = \"../knowledge\"\n",
        "        pathlib.Path(prev_knowledge_dir).mkdir(parents=True, exist_ok=True)\n",
        "\n",
        "        filepath_01 = os.path.join(knowledge_dir, \"COPY.md\")\n",
        "        with open(filepath_01, \"a\") as f01:\n",
        "            f01.write(\"# section-1\\n\")\n",
        "            with open(os.path.join(prev_knowledge_dir, \"parser_database.txt\"), \"r\") as f:\n",
        "                for line in f.readlines():\n",
        "                    f01.write(line.replace(\"^#### \", \"##### \").replace(\"^### \", \"#### \").replace(\"^## \", \"### \").replace(\"^# \", \"## \"))\n",
        "\n",
        "        print(msg, \" ... OK\")"
      ],
      "metadata": {
        "id": "v9jln4LmHpr9"
      },
      "execution_count": null,
      "outputs": []
    }
  ]
}