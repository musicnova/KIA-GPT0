{
  "nbformat": 4,
  "nbformat_minor": 0,
  "metadata": {
    "colab": {
      "provenance": []
    },
    "kernelspec": {
      "name": "python3",
      "display_name": "Python 3"
    },
    "language_info": {
      "name": "python"
    }
  },
  "cells": [
    {
      "cell_type": "code",
      "source": [
        "# ЧЕРНОВОЙ ВАРИАНТ ПО НЕЙРО-ЭКЗАМЕНАТОРУ ДИАЛОГОВ С ПОМОЩЬЮ  В COLAB\n",
        "# https://www.youtube.com/watch?v=Tk2W92d30jY\n",
        "\n",
        "from google.colab import drive\n",
        "drive.mount('/content/drive')"
      ],
      "metadata": {
        "id": "S62SU3VqBsrI",
        "colab": {
          "base_uri": "https://localhost:8080/"
        },
        "outputId": "c191a093-b307-4d77-c6d2-6aedc95f111b"
      },
      "execution_count": null,
      "outputs": [
        {
          "output_type": "stream",
          "name": "stdout",
          "text": [
            "Drive already mounted at /content/drive; to attempt to forcibly remount, call drive.mount(\"/content/drive\", force_remount=True).\n"
          ]
        }
      ]
    },
    {
      "cell_type": "code",
      "source": [
        "!rm -rf \"/content/drive/MyDrive/KIA_TEST/Examinator/KIA/BASE/\"\n",
        "!mkdir -p \"/content/drive/MyDrive/KIA_TEST/Examinator/KIA/BASE/\""
      ],
      "metadata": {
        "id": "Dy_ibKOXIOve"
      },
      "execution_count": null,
      "outputs": []
    },
    {
      "cell_type": "markdown",
      "source": [
        "# ПАМЯТКА\n",
        "**(1) Генерация тестовых вопросов с помощью Chat GPT 3.5:**\n",
        "1. Подготовлена тестовая БЗ v.1 - на 1 этапе взята вся инфа из файла \"Модель Пиканто\". БЗ пердставляет из себя 3 чанка с разделителем <...>, размеры чанков мене  1000 токенов, общий размер БЗ v.1 составляет 2400 токенов.\n",
        "2. Взят Промпт для генерации тестовых вопросов \"Генератор вопросов v.1 (617 t)\", общий размер Промпта \"Генератор\" v.1 составляет 617 токенов.\n",
        "3. Подаем на вход все 3 чанка с указанным промптом.\n",
        "4. На выходе получаем 10 тестовых вопросв, сгенерированных моделью 3.5 на основании тестовой БЗ\n",
        "\n",
        "(за основу взят Colab из 3 урока курса по Дообучению)\n",
        "\n",
        "Вопросы, Ответы и их Оценка - файл \"Тесты 1, 2\" (https://docs.google.com/spreadsheets/d/1br0LRb4ADpA2XkxtcSHFUXXV3pVdmDEG), лист - \"Диалоги (11.10 - Басов Ю.)\""
      ],
      "metadata": {
        "id": "T2BnEbtpS86D"
      }
    },
    {
      "cell_type": "markdown",
      "source": [
        "(из Занятия №3)\n",
        "\n",
        "Структура базы знаний компании, предназначенной для предоставления ответов на вопросы клиентов в текстовом формате, является ключевым аспектом ее эффективного функционирования. Помните, что для ответов на вопросы будут использоваться чанки, наиболее релевантные запросу пользователя. Токим образом, структура базы знаний должна быть организованной, логической и удобной для поиска информации, чтобы обеспечить максимальную полезность и полноту информации в представленных для анализа чанках.\n",
        "\n",
        "Вот несколько ключевых принципов, которые следует учесть при формировании структуры базы знаний:\n",
        "\n",
        "* **Категоризация и классификация:** База знаний должна быть разделена на ясные и логически организованные блоки, соответствующие различным областям знаний или типам вопросов клиентов. Например, это могут быть разделы, связанные с продуктами, услугами, поддержкой, вопросами оплаты и т.д. В каждом блоке могут быть подблоки для дополнительной детализации. Это позволит LangChain легко найти релевантные чанки, соответствующие запросу.\n",
        "\n",
        "* **Иерархия:** База знаний может быть организована в виде иерархической структуры, где более общие темы располагаются на верхнем уровне, а более специфические вопросы и ответы находятся на более низких уровнях. Так проще контролировать наполненность базы знаний нужной информацией и обновлять ее при необходимости.\n",
        "\n"
      ],
      "metadata": {
        "id": "LSdsnVQNmCrY"
      }
    },
    {
      "cell_type": "code",
      "source": [
        "# (1) Генерация по БЗ - KB_Picanto_test-questions_Eng_v.1"
      ],
      "metadata": {
        "id": "b8QXza8x-AFJ"
      },
      "execution_count": null,
      "outputs": []
    },
    {
      "cell_type": "markdown",
      "source": [
        "Установка пакетов\n",
        "\n",
        "Разметка: интеллектуальные чанки\n"
      ],
      "metadata": {
        "id": "kOdn5HUmBMF-"
      }
    },
    {
      "cell_type": "markdown",
      "source": [
        "Помимо дробления на чанки \"вслепую\" при помощи различных сплиттеров, описанных в 1 занятии данного курса, можно дробить тексты на логические, смысловые чанки. Это гораздо более кропотливая и ресурсозатратная работа, но результаты оправдывают ожидания. Её суть заключается в том, что текст изначально разбивается вручную на логические блоки, отделенные определенным разделителем. Затем каждый логический отрезок делится на блоки указанного размера при помощи сплиттера.\n",
        "Вот, как это можно реализовать:"
      ],
      "metadata": {
        "id": "gh9vJ40RnBh8"
      }
    },
    {
      "cell_type": "code",
      "source": [
        "!pip  install  tiktoken==0.4.0  langchain==0.0.231 openai==0.27.8 chromadb gspread oauth2client nltk pydantic==1.10.8 faiss-cpu==1.7.4"
      ],
      "metadata": {
        "colab": {
          "base_uri": "https://localhost:8080/"
        },
        "id": "BYOSrWNHBH-T",
        "outputId": "a4e858d5-313a-42ba-e364-742e213f4df2"
      },
      "execution_count": null,
      "outputs": [
        {
          "output_type": "stream",
          "name": "stdout",
          "text": [
            "Requirement already satisfied: tiktoken==0.4.0 in /usr/local/lib/python3.10/dist-packages (0.4.0)\n",
            "Requirement already satisfied: langchain==0.0.231 in /usr/local/lib/python3.10/dist-packages (0.0.231)\n",
            "Requirement already satisfied: openai==0.27.8 in /usr/local/lib/python3.10/dist-packages (0.27.8)\n",
            "Requirement already satisfied: chromadb in /usr/local/lib/python3.10/dist-packages (0.4.14)\n",
            "Requirement already satisfied: gspread in /usr/local/lib/python3.10/dist-packages (3.4.2)\n",
            "Requirement already satisfied: oauth2client in /usr/local/lib/python3.10/dist-packages (4.1.3)\n",
            "Requirement already satisfied: nltk in /usr/local/lib/python3.10/dist-packages (3.8.1)\n",
            "Requirement already satisfied: pydantic==1.10.8 in /usr/local/lib/python3.10/dist-packages (1.10.8)\n",
            "Requirement already satisfied: faiss-cpu==1.7.4 in /usr/local/lib/python3.10/dist-packages (1.7.4)\n",
            "Requirement already satisfied: regex>=2022.1.18 in /usr/local/lib/python3.10/dist-packages (from tiktoken==0.4.0) (2023.6.3)\n",
            "Requirement already satisfied: requests>=2.26.0 in /usr/local/lib/python3.10/dist-packages (from tiktoken==0.4.0) (2.31.0)\n",
            "Requirement already satisfied: PyYAML>=5.4.1 in /usr/local/lib/python3.10/dist-packages (from langchain==0.0.231) (6.0.1)\n",
            "Requirement already satisfied: SQLAlchemy<3,>=1.4 in /usr/local/lib/python3.10/dist-packages (from langchain==0.0.231) (2.0.21)\n",
            "Requirement already satisfied: aiohttp<4.0.0,>=3.8.3 in /usr/local/lib/python3.10/dist-packages (from langchain==0.0.231) (3.8.5)\n",
            "Requirement already satisfied: async-timeout<5.0.0,>=4.0.0 in /usr/local/lib/python3.10/dist-packages (from langchain==0.0.231) (4.0.3)\n",
            "Requirement already satisfied: dataclasses-json<0.6.0,>=0.5.7 in /usr/local/lib/python3.10/dist-packages (from langchain==0.0.231) (0.5.14)\n",
            "Requirement already satisfied: langchainplus-sdk<0.0.21,>=0.0.20 in /usr/local/lib/python3.10/dist-packages (from langchain==0.0.231) (0.0.20)\n",
            "Requirement already satisfied: numexpr<3.0.0,>=2.8.4 in /usr/local/lib/python3.10/dist-packages (from langchain==0.0.231) (2.8.7)\n",
            "Requirement already satisfied: numpy<2,>=1 in /usr/local/lib/python3.10/dist-packages (from langchain==0.0.231) (1.23.5)\n",
            "Requirement already satisfied: openapi-schema-pydantic<2.0,>=1.2 in /usr/local/lib/python3.10/dist-packages (from langchain==0.0.231) (1.2.4)\n",
            "Requirement already satisfied: tenacity<9.0.0,>=8.1.0 in /usr/local/lib/python3.10/dist-packages (from langchain==0.0.231) (8.2.3)\n",
            "Requirement already satisfied: tqdm in /usr/local/lib/python3.10/dist-packages (from openai==0.27.8) (4.66.1)\n",
            "Requirement already satisfied: typing-extensions>=4.2.0 in /usr/local/lib/python3.10/dist-packages (from pydantic==1.10.8) (4.5.0)\n",
            "Requirement already satisfied: chroma-hnswlib==0.7.3 in /usr/local/lib/python3.10/dist-packages (from chromadb) (0.7.3)\n",
            "Requirement already satisfied: fastapi>=0.95.2 in /usr/local/lib/python3.10/dist-packages (from chromadb) (0.103.2)\n",
            "Requirement already satisfied: uvicorn[standard]>=0.18.3 in /usr/local/lib/python3.10/dist-packages (from chromadb) (0.23.2)\n",
            "Requirement already satisfied: posthog>=2.4.0 in /usr/local/lib/python3.10/dist-packages (from chromadb) (3.0.2)\n",
            "Requirement already satisfied: pulsar-client>=3.1.0 in /usr/local/lib/python3.10/dist-packages (from chromadb) (3.3.0)\n",
            "Requirement already satisfied: onnxruntime>=1.14.1 in /usr/local/lib/python3.10/dist-packages (from chromadb) (1.16.1)\n",
            "Requirement already satisfied: tokenizers>=0.13.2 in /usr/local/lib/python3.10/dist-packages (from chromadb) (0.14.1)\n",
            "Requirement already satisfied: pypika>=0.48.9 in /usr/local/lib/python3.10/dist-packages (from chromadb) (0.48.9)\n",
            "Requirement already satisfied: overrides>=7.3.1 in /usr/local/lib/python3.10/dist-packages (from chromadb) (7.4.0)\n",
            "Requirement already satisfied: importlib-resources in /usr/local/lib/python3.10/dist-packages (from chromadb) (6.1.0)\n",
            "Requirement already satisfied: grpcio>=1.58.0 in /usr/local/lib/python3.10/dist-packages (from chromadb) (1.59.0)\n",
            "Requirement already satisfied: bcrypt>=4.0.1 in /usr/local/lib/python3.10/dist-packages (from chromadb) (4.0.1)\n",
            "Requirement already satisfied: typer>=0.9.0 in /usr/local/lib/python3.10/dist-packages (from chromadb) (0.9.0)\n",
            "Requirement already satisfied: google-auth in /usr/local/lib/python3.10/dist-packages (from gspread) (2.17.3)\n",
            "Requirement already satisfied: httplib2>=0.9.1 in /usr/local/lib/python3.10/dist-packages (from oauth2client) (0.22.0)\n",
            "Requirement already satisfied: pyasn1>=0.1.7 in /usr/local/lib/python3.10/dist-packages (from oauth2client) (0.5.0)\n",
            "Requirement already satisfied: pyasn1-modules>=0.0.5 in /usr/local/lib/python3.10/dist-packages (from oauth2client) (0.3.0)\n",
            "Requirement already satisfied: rsa>=3.1.4 in /usr/local/lib/python3.10/dist-packages (from oauth2client) (4.9)\n",
            "Requirement already satisfied: six>=1.6.1 in /usr/local/lib/python3.10/dist-packages (from oauth2client) (1.16.0)\n",
            "Requirement already satisfied: click in /usr/local/lib/python3.10/dist-packages (from nltk) (8.1.7)\n",
            "Requirement already satisfied: joblib in /usr/local/lib/python3.10/dist-packages (from nltk) (1.3.2)\n",
            "Requirement already satisfied: attrs>=17.3.0 in /usr/local/lib/python3.10/dist-packages (from aiohttp<4.0.0,>=3.8.3->langchain==0.0.231) (23.1.0)\n",
            "Requirement already satisfied: charset-normalizer<4.0,>=2.0 in /usr/local/lib/python3.10/dist-packages (from aiohttp<4.0.0,>=3.8.3->langchain==0.0.231) (3.3.0)\n",
            "Requirement already satisfied: multidict<7.0,>=4.5 in /usr/local/lib/python3.10/dist-packages (from aiohttp<4.0.0,>=3.8.3->langchain==0.0.231) (6.0.4)\n",
            "Requirement already satisfied: yarl<2.0,>=1.0 in /usr/local/lib/python3.10/dist-packages (from aiohttp<4.0.0,>=3.8.3->langchain==0.0.231) (1.9.2)\n",
            "Requirement already satisfied: frozenlist>=1.1.1 in /usr/local/lib/python3.10/dist-packages (from aiohttp<4.0.0,>=3.8.3->langchain==0.0.231) (1.4.0)\n",
            "Requirement already satisfied: aiosignal>=1.1.2 in /usr/local/lib/python3.10/dist-packages (from aiohttp<4.0.0,>=3.8.3->langchain==0.0.231) (1.3.1)\n",
            "Requirement already satisfied: marshmallow<4.0.0,>=3.18.0 in /usr/local/lib/python3.10/dist-packages (from dataclasses-json<0.6.0,>=0.5.7->langchain==0.0.231) (3.20.1)\n",
            "Requirement already satisfied: typing-inspect<1,>=0.4.0 in /usr/local/lib/python3.10/dist-packages (from dataclasses-json<0.6.0,>=0.5.7->langchain==0.0.231) (0.9.0)\n",
            "Requirement already satisfied: anyio<4.0.0,>=3.7.1 in /usr/local/lib/python3.10/dist-packages (from fastapi>=0.95.2->chromadb) (3.7.1)\n",
            "Requirement already satisfied: starlette<0.28.0,>=0.27.0 in /usr/local/lib/python3.10/dist-packages (from fastapi>=0.95.2->chromadb) (0.27.0)\n",
            "Requirement already satisfied: pyparsing!=3.0.0,!=3.0.1,!=3.0.2,!=3.0.3,<4,>=2.4.2 in /usr/local/lib/python3.10/dist-packages (from httplib2>=0.9.1->oauth2client) (3.1.1)\n",
            "Requirement already satisfied: coloredlogs in /usr/local/lib/python3.10/dist-packages (from onnxruntime>=1.14.1->chromadb) (15.0.1)\n",
            "Requirement already satisfied: flatbuffers in /usr/local/lib/python3.10/dist-packages (from onnxruntime>=1.14.1->chromadb) (23.5.26)\n",
            "Requirement already satisfied: packaging in /usr/local/lib/python3.10/dist-packages (from onnxruntime>=1.14.1->chromadb) (23.2)\n",
            "Requirement already satisfied: protobuf in /usr/local/lib/python3.10/dist-packages (from onnxruntime>=1.14.1->chromadb) (3.20.3)\n",
            "Requirement already satisfied: sympy in /usr/local/lib/python3.10/dist-packages (from onnxruntime>=1.14.1->chromadb) (1.12)\n",
            "Requirement already satisfied: monotonic>=1.5 in /usr/local/lib/python3.10/dist-packages (from posthog>=2.4.0->chromadb) (1.6)\n",
            "Requirement already satisfied: backoff>=1.10.0 in /usr/local/lib/python3.10/dist-packages (from posthog>=2.4.0->chromadb) (2.2.1)\n",
            "Requirement already satisfied: python-dateutil>2.1 in /usr/local/lib/python3.10/dist-packages (from posthog>=2.4.0->chromadb) (2.8.2)\n",
            "Requirement already satisfied: certifi in /usr/local/lib/python3.10/dist-packages (from pulsar-client>=3.1.0->chromadb) (2023.7.22)\n",
            "Requirement already satisfied: idna<4,>=2.5 in /usr/local/lib/python3.10/dist-packages (from requests>=2.26.0->tiktoken==0.4.0) (3.4)\n",
            "Requirement already satisfied: urllib3<3,>=1.21.1 in /usr/local/lib/python3.10/dist-packages (from requests>=2.26.0->tiktoken==0.4.0) (2.0.6)\n",
            "Requirement already satisfied: greenlet!=0.4.17 in /usr/local/lib/python3.10/dist-packages (from SQLAlchemy<3,>=1.4->langchain==0.0.231) (3.0.0)\n",
            "Requirement already satisfied: huggingface_hub<0.18,>=0.16.4 in /usr/local/lib/python3.10/dist-packages (from tokenizers>=0.13.2->chromadb) (0.17.3)\n",
            "Requirement already satisfied: h11>=0.8 in /usr/local/lib/python3.10/dist-packages (from uvicorn[standard]>=0.18.3->chromadb) (0.14.0)\n",
            "Requirement already satisfied: httptools>=0.5.0 in /usr/local/lib/python3.10/dist-packages (from uvicorn[standard]>=0.18.3->chromadb) (0.6.0)\n",
            "Requirement already satisfied: python-dotenv>=0.13 in /usr/local/lib/python3.10/dist-packages (from uvicorn[standard]>=0.18.3->chromadb) (1.0.0)\n",
            "Requirement already satisfied: uvloop!=0.15.0,!=0.15.1,>=0.14.0 in /usr/local/lib/python3.10/dist-packages (from uvicorn[standard]>=0.18.3->chromadb) (0.17.0)\n",
            "Requirement already satisfied: watchfiles>=0.13 in /usr/local/lib/python3.10/dist-packages (from uvicorn[standard]>=0.18.3->chromadb) (0.20.0)\n",
            "Requirement already satisfied: websockets>=10.4 in /usr/local/lib/python3.10/dist-packages (from uvicorn[standard]>=0.18.3->chromadb) (11.0.3)\n",
            "Requirement already satisfied: cachetools<6.0,>=2.0.0 in /usr/local/lib/python3.10/dist-packages (from google-auth->gspread) (5.3.1)\n",
            "Requirement already satisfied: sniffio>=1.1 in /usr/local/lib/python3.10/dist-packages (from anyio<4.0.0,>=3.7.1->fastapi>=0.95.2->chromadb) (1.3.0)\n",
            "Requirement already satisfied: exceptiongroup in /usr/local/lib/python3.10/dist-packages (from anyio<4.0.0,>=3.7.1->fastapi>=0.95.2->chromadb) (1.1.3)\n",
            "Requirement already satisfied: filelock in /usr/local/lib/python3.10/dist-packages (from huggingface_hub<0.18,>=0.16.4->tokenizers>=0.13.2->chromadb) (3.12.4)\n",
            "Requirement already satisfied: fsspec in /usr/local/lib/python3.10/dist-packages (from huggingface_hub<0.18,>=0.16.4->tokenizers>=0.13.2->chromadb) (2023.6.0)\n",
            "Requirement already satisfied: mypy-extensions>=0.3.0 in /usr/local/lib/python3.10/dist-packages (from typing-inspect<1,>=0.4.0->dataclasses-json<0.6.0,>=0.5.7->langchain==0.0.231) (1.0.0)\n",
            "Requirement already satisfied: humanfriendly>=9.1 in /usr/local/lib/python3.10/dist-packages (from coloredlogs->onnxruntime>=1.14.1->chromadb) (10.0)\n",
            "Requirement already satisfied: mpmath>=0.19 in /usr/local/lib/python3.10/dist-packages (from sympy->onnxruntime>=1.14.1->chromadb) (1.3.0)\n"
          ]
        }
      ]
    },
    {
      "cell_type": "markdown",
      "source": [
        "## Дробление на чанки\n",
        "Функции (просто запустить все ячейк на исполнение, **ввести АПИ ключ**)"
      ],
      "metadata": {
        "id": "T-Gy173a_EoI"
      }
    },
    {
      "cell_type": "code",
      "source": [
        "#@title (import)\n",
        "import gdown\n",
        "from langchain.llms import OpenAI\n",
        "from langchain.vectorstores import FAISS\n",
        "from langchain.docstore.document import Document\n",
        "import requests\n",
        "from langchain.embeddings.openai import OpenAIEmbeddings\n",
        "from langchain.vectorstores import Chroma\n",
        "from langchain.text_splitter import RecursiveCharacterTextSplitter\n",
        "from langchain.prompts import PromptTemplate\n",
        "import pathlib\n",
        "import subprocess\n",
        "import tempfile\n",
        "import ipywidgets as widgets\n",
        "import os\n",
        "import gspread\n",
        "from oauth2client.service_account import ServiceAccountCredentials\n",
        "import re\n",
        "import getpass\n",
        "import os\n",
        "import openai\n",
        "import tiktoken"
      ],
      "metadata": {
        "id": "SHTQ-kGZBvM9"
      },
      "execution_count": null,
      "outputs": []
    },
    {
      "cell_type": "code",
      "source": [
        "# Получение ключа API от пользователя и установка его как переменной окружения\n",
        "openai_key = getpass.getpass(\"OpenAI API Key:\")\n",
        "os.environ[\"OPENAI_API_KEY\"] = openai_key\n",
        "openai.api_key = openai_key"
      ],
      "metadata": {
        "colab": {
          "base_uri": "https://localhost:8080/"
        },
        "id": "rLj5oRE1Bv0t",
        "outputId": "ef9a8206-9bbd-464f-9418-502549391619"
      },
      "execution_count": null,
      "outputs": [
        {
          "name": "stdout",
          "output_type": "stream",
          "text": [
            "OpenAI API Key:··········\n"
          ]
        }
      ]
    },
    {
      "cell_type": "code",
      "source": [
        "def split_text(text, max_count, count_type, verbose=0):\n",
        "    # Функция для подсчета количества слов в фрагменте\n",
        "    def num_words(fragment):\n",
        "        return len(fragment.split())\n",
        "\n",
        "    # Функция для подсчета количества токенов в фрагменте\n",
        "    def num_tokens(fragment):\n",
        "        return num_tokens_from_string(fragment, \"cl100k_base\")\n",
        "\n",
        "    # Разделение текста на фрагменты, исключая теги HTML\n",
        "    fragments = [fragment.strip() for fragment in re.split(r\"<[^>]+>|[\\ufeff]\", text) if fragment.strip()]\n",
        "\n",
        "    # Выбор функции подсчета длины в зависимости от типа подсчета\n",
        "    length_function = num_words if count_type == \"words\" else num_tokens\n",
        "\n",
        "    # Создание объекта разделителя текста\n",
        "    splitter = RecursiveCharacterTextSplitter(chunk_size=max_count, chunk_overlap=0, length_function=length_function)\n",
        "\n",
        "    # Список для хранения фрагментов текста\n",
        "    source_chunks = []\n",
        "\n",
        "    # Обработка каждого фрагмента текста\n",
        "    for fragment in fragments:\n",
        "        if verbose:\n",
        "            # Вывод количества слов/токенов в фрагменте, если включен режим verbose\n",
        "            count = length_function(fragment)\n",
        "            print(f\"{count_type} in text fragment = {count}\\n{'-' * 5}\\n{fragment}\\n{'=' * 20}\")\n",
        "\n",
        "        # Разбиение фрагмента текста на части заданной длины с помощью разделителя\n",
        "        # и добавление каждой части в список source_chunks\n",
        "        #source_chunks.append(Document(page_content=fragment, metadata={}) for chunk in splitter.split_text(fragment))\n",
        "        source_chunks.extend(Document(page_content=chunk, metadata={}) for chunk in splitter.split_text(fragment))\n",
        "\n",
        "    # Возвращение списка фрагментов текста\n",
        "    return source_chunks\n",
        "\n",
        "\n",
        "def create_embedding(data, max_count, count_type):\n",
        "    def num_tokens_from_string(string: str, encoding_name: str) -> int:\n",
        "      \"\"\"Возвращает количество токенов в строке\"\"\"\n",
        "      encoding = tiktoken.get_encoding(encoding_name)\n",
        "      num_tokens = len(encoding.encode(string))\n",
        "      return num_tokens\n",
        "\n",
        "    source_chunks = []\n",
        "\n",
        "    source_chunks = split_text(text=data, max_count=max_count, count_type=count_type, verbose=0)\n",
        "\n",
        "    # Создание индексов документа\n",
        "    search_index = FAISS.from_documents(source_chunks, OpenAIEmbeddings(), )\n",
        "\n",
        "    count_token = num_tokens_from_string(' '.join([x.page_content for x in source_chunks]), \"cl100k_base\")\n",
        "    print('\\n ===========================================: ')\n",
        "    print('Количество токенов в документе :', count_token)\n",
        "    print('ЦЕНА запроса:', 0.0004*(count_token/1000), ' $')\n",
        "    return search_index\n",
        "\n",
        "def load_search_indexes(url: str, max_count, count_type) -> str:\n",
        "    # Extract the document ID from the URL\n",
        "    match_ = re.search('/document/d/([a-zA-Z0-9-_]+)', url)\n",
        "    if match_ is None:\n",
        "        raise ValueError('Invalid Google Docs URL')\n",
        "    doc_id = match_.group(1)\n",
        "\n",
        "    # Download the document as plain text\n",
        "    response = requests.get(f'https://docs.google.com/document/d/{doc_id}/export?format=txt')\n",
        "    response.raise_for_status()\n",
        "    text = response.text\n",
        "    return create_embedding(text, max_count=max_count, count_type=count_type)"
      ],
      "metadata": {
        "id": "5fHFgXVjD8Dk"
      },
      "execution_count": null,
      "outputs": []
    },
    {
      "cell_type": "code",
      "source": [
        "def num_tokens_from_messages(messages, model=\"gpt-3.5-turbo-0613\"):\n",
        "    \"\"\"Returns the number of tokens used by a list of messages.\"\"\"\n",
        "    try:\n",
        "        encoding = tiktoken.encoding_for_model(model)\n",
        "    except KeyError:\n",
        "        encoding = tiktoken.get_encoding(\"cl100k_base\")\n",
        "    if model == \"gpt-3.5-turbo-0613\":  # note: future models may deviate from this\n",
        "        num_tokens = 0\n",
        "        for message in messages:\n",
        "            num_tokens += 4  # every message follows <im_start>{role/name}\\n{content}<im_end>\\n\n",
        "            for key, value in message.items():\n",
        "                num_tokens += len(encoding.encode(value))\n",
        "                if key == \"name\":  # if there's a name, the role is omitted\n",
        "                    num_tokens += -1  # role is always required and always 1 token\n",
        "        num_tokens += 2  # every reply is primed with <im_start>assistant\n",
        "        return num_tokens\n",
        "    else:\n",
        "        raise NotImplementedError(f\"\"\"num_tokens_from_messages() is not presently implemented for model {model}.\"\"\")\n",
        "\n",
        "def insert_newlines(text: str, max_len: int = 170) -> str:\n",
        "    words = text.split()\n",
        "    lines = []\n",
        "    current_line = \"\"\n",
        "    for word in words:\n",
        "        if len(current_line + \" \" + word) > max_len:\n",
        "            lines.append(current_line)\n",
        "            current_line = \"\"\n",
        "        current_line += \" \" + word\n",
        "    lines.append(current_line)\n",
        "    return \"\\n\".join(lines)\n",
        "\n",
        "def answer_index(system, topic, search_index, temp = 0, verbose = 0, top_similar_documents = 3):\n",
        "\n",
        "    #Выборка документов по схожести с вопросом\n",
        "    docs = search_index.similarity_search(topic, k=top_similar_documents)\n",
        "    if (verbose): print('\\n ===========================================: ')\n",
        "    message_content = re.sub(r'\\n{2}', ' ', '\\n '.join([f'\\nОтрывок документа №{i+1}\\n=====================' + doc.page_content + '\\n' for i, doc in enumerate(docs)]))\n",
        "    if (verbose): print('message_content :\\n ======================================== \\n', message_content)\n",
        "\n",
        "    messages = [\n",
        "      {\"role\": \"system\", \"content\": system + f\"{message_content}\"},\n",
        "      {\"role\": \"user\", \"content\": topic}\n",
        "      ]\n",
        "\n",
        "    # example token count from the function defined above\n",
        "    if (verbose): print('\\n ===========================================: ')\n",
        "    if (verbose): print(f\"{num_tokens_from_messages(messages, 'gpt-3.5-turbo-0613')} токенов использовано на вопрос\")\n",
        "\n",
        "    completion = openai.ChatCompletion.create(\n",
        "    model=\"gpt-3.5-turbo-0613\",\n",
        "    messages=messages,\n",
        "    temperature=temp\n",
        "    )\n",
        "    if (verbose): print('\\n ===========================================: ')\n",
        "    if (verbose): print(f'{completion[\"usage\"][\"total_tokens\"]} токенов использовано всего (вопрос-ответ).')\n",
        "    if (verbose): print('\\n ===========================================: ')\n",
        "    if (verbose): print('ЦЕНА запроса с ответом :', 0.002*(completion[\"usage\"][\"total_tokens\"]/1000), ' $')\n",
        "    if (verbose): print('\\n ===========================================: ')\n",
        "    print('ОТВЕТ : \\n', insert_newlines(completion.choices[0].message.content))\n",
        "\n",
        "    # return completion"
      ],
      "metadata": {
        "id": "gHyfkhuTD_mS"
      },
      "execution_count": null,
      "outputs": []
    },
    {
      "cell_type": "code",
      "source": [
        "def load_document_text(url: str) -> str:\n",
        "    # Extract the document ID from the URL\n",
        "    match_ = re.search('/document/d/([a-zA-Z0-9-_]+)', url)\n",
        "    if match_ is None:\n",
        "        raise ValueError('Invalid Google Docs URL')\n",
        "    doc_id = match_.group(1)\n",
        "\n",
        "    # Download the document as plain text\n",
        "    response = requests.get(f'https://docs.google.com/document/d/{doc_id}/export?format=txt')\n",
        "    response.raise_for_status()\n",
        "    text = response.text\n",
        "\n",
        "    return text"
      ],
      "metadata": {
        "id": "retgCvPSEAZ1"
      },
      "execution_count": null,
      "outputs": []
    },
    {
      "cell_type": "code",
      "source": [
        "max_count = 2400            # максимальное кол-во символов в чанке\n",
        "count_type = \"words\"\n",
        "top_similar_documents = 3"
      ],
      "metadata": {
        "id": "MVgAI5qiECk7"
      },
      "execution_count": null,
      "outputs": []
    },
    {
      "cell_type": "markdown",
      "source": [
        "## загрузка доков и Ответ\n",
        "**Промпт - V9_test-questions_Eng_v.1**"
      ],
      "metadata": {
        "id": "i21-5Vxvl5qM"
      }
    },
    {
      "cell_type": "code",
      "source": [
        "# Документ \"Тестовая БЗ - V9_test-questions_Eng_v.1\"\n",
        "kia_index = load_search_indexes('https://docs.google.com/document/d/1oQd15ah09NQjv2_WWF-tLBt9ZQgB-vB2', max_count = max_count, count_type=count_type)"
      ],
      "metadata": {
        "colab": {
          "base_uri": "https://localhost:8080/"
        },
        "id": "-3VM20BjEH7T",
        "outputId": "fa964eab-3d72-4e91-fce7-f980c52cbeb6"
      },
      "execution_count": null,
      "outputs": [
        {
          "output_type": "stream",
          "name": "stdout",
          "text": [
            "\n",
            " ===========================================: \n",
            "Количество токенов в документе : 167724\n",
            "ЦЕНА запроса: 0.0670896  $\n"
          ]
        }
      ]
    },
    {
      "cell_type": "code",
      "source": [
        "# Промпт для Ответов модели - \"KIA Neural Prompt v.1 (400 т)\"\n",
        "\n",
        "kia_promt = load_document_text('https://docs.google.com/document/d/13qr4wz_jhpzMLg7CVi59B9jccW1Idkdz')"
      ],
      "metadata": {
        "id": "vQ-1gsFWEPNw"
      },
      "execution_count": null,
      "outputs": []
    },
    {
      "cell_type": "code",
      "source": [
        "# Получаем ответы на 10 тестовых вопросов - вопросы пишем \"ручками\" в соответствующий параметр answer_index()\n",
        "\n",
        "ans = answer_index(\n",
        "    kia_promt,\n",
        "# Пишем текст вопроса вместо ************************ !!!\n",
        "    'Какие скидки или специальные предложения доступны для покупки Kia Picanto?',\n",
        "    kia_index,\n",
        "    verbose = 1,\n",
        "    top_similar_documents = top_similar_documents\n",
        ")"
      ],
      "metadata": {
        "colab": {
          "base_uri": "https://localhost:8080/",
          "height": 1000
        },
        "id": "ry5oldDwEc29",
        "outputId": "e0feddaa-dcc7-4308-be44-43441077fee1"
      },
      "execution_count": null,
      "outputs": [
        {
          "output_type": "stream",
          "name": "stdout",
          "text": [
            "\n",
            " ===========================================: \n",
            "message_content :\n",
            " ======================================== \n",
            " \n",
            "Отрывок документа №1\n",
            "=====================Программы и акции. Случай  в прошлом месяце. Клиент интересуется наличием скидки на автомобиль при сдаче в трейд-ин. Оператор объясняет, что компания не предоставляет скидку при участии в программе трейд-ин и рекомендует обратиться к официальным дилерам для уточнения условий покупки.\r\n",
            "## ############\r\n",
            "Программы и акции. Случай  в прошлом месяце. Клиент интересуется информацией о сервисе подписки на автомобиль Seltos на 1,5 месяца. Он также спрашивает о скорости оформления и возможности получить предварительный расчет стоимости. Оператор отвечает, что информации о скорости оформления нет и рекомендует обратиться к дилеру. Он также указывает на стоимость аренды на сайте. Клиент спрашивает об ограничении пробега, на что оператор отвечает, что ограничение составляет 30000 км в год или 2500 в месяц, и что в случае превышения пробега, клиент должен будет оплатить 10 рублей за каждый километр перепробега. Клиент благодарит оператора и говорит, что у него больше нет вопросов.\r\n",
            "## ############\r\n",
            "Программы и акции. Случай  в прошлом месяце. Клиент интересуется ограничениями по суточному пробегу в подписке Kia Flex. Оператор рекомендует обратиться к дилеру для получения информации.\r\n",
            "## ############\r\n",
            "Клиент интересуется, было ли падение цен на автомобили КИА и проводит ли КИА акции по снижению цен. Оператор рекомендует обратиться к дилеру для получения информации.\r\n",
            "# Продажи\r\n",
            "Продажи. Случай  в прошлом месяце. Клиент интересуется адресом электронной почты дилера в г. Брянске на проспекте Станке Димитрова д. 62. Оператор сообщает, что специалисты Информационной Линии не имеют такой информации.\r\n",
            "## ############\r\n",
            "Клиент Ольга интересуется информацией о страховом продукте Каско. Оператор объясняет, что компания Киа Россия и СНГ не предоставляет услуги по страхованию автомобилей.\r\n",
            "Продажи. Случай  в прошлом месяце. Клиент спрашивает, является ли автосалон по определенному адресу официальным дилером. Оператор отвечает, что такого дилерского центра на их сайте нет, и предлагает посмотреть список официальных дилеров на их сайте. Клиент благодарит за ответ.\r\n",
            "## ############\r\n",
            "Продажи. Случай  в прошлом месяце. Kia планировала начать продажи электрического кроссовера EV6 в России в 2022-м году.\r\n",
            "## ############\r\n",
            "Продажи. Случай  в прошлом месяце. Клиент интересуется стоимостью автомобиля Kia. Оператор предлагает обратиться к официальному дилеру для уточнения информации. Клиент благодарит и не нуждается в дополнительной помощи. Разговор прошел вежливо и без проблем.\r\n",
            "## ############\r\n",
            "Продажи. Случай  в прошлом месяце. Клиент интересуется возможностью узнать историю автомобиля KIA Stinger по VIN-коду. Оператор предлагает заказать отчет на официальном сайте, но клиент сообщает, что функция временно не работает. Оператор извиняется за неудобства и просит клиента подождать для уточнения вопроса. Клиент отказывается от дальнейшей помощи.\r\n",
            "## ############\r\n",
            "Продажи. Случай  в прошлом месяце. Клиент направил заявку на авто кредит и интересуется информацией о ее одобрении. Оператор объясняет, что заявки направляются в дилерский центр, выбранный клиентом, и предлагает обратиться в официальные дилерские центры Kia для получения более подробной информации.\r\n",
            "## ############\r\n",
            "Клиент интересуется стоимостью автомобиля Kia Rio X комплектации Комфорт с объемом двигателя 1,6л. Оператор предлагает уточнить информацию на официальном сайте Kia и обратиться в дилерский центр для получения конечной стоимости. Клиент подтверждает понимание и называет город, в котором находится - Сызрань.\r\n",
            "Продажи. Случай  в прошлом месяце. Клиент интересуется наличием и ценой автомобиля Kia Sorento Prestige бензин. Оператор рекомендует проверить информацию на сайте и обратиться в дилерские центры Kia. Клиент просит начать чат с оператором.\r\n",
            "## ############\r\n",
            "Продажи. Случай  в прошлом месяце. Клиент интересуется, не изменится ли цена и не накрутятся ли дополнительные услуги при онлайн бронировании автомобиля за 5000. Оператор объясняет, что конечная стоимость автомобиля определяется договором купли-продажи и зависит от дополнительного оборудования.\r\n",
            "## ############\r\n",
            "Продажи. Случай  в прошлом месяце. Клиент интересуется возможностью доставки автомобиля в другой город. Оператор предоставляет контактные телефоны для уточнения информации.\r\n",
            "## ############\r\n",
            "Продажи. Случай  в прошлом месяце. Клиент интересуется актуальностью цен на сайте и возможностью приобретения автомобиля по указанным ценам. Оператор отвечает, что сайт является информационным и не является публичной офертой. Он также предлагает обратиться к официальным дилерам Kia для получения подробной информации о стоимости и приобретении автомобиля. Клиент уточняет, что хочет приобрести авто по цене прайса и не хочет переплачивать за дополнительные услуги. Оператор снова указывает на то, что сайт не является публичной офертой и рекомендует обратиться к дилеру для обсуждения условий приобретения. Клиент задает вопрос о соответствии цен на сайте реальным предложениям дилеров. Оператор снова предлагает обратиться к дилеру для получения точной информации о наличии и ценах. Оператор также спрашивает, нужна ли клиенту консультация по другим вопросам. Диалог завершается, так как от клиента не поступают сообщения в течение длительного времени.\r\n",
            "## ############\r\n",
            "Продажи. Случай  в прошлом месяце. Клиент приобрел автомобиль Kia Seltos, но обнаружил, что он был красился. Дилер предложил компенсацию, но клиент не согласен и хочет вернуть разницу в стоимости. Оператор рекомендует клиенту оставить обращение на сайте kia.ru.\r\n",
            "## ############\r\n",
            "Продажи. Случай  в прошлом месяце. Клиент интересуется автомобилем по подписке на 3 года. Оператор информирует, что программа подписки доступна не во всех регионах и предлагает уточнить информацию на официальном сайте. Клиент просит уточнить стоимость подписки и условия. Оператор отвечает, что актуальную информацию можно получить только у дилеров, которые участвуют в программе. Клиент указывает, что на сайте указано, что условия одинаковы для всех регионов и просит узнать их. Оператор указывает, что сайт является информационным и рекомендует обращаться к официальным дилерам Kia.\r\n",
            "## ############\r\n",
            "Продажи. Случай  в прошлом месяце. Клиент интересуется возможностью заказа машины под нужный цвет. Оператор предоставляет информацию о кредитных программах и условиях, а также о возможности расчета кредита. Клиент уточняет, что его интересует не кредит, а возможность заказа цвета или комплектации. Оператор объясняет, что дилерские центры Kia являются самостоятельными организациями, и предлагает обратиться к официальным дилерам для получения подробной консультации по заказу автомобиля.\r\n",
            "## ############\r\n",
            "Клиент интересуется возможностью приобретения по господдержке. Оператор предлагает обратиться к официальному дилеру и предоставляет ссылку на список дилерских центров. Клиент отказывается от дополнительной помощи.\r\n",
            "Продажи. Случай  в прошлом месяце. Клиент интересуется, где можно купить автомобиль Kia Mohave без дополнительного оборудования. Оператор рекомендует обратиться к официальным дилерам, которые сертифицированы для продажи и установки дополнительного оборудования. Оператор также уточняет, что официальные дилеры продают автомобили из наличия на собственном складе и не осуществляют поставку под заказ. Клиенту предлагается проверить актуальную информацию о наличии и условиях приобретения на официальном сайте или уточнить у дилера напрямую. Диалог завершается, так как от клиента не поступают сообщения.\r\n",
            "## ############\r\n",
            "Клиент интересуется футболкой бренда Киа размера XL\r\n",
            "Продажи. Случай  в прошлом месяце. Клиент интересуется ценой на модель КИЯ РИО ТО-9. Оператор уточняет информацию и просит клиента не закрывать окно чата. Оператор уточняет модель и коробку передач, предоставляет информацию о характеристиках и доступных комплектациях.\r\n",
            "## ############\r\n",
            "Продажи. Случай  в прошлом месяце. Клиент интересуется информацией о тест-драйве и наличии автомобилей.\r\n",
            "## ############\r\n",
            "Продажи. Случай  в прошлом месяце. Клиент сделал запрос отчета по истории ТО для своего автомобиля, но обнаружил, что в истории отображается только два ТО. Он задает вопрос о причине отсутствия информации о промежуточных ТО и как это может повлиять на будущего владельца автомобиля. Оператор объясняет, что промежуточные ТО проводятся по желанию клиента и не регламентированы производителем. Клиент выражает недовольство и просит вернуть ему деньги за отчет, так как услуга оказана не полностью. Далее клиент задает вопрос о возможности заказа автомобиля без установленного дилером оборудования. Оператор объясняет, что компания «Киа Россия и СНГ» не занимается реализацией автомобилей и рекомендует обратиться в официальный дилерский центр. Оператор также предоставляет информацию о наличии автомобилей и их комплектаций на официальном сайте Kia. В конце клиент благодарит оператора и завершает разговор.\r\n",
            "## ############\r\n",
            "Продажи. Случай  в прошлом месяце. Клиент интересуется наличием автомобиля в цвете серебристый или возможностью заказа этого цвета. Оператор предлагает обратиться в ближайший официальный дилерский центр Kia для получения информации о наличии и заказе запасных частей и аксессуаров. Клиент отказывается от дополнительной помощи и выражает желание купить автомобиль Kia, но указывает, что нужного цвета нет в наличии. Оператор предлагает ознакомиться с каталогом авто в наличии или записаться на тест-драйв.\r\n",
            "## ############\r\n",
            "Продажи. Случай  в прошлом месяце. Клиент запрашивает информацию о дилере на Коптевской. Оператор просит уточнить, какая информация интересует клиента. Клиент завершает сессию, оператор информирует о времени ожидания в очереди.\r\n",
            "## ############\r\n",
            "Продажи. Случай  в прошлом месяце. Клиент задает вопрос о возможности оформления автомобиля на другое имя при покупке в кредит. Оператор просит уточнить информацию и спрашивает, как к нему обращаться. Клиент называет свое имя. Оператор благодарит клиента и просит не закрывать окно чата. Оператор сообщает, что потребуется дополнительное время для уточнения вопроса. Клиент говорит, что ждет. Оператор благодарит клиента за ожидание и сообщает, что рекомендует обратиться в ближайший дилерский центр Kia. Клиент говорит \"\"понятно\"\" и \"\"спасибо\"\". Оператор спрашивает, нужна ли ему еще помощь. Клиент отвечает, что больше нет вопросов. Оператор желает хорошего дня.\r\n",
            "## ############\r\n",
            "Продажи. Случай  в прошлом месяце. Клиент Юлия предлагает сотрудничество с отелем Welna eco spa resort для запуска совместной программы 'Путешествуй с Kia'. Оператор просит клиента подождать, чтобы уточнить информацию. Затем оператор сообщает, что клиенту необходимо оставить обращение через форму обратной связи на сайте Kia. Клиент подтверждает, что написала в форму обратной связи. Оператор спрашивает, нужна ли еще какая-либо помощь.\r\n",
            "## ############\r\n",
            "Продажи. Случай  в прошлом месяце. Клиент интересуется разницей в цене на автомобиль Seltos 2020 между сайтом и салоном. Оператор объясняет, что указанная на сайте цена является информационной и может отличаться от действительной цены дилеров Kia. Оператор рекомендует связаться с отделом сервиса дилерского центра для получения подробной консультации. Клиент понимает и прощается.\r\n",
            "## ############\r\n",
            "Продажи. Случай  в прошлом месяце. Клиент интересуется возможностью оформить покупку автомобиля на другое лицо, чтобы потом подарить его в качестве подарка. Оператор рекомендует обратиться в дилерский центр Kia для получения информации по данному вопросу. Клиенту предоставляется ссылка на список и контакты дилерских центров.\r\n",
            "## ############\r\n",
            "Продажи. Случай  в прошлом месяце. Клиент интересуется автомобилем Kia Rio X. Оператор предлагает выбрать модель и рассказывает о ее особенностях. Клиент задает вопрос о различии цен в салонах, на что оператор отвечает, что не знает ответа и предлагает посмотреть подробную информацию на странице модели.\r\n",
            "## ############\r\n",
            "Продажи. Случай  в прошлом месяце. Клиент Людмила обратился к оператору с проблемой сломавшейся машины. Оператор рекомендовал обратиться к дилеру для консультации и предложил воспользоваться услугой 'Kia Помощь на дороге'. Клиент сообщил, что не может дозвониться до дилера. Оператор предоставил контакты 'Kia Помощи на дороге' и предложил заказать обратный звонок. Клиент дважды запросил заказать звонок и затем попросил начать чат с оператором.\r\n",
            "## ############\r\n",
            "Продажи. Случай  в прошлом месяце. Клиент обратился в чат с оператором, представился и спросил, где можно посмотреть каталог аксессуаров Kia. Оператор предоставил ссылку на сайт с каталогом. Клиент поблагодарил и сказал, что ему больше ничего не нужно. Оператор попросил уточнить, нужна ли ему еще какая-либо информация. Клиент ответил, что нет. Далее оператор повторно попросил уточнить, какая информация интересует клиента, но клиент не ответил. Оператор предложил написать повторно или связаться по номеру Информационной Линии Kia. Далее клиент спросил про авто в наличии, но оператор не понял его вопроса и предложил перейти в главное меню. Клиент запросил главное меню. Оператор спросил, что его интересует. Клиент сказал, что хочет купить Kia. Оператор предложил выбрать модель на сайте. Клиент снова запросил главное меню. Оператор спросил, что его интересует. Клиент сказал, что он владелец Kia. Оператор предложил узнать статус заказ-наряда, если клиент сдал автомобиль на сервис. Клиент снова запросил главное меню. Оператор спросил, что его интересует. Клиент снова запросил главное меню. Оператор не понял его вопроса и предложил перейти в главное меню. Клиент сказал, что это тестовое обращение из WhatsApp и попросил оператора написать что-нибудь в ответ. Оператор ответил авыавы. Клиент поблагодарил и сказал, что они завершат чат сами. Оператор попросил уточнить, какая информация интересует клиента.\r\n",
            "## ############\r\n",
            "Продажи. Случай  в прошлом месяце. Клиент интересуется итоговыми ценами на автомобиль Рио с автоматической коробкой передач и климат-контролем. Оператор предлагает клиенту ознакомиться с информацией о стоимости и комплектациях на официальном сайте Kia, а также получить более подробную консультацию у официальных дилеров. Оператор также указывает, что информация на сайте не является публичной офертой.\r\n",
            "## ############\r\n",
            "Клиент просит ссылку на kia.ru и благодарит оператора.\r\n",
            "Продажи. Случай  в прошлом месяце. Клиент интересуется акцией «Первый автомобиль», которая предоставляет скидку 20% на покупку машины до 31.01. Оператор сообщает, что у компании Киа Россия и СНГ на данный момент нет подобных акций, и рекомендует обратиться к дилеру для уточнения информации. Оператор также предоставляет список и координаты всех официальных дилеров Kia. Клиент благодарит и говорит, что у него нет дополнительных вопросов. Клиент выражает желание купить автомобиль Kia и интересуется авто в наличии. Оператор предлагает ознакомиться с автомобилями в наличии на сайте и выбрать подходящую модель.\r\n",
            "## ############\r\n",
            "Продажи. Случай  в прошлом месяце. Клиент интересуется информацией о кредитах и документах для кредита. Оператор предоставляет общую информацию о кредитных программах и условиях на сайте компании. Клиент также интересуется ценами на автомобиль после 31.01. Оператор объясняет, что информация о ценах обновляется ежемесячно и будет доступна на сайте 1 февраля. Клиент благодарит и завершает разговор.\r\n",
            "## ############\r\n",
            "Продажи. Случай  в прошлом месяце. Клиент интересуется покупкой автомобиля Kia. Оператор предлагает клиенту ознакомиться с модельным рядом и каталогом авто в наличии на официальном сайте Kia.\r\n",
            "## ############\r\n",
            "Продажи. Случай  в прошлом месяце. Клиент хочет заказать звонок и узнать стоимость авто. Оператор предлагает клиенту заказать звонок дилера через ссылку. Клиент соглашается и указывает город и интересующую его деталь. Оператор запрашивает контактный номер телефона и создает заявку. Клиент завершает разговор, говоря, что ему больше ничего не нужно.\r\n",
            "## ############\r\n",
            "Клиент интересуется, как узнать Vin Kia carnival 2018 г, из раздела авто с пробегом. Оператор рекомендует обратиться к сотрудникам дилерского центра. Клиент также интересуется, можно ли посмотреть машину у дилера, если она указана на сайте. Оператор подтверждает, что можно, но рекомендует уточнить информацию у дилерского центра.\r\n",
            "Продажи. Случай  в прошлом месяце. Кристина интересуется, будет ли Kia K8 в наличии в России. Оператор отвечает, что информации о запуске модели в России пока нет и рекомендует следить за новостями на официальном сайте Kia. Кристина спрашивает, как часто обновляются новости, чтобы узнать о поступлении. Оператор отвечает, что информация будет появляться на сайте по мере необходимости. Кристина благодарит.\r\n",
            "## ############\r\n",
            "Клиент интересуется выбором автомобиля для подарка мужу. Оператор рекомендует обратиться в официальные дилерские центры KIA. Клиенту предлагают подобрать автомобиль в дилерском центре и интересуется возможностью кредитования.\r\n",
            "Продажи. Случай  в прошлом месяце. Клиент интересуется наличием и ценой автомобилей. Оператор предлагает посмотреть все доступные автомобили в каталоге. Клиент также интересуется комплектациями и ценами. Оператор предлагает выбрать комплектацию из списка.\r\n",
            "## ############\r\n",
            "Продажи. Случай  в прошлом месяце. Клиент представляет компанию Вкусвилл и интересуется возможным размещением микромаркета в офисе. Оператор рекомендует обратиться в дилерские центры Kia с предложением. Клиент благодарит и говорит, что вопросов больше нет.\r\n",
            "## ############\r\n",
            "Клиент интересуется почтой для партнерских предложений. Оператор предоставляет почту hello@kia.ru. Клиент благодарит и уточняет, нужна ли ему еще помощь.  \n",
            "Отрывок документа №2\n",
            "=====================Продажи. Случай  в прошлом месяце. Клиент интересуется, где можно найти описание автомобиля по вин номеру. Он также хочет узнать о детальной комплектации и стране производства. Клиент упоминает, что дилеры продают автомобили разных комплектаций и хочет найти ресурс, где это отражено. Оператор отвечает, что информация по автомобилям есть только у дилера и на сайте Kia.ru для российского рынка. Клиент интересуется, есть ли такие сайты для Казахстана и Южной Кореи. Оператор отвечает, что такой информации нет. Клиент спрашивает, будет ли автомобиль на гарантии в России, если он относится к Казахстану или Южной Корее. Оператор объясняет, что гарантийное обслуживание предоставляется только для автомобилей, ввезенных официальным дистрибьютором Kia в России. Клиент интересуется, как узнать, завезен ли автомобиль дилером или компанией \"\"Киа Россия и СНГ\"\". Оператор предлагает уточнить эту информацию у сотрудников и посмотреть в выписке ЭПТС. Он также уточняет, что \"\"Киа Россия и СНГ\"\" - это официальный дистрибьютор на территории России.\r\n",
            "## ############\r\n",
            "Продажи. Случай  в прошлом месяце. Клиент интересуется наличием автомобилей Kia в России и на Урале. Оператор подтверждает, что Kia продолжает работать в России и предоставляет информацию о дилерах на сайте. Клиент также интересуется выбором модели и наличием автомобилей в наличии. Оператор предлагает ознакомиться с модельным рядом и автомобилями в наличии на официальном сайте Kia.\r\n",
            "## ############\r\n",
            "Клиент интересуется возможностью заказа звонка или самостоятельного звонка. Клиент также интересуется, есть ли в наличии новый или подержанный автомобиль Rio X. Оператор предлагает клиенту позвонить на информационную линию по бесплатному номеру.\r\n",
            "Продажи. Случай  в прошлом месяце. Клиент Вадим интересуется гарантийным ремонтом и статусом заказ-наряда. Оператор рекомендует обратиться в дилерский центр для решения данных вопросов. Клиент также интересуется возможностью получать уведомления об изменении статуса заказ-нарядов. Оператор подписывает клиента на уведомления. В конце диалога клиент интересуется покупкой автомобиля Kia, на что оператор предлагает ознакомиться с модельным рядом на сайте.\r\n",
            "## ############\r\n",
            "Продажи. Случай  в прошлом месяце. Клиент интересуется означением Максимальной цены перепродажи и возможностью покупки автомобиля за эти деньги. Оператор объясняет, что максимальная цена перепродажи указана на официальном сайте, но финальная сумма может варьироваться в зависимости от дополнительного оборудования и работ. Оператор также уточняет, что дилерские центры могут доукомплектовывать автомобили и продавать их с учетом проведенных работ. Клиент также интересуется требованиями кредита и трейд-ина с повышением цены за наличные. Оператор объясняет, что продажей автомобилей занимаются официальные дилерские центры, которые являются независимыми организациями и реализуют автомобили на рыночных условиях. В случае спорных ситуаций рекомендуется обратиться к руководителю дилерского центра.\r\n",
            "## ############\r\n",
            "Продажи. Случай  в прошлом месяце. Клиент интересуется возможностью продажи своей машины Киа Рио через салон. Оператор предлагает две программы: трейд-ин и аукцион. Также оператор предоставляет ссылки на официальный сайт с информацией о дилерах и аукционе. Клиент отказывается от дополнительной помощи.\r\n",
            "## ############\r\n",
            "Продажи. Случай  в прошлом месяце. Клиент интересуется, является ли ОАО Автотрейд официальным дилером Kia в Нижнем Новгороде. Оператор предоставляет информацию о дилерском центре БЦР МОТОРС на ул. Новикова-Прибоя, а также ссылку на официальные дилерские центры Kia в Нижнем Новгороде. Оператор также уточняет, нуждается ли клиент в дополнительной помощи.\r\n",
            "## ############\r\n",
            "Продажи. Случай  в прошлом месяце. Клиент интересуется информацией о автомобиле Kia Soul в комплектации Люкс. 1.6 автомат. Оператор рекомендует обращаться в официальные дилерские центры Kia и предоставляет ссылку на список и координаты дилеров на сайте www.kia.ru. Клиент просит озвучить примерную стоимость автомобиля у всех дилеров Москвы и МО. Оператор объясняет, что стоимость автомобилей может отличаться у разных дилеров в зависимости от дополнительного оборудования и предоставляет ссылку на ориентировочную стоимость на сайте www.kia.ru.\r\n",
            "## ############\r\n",
            "Продажи. Случай  в прошлом месяце. Клиент интересуется возможностью заказа автомобиля Киа в нужной комплектации без ненужного дополнительного оборудования. Оператор объясняет, что при оформлении заказа можно выбрать автомобиль без дополнительного оборудования или с нужным комплектом. Оператор также рекомендует обратиться к официальному дилеру Kia для более подробной консультации и предоставляет ссылку на список и координаты дилеров.\r\n",
            "## ############\r\n",
            "Продажи. Случай  в прошлом месяце. Клиент интересуется информацией о стоимости, комплектации и наличии автомобилей Kia. Оператор предоставляет информацию о том, что подробную консультацию можно получить у официальных дилеров Kia и предоставляет ссылку на список и координаты дилеров. Клиент выражает желание купить Kia. Оператор рекомендует выбрать подходящую модель, ознакомиться с каталогом авто в наличии или записаться на тест-драйв. Клиент уточняет наличие Kia Sportage в максимальной комплектации. Оператор информирует, что продажей автомобилей занимаются официальные дилерские центры и предоставляет ссылку на официальный сайт для уточнения информации о наличии. Оператор также предоставляет ссылку на список дилеров. Оператор спрашивает, нужна ли еще какая-либо помощь. Оператор завершает диалог, так как от клиента не поступают сообщения в течение длительного времени.\r\n",
            "## ############\r\n",
            "Клиент интересуется, когда будет следующий аукцион в Санкт-Петербурге. Оператор предоставляет ссылку на сайт с информацией об аукционах. Клиент спрашивает, будет ли участие дилеров из Санкт-Петербурга. Оператор отвечает, что это зависит от дилеров. Клиент спрашивает, можно ли получить уведомление о проведении аукциона. Оператор отвечает, что только самостоятельно следить на сайте.\r\n",
            "Клиент интересуется покупкой автомобиля Kia Rio. Оператор рекомендует обращаться в официальные дилерские центры Kia. Клиент интересуется возможностью покупки за наличный расчет плюс трейд-ин. Оператор указывает на то, что необходимо связаться с представителями отдела продаж выбранного дилерского центра.\r\n",
            "Клиент интересуется, можно ли заказать автомобиль по созданной конфигурации или покупки осуществляются из имеющихся в наличии. Оператор объясняет, что официальные дилерские центры продают автомобили только из наличия на складе и не принимают заказы. Клиент понимает и благодарит оператора.\r\n",
            "Продажи. Случай  в прошлом месяце. Клиент интересуется, как можно связаться с дилером. Оператор предоставляет информацию о том, что список и контакты дилерских центров Kia доступны на официальном сайте kia.ru в разделе 'Дилеры' или по ссылке: www.kia.ru/dealers/. Клиент благодарит оператора за информацию.\r\n",
            "## ############\r\n",
            "Клиент не может разобраться с условиями лизинга авто\r\n",
            "Продажи. Случай  в прошлом месяце. Клиент интересуется ценой на сайте, оператор объясняет, что сайт не является публичной офертой и рекомендует обращаться к официальным дилерам Kia. Оператор также уточняет, что дилеры являются независимыми организациями и могут предлагать автомобили с дополнительным оборудованием.\r\n",
            "## ############\r\n",
            "Продажи. Случай  в прошлом месяце. Клиент обратился с вопросом о договоре купли-продажи и просит помощи в получении декларации от дилерского центра. Оператор рекомендует обратиться в тот дилерский центр, где был совершен трейд-ин. Клиент уточняет, что у него есть договор купли-продажи с другим дилерским центром и он нуждается в документе от оператора. Оператор уточняет, имеет ли клиент в виду дилера, у которого был приобретен автомобиль. Оператор замечает, что клиент не отвечает длительное время и завершает диалог.\r\n",
            "## ############\r\n",
            "Продажи. Случай  в прошлом месяце. Клиент интересуется наличием и ценой автомобиля Kia K5 в самой максимальной комплектации в Ростове-на-Дону. Оператор сообщает, что автомобиль представлен в одном варианте комплектации Prestige и указывает цену 3 379 900 ₽. Оператор также предлагает обратиться в дилерский центр для получения более подробной консультации.\r\n",
            "## ############\r\n",
            "Продажи. Случай  в прошлом месяце. Клиент интересуется примерным расчетом лизинговых платежей для юр.лица на автомобиль К5. Оператор рекомендует обращаться в официальные дилерские центры Kia, которые предоставят необходимую информацию по лизингу и кредитным программам. Клиент благодарит и говорит, что больше ничем не нуждается. Оператор прощается.\r\n",
            "## ############\r\n",
            "Продажи. Случай  в прошлом месяце. Клиент интересуется продажей автомобиля Kia Forte 2019 года. Оператор рекомендует обратиться к дилеру и предоставляет ссылку на список официальных дилеров на сайте www.kia.ru. Клиент интересуется способами связи с дилером в Москве. Оператор предоставляет ссылку на список дилерских центров в Москве и советует посмотреть методы связи на сайте дилера. Клиент благодарит оператора и не нуждается в дополнительной помощи. Оператор прощается и предлагает обратиться при возникновении вопросов. Клиент также благодарит оператора и переходит в главное меню. Оператор спрашивает, что интересует клиента, и клиент сообщает, что он владелец Kia. Оператор предлагает узнать статус заказ-наряда, если клиент сдал автомобиль на сервис.\r\n",
            "## ############\r\n",
            "Продажи. Случай  в прошлом месяце. Клиент интересуется возможностью заказа автомобиля Kia Soul с комплектацией Drive Wise к июню. Оператор информирует клиента о том, что для приобретения автомобиля следует обращаться в официальные дилерские центры Kia, список и координаты которых доступны на официальном сайте компании.\r\n",
            "## ############\r\n",
            "Продажи. Случай  в прошлом месяце. Клиент приобрел автомобиль КИА РИО Х 2021 года с пробегом 04.02.2023. Дилер не удалил объявление о продаже и не отвечает на запросы клиента. Клиент также забронировал автомобиль онлайн, но деньги не возвращаются. Клиент задает вопрос, как дилер может продавать автомобиль уже второй месяц после его покупки.\r\n",
            "## ############\r\n",
            "Клиент интересуется возможностью сдать свое старое авто и приобрести новое. Оператор рекомендует обратиться в дилерский центр для получения информации по трейд-ину. Ответ содержит ссылку на сайт с информацией о дилерах.\r\n",
            "Продажи. Случай  в прошлом месяце. Клиент интересуется стоимостью модели Rio X. Оператор предоставляет информацию о комплектациях и стоимости. Клиент также интересуется записью на сервисное обслуживание и выбором модели автомобиля. Оператор предлагает выбрать модельный ряд и год производства. Клиент выбирает модель Rio X-Line и год производства 2020. Затем клиент выбирает тип сервисных работ и дилера. Оператор запрашивает согласие на обработку персональных данных и запрашивает имя и номер телефона клиента. Клиент пропускает этот шаг и заявка успешно отправляется.\r\n",
            "## ############\r\n",
            "Продажи. Случай  в прошлом месяце. Клиент интересуется актуальностью цен на сайте и возможностью приобретения автомобиля без дополнительного оборудования. Оператор объясняет, что цены на сайте являются максимальными и конечная стоимость может варьироваться в зависимости от дополнительного оборудования и работ. Оператор также указывает на возможность связаться с дилером для уточнения информации и предоставляет ссылку на сайт с контактами дилеров.\r\n",
            "## ############\r\n",
            "Продажи. Случай  в прошлом месяце. Клиент интересуется информацией о покупке автомобиля Kia. Оператор предоставляет информацию о специальных предложениях, официальных дилерских центрах, гарантии на автомобили и возможности обслуживания. Клиент выражает благодарность и задает вопрос о возможности получения дополнительной информации. Оператор подтверждает возможность предоставления общей информации о стоимости и комплектациях автомобилей, гарантии, контактах дилеров, а также консультацию по вопросам работы автомобиля и дилерского центра. Клиент благодарит за обращение. Диалог завершается, так как от клиента не поступают сообщения в течение длительного времени.\r\n",
            "## ############\r\n",
            "Продажи. Случай  в прошлом месяце. Клиент интересуется наличием поставок автомобилей KIA в РФ. Оператор отвечает, что не имеет такой информации и рекомендует обратиться в дилерский центр Kia. Оператор также спрашивает, есть ли у клиента дополнительные вопросы. После этого оператор сообщает, что не получает ответа от клиента и завершает диалог.\r\n",
            "## ############\r\n",
            "Продажи. Случай  в прошлом месяце. Клиент хочет предложить установить продажу авто Киа в России на прямую с завода изготовителя в Корее, считая это качественнее, выгоднее и дешевле. Оператор объясняет, что ООО «Киа Россия и СНГ» является официальным дистрибьютором автомобилей для рынка РФ и мониторинг потребительского поведения за пределами РФ не ведется. Оператор также рекомендует обратиться к официальному дилеру Kia для приобретения автомобиля и предоставляет ссылку на список и координаты всех официальных дилеров.\r\n",
            "## ############\r\n",
            "Продажи. Случай  в прошлом месяце. Клиент интересуется, являются ли указанные на сайте цены реальными. Оператор объясняет, что информация на сайте носит исключительно информационный характер и может отличаться от действительных цен дилеров Kia. Клиент задает вопрос о кредитных программах и их одобрении банками, если цены неправильные. Оператор отвечает, что каждый дилерский центр сам выбирает с какими банками сотрудничать и клиент может уточнить подробности в кредитном отделе дилерского центра. Клиент предлагает убрать раздел о кредитных программах, чтобы не дезинформировать покупателей. Оператор прощается.\r\n",
            "## ############\r\n",
            "Оператор сообщает клиенту, что онлайн покупки автомобилей Kia не предусмотрены, и рекомендует обратиться в дилерский центр для получения информации о покупке в кредит.\r\n",
            "Продажи. Случай  в прошлом месяце. Клиент интересуется наличием автомобиля Kia Seltos на автомате в Москве и актуальными ценами. Оператор рекомендует клиенту проверить информацию на официальном сайте Kia и обратиться к дилерскому центру для получения консультации по наличию и ценам. Оператор также предоставляет контакты дилеров и спрашивает, нужна ли еще помощь. В конце диалога оператор предлагает получить консультацию по гарантии и ограничениях в гарантии при внесении изменений в конструкцию автомобиля.\r\n",
            "## ############\r\n",
            "Продажи. Случай  в прошлом месяце. Клиент интересуется официальными подтверждениями о возвращении поставок автомобилей марки KIA на российский рынок. Он также выражает свои сомнения и негативное отношение к ситуации с поставкой запчастей для ТО. Оператор рекомендует обратиться к дилерам для получения информации о поставках автомобилей и запчастей. Клиент не удовлетворен ответом и закрывает диалог.\r\n",
            "## ############\r\n",
            "Продажи. Случай  в прошлом месяце. Клиент интересуется стоимостью нового автомобиля Kia Rio X в комплектации prestige. Оператор предоставляет ссылку на официальный сайт Kia для ознакомления с ценами и указывает, что окончательную стоимость предоставят сотрудники отдела продаж дилерского центра. Оператор также предлагает помощь в случае дополнительных вопросов.\r\n",
            "## ############\r\n",
            "Клиент интересуется возможностью выслать спецификацию автомобиля для подбора модели. Оператор рекомендует обращаться в официальные дилерские центры Kia, предоставляет ссылку на список дилеров на сайте www.kia.ru. Оператор также спрашивает, нужна ли еще помощь.\r\n",
            "Продажи. Случай  в прошлом месяце. Клиент Мария интересуется кредитной программой Kia Легко, которая предлагает минимальный ежемесячный платеж, низкий первоначальный взнос и возможность легко менять автомобиль каждые 3 года. Оператор объясняет, что гарантированная/остаточная стоимость - это процент от стоимости автомобиля, который не включен в общую сумму кредита. Клиент спрашивает, есть ли возможность кредита без первоначального взноса, на что оператор отвечает, что по данной программе это не предусмотрено и рекомендует обратиться в отдел продаж официального дилерского центра. Клиент благодарит и завершает разговор.\r\n",
            "## ############\r\n",
            "Продажи. Случай  в прошлом месяце. Клиент уточняет, какому дилеру подавал заявку. Оператор рекомендует обратиться к дилеру напрямую, но клиент указывает, что не может звонить из-за отсутствия возможности. Оператор предлагает заказать обратный звонок от дилера.\r\n",
            "## ############\r\n",
            "Продажи. Случай  в прошлом месяце. Клиент интересуется тест-драйвом нового автомобиля Kia. Оператор предлагает несколько способов оставить заявку на тест-драйв, включая связь с дилерским центром по телефону или заполнение заявки на сайте. Оператор также предлагает составить заявку прямо сейчас, указав модель автомобиля, дилерский центр и желаемую дату визита. Однако клиент не отвечает, и диалог завершается.\r\n",
            "## ############\r\n",
            "Клиент интересуется ценой на авто.\r\n",
            "Продажи. Случай  в прошлом месяце. Клиент интересуется информацией о дилерских центрах Kia, гарантией и моделями автомобилей. Оператор предоставляет ссылки на официальный сайт Kia и информацию о гарантийных работах. Клиент также задает вопрос о том, является ли оператор роботом, на что оператор отвечает, что это человек. В конце клиент благодарит оператора и прощается.\r\n",
            "## ############\r\n",
            "Продажи. Случай  в прошлом месяце. Клиент интересуется условиями кредита на покупку автомобиля Kia Селтос. Оператор предлагает клиенту ознакомиться с приблизительной информацией на сайте и обратиться к официальным дилерам Kia для получения подробной информации о ценах и наличии автомобилей. Клиент также интересуется, нужны ли дополнительные документы для оформления кредита, но оператор не может предоставить эту информацию и предлагает обратиться в дилерский центр Kia. Клиент просит уточнить эту информацию у оператора, но оператор отвечает, что данной информации не представлено на линии. В итоге, оператор сообщает клиенту, что диалог будет завершен, так как от клиента не поступают сообщения в течение длительного времени.\r\n",
            "## ############\r\n",
            "Клиент интересуется наличием автомобиля Kia XCeed и возможностью его заказа. Оператор сообщает, что данная модель в настоящее время недоступна для приобретения в РФ и предлагает ознакомиться с информацией о других моделях Kia на сайте компании.  \n",
            "Отрывок документа №3\n",
            "=====================Продажи. Случай  в прошлом месяце. Клиент интересуется, будет ли цена на автомобиль оставаться той же при онлайн-бронировании. Оператор объясняет, что бронирование не является предварительным договором купли-продажи и окончательные условия сделки будут прописаны в договоре купли-продажи. Клиент задает вопрос о возможности отказаться от дополнительного оборудования. Оператор отвечает, что от дополнительного оборудования отказаться нельзя. Клиент выражает недовольство и желает оператору плохого.\r\n",
            "## ############\r\n",
            "Продажи. Случай  в прошлом месяце. Клиент интересуется информацией о директоре дилерского центра в Дзержинске. Оператор сообщает, что данная информация не представлена в чате и рекомендует обратиться напрямую в дилерский центр. Клиент также интересуется банковскими реквизитами дилерского центра в Дзержинске. Оператор сообщает, что у них нет официального дилерского центра в Дзержинске и рекомендует обратиться в ближайший дилерский центр в Нижнем Новгороде. Клиент указывает адрес автосалона в Дзержинске и спрашивает, что это за место. Оператор сообщает, что это дилерский центр АВТО-СТАРТ и предоставляет его контактные данные. Оператор также спрашивает, нуждается ли клиент в дополнительной помощи.\r\n",
            "## ############\r\n",
            "Продажи. Случай  в прошлом месяце. Клиент интересуется конечной стоимостью автомобиля Kia Sorento. Оператор объясняет, что указанные цены на сайте могут отличаться от действительных цен дилеров. Клиент уточняет, что максимальная цена перепродажи автомобиля составляет 4 094 900 ₽, но дилеры добавляют дополнительное оборудование и цена становится 5 млн. Оператор объясняет, что конечная сумма сделки может варьироваться в зависимости от дополнительного оборудования и проведенных работ. Клиент просит помочь найти автомобиль без дополнительного оборудования в Москве. Оператор рекомендует обратиться в дилерский центр Kia. Клиент спрашивает, в чем заключается помощь оператора. Оператор объясняет, что не обладает большей информацией и рекомендует обращаться в дилерский центр Kia. Клиент уточняет, что больше вопросов нет.\r\n",
            "## ############\r\n",
            "Клиент интересуется информацией о компании\r\n",
            "Продажи. Случай  в прошлом месяце. Клиент интересуется ценой на модель Rio X Luxe AV. Оператор уточняет, что цена на официальном сайте kia.ru является информационной и может отличаться от действительных цен дилеров Kia. Оператор предлагает обратиться в дилерский центр Kia для уточнения точной стоимости автомобиля. Клиент отвечает, что у него нет дополнительных вопросов. Диалог завершается с пожеланием до свидания.\r\n",
            "## ############\r\n",
            "Продажи. Случай  в прошлом месяце. Клиент спрашивает об адресе электронной почты компании Эллада Интертрейд. Оператор сообщает, что данная информация отсутствует на их линии и предлагает задать другие вопросы.\r\n",
            "## ############\r\n",
            "Продажи. Случай  в прошлом месяце. Клиент интересуется, не изменится ли стоимость автомобиля при онлайн-бронировании. Оператор объясняет, что цены на сайте информационные и могут отличаться от действительных цен дилеров. Клиент выражает недовольство и считает, что нет смысла бронировать онлайн, если цена может быть другой. Оператор снова направляет клиента обратиться в официальный дилерский центр.\r\n",
            "## ############\r\n",
            "Продажи. Случай  в прошлом месяце. Клиент спрашивает о наличии и стоимости автомобиля Mohave. Оператор уточняет город и сообщает, что в Санкт-Петербурге автомобиля нет в наличии, а в Москве есть 3 автомобиля разных комплектаций и годов производства. Клиент интересуется, есть ли новые автомобили, на что оператор отвечает, что не знает ответа, но может рассказать что-то другое.\r\n",
            "## ############\r\n",
            "Продажи. Случай  в прошлом месяце. Клиент интересуется комплектацией Rio X Luxe AV 2022, включает ли она мультимедийный экран и датчики парковки. Клиент также интересуется возможностью заказа автомобиля в светло-сером цвете в Санкт-Петербурге и наличием крепления детского кресла Isofix. Оператор отвечает, что комплектация включает мультимедиа 8'' с 4 динамиками, поддержкой Apple Carplay и Android Auto. Он также сообщает, что автомобили продаются исходя из наличия на складе дилеров, поставка под заказ не осуществляется. Оператор просит клиента подождать, чтобы уточнить информацию о наличии крепления Isofix.\r\n",
            "## ############\r\n",
            "Клиент интересуется стоимостью комплекта или отдельно за одну штуку. Оператор уточняет, что стоимость указана за одну штуку. Клиент благодарит.\r\n",
            "Продажи. Случай  в прошлом месяце. Клиент интересуется наличием и возможностью заказа автомобиля Kia Seltos. Оператор информирует клиента о том, что информация о наличии автомобилей представлена на сайте Kia, но для получения точной информации рекомендуется обращаться в дилерские центры Kia. Клиент понимает и благодарит оператора.\r\n",
            "## ############\r\n",
            "Продажи. Случай  в прошлом месяце. Клиент интересуется, является ли компания К-моторс в г. Костроме официальным дилером. Оператор подтверждает, что компания является официальным дилером. Клиент также интересуется, является ли его проблема с капотом гарантийным случаем. Оператор объясняет, что гарантией покрываются детали с браком или дефектом завода производителя и рекомендует обратиться на диагностику к официальному дилеру Kia. Оператор также предоставляет список и координаты всех официальных дилеров на сайте www.kia.ru. Клиент благодарит и завершает разговор.\r\n",
            "## ############\r\n",
            "Продажи. Случай  в прошлом месяце. Клиент интересуется стоимостью ТО 3 на Seltos. Оператор объясняет, что стоимость ТО может различаться у разных дилеров и предлагает обратиться напрямую к дилеру. Оператор также предоставляет контакты дилеров на сайте. Клиент благодарит и не задает дополнительных вопросов. Затем клиент дважды просит начать чат с оператором, после чего оператор предлагает выбрать модель автомобиля. Клиент выбирает модель Seltos и затем просит заказать звонок. Оператор просит выбрать тему вопроса.\r\n",
            "## ############\r\n",
            "Продажи. Случай  в прошлом месяце. Клиент интересуется возможностью взять машину Kia Flex на несколько дней в период майских праздников. Он также хочет узнать, с кем можно пообщаться для уточнения всех моментов.\r\n",
            "## ############\r\n",
            "Продажи. Случай  в прошлом месяце. Клиент задает вопросы о ценообразовании и возможности влиять на него. Оператор объясняет, что дилеры являются независимыми организациями и цены могут варьироваться. Клиент интересуется другими способами влиять на ситуацию, но оператор предлагает обратиться к руководству дилерского центра.\r\n",
            "## ############\r\n",
            "Клиент интересуется ценой на Киа Селтос на автомате в городе Саратов, комплектация - Классик. Оператор сообщает, что в Саратове есть два автомобиля с автоматической коробкой только в комплектации Luxe, стоимостью 2 694 900 ₽.\r\n",
            "Клиент интересуется наличием автомобилей в продаже. Оператор предлагает клиенту посетить официальный сайт Kia для получения информации о наличии автомобилей у дилеров. Оператор также предлагает клиенту обратиться к официальным дилерам Kia для получения более подробной консультации. Оператор спрашивает, нужна ли клиенту еще какая-либо помощь. Оператор благодарит клиента за обращение.\r\n",
            "Клиент интересуется, можно ли использовать материнский капитал при покупке автомобиля Kia. Оператор предлагает обратиться в дилерский центр Kia для получения информации. Клиенту задается вопрос о наличии дополнительных вопросов.\r\n",
            "Продажи. Случай  в прошлом месяце. Клиент интересуется стоимостью автомобиля Sportage Luxe в разных городах. Оператор предоставляет информацию о ценах в Москве, Воронеже и Липецке. Клиент просит контакты дилера в Воронеже и уточняет наличие автомобиля. Оператор предоставляет контакты двух дилеров и сообщает, что автомобили заявлены в наличии, но рекомендует уточнить информацию у дилера. Оператор извиняется за возникшие технические проблемы и предлагает помощь в случае дальнейших вопросов.\r\n",
            "## ############\r\n",
            "Клиент спрашивает о цене губы заднего бампера на Kia Rio 2021 года.\r\n",
            "Клиент интересуется условиями постановки авто на комиссию или выкуп. Оператор предоставляет ссылки на сайт и контактные данные дилерских центров. Клиент запрашивает консультацию по телефону. Оператор предоставляет контактные данные дилерских центров в городе Кемерово. Клиент благодарит.\r\n",
            "Клиент интересуется возможностью онлайн бронирования для юридических лиц и наличием НДС в цене.\r\n",
            "Продажи. Случай  в прошлом месяце. Клиент интересуется информацией об отзыве автомобилей Kia Sorento 2021-2022 гг. для обновления программного обеспечения модуля управления трансмиссией. Оператор предлагает клиенту уточнить информацию на официальном сайте и обратиться в отдел сервиса официального дилера Kia. Клиент уточняет, что имеет в виду автомобили с 8-ступенчатой АКПП. Оператор запрашивает VIN номер автомобиля и сообщает, что указанный VIN номер не попадает ни под одну сервисную инспекцию. Клиент благодарит оператора и говорит, что больше ничем не нуждается. Оператор благодарит клиента за обращение.\r\n",
            "## ############\r\n",
            "Продажи. Случай  в прошлом месяце. Клиент интересуется возможностью покупки автомобиля по указанной цене. Оператор предлагает ознакомиться с информацией о стоимости и комплектациях автомобилей на официальном сайте и получить более подробную консультацию у официальных дилеров Kia. Клиент уточняет свое имя. Оператор благодарит клиента и предлагает дополнительную помощь, на что клиент отвечает отказом. Оператор благодарит клиента за обращение.\r\n",
            "## ############\r\n",
            "Продажи. Случай  в прошлом месяце. Клиент задает вопрос о том, как узнать, официально ли ввезена конкретная машина. Оператор объясняет, что можно проверить автомобиль по VIN-номеру на официальном сайте. Клиент уточняет, что дилеры имеют в наличии машины для разных стран. Оператор отвечает, что на сайте можно добавить только автомобили, ввезенные официальными дистрибьюторами в Россию. Клиент сообщает, что не удалось найти автомобиль с указанным VIN-номером и спрашивает, означает ли это, что автомобиль не подпадает под гарантию в России. Оператор просит уточнить VIN-номер и сообщает, что данный автомобиль не отображается в системе, возможно, из-за того, что он не был импортирован официальным дистрибьютером или еще не изготовлен. Рекомендуется обратиться в дилерский центр для получения точной информации.\r\n",
            "## ############\r\n",
            "Продажи. Случай  в прошлом месяце. Клиент интересуется информацией о наличии автомобилей и точных ценах. Оператор предоставляет информацию о том, что на сайте www.kia.ru можно уточнить информацию о наличии автомобилей, а также указывает на максимальные цены перепродажи автомобилей. Оператор также предоставляет контакты официальных дилеров в городе Саратов. Клиент интересуется, являются ли предоставленные номера телефонов номерами чата WhatsApp. Оператор уточняет, что это прямые номера дилерских центров и предлагает обратиться через личные сайты дилеров.\r\n",
            "## ############\r\n",
            "Продажи. Случай  в прошлом месяце. Клиент интересуется возможностью приобретения автомобиля под заказ. Оператор объясняет, что каждый дилерский центр Kia имеет информацию о поставках автомобилей на свой склад. Оператор также уточняет, что централизованного сервиса с информацией о наличии автомобилей в дилерских центрах пока не существует, но можно посмотреть ориентировочную информацию на сайте в разделе «авто в наличии». Клиент выражает желание купить автомобиль Kia и просит помощи в выборе модели. Оператор предлагает ознакомиться с модельным рядом на сайте.\r\n",
            "## ############\r\n",
            "Продажи. Случай  в прошлом месяце. Клиент интересуется, соответствует ли цена на автомобиль Kia Seltos 2022 Luxe 2 194 900 действительности. Оператор объясняет, что цена может отличаться в зависимости от дополнительного оборудования и проведенных работ. Оператор также предлагает клиенту связаться с дилером для уточнения актуальной стоимости. Клиент понимает и благодарит оператора.\r\n",
            "## ############\r\n",
            "Продажи. Случай  в прошлом месяце. Клиент обратился с вопросом о возможности забрать автомобиль, на который он сделал онлайн-бронирование. Оператор объяснил, что договор купли-продажи заключается с дилером, и рекомендовал обратиться в дилерский центр. Клиент возмутился ценой автомобиля в автосалоне и потребовал вернуть деньги, обвинив оператора в мошенничестве. Оператор объяснил, что дилеры работают на рыночных условиях и цена может отличаться. Клиент продолжил требовать возврат денег. Оператор предложил связаться с официальным дилером Kia для более подробной консультации. Клиент указал номер заказа и свое имя. Оператор продолжил объяснять, что бронирование автомобиля не является предварительным договором купли-продажи и предложил отказаться от бронирования в письменной форме. Клиент повторил требование вернуть деньги и указал, что сделал онлайн-бронирование на сайте. Оператор поблагодарил клиента за уточнение и спросил, как к нему обращаться.\r\n",
            "## ############\r\n",
            "Клиент интересуется информацией о присланном аукционе и хочет отключить рекламные рассылки. Настроение разговора нейтральное.\r\n",
            "Клиент хочет купить машину\r\n",
            "Продажи. Случай  в прошлом месяце. Клиент интересуется почему авто с онлайн бронированием стоят дороже. Оператор объясняет, что бронирование автомобиля не является предварительным договором купли-продажи, а договор купли-продажи заключается между клиентом и дилером с учетом данных о бронировании. Итоговые условия приобретения автомобиля согласовываются в договоре купли-продажи.\r\n",
            "## ############\r\n",
            "Продажи. Случай  в прошлом месяце. Клиент интересуется возможностью покупки автомобиля в России. Он представляет компанию Kia Czech и нуждается в ответе как можно скорее. Оператор предлагает обратиться на сайт kia.com и связаться с дилером для получения информации.\r\n",
            "## ############\r\n",
            "Продажи. Случай  в прошлом месяце. Клиент интересуется наличием автомобиля Kia серии Серато белого цвета и его ценой. Оператор информирует клиента о необходимости обращения в официальные дилерские центры Kia. Клиенту предлагается помощь в чем-либо еще.\r\n",
            "## ############\r\n",
            "Продажи. Случай  в прошлом месяце. Клиент интересуется стоимостью автомобиля и спрашивает, где и как можно купить автомобиль по цене в пределах максимальной цены перепродажи. Оператор отвечает, что стоимость автомобилей зависит от условий рынка и предлагает обратиться к официальным дилерам Kia для получения актуальной информации. Клиент указывает, что официальные дилеры продают дороже максимальной цены перепродажи в России. Оператор отвечает, что информация на сайте носит информационно-ознакомительный характер. Клиент задает вопрос о верности информации на сайте, если дилер продает дороже максимальной цены перепродажи. Оператор не понимает вопроса и предлагает воспользоваться кнопками из предыдущего сообщения или перейти в главное меню. Клиент повторяет вопрос и завершает диалог, задавая тот же вопрос еще раз.\r\n",
            "## ############\r\n",
            "Клиент интересуется причиной различия в стоимости автомобиля при выборе фильтра 'онлайн бронирование' и без него.\r\n",
            "Продажи. Случай  в прошлом месяце. Клиент хочет отменить бронь на автомобиль и спрашивает, как это сделать. Оператор объясняет, что клиент может направить заявление об отказе от бронирования в письменной форме или связаться с дилерским центром и сообщить о своем желании отменить бронь. Оператор также уточняет, что если клиент не подтвердит бронь в течение 72 часов, она автоматически отменится.\r\n",
            "## ############\r\n",
            "Продажи. Случай  в прошлом месяце. Клиент интересуется приобретением нового двигателя. Оператор рекомендует обращаться в официальные дилерские центры Киа и предоставляет ссылки на официальный сайт с информацией о дилерах и автомобилях в наличии. Оператор спрашивает, нужна ли еще помощь.\r\n",
            "## ############\r\n",
            "Продажи. Случай  в прошлом месяце. Оператор уточняет, как к нему можно обращаться. Клиент представляется и получает информацию о дилерах в Санкт-Петербурге. Оператор предлагает обратиться к дилеру напрямую и спрашивает, нужна ли еще помощь.\r\n",
            "## ############\r\n",
            "Продажи. Случай  в прошлом месяце. Клиент интересуется покупкой автомобиля и гарантией. Оператор предоставляет информацию о том, что продажами автомобилей занимаются официальные дилерские центры и рекомендует уточнить информацию на сайте www.kia.ru. Оператор также предоставляет контакты дилеров и ссылку на актуальную информацию об условиях гарантии на сайте https://www.kia.ru/service/warranty/. Клиент интересуется, на какие модели Киа предоставляется гарантия от производителя. Оператор отвечает, что гарантийному обслуживанию подлежат все автомобили Kia, которые были ввезены официальным дистрибьютором автомобилей Kia в России компанией «Киа Россия и СНГ».\r\n",
            "## ############\r\n",
            "Продажи. Случай  в прошлом месяце. Клиент интересуется, является ли дилер Ключ Авто официальным дилером Kia и несет ли он гарантийные обязательства. Оператор подтверждает, что дилер является официальным и предоставляет список всех официальных дилеров Kia на сайте компании. Клиент также интересуется, будет ли произведен ремонт по гарантии в случае возникновения гарантийного случая. Оператор уточняет, что ремонт будет выполнен бесплатно для клиента, если случай будет признан гарантийным, и решение об обоснованности проведения гарантийного ремонта принимает инженер по гарантии официального дилера Kia. Клиент благодарит за консультацию и утверждает, что у него больше нет вопросов.\r\n",
            "## ############\r\n",
            "Продажи. Случай  в прошлом месяце. Клиент интересуется наличием и стоимостью автомобиля Kia x Сид. Оператор объясняет, что компания Kia Россия и СНГ не занимается реализацией автомобилей и рекомендует обратиться в официальные дилерские центры Kia. Оператор также предлагает клиенту уточнить информацию о наличии автомобилей на сайте www.kia.ru в разделе «Авто в наличии».\r\n",
            "## ############\n",
            "\n",
            "\n",
            " ===========================================: \n",
            "22996 токенов использовано на вопрос\n"
          ]
        },
        {
          "output_type": "error",
          "ename": "InvalidRequestError",
          "evalue": "ignored",
          "traceback": [
            "\u001b[0;31m---------------------------------------------------------------------------\u001b[0m",
            "\u001b[0;31mInvalidRequestError\u001b[0m                       Traceback (most recent call last)",
            "\u001b[0;32m<ipython-input-13-a51e8775ab1f>\u001b[0m in \u001b[0;36m<cell line: 3>\u001b[0;34m()\u001b[0m\n\u001b[1;32m      1\u001b[0m \u001b[0;31m# Получаем ответы на 10 тестовых вопросов - вопросы пишем \"ручками\" в соответствующий параметр answer_index()\u001b[0m\u001b[0;34m\u001b[0m\u001b[0;34m\u001b[0m\u001b[0m\n\u001b[1;32m      2\u001b[0m \u001b[0;34m\u001b[0m\u001b[0m\n\u001b[0;32m----> 3\u001b[0;31m ans = answer_index(\n\u001b[0m\u001b[1;32m      4\u001b[0m     \u001b[0mkia_promt\u001b[0m\u001b[0;34m,\u001b[0m\u001b[0;34m\u001b[0m\u001b[0;34m\u001b[0m\u001b[0m\n\u001b[1;32m      5\u001b[0m \u001b[0;31m# Пишем текст вопроса вместо ************************ !!!\u001b[0m\u001b[0;34m\u001b[0m\u001b[0;34m\u001b[0m\u001b[0m\n",
            "\u001b[0;32m<ipython-input-8-044fbc7cdc0a>\u001b[0m in \u001b[0;36manswer_index\u001b[0;34m(system, topic, search_index, temp, verbose, top_similar_documents)\u001b[0m\n\u001b[1;32m     47\u001b[0m     \u001b[0;32mif\u001b[0m \u001b[0;34m(\u001b[0m\u001b[0mverbose\u001b[0m\u001b[0;34m)\u001b[0m\u001b[0;34m:\u001b[0m \u001b[0mprint\u001b[0m\u001b[0;34m(\u001b[0m\u001b[0;34mf\"{num_tokens_from_messages(messages, 'gpt-3.5-turbo-0613')} токенов использовано на вопрос\"\u001b[0m\u001b[0;34m)\u001b[0m\u001b[0;34m\u001b[0m\u001b[0;34m\u001b[0m\u001b[0m\n\u001b[1;32m     48\u001b[0m \u001b[0;34m\u001b[0m\u001b[0m\n\u001b[0;32m---> 49\u001b[0;31m     completion = openai.ChatCompletion.create(\n\u001b[0m\u001b[1;32m     50\u001b[0m     \u001b[0mmodel\u001b[0m\u001b[0;34m=\u001b[0m\u001b[0;34m\"gpt-3.5-turbo-0613\"\u001b[0m\u001b[0;34m,\u001b[0m\u001b[0;34m\u001b[0m\u001b[0;34m\u001b[0m\u001b[0m\n\u001b[1;32m     51\u001b[0m     \u001b[0mmessages\u001b[0m\u001b[0;34m=\u001b[0m\u001b[0mmessages\u001b[0m\u001b[0;34m,\u001b[0m\u001b[0;34m\u001b[0m\u001b[0;34m\u001b[0m\u001b[0m\n",
            "\u001b[0;32m/usr/local/lib/python3.10/dist-packages/openai/api_resources/chat_completion.py\u001b[0m in \u001b[0;36mcreate\u001b[0;34m(cls, *args, **kwargs)\u001b[0m\n\u001b[1;32m     23\u001b[0m         \u001b[0;32mwhile\u001b[0m \u001b[0;32mTrue\u001b[0m\u001b[0;34m:\u001b[0m\u001b[0;34m\u001b[0m\u001b[0;34m\u001b[0m\u001b[0m\n\u001b[1;32m     24\u001b[0m             \u001b[0;32mtry\u001b[0m\u001b[0;34m:\u001b[0m\u001b[0;34m\u001b[0m\u001b[0;34m\u001b[0m\u001b[0m\n\u001b[0;32m---> 25\u001b[0;31m                 \u001b[0;32mreturn\u001b[0m \u001b[0msuper\u001b[0m\u001b[0;34m(\u001b[0m\u001b[0;34m)\u001b[0m\u001b[0;34m.\u001b[0m\u001b[0mcreate\u001b[0m\u001b[0;34m(\u001b[0m\u001b[0;34m*\u001b[0m\u001b[0margs\u001b[0m\u001b[0;34m,\u001b[0m \u001b[0;34m**\u001b[0m\u001b[0mkwargs\u001b[0m\u001b[0;34m)\u001b[0m\u001b[0;34m\u001b[0m\u001b[0;34m\u001b[0m\u001b[0m\n\u001b[0m\u001b[1;32m     26\u001b[0m             \u001b[0;32mexcept\u001b[0m \u001b[0mTryAgain\u001b[0m \u001b[0;32mas\u001b[0m \u001b[0me\u001b[0m\u001b[0;34m:\u001b[0m\u001b[0;34m\u001b[0m\u001b[0;34m\u001b[0m\u001b[0m\n\u001b[1;32m     27\u001b[0m                 \u001b[0;32mif\u001b[0m \u001b[0mtimeout\u001b[0m \u001b[0;32mis\u001b[0m \u001b[0;32mnot\u001b[0m \u001b[0;32mNone\u001b[0m \u001b[0;32mand\u001b[0m \u001b[0mtime\u001b[0m\u001b[0;34m.\u001b[0m\u001b[0mtime\u001b[0m\u001b[0;34m(\u001b[0m\u001b[0;34m)\u001b[0m \u001b[0;34m>\u001b[0m \u001b[0mstart\u001b[0m \u001b[0;34m+\u001b[0m \u001b[0mtimeout\u001b[0m\u001b[0;34m:\u001b[0m\u001b[0;34m\u001b[0m\u001b[0;34m\u001b[0m\u001b[0m\n",
            "\u001b[0;32m/usr/local/lib/python3.10/dist-packages/openai/api_resources/abstract/engine_api_resource.py\u001b[0m in \u001b[0;36mcreate\u001b[0;34m(cls, api_key, api_base, api_type, request_id, api_version, organization, **params)\u001b[0m\n\u001b[1;32m    151\u001b[0m         )\n\u001b[1;32m    152\u001b[0m \u001b[0;34m\u001b[0m\u001b[0m\n\u001b[0;32m--> 153\u001b[0;31m         response, _, api_key = requestor.request(\n\u001b[0m\u001b[1;32m    154\u001b[0m             \u001b[0;34m\"post\"\u001b[0m\u001b[0;34m,\u001b[0m\u001b[0;34m\u001b[0m\u001b[0;34m\u001b[0m\u001b[0m\n\u001b[1;32m    155\u001b[0m             \u001b[0murl\u001b[0m\u001b[0;34m,\u001b[0m\u001b[0;34m\u001b[0m\u001b[0;34m\u001b[0m\u001b[0m\n",
            "\u001b[0;32m/usr/local/lib/python3.10/dist-packages/openai/api_requestor.py\u001b[0m in \u001b[0;36mrequest\u001b[0;34m(self, method, url, params, headers, files, stream, request_id, request_timeout)\u001b[0m\n\u001b[1;32m    296\u001b[0m             \u001b[0mrequest_timeout\u001b[0m\u001b[0;34m=\u001b[0m\u001b[0mrequest_timeout\u001b[0m\u001b[0;34m,\u001b[0m\u001b[0;34m\u001b[0m\u001b[0;34m\u001b[0m\u001b[0m\n\u001b[1;32m    297\u001b[0m         )\n\u001b[0;32m--> 298\u001b[0;31m         \u001b[0mresp\u001b[0m\u001b[0;34m,\u001b[0m \u001b[0mgot_stream\u001b[0m \u001b[0;34m=\u001b[0m \u001b[0mself\u001b[0m\u001b[0;34m.\u001b[0m\u001b[0m_interpret_response\u001b[0m\u001b[0;34m(\u001b[0m\u001b[0mresult\u001b[0m\u001b[0;34m,\u001b[0m \u001b[0mstream\u001b[0m\u001b[0;34m)\u001b[0m\u001b[0;34m\u001b[0m\u001b[0;34m\u001b[0m\u001b[0m\n\u001b[0m\u001b[1;32m    299\u001b[0m         \u001b[0;32mreturn\u001b[0m \u001b[0mresp\u001b[0m\u001b[0;34m,\u001b[0m \u001b[0mgot_stream\u001b[0m\u001b[0;34m,\u001b[0m \u001b[0mself\u001b[0m\u001b[0;34m.\u001b[0m\u001b[0mapi_key\u001b[0m\u001b[0;34m\u001b[0m\u001b[0;34m\u001b[0m\u001b[0m\n\u001b[1;32m    300\u001b[0m \u001b[0;34m\u001b[0m\u001b[0m\n",
            "\u001b[0;32m/usr/local/lib/python3.10/dist-packages/openai/api_requestor.py\u001b[0m in \u001b[0;36m_interpret_response\u001b[0;34m(self, result, stream)\u001b[0m\n\u001b[1;32m    698\u001b[0m         \u001b[0;32melse\u001b[0m\u001b[0;34m:\u001b[0m\u001b[0;34m\u001b[0m\u001b[0;34m\u001b[0m\u001b[0m\n\u001b[1;32m    699\u001b[0m             return (\n\u001b[0;32m--> 700\u001b[0;31m                 self._interpret_response_line(\n\u001b[0m\u001b[1;32m    701\u001b[0m                     \u001b[0mresult\u001b[0m\u001b[0;34m.\u001b[0m\u001b[0mcontent\u001b[0m\u001b[0;34m.\u001b[0m\u001b[0mdecode\u001b[0m\u001b[0;34m(\u001b[0m\u001b[0;34m\"utf-8\"\u001b[0m\u001b[0;34m)\u001b[0m\u001b[0;34m,\u001b[0m\u001b[0;34m\u001b[0m\u001b[0;34m\u001b[0m\u001b[0m\n\u001b[1;32m    702\u001b[0m                     \u001b[0mresult\u001b[0m\u001b[0;34m.\u001b[0m\u001b[0mstatus_code\u001b[0m\u001b[0;34m,\u001b[0m\u001b[0;34m\u001b[0m\u001b[0;34m\u001b[0m\u001b[0m\n",
            "\u001b[0;32m/usr/local/lib/python3.10/dist-packages/openai/api_requestor.py\u001b[0m in \u001b[0;36m_interpret_response_line\u001b[0;34m(self, rbody, rcode, rheaders, stream)\u001b[0m\n\u001b[1;32m    761\u001b[0m         \u001b[0mstream_error\u001b[0m \u001b[0;34m=\u001b[0m \u001b[0mstream\u001b[0m \u001b[0;32mand\u001b[0m \u001b[0;34m\"error\"\u001b[0m \u001b[0;32min\u001b[0m \u001b[0mresp\u001b[0m\u001b[0;34m.\u001b[0m\u001b[0mdata\u001b[0m\u001b[0;34m\u001b[0m\u001b[0;34m\u001b[0m\u001b[0m\n\u001b[1;32m    762\u001b[0m         \u001b[0;32mif\u001b[0m \u001b[0mstream_error\u001b[0m \u001b[0;32mor\u001b[0m \u001b[0;32mnot\u001b[0m \u001b[0;36m200\u001b[0m \u001b[0;34m<=\u001b[0m \u001b[0mrcode\u001b[0m \u001b[0;34m<\u001b[0m \u001b[0;36m300\u001b[0m\u001b[0;34m:\u001b[0m\u001b[0;34m\u001b[0m\u001b[0;34m\u001b[0m\u001b[0m\n\u001b[0;32m--> 763\u001b[0;31m             raise self.handle_error_response(\n\u001b[0m\u001b[1;32m    764\u001b[0m                 \u001b[0mrbody\u001b[0m\u001b[0;34m,\u001b[0m \u001b[0mrcode\u001b[0m\u001b[0;34m,\u001b[0m \u001b[0mresp\u001b[0m\u001b[0;34m.\u001b[0m\u001b[0mdata\u001b[0m\u001b[0;34m,\u001b[0m \u001b[0mrheaders\u001b[0m\u001b[0;34m,\u001b[0m \u001b[0mstream_error\u001b[0m\u001b[0;34m=\u001b[0m\u001b[0mstream_error\u001b[0m\u001b[0;34m\u001b[0m\u001b[0;34m\u001b[0m\u001b[0m\n\u001b[1;32m    765\u001b[0m             )\n",
            "\u001b[0;31mInvalidRequestError\u001b[0m: This model's maximum context length is 4097 tokens. However, your messages resulted in 22995 tokens. Please reduce the length of the messages."
          ]
        }
      ]
    },
    {
      "cell_type": "markdown",
      "source": [
        "## (финиш)"
      ],
      "metadata": {
        "id": "NAYY_z_3oC0q"
      }
    },
    {
      "cell_type": "markdown",
      "source": [
        "# (3) Проверка ответов с помощью Chat GPT\n",
        "БЗ - **V9_test-questions_Eng_v.1**"
      ],
      "metadata": {
        "id": "wZ5l6vu7Pujy"
      }
    },
    {
      "cell_type": "code",
      "source": [
        "!pip  install  tiktoken==0.4.0  langchain==0.0.231 openai==0.27.8 chromadb gspread oauth2client nltk pydantic==1.10.8 faiss-cpu==1.7.4"
      ],
      "metadata": {
        "id": "LTmoqrtOEef8"
      },
      "execution_count": null,
      "outputs": []
    },
    {
      "cell_type": "markdown",
      "source": [
        "## Дробление на чанки\n",
        "Функции (просто запустить все ячейк на исполнение, **ввести АПИ ключ**)"
      ],
      "metadata": {
        "id": "GkIXqnDOPukN"
      }
    },
    {
      "cell_type": "code",
      "source": [
        "#@title (import)\n",
        "import gdown\n",
        "from langchain.llms import OpenAI\n",
        "from langchain.vectorstores import FAISS\n",
        "from langchain.docstore.document import Document\n",
        "import requests\n",
        "from langchain.embeddings.openai import OpenAIEmbeddings\n",
        "from langchain.vectorstores import Chroma\n",
        "from langchain.text_splitter import RecursiveCharacterTextSplitter\n",
        "from langchain.prompts import PromptTemplate\n",
        "import pathlib\n",
        "import subprocess\n",
        "import tempfile\n",
        "import ipywidgets as widgets\n",
        "import os\n",
        "import gspread\n",
        "from oauth2client.service_account import ServiceAccountCredentials\n",
        "import re\n",
        "import getpass\n",
        "import os\n",
        "import openai\n",
        "import tiktoken"
      ],
      "metadata": {
        "id": "U-BYIotXFqBg"
      },
      "execution_count": null,
      "outputs": []
    },
    {
      "cell_type": "code",
      "source": [
        "def split_text(text, max_count, count_type, verbose=0):\n",
        "    # Функция для подсчета количества слов в фрагменте\n",
        "    def num_words(fragment):\n",
        "        return len(fragment.split())\n",
        "\n",
        "    # Функция для подсчета количества токенов в фрагменте\n",
        "    def num_tokens(fragment):\n",
        "        return num_tokens_from_string(fragment, \"cl100k_base\")\n",
        "\n",
        "    # Разделение текста на фрагменты, исключая теги HTML\n",
        "    fragments = [fragment.strip() for fragment in re.split(r\"<[^>]+>|[\\ufeff]\", text) if fragment.strip()]\n",
        "\n",
        "    # Выбор функции подсчета длины в зависимости от типа подсчета\n",
        "    length_function = num_words if count_type == \"words\" else num_tokens\n",
        "\n",
        "    # Создание объекта разделителя текста\n",
        "    splitter = RecursiveCharacterTextSplitter(chunk_size=max_count, chunk_overlap=0, length_function=length_function)\n",
        "\n",
        "    # Список для хранения фрагментов текста\n",
        "    source_chunks = []\n",
        "\n",
        "    # Обработка каждого фрагмента текста\n",
        "    for fragment in fragments:\n",
        "        if verbose:\n",
        "            # Вывод количества слов/токенов в фрагменте, если включен режим verbose\n",
        "            count = length_function(fragment)\n",
        "            print(f\"{count_type} in text fragment = {count}\\n{'-' * 5}\\n{fragment}\\n{'=' * 20}\")\n",
        "\n",
        "        # Разбиение фрагмента текста на части заданной длины с помощью разделителя\n",
        "        # и добавление каждой части в список source_chunks\n",
        "        #source_chunks.append(Document(page_content=fragment, metadata={}) for chunk in splitter.split_text(fragment))\n",
        "        source_chunks.extend(Document(page_content=chunk, metadata={}) for chunk in splitter.split_text(fragment))\n",
        "\n",
        "    # Возвращение списка фрагментов текста\n",
        "    return source_chunks\n",
        "\n",
        "\n",
        "def create_embedding(data, max_count, count_type):\n",
        "    def num_tokens_from_string(string: str, encoding_name: str) -> int:\n",
        "      \"\"\"Возвращает количество токенов в строке\"\"\"\n",
        "      encoding = tiktoken.get_encoding(encoding_name)\n",
        "      num_tokens = len(encoding.encode(string))\n",
        "      return num_tokens\n",
        "\n",
        "    source_chunks = []\n",
        "\n",
        "    source_chunks = split_text(text=data, max_count=max_count, count_type=count_type, verbose=0)\n",
        "\n",
        "    # Создание индексов документа\n",
        "    search_index = FAISS.from_documents(source_chunks, OpenAIEmbeddings(), )\n",
        "\n",
        "    count_token = num_tokens_from_string(' '.join([x.page_content for x in source_chunks]), \"cl100k_base\")\n",
        "    print('\\n ===========================================: ')\n",
        "    print('Количество токенов в документе :', count_token)\n",
        "    print('ЦЕНА запроса:', 0.0004*(count_token/1000), ' $')\n",
        "    return search_index\n",
        "\n",
        "def load_search_indexes(url: str, max_count, count_type) -> str:\n",
        "    # Extract the document ID from the URL\n",
        "    match_ = re.search('/document/d/([a-zA-Z0-9-_]+)', url)\n",
        "    if match_ is None:\n",
        "        raise ValueError('Invalid Google Docs URL')\n",
        "    doc_id = match_.group(1)\n",
        "\n",
        "    # Download the document as plain text\n",
        "    response = requests.get(f'https://docs.google.com/document/d/{doc_id}/export?format=txt')\n",
        "    response.raise_for_status()\n",
        "    text = response.text\n",
        "    return create_embedding(text, max_count=max_count, count_type=count_type)"
      ],
      "metadata": {
        "id": "AqzXEJp0Fp-o"
      },
      "execution_count": null,
      "outputs": []
    },
    {
      "cell_type": "code",
      "source": [
        "def num_tokens_from_messages(messages, model=\"gpt-3.5-turbo-0613\"):\n",
        "    \"\"\"Returns the number of tokens used by a list of messages.\"\"\"\n",
        "    try:\n",
        "        encoding = tiktoken.encoding_for_model(model)\n",
        "    except KeyError:\n",
        "        encoding = tiktoken.get_encoding(\"cl100k_base\")\n",
        "    if model == \"gpt-3.5-turbo-0613\":  # note: future models may deviate from this\n",
        "        num_tokens = 0\n",
        "        for message in messages:\n",
        "            num_tokens += 4  # every message follows <im_start>{role/name}\\n{content}<im_end>\\n\n",
        "            for key, value in message.items():\n",
        "                num_tokens += len(encoding.encode(value))\n",
        "                if key == \"name\":  # if there's a name, the role is omitted\n",
        "                    num_tokens += -1  # role is always required and always 1 token\n",
        "        num_tokens += 2  # every reply is primed with <im_start>assistant\n",
        "        return num_tokens\n",
        "    else:\n",
        "        raise NotImplementedError(f\"\"\"num_tokens_from_messages() is not presently implemented for model {model}.\"\"\")\n",
        "\n",
        "def insert_newlines(text: str, max_len: int = 170) -> str:\n",
        "    words = text.split()\n",
        "    lines = []\n",
        "    current_line = \"\"\n",
        "    for word in words:\n",
        "        if len(current_line + \" \" + word) > max_len:\n",
        "            lines.append(current_line)\n",
        "            current_line = \"\"\n",
        "        current_line += \" \" + word\n",
        "    lines.append(current_line)\n",
        "    return \"\\n\".join(lines)\n",
        "\n",
        "def answer_index(system, topic, search_index, temp = 0, verbose = 0, top_similar_documents = 3):\n",
        "\n",
        "    #Выборка документов по схожести с вопросом\n",
        "    docs = search_index.similarity_search(topic, k=top_similar_documents)\n",
        "    if (verbose): print('\\n ===========================================: ')\n",
        "    message_content = re.sub(r'\\n{2}', ' ', '\\n '.join([f'\\nОтрывок документа №{i+1}\\n=====================' + doc.page_content + '\\n' for i, doc in enumerate(docs)]))\n",
        "    if (verbose): print('message_content :\\n ======================================== \\n', message_content)\n",
        "\n",
        "    messages = [\n",
        "      {\"role\": \"system\", \"content\": system + f\"{message_content}\"},\n",
        "      {\"role\": \"user\", \"content\": topic}\n",
        "      ]\n",
        "\n",
        "    # example token count from the function defined above\n",
        "    if (verbose): print('\\n ===========================================: ')\n",
        "    if (verbose): print(f\"{num_tokens_from_messages(messages, 'gpt-3.5-turbo-0613')} токенов использовано на вопрос\")\n",
        "\n",
        "    completion = openai.ChatCompletion.create(\n",
        "    model=\"gpt-3.5-turbo-0613\",\n",
        "    messages=messages,\n",
        "    temperature=temp\n",
        "    )\n",
        "    if (verbose): print('\\n ===========================================: ')\n",
        "    if (verbose): print(f'{completion[\"usage\"][\"total_tokens\"]} токенов использовано всего (вопрос-ответ).')\n",
        "    if (verbose): print('\\n ===========================================: ')\n",
        "    if (verbose): print('ЦЕНА запроса с ответом :', 0.002*(completion[\"usage\"][\"total_tokens\"]/1000), ' $')\n",
        "    if (verbose): print('\\n ===========================================: ')\n",
        "    print('ОТВЕТ : \\n', insert_newlines(completion.choices[0].message.content))\n",
        "\n",
        "    # return completion"
      ],
      "metadata": {
        "id": "dtNbc5o0Fp77"
      },
      "execution_count": null,
      "outputs": []
    },
    {
      "cell_type": "code",
      "source": [
        "def load_document_text(url: str) -> str:\n",
        "    # Extract the document ID from the URL\n",
        "    match_ = re.search('/document/d/([a-zA-Z0-9-_]+)', url)\n",
        "    if match_ is None:\n",
        "        raise ValueError('Invalid Google Docs URL')\n",
        "    doc_id = match_.group(1)\n",
        "\n",
        "    # Download the document as plain text\n",
        "    response = requests.get(f'https://docs.google.com/document/d/{doc_id}/export?format=txt')\n",
        "    response.raise_for_status()\n",
        "    text = response.text\n",
        "\n",
        "    return text"
      ],
      "metadata": {
        "id": "by0nR1YKFpvZ"
      },
      "execution_count": null,
      "outputs": []
    },
    {
      "cell_type": "code",
      "source": [
        "max_count = 2400            # максимальное кол-во символов в чанке\n",
        "count_type = \"words\"\n",
        "top_similar_documents = 3"
      ],
      "metadata": {
        "id": "1Vpze6G5GBSU"
      },
      "execution_count": null,
      "outputs": []
    },
    {
      "cell_type": "markdown",
      "source": [
        "## загрузка доков и Оценка\n"
      ],
      "metadata": {
        "id": "FiX5ohJVPukS"
      }
    },
    {
      "cell_type": "code",
      "source": [
        "# Документ \"Тестовая БЗ - V9_test-questions_Eng_v.1\"\n",
        "kia_index = load_search_indexes('https://docs.google.com/document/d/1oQd15ah09NQjv2_WWF-tLBt9ZQgB-vB2', max_count = max_count, count_type=count_type)"
      ],
      "metadata": {
        "id": "KjpNkVNiGHb_"
      },
      "execution_count": null,
      "outputs": []
    },
    {
      "cell_type": "code",
      "source": [
        "# Промпт для ПРОВЕРКИ Ответов - \"Промпт - Проверка Ответов = Eng (v.1) 511 т\"\n",
        "\n",
        "kia_promt = load_document_text('https://docs.google.com/document/d/1hIShfwvJtTD9ZnbhrxZNt0ZAKdgMGzTP')"
      ],
      "metadata": {
        "id": "G8EweA2QGIaP"
      },
      "execution_count": null,
      "outputs": []
    },
    {
      "cell_type": "code",
      "source": [
        "# Получаем ответы на 10 тестовых вопросов - вопросы пишем \"ручками\" в соответствующий параметр answer_index()\n",
        "\n",
        "ans = answer_index(\n",
        "    kia_promt,\n",
        "# Пишем текст Вопроса и Ответа (из п. (2) ) между 3-х кавычек !!!\n",
        "    '''\n",
        "***Вопрос: Какие скидки или специальные предложения доступны для покупки Kia Picanto?***.\n",
        "**Ответ: На данный момент у нас есть несколько специальных предложений для покупки Kia Picanto. Вот некоторые из них: 1. Финансовая программа \"Trade-in\". При сдаче вашего старого\n",
        " автомобиля в зачет на покупку нового Kia Picanto вы можете получить дополнительную скидку или выгодные условия кредита. 2. Программа лояльности для постоянных клиентов.\n",
        " Если вы уже являетесь владельцем автомобиля Kia, вы можете получить специальные условия на покупку нового Kia Picanto. 3. Специальные цены на определенные комплектации\n",
        " Kia Picanto. Мы предлагаем сниженные цены на некоторые модели и комплектации автомобиля. 4. Беспроцентный кредит. В рамках этой программы вы можете приобрести Kia\n",
        " Picanto в кредит без процентов на определенный период времени. Пожалуйста, обратитесь к вашему ближайшему дилеру Kia для получения более подробной информации о текущих\n",
        " специальных предложениях и скидках.**\n",
        "    ''',\n",
        "    kia_index,\n",
        "    verbose = 1,\n",
        "    top_similar_documents = top_similar_documents\n",
        ")"
      ],
      "metadata": {
        "id": "6TFn4OFtGLh6"
      },
      "execution_count": null,
      "outputs": []
    },
    {
      "cell_type": "markdown",
      "source": [
        "## (финиш)"
      ],
      "metadata": {
        "id": "X4MyMLLdPukU"
      }
    }
  ]
}