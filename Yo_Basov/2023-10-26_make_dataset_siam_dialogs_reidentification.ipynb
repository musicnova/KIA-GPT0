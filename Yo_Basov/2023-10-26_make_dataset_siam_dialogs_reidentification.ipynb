{
  "cells": [
    {
      "cell_type": "code",
      "source": [
        "# ЧЕРНОВОЙ ВАРИАНТ ПО СОЗДАНИИ КОЛЛЕКЦИИ ДИАЛОГОВ ДЛЯ УДАЛЕНИЯ ДУБЛЕЙ В COLAB\n",
        "\n",
        "# Сиамские близнецы опимание метода keras.io/examples/vision/siamese_network/\n",
        "\n",
        "from google.colab import drive\n",
        "drive.mount('/content/drive')"
      ],
      "metadata": {
        "colab": {
          "base_uri": "https://localhost:8080/"
        },
        "id": "0F7wICnhUDab",
        "outputId": "b96ddc7f-fc80-46a0-a3e2-d7068b401f47"
      },
      "execution_count": null,
      "outputs": [
        {
          "output_type": "stream",
          "name": "stdout",
          "text": [
            "Drive already mounted at /content/drive; to attempt to forcibly remount, call drive.mount(\"/content/drive\", force_remount=True).\n"
          ]
        }
      ]
    },
    {
      "cell_type": "code",
      "source": [
        "!rm -rf \"/content/drive/MyDrive/KIA_DATASET/\"\n",
        "!mkdir -p \"/content/drive/MyDrive/KIA_DATASET/\""
      ],
      "metadata": {
        "id": "bvNZedIsUOme"
      },
      "execution_count": null,
      "outputs": []
    },
    {
      "cell_type": "code",
      "source": [
        "\n",
        "KEY=\"A\"\n",
        "ALL_FIRST_TEXTS={\n",
        "  \"A\": \"https://docs.google.com/spreadsheets/d/1KKrom7-euu1ZhdEnrdtJ6NJfG6mHwGmq9_vEyXAd4ZI/export?format=xlsx\"\n",
        "}\n",
        "FIRST_TEXTS={KEY: ALL_FIRST_TEXTS[KEY]}\n",
        "\n",
        "ALL_FIRST_SHEETS={\n",
        "  \"A\": \"Анализ\"\n",
        "}\n",
        "FIRST_SHEETS={KEY: ALL_FIRST_SHEETS[KEY]}"
      ],
      "metadata": {
        "id": "4jUlakf1O6Yb"
      },
      "execution_count": null,
      "outputs": []
    },
    {
      "cell_type": "markdown",
      "metadata": {
        "id": "mLWs9eLRC63S"
      },
      "source": [
        "# Установка"
      ]
    },
    {
      "cell_type": "code",
      "source": [
        "#@title Установка библиотек\n",
        "!pip install nltk"
      ],
      "metadata": {
        "id": "zIBD7aFKkfML",
        "colab": {
          "base_uri": "https://localhost:8080/"
        },
        "outputId": "acbf21b0-9635-4309-9adc-f380c78230f4"
      },
      "execution_count": null,
      "outputs": [
        {
          "output_type": "stream",
          "name": "stdout",
          "text": [
            "Requirement already satisfied: nltk in /usr/local/lib/python3.10/dist-packages (3.8.1)\n",
            "Requirement already satisfied: click in /usr/local/lib/python3.10/dist-packages (from nltk) (8.1.7)\n",
            "Requirement already satisfied: joblib in /usr/local/lib/python3.10/dist-packages (from nltk) (1.3.2)\n",
            "Requirement already satisfied: regex>=2021.8.3 in /usr/local/lib/python3.10/dist-packages (from nltk) (2023.6.3)\n",
            "Requirement already satisfied: tqdm in /usr/local/lib/python3.10/dist-packages (from nltk) (4.66.1)\n"
          ]
        }
      ]
    },
    {
      "cell_type": "code",
      "source": [
        "SIAM_1_3_EXAMPLE_1_1=\"\"\"\n",
        "Уточнение номера детали заднего правого внешнего фонаря|||Клиент спрашивает о номере детали заднего правого внешнего фонаря для Kia Rio X Line 2020 года комплектации Luxe. Оператор отвечает, что данная информация отсутствует на информационной линии и рекомендует связаться с дилером для уточнения. Клиент благодарит и говорит, что ему больше ничего не нужно.\n",
        "\"\"\"\n",
        "SIAM_1_3_EXAMPLE_1_2=\"\"\"\n",
        "уточнение информации о заказе заднего фонаря|||Клиент спрашивает, как можно заказать и сколько стоит задний фонарь 92402-G63. Оператор предлагает обратиться в дилерский центр Kia для получения информации. Клиент уточняет, есть ли у него дополнительные вопросы.\n",
        "\"\"\"\n",
        "NOT_SIAM_1_3_EXAMPLE_1_3=\"\"\"\n",
        "узнать наличие подсветки mood lamp в комплектациях и моделях Kia|||Клиент интересуется наличием подсветки mood lamp в комплектациях и моделях Kia, конкретно в Kia K5 и Cerato. Оператор рекомендует обратиться к официальному дилеру Kia и предоставляет ссылку на сайт с контактами дилеров.\n",
        "\"\"\"\n",
        "NOT_SIAM_1_3_EXAMPLE_1_4=\"\"\"\n",
        "уточнение информации о найденной детали|||Клиент обратился с вопросом о найденной детали после ТО. Оператор рекомендует обратиться к специалистам дилерского центра. Клиент предлагает прислать фото детали.\n",
        "\"\"\"\n"
      ],
      "metadata": {
        "id": "kwyVa84Pmsau"
      },
      "execution_count": null,
      "outputs": []
    },
    {
      "cell_type": "code",
      "source": [
        "SIAM_2_3_EXAMPLE_2_1=\"\"\"\n",
        "Узнать информацию о цене на литые диски для Kia K5|||Клиент интересуется ценой на литые диски для Kia K5. Оператор рекомендует обратиться в официальный дилерский центр Kia для получения информации о стоимости и технических параметрах запасных частей и аксессуаров.\n",
        "\"\"\"\n",
        "SIAM_2_3_EXAMPLE_2_2=\"\"\"\n",
        "уточнение наличия дисков на Kia K5|||Клиент интересуется наличием дисков на Kia K5. Оператор рекомендует обратиться в официальный дилерский центр Kia для приобретения или заказа комплектующих и аксессуаров. Клиент благодарит и говорит, что будет звонить во Владивосток для уточнения всех вопросов. Оператор желает клиенту всего доброго.\n",
        "\"\"\"\n",
        "SIAM_2_3_EXAMPLE_2_3=\"\"\"\n",
        "узнать подходят ли литые диски для автомобиля|||Клиент спрашивает, как узнать подходят ли ему литые диски для его автомобиля Киа Рио 3 поколения хетчбек 1.6 2014г. Оператор отвечает, что на информационной линии нет технических специалистов и рекомендует обратиться в официальный дилерский центр Kia. Оператор также объясняет, что официальные дилеры обладают необходимым оборудованием и специально обученным персоналом. Клиент благодарит и говорит, что ему больше ничего не нужно.\n",
        "\"\"\"\n",
        "NOT_SIAM_2_3_EXAMPLE_2_4=\"\"\"\n",
        "консультация по авто|||Клиент интересуется возможностью установки колес с шиной 225/65 R17 на автомобиль Kia Sportage 2017 года выпуска. Оператор рекомендует обратиться в ближайший официальный дилерский центр Kia для получения информации о приобретении и установке комплектующих и аксессуаров.\n",
        "\"\"\""
      ],
      "metadata": {
        "id": "MfblyAWtoIll"
      },
      "execution_count": null,
      "outputs": []
    },
    {
      "cell_type": "code",
      "source": [
        "SIAM_3_3_EXAMPLE_3_1=\"\"\"\n",
        "Запрос на приобретение запчастей в Пятигорске|||Оператор предлагает обратиться в официальный дилерский центр Kia для приобретения запчастей и аксессуаров. Он также предоставляет ссылку на сайт с информацией о дилерах в Пятигорске.\n",
        "\"\"\"\n",
        "SIAM_3_3_EXAMPLE_3_2=\"\"\"\n",
        "покупка запчастей|||Клиент хочет купить запчасти. Оператор рекомендует обратиться в ближайший официальный дилерский центр Kia. Клиент уточняет про цепь грм, но оператор не понимает и предлагает воспользоваться кнопками или перейти в главное меню.\n",
        "\"\"\"\n",
        "SIAM_3_3_EXAMPLE_3_3=\"\"\"\n",
        "узнать наличие запчастей|||Клиент интересуется, как посмотреть наличие запчастей. Оператор предлагает проверить информацию на официальном сайте и обратиться к официальному дилеру. Оператор также спрашивает, нужна ли еще помощь.\n",
        "\"\"\"\n",
        "SIAM_3_3_EXAMPLE_3_4=\"\"\"\n",
        "узнать стоимость двигателя на Kia Cerato 2012 года|||Клиент интересуется стоимостью двигателя на Kia Cerato 2012 года. Оператор рекомендует обратиться в дилерский центр Kia для получения информации о приобретении, сроке и процессе заказа и поставки запасных частей.\n",
        "\"\"\"\n",
        "NOT_SIAM_3_3_EXAMPLE_3_5=\"\"\"\n",
        "Запрос кода краски для автомобиля|||Клиент запрашивает код краски для автомобиля Kia Spectra с указанным VIN-номером.\n",
        "\"\"\""
      ],
      "metadata": {
        "id": "1QzKDplnsx15"
      },
      "execution_count": null,
      "outputs": []
    },
    {
      "cell_type": "code",
      "source": [
        "SIAM_4_3_EXAMPLE_4_1=\"\"\"\n",
        "Уточнение наличия автомобиля Киа Рио в Симферополе|||Клиент интересуется наличием автомобиля Киа Рио в Симферополе. Оператор информирует клиента о том, что продажей автомобилей занимаются официальные дилерские центры и рекомендует обратиться к дилеру для уточнения информации о наличии и условиях приобретения. Клиент благодарит оператора.\n",
        "\"\"\"\n",
        "SIAM_4_3_EXAMPLE_4_2=\"\"\"\n",
        "уточнение наличия конфигурации|||Клиент интересуется наличием конфигурации на селтос 1,6 2021 года выпуска и просит помощи в поиске на сайте. Оператор отвечает, что по всем конфигурациям нужно обращаться к дилеру, список которых можно найти на сайте www.kia.ru.\n",
        "\"\"\"\n",
        "SIAM_4_3_EXAMPLE_4_3=\"\"\"\n",
        "Уточнение наличия автомобиля|||Клиент интересуется наличием нового автомобиля Kia Sorento в белом цвете с комплектацией не хуже Prestige.\n",
        "\"\"\"\n",
        "NOT_SIAM_4_4_EXAMPLE_4_4=\"\"\"\n",
        "Запрос каталога на Соренто|||Клиент интересуется каталогом на Соренто, предпочтительно европейским.\n",
        "\"\"\""
      ],
      "metadata": {
        "id": "CyLzGLlDt_3m"
      },
      "execution_count": null,
      "outputs": []
    },
    {
      "cell_type": "code",
      "source": [
        "SIAM_LIST=[[SIAM_2_3_EXAMPLE_2_1, SIAM_2_3_EXAMPLE_2_2, SIAM_2_3_EXAMPLE_2_3], [SIAM_3_3_EXAMPLE_3_1, SIAM_3_3_EXAMPLE_3_2, SIAM_3_3_EXAMPLE_3_3]\n",
        "           , [SIAM_3_3_EXAMPLE_3_1, SIAM_3_3_EXAMPLE_3_2, SIAM_3_3_EXAMPLE_3_4], [SIAM_3_3_EXAMPLE_3_1, SIAM_3_3_EXAMPLE_3_3, SIAM_3_3_EXAMPLE_3_4], [SIAM_3_3_EXAMPLE_3_2, SIAM_3_3_EXAMPLE_3_3, SIAM_3_3_EXAMPLE_3_4]\n",
        "           , [SIAM_4_3_EXAMPLE_4_1, SIAM_4_3_EXAMPLE_4_2, SIAM_4_3_EXAMPLE_4_3]]"
      ],
      "metadata": {
        "id": "0fxJuxP-sKGW"
      },
      "execution_count": null,
      "outputs": []
    },
    {
      "cell_type": "code",
      "source": [
        "NOT_SIAM_LIST=[[SIAM_1_3_EXAMPLE_1_1, SIAM_1_3_EXAMPLE_1_2, NOT_SIAM_1_3_EXAMPLE_1_3], [SIAM_1_3_EXAMPLE_1_1, SIAM_1_3_EXAMPLE_1_2, NOT_SIAM_1_3_EXAMPLE_1_4]\n",
        "               , [SIAM_2_3_EXAMPLE_2_1, SIAM_2_3_EXAMPLE_2_2, NOT_SIAM_2_3_EXAMPLE_2_4], [SIAM_2_3_EXAMPLE_2_1, SIAM_2_3_EXAMPLE_2_3, NOT_SIAM_2_3_EXAMPLE_2_4]\n",
        "               , [SIAM_2_3_EXAMPLE_2_2, SIAM_2_3_EXAMPLE_2_3, NOT_SIAM_2_3_EXAMPLE_2_4], [SIAM_3_3_EXAMPLE_3_1, SIAM_3_3_EXAMPLE_3_2, NOT_SIAM_3_3_EXAMPLE_3_5]\n",
        "               , [SIAM_3_3_EXAMPLE_3_1, SIAM_3_3_EXAMPLE_3_3, NOT_SIAM_3_3_EXAMPLE_3_5], [SIAM_3_3_EXAMPLE_3_1, SIAM_3_3_EXAMPLE_3_4, NOT_SIAM_3_3_EXAMPLE_3_5]\n",
        "               , [SIAM_3_3_EXAMPLE_3_2, SIAM_3_3_EXAMPLE_3_3, NOT_SIAM_3_3_EXAMPLE_3_5], [SIAM_3_3_EXAMPLE_3_2, SIAM_3_3_EXAMPLE_3_4, NOT_SIAM_3_3_EXAMPLE_3_5]\n",
        "               , [SIAM_3_3_EXAMPLE_3_3, SIAM_3_3_EXAMPLE_3_4, NOT_SIAM_3_3_EXAMPLE_3_5], [SIAM_4_3_EXAMPLE_4_1, SIAM_4_3_EXAMPLE_4_2, NOT_SIAM_4_4_EXAMPLE_4_4]\n",
        "               , [SIAM_4_3_EXAMPLE_4_1, SIAM_4_3_EXAMPLE_4_3, NOT_SIAM_4_4_EXAMPLE_4_4], [SIAM_4_3_EXAMPLE_4_2, SIAM_4_3_EXAMPLE_4_3, NOT_SIAM_4_4_EXAMPLE_4_4]]"
      ],
      "metadata": {
        "id": "AhdUwMyhyL3z"
      },
      "execution_count": null,
      "outputs": []
    },
    {
      "cell_type": "markdown",
      "source": [
        "### Создаем текстовый файл с диалогами из Гугл таблицы"
      ],
      "metadata": {
        "id": "6BAWGeYk07T5"
      }
    },
    {
      "cell_type": "code",
      "source": [
        "from openpyxl import Workbook, load_workbook\n",
        "from io import BytesIO\n",
        "import urllib\n",
        "\n",
        "# Шаг 1: Загрузить xlsx файл из Google Drive\n",
        "google_sheet_url = FIRST_TEXTS[KEY]\n",
        "file = urllib.request.urlopen(google_sheet_url).read()\n",
        "\n",
        "wb=load_workbook(filename=BytesIO(file))\n",
        "sheet_ranges=wb[FIRST_SHEETS[KEY]]\n",
        "\n",
        "# Шаг 2: Извлечь столбец \"text\"\n",
        "with open(\"/content/drive/MyDrive/KIA_DATASET/test0_\" + KEY + \".txt\", \"w\", encoding=\"utf-8\") as f0:\n",
        "    with open(\"/content/drive/MyDrive/KIA_DATASET/test1_\" + KEY + \".txt\", \"w\", encoding=\"utf-8\") as f1:\n",
        "        with open(\"/content/drive/MyDrive/KIA_DATASET/test2_\" + KEY + \".txt\", \"w\", encoding=\"utf-8\") as f2:\n",
        "\n",
        "            text_7_6_5_4_column = \"\"\n",
        "            first = True\n",
        "            for row in sheet_ranges.iter_rows():\n",
        "                if not first and row[6].value is not None:\n",
        "                    text_7_6_5_4_column = str(row[6].value).replace(\"\\n\", \"\").replace(\" \", \"\") + \"|||\" + str(row[5].value).replace(\"\\n\", \"\") + \"|||\" + str(row[4].value).replace(\"\\n\", \"\") + \"|||\" + str(row[3].value).replace(\"\\n\", \"\")\n",
        "                    if text_7_6_5_4_column[0:len(\"Положительное\")] != \"Положительное\" and text_7_6_5_4_column[0:len(\"Нейтральное\")] != \"Нейтральное\":\n",
        "                        f0.write(\"?|||POS_TEST|||\" + str(text_7_6_5_4_column).replace(\"Негативное|||\", \"\") + \"|||\" + str(text_7_6_5_4_column).replace(\"Негативное|||\", \"\") + \"|||...|||...|||...\" + \"\\n\")\n",
        "                        f0.write(\"?|||NEG_TEST|||\" + str(text_7_6_5_4_column).replace(\"Негативное|||\", \"\") + \"|||...|||...|||...\" + \"|||\" + str(text_7_6_5_4_column).replace(\"Негативное|||\", \"\") + \"\\n\")\n",
        "                    if text_7_6_5_4_column[0:len(\"Положительное\")] != \"Положительное\" and text_7_6_5_4_column[0:len(\"Негативное\")] != \"Негативное\":\n",
        "                        f1.write(\"?|||POS_TEST|||\" + str(text_7_6_5_4_column).replace(\"Нейтральное|||\", \"\") + \"|||\" + str(text_7_6_5_4_column).replace(\"Нейтральное|||\", \"\") + \"|||...|||...|||...\" + \"\\n\")\n",
        "                        f1.write(\"?|||NEG_TEST|||\" + str(text_7_6_5_4_column).replace(\"Нейтральное|||\", \"\") + \"|||...|||...|||...\" + \"|||\" + str(text_7_6_5_4_column).replace(\"Нейтральное|||\", \"\") + \"\\n\")\n",
        "                    if text_7_6_5_4_column[0:len(\"Негативное\")] != \"Негативное\" and text_7_6_5_4_column[0:len(\"Нейтральное\")] != \"Нейтральное\":\n",
        "                        f2.write(\"?|||POS_TEST|||\" + str(text_7_6_5_4_column).replace(\"Положительное|||\", \"\") + \"|||\" + str(text_7_6_5_4_column).replace(\"Положительное|||\", \"\") + \"|||...|||...|||...\" + \"\\n\")\n",
        "                        f2.write(\"?|||NEG_TEST|||\" + str(text_7_6_5_4_column).replace(\"Положительное|||\", \"\") + \"|||...|||...|||...\" + \"|||\" + str(text_7_6_5_4_column).replace(\"Положительное|||\", \"\") + \"\\n\")\n",
        "                else:\n",
        "                    first = False\n",
        "\n",
        "# Шаг 3: Сохранить в файл \"test0.txt\" в корне Colab\n",
        "print(\"Файл test0_\" + KEY + \".txt успешно сохранен!\")\n",
        "\n",
        "# Шаг 4: Сохранить в файл \"test1.txt\" в корне Colab\n",
        "print(\"Файл test1_\" + KEY + \".txt успешно сохранен!\")\n",
        "\n",
        "# Шаг 5: Сохранить в файл \"test2.txt\" в корне Colab\n",
        "print(\"Файл test2_\" + KEY + \".txt успешно сохранен!\")"
      ],
      "metadata": {
        "colab": {
          "base_uri": "https://localhost:8080/"
        },
        "id": "3N3QbnkB3DTb",
        "outputId": "6b6c4d4d-6ef2-4b1f-afae-c126f3ae6af6"
      },
      "execution_count": null,
      "outputs": [
        {
          "output_type": "stream",
          "name": "stdout",
          "text": [
            "Файл test0_A.txt успешно сохранен!\n",
            "Файл test1_A.txt успешно сохранен!\n",
            "Файл test2_A.txt успешно сохранен!\n"
          ]
        }
      ]
    },
    {
      "cell_type": "code",
      "source": [
        "with open(\"/content/drive/MyDrive/KIA_DATASET/train_\" + KEY + \".txt\", \"w\", encoding=\"utf-8\") as f:\n",
        "    for t in NOT_SIAM_LIST:\n",
        "         f.write(\"0|||TRAIN|||\"+\"Запчасти и аксессуары|||\"+t[0].replace(\"\\n\", \"\")+\"|||Запчасти и аксессуары|||\"+t[1].replace(\"\\n\", \"\")+\"|||Запчасти и аксессуары|||\"+t[2].replace(\"\\n\", \"\")+\"\\n\")\n",
        "    for t in SIAM_LIST:\n",
        "         f.write(\"1|||TRAIN|||\"+\"Запчасти и аксессуары|||\"+t[0].replace(\"\\n\", \"\")+\"|||Запчасти и аксессуары|||\"+t[1].replace(\"\\n\", \"\")+\"|||Запчасти и аксессуары|||\"+t[2].replace(\"\\n\", \"\")+\"\\n\")"
      ],
      "metadata": {
        "id": "96FHvFfoAU91"
      },
      "execution_count": null,
      "outputs": []
    },
    {
      "cell_type": "markdown",
      "source": [
        "## Просим помощь CHATGPT в написании кода под keras"
      ],
      "metadata": {
        "id": "kOm2w6f8DtAK"
      }
    },
    {
      "cell_type": "code",
      "source": [],
      "metadata": {
        "id": "jLcUI4iohSfL"
      },
      "execution_count": null,
      "outputs": []
    },
    {
      "cell_type": "code",
      "source": [
        "# >>>, [21.10.2023 14:58]\n",
        "# Привет. Знаешь как работает метод Сиамские близнецы? keras.io/examples/vision/siamese_network/ Можешь объяснить? Укажи степень уверенности в ответе.\n",
        "\n",
        "# ChatGPT для Telegram, [21.10.2023 14:57]\n",
        "# Привет! Метод Сиамские близнецы (Siamese network) используется для решения задачи сопоставления (matching) или сравнения (comparison) двух входных изображений. Он основан на нейронных сетях, которые содержат две параллельные ветви, обычно с одинаковой архитектурой и весами, которые разделяются.\n",
        "\n",
        "# Когда два изображения подаются на вход Сиамским близнецам, эти изображения проходят через параллельные ветви сети и сжимаются в векторные представления, называемые эмбеддингами. Затем эмбеддинги сравниваются с использованием различных метрик, таких как евклидово расстояние или косинусное расстояние, чтобы определить степень сходства между двумя изображениями.\n",
        "\n",
        "# Степень уверенности в ответе: высокая.\n",
        "\n",
        "# >>>, [21.10.2023 16:48]\n",
        "# Привет, напиши на python функцию text_classification() с использованием auto_keras библиотеки для датасета https://drive.google.com/file/d/12B7YYHE8PsS2om0RTtiou5AunBMzZyJ2/view?usp=share_link (разделитель ||| и класс 0 или 1 в первом столбце). Напиши юнит тесты. Выведи код из интернете, похожий на твой. Укажи вероятность правильности своего ответа в процентах.\n",
        "\n",
        "# ChatGPT для Telegram, [21.10.2023 16:48]\n",
        "# К сожалению, auto_keras не поддерживает текстовую классификацию напрямую. Он предназначен для автоматизированного выбора и обучения моделей для задачи классификации и регрессии на числовых данных.\n",
        "\n",
        "# Вместо использования auto_keras, вам нужно использовать другие библиотеки, такие как TensorFlow или Keras, для решения задачи текстовой классификации. В следующем блоке кода представлен пример использования TensorFlow и Keras для создания модели текстовой классификации с использованием набора данных, который вы предоставили.\n",
        "\n",
        "# ```python\n",
        "import pandas as pd\n",
        "from tensorflow import keras\n",
        "from tensorflow.keras.preprocessing.text import Tokenizer\n",
        "from tensorflow.keras.preprocessing.sequence import pad_sequences\n",
        "from sklearn.model_selection import train_test_split\n",
        "\n",
        "def text_classification():\n",
        "    # Загрузка данных\n",
        "    df = pd.read_csv('dataset.csv', delimiter='|||', header=None)\n",
        "\n",
        "    # Разделение данных на тексты и метки\n",
        "    texts = df.iloc[:, 1].values\n",
        "    labels = df.iloc[:, 0].values\n",
        "\n",
        "    # Токенизация текстов\n",
        "    tokenizer = Tokenizer()\n",
        "    tokenizer.fit_on_texts(texts)\n",
        "    sequences = tokenizer.texts_to_sequences(texts)\n",
        "\n",
        "    # Приведение текстов к единой длине\n",
        "    max_sequence_length = max([len(seq) for seq in sequences])\n",
        "    padded_sequences = pad_sequences(sequences, maxlen=max_sequence_length)\n",
        "\n",
        "    # Разделение на обучающую и тестовую выборки\n",
        "    X_train, X_test, y_train, y_test = train_test_split(padded_sequences, labels, test_size=0.2, random_state=42)\n",
        "\n",
        "    # Создание модели\n",
        "    model = keras.Sequential([\n",
        "        keras.layers.Embedding(len(tokenizer.word_index) + 1, 100, input_length=max_sequence_length),\n",
        "        keras.layers.GlobalAveragePooling1D(),\n",
        "        keras.layers.Dense(16, activation='relu'),\n",
        "        keras.layers.Dense(1, activation='sigmoid')\n",
        "    ])\n",
        "\n",
        "    # Компиляция и обучение модели\n",
        "    model.compile(optimizer='adam', loss='binary_crossentropy', metrics=['accuracy'])\n",
        "    model.fit(X_train, y_train, epochs=10, validation_data=(X_test, y_test))\n",
        "\n",
        "    # Сохранение модели на диск\n",
        "    model.save('text_classification_model.h5')\n",
        "\n",
        "    return 'text_classification_model.h5'\n",
        "\n",
        "# Юнит-тесты\n",
        "def test_text_classification():\n",
        "    model_filename = text_classification()\n",
        "    assert model_filename == 'text_classification_model.h5'\n",
        "\n",
        "test_text_classification()\n",
        "# ```\n",
        "\n",
        "# Однако вероятность правильности ответа составляет около 95% из-за использования традиционного подхода для задачи текстовой классификации на основе набора данных."
      ],
      "metadata": {
        "id": "lWXC8atLD1bn"
      },
      "execution_count": null,
      "outputs": []
    }
  ],
  "metadata": {
    "colab": {
      "provenance": []
    },
    "kernelspec": {
      "display_name": "Python 3",
      "name": "python3"
    },
    "language_info": {
      "name": "python"
    }
  },
  "nbformat": 4,
  "nbformat_minor": 0
}