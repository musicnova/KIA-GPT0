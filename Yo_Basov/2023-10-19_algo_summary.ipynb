{
  "cells": [
    {
      "cell_type": "code",
      "execution_count": null,
      "metadata": {
        "colab": {
          "base_uri": "https://localhost:8080/"
        },
        "id": "liJtv5K872wH",
        "outputId": "9a471c4b-9793-4581-b7b6-b6baaa382bda"
      },
      "outputs": [
        {
          "name": "stdout",
          "output_type": "stream",
          "text": [
            "Mounted at /content/drive\n"
          ]
        }
      ],
      "source": [
        "# ТЕСТИРОВАНИЕ A10 RELEASE\n",
        "\n",
        "from google.colab import drive\n",
        "drive.mount('/content/drive')"
      ]
    },
    {
      "cell_type": "code",
      "execution_count": null,
      "metadata": {
        "id": "FdzOgOj1BB0I"
      },
      "outputs": [],
      "source": [
        "!rm -rf /content/drive/MyDrive/KIA_TEST/FAISS_KIA_V3"
      ]
    },
    {
      "cell_type": "code",
      "execution_count": null,
      "metadata": {
        "id": "mS7zSmtqBW3B"
      },
      "outputs": [],
      "source": [
        "!mkdir -p /content/drive/MyDrive/KIA_TEST/FAISS_KIA_V3"
      ]
    },
    {
      "cell_type": "code",
      "execution_count": null,
      "metadata": {
        "colab": {
          "base_uri": "https://localhost:8080/"
        },
        "id": "lkFEXz7kFl7B",
        "outputId": "c6076e78-816b-4d7a-b5da-79ac415cb20c"
      },
      "outputs": [
        {
          "name": "stdout",
          "output_type": "stream",
          "text": [
            "Cloning into '/content/drive/MyDrive/KIA_TEST/FAISS_KIA_V3/faiss_a10'...\n",
            "remote: Enumerating objects: 1558, done.\u001b[K\n",
            "remote: Counting objects: 100% (372/372), done.\u001b[K\n",
            "remote: Compressing objects: 100% (143/143), done.\u001b[K\n",
            "remote: Total 1558 (delta 274), reused 281 (delta 227), pack-reused 1186\u001b[K\n",
            "Receiving objects: 100% (1558/1558), 20.03 MiB | 13.44 MiB/s, done.\n",
            "Resolving deltas: 100% (890/890), done.\n",
            "Updating files: 100% (143/143), done.\n"
          ]
        }
      ],
      "source": [
        "!git clone https://github.com/musicnova/KIA-GPT0.git /content/drive/MyDrive/KIA_TEST/FAISS_KIA_V3/faiss_a10"
      ]
    },
    {
      "cell_type": "code",
      "execution_count": null,
      "metadata": {
        "colab": {
          "base_uri": "https://localhost:8080/"
        },
        "id": "dGgKGjO7FxUe",
        "outputId": "960a2c2b-c523-45f9-c9e8-d352d062de98"
      },
      "outputs": [
        {
          "name": "stdout",
          "output_type": "stream",
          "text": [
            "Branch 'faiss/A10' set up to track remote branch 'faiss/A10' from 'origin'.\n",
            "Switched to a new branch 'faiss/A10'\n"
          ]
        }
      ],
      "source": [
        "!(cd /content/drive/MyDrive/KIA_TEST/FAISS_KIA_V3/faiss_a10 && git checkout faiss/A10)"
      ]
    },
    {
      "cell_type": "code",
      "execution_count": null,
      "metadata": {
        "id": "0RMNGOokF21t"
      },
      "outputs": [],
      "source": [
        "!rm -rf faiss"
      ]
    },
    {
      "cell_type": "code",
      "execution_count": null,
      "metadata": {
        "id": "-Uq9DNgJBdTx"
      },
      "outputs": [],
      "source": [
        "!rm -f database.md"
      ]
    },
    {
      "cell_type": "code",
      "execution_count": null,
      "metadata": {
        "id": "Rdcwy4uaG5Kt"
      },
      "outputs": [],
      "source": [
        "!cp -r /content/drive/MyDrive/KIA_TEST/FAISS_KIA_V3/faiss_a10/knowledge/faiss faiss"
      ]
    },
    {
      "cell_type": "code",
      "execution_count": null,
      "metadata": {
        "colab": {
          "base_uri": "https://localhost:8080/"
        },
        "id": "Px-C9C3z72kR",
        "outputId": "83309361-84bd-48ba-cd61-b69227173acc"
      },
      "outputs": [
        {
          "name": "stdout",
          "output_type": "stream",
          "text": [
            "Collecting tiktoken==0.4.0\n",
            "  Downloading tiktoken-0.4.0-cp310-cp310-manylinux_2_17_x86_64.manylinux2014_x86_64.whl (1.7 MB)\n",
            "\u001b[2K     \u001b[90m━━━━━━━━━━━━━━━━━━━━━━━━━━━━━━━━━━━━━━━━\u001b[0m \u001b[32m1.7/1.7 MB\u001b[0m \u001b[31m9.4 MB/s\u001b[0m eta \u001b[36m0:00:00\u001b[0m\n",
            "\u001b[?25hCollecting langchain==0.0.231\n",
            "  Downloading langchain-0.0.231-py3-none-any.whl (1.3 MB)\n",
            "\u001b[2K     \u001b[90m━━━━━━━━━━━━━━━━━━━━━━━━━━━━━━━━━━━━━━━━\u001b[0m \u001b[32m1.3/1.3 MB\u001b[0m \u001b[31m7.7 MB/s\u001b[0m eta \u001b[36m0:00:00\u001b[0m\n",
            "\u001b[?25hCollecting openai==0.27.8\n",
            "  Downloading openai-0.27.8-py3-none-any.whl (73 kB)\n",
            "\u001b[2K     \u001b[90m━━━━━━━━━━━━━━━━━━━━━━━━━━━━━━━━━━━━━━━━\u001b[0m \u001b[32m73.6/73.6 kB\u001b[0m \u001b[31m7.4 MB/s\u001b[0m eta \u001b[36m0:00:00\u001b[0m\n",
            "\u001b[?25hCollecting faiss-cpu==1.7.4\n",
            "  Downloading faiss_cpu-1.7.4-cp310-cp310-manylinux_2_17_x86_64.manylinux2014_x86_64.whl (17.6 MB)\n",
            "\u001b[2K     \u001b[90m━━━━━━━━━━━━━━━━━━━━━━━━━━━━━━━━━━━━━━━━\u001b[0m \u001b[32m17.6/17.6 MB\u001b[0m \u001b[31m37.6 MB/s\u001b[0m eta \u001b[36m0:00:00\u001b[0m\n",
            "\u001b[?25hRequirement already satisfied: gspread in /usr/local/lib/python3.10/dist-packages (3.4.2)\n",
            "Requirement already satisfied: oauth2client in /usr/local/lib/python3.10/dist-packages (4.1.3)\n",
            "Requirement already satisfied: nltk in /usr/local/lib/python3.10/dist-packages (3.8.1)\n",
            "Collecting pydantic==1.10.8\n",
            "  Downloading pydantic-1.10.8-cp310-cp310-manylinux_2_17_x86_64.manylinux2014_x86_64.whl (3.1 MB)\n",
            "\u001b[2K     \u001b[90m━━━━━━━━━━━━━━━━━━━━━━━━━━━━━━━━━━━━━━━━\u001b[0m \u001b[32m3.1/3.1 MB\u001b[0m \u001b[31m53.8 MB/s\u001b[0m eta \u001b[36m0:00:00\u001b[0m\n",
            "\u001b[?25hRequirement already satisfied: regex>=2022.1.18 in /usr/local/lib/python3.10/dist-packages (from tiktoken==0.4.0) (2023.6.3)\n",
            "Requirement already satisfied: requests>=2.26.0 in /usr/local/lib/python3.10/dist-packages (from tiktoken==0.4.0) (2.31.0)\n",
            "Requirement already satisfied: PyYAML>=5.4.1 in /usr/local/lib/python3.10/dist-packages (from langchain==0.0.231) (6.0.1)\n",
            "Requirement already satisfied: SQLAlchemy<3,>=1.4 in /usr/local/lib/python3.10/dist-packages (from langchain==0.0.231) (2.0.21)\n",
            "Requirement already satisfied: aiohttp<4.0.0,>=3.8.3 in /usr/local/lib/python3.10/dist-packages (from langchain==0.0.231) (3.8.6)\n",
            "Requirement already satisfied: async-timeout<5.0.0,>=4.0.0 in /usr/local/lib/python3.10/dist-packages (from langchain==0.0.231) (4.0.3)\n",
            "Collecting dataclasses-json<0.6.0,>=0.5.7 (from langchain==0.0.231)\n",
            "  Downloading dataclasses_json-0.5.14-py3-none-any.whl (26 kB)\n",
            "Collecting langchainplus-sdk<0.0.21,>=0.0.20 (from langchain==0.0.231)\n",
            "  Downloading langchainplus_sdk-0.0.20-py3-none-any.whl (25 kB)\n",
            "Requirement already satisfied: numexpr<3.0.0,>=2.8.4 in /usr/local/lib/python3.10/dist-packages (from langchain==0.0.231) (2.8.7)\n",
            "Requirement already satisfied: numpy<2,>=1 in /usr/local/lib/python3.10/dist-packages (from langchain==0.0.231) (1.23.5)\n",
            "Collecting openapi-schema-pydantic<2.0,>=1.2 (from langchain==0.0.231)\n",
            "  Downloading openapi_schema_pydantic-1.2.4-py3-none-any.whl (90 kB)\n",
            "\u001b[2K     \u001b[90m━━━━━━━━━━━━━━━━━━━━━━━━━━━━━━━━━━━━━━━━\u001b[0m \u001b[32m90.0/90.0 kB\u001b[0m \u001b[31m9.7 MB/s\u001b[0m eta \u001b[36m0:00:00\u001b[0m\n",
            "\u001b[?25hRequirement already satisfied: tenacity<9.0.0,>=8.1.0 in /usr/local/lib/python3.10/dist-packages (from langchain==0.0.231) (8.2.3)\n",
            "Requirement already satisfied: tqdm in /usr/local/lib/python3.10/dist-packages (from openai==0.27.8) (4.66.1)\n",
            "Requirement already satisfied: typing-extensions>=4.2.0 in /usr/local/lib/python3.10/dist-packages (from pydantic==1.10.8) (4.5.0)\n",
            "Requirement already satisfied: google-auth in /usr/local/lib/python3.10/dist-packages (from gspread) (2.17.3)\n",
            "Requirement already satisfied: httplib2>=0.9.1 in /usr/local/lib/python3.10/dist-packages (from oauth2client) (0.22.0)\n",
            "Requirement already satisfied: pyasn1>=0.1.7 in /usr/local/lib/python3.10/dist-packages (from oauth2client) (0.5.0)\n",
            "Requirement already satisfied: pyasn1-modules>=0.0.5 in /usr/local/lib/python3.10/dist-packages (from oauth2client) (0.3.0)\n",
            "Requirement already satisfied: rsa>=3.1.4 in /usr/local/lib/python3.10/dist-packages (from oauth2client) (4.9)\n",
            "Requirement already satisfied: six>=1.6.1 in /usr/local/lib/python3.10/dist-packages (from oauth2client) (1.16.0)\n",
            "Requirement already satisfied: click in /usr/local/lib/python3.10/dist-packages (from nltk) (8.1.7)\n",
            "Requirement already satisfied: joblib in /usr/local/lib/python3.10/dist-packages (from nltk) (1.3.2)\n",
            "Requirement already satisfied: attrs>=17.3.0 in /usr/local/lib/python3.10/dist-packages (from aiohttp<4.0.0,>=3.8.3->langchain==0.0.231) (23.1.0)\n",
            "Requirement already satisfied: charset-normalizer<4.0,>=2.0 in /usr/local/lib/python3.10/dist-packages (from aiohttp<4.0.0,>=3.8.3->langchain==0.0.231) (3.3.0)\n",
            "Requirement already satisfied: multidict<7.0,>=4.5 in /usr/local/lib/python3.10/dist-packages (from aiohttp<4.0.0,>=3.8.3->langchain==0.0.231) (6.0.4)\n",
            "Requirement already satisfied: yarl<2.0,>=1.0 in /usr/local/lib/python3.10/dist-packages (from aiohttp<4.0.0,>=3.8.3->langchain==0.0.231) (1.9.2)\n",
            "Requirement already satisfied: frozenlist>=1.1.1 in /usr/local/lib/python3.10/dist-packages (from aiohttp<4.0.0,>=3.8.3->langchain==0.0.231) (1.4.0)\n",
            "Requirement already satisfied: aiosignal>=1.1.2 in /usr/local/lib/python3.10/dist-packages (from aiohttp<4.0.0,>=3.8.3->langchain==0.0.231) (1.3.1)\n",
            "Collecting marshmallow<4.0.0,>=3.18.0 (from dataclasses-json<0.6.0,>=0.5.7->langchain==0.0.231)\n",
            "  Downloading marshmallow-3.20.1-py3-none-any.whl (49 kB)\n",
            "\u001b[2K     \u001b[90m━━━━━━━━━━━━━━━━━━━━━━━━━━━━━━━━━━━━━━━━\u001b[0m \u001b[32m49.4/49.4 kB\u001b[0m \u001b[31m5.8 MB/s\u001b[0m eta \u001b[36m0:00:00\u001b[0m\n",
            "\u001b[?25hCollecting typing-inspect<1,>=0.4.0 (from dataclasses-json<0.6.0,>=0.5.7->langchain==0.0.231)\n",
            "  Downloading typing_inspect-0.9.0-py3-none-any.whl (8.8 kB)\n",
            "Requirement already satisfied: pyparsing!=3.0.0,!=3.0.1,!=3.0.2,!=3.0.3,<4,>=2.4.2 in /usr/local/lib/python3.10/dist-packages (from httplib2>=0.9.1->oauth2client) (3.1.1)\n",
            "Requirement already satisfied: idna<4,>=2.5 in /usr/local/lib/python3.10/dist-packages (from requests>=2.26.0->tiktoken==0.4.0) (3.4)\n",
            "Requirement already satisfied: urllib3<3,>=1.21.1 in /usr/local/lib/python3.10/dist-packages (from requests>=2.26.0->tiktoken==0.4.0) (2.0.6)\n",
            "Requirement already satisfied: certifi>=2017.4.17 in /usr/local/lib/python3.10/dist-packages (from requests>=2.26.0->tiktoken==0.4.0) (2023.7.22)\n",
            "Requirement already satisfied: greenlet!=0.4.17 in /usr/local/lib/python3.10/dist-packages (from SQLAlchemy<3,>=1.4->langchain==0.0.231) (3.0.0)\n",
            "Requirement already satisfied: cachetools<6.0,>=2.0.0 in /usr/local/lib/python3.10/dist-packages (from google-auth->gspread) (5.3.1)\n",
            "Requirement already satisfied: packaging>=17.0 in /usr/local/lib/python3.10/dist-packages (from marshmallow<4.0.0,>=3.18.0->dataclasses-json<0.6.0,>=0.5.7->langchain==0.0.231) (23.2)\n",
            "Collecting mypy-extensions>=0.3.0 (from typing-inspect<1,>=0.4.0->dataclasses-json<0.6.0,>=0.5.7->langchain==0.0.231)\n",
            "  Downloading mypy_extensions-1.0.0-py3-none-any.whl (4.7 kB)\n",
            "Installing collected packages: faiss-cpu, pydantic, mypy-extensions, marshmallow, typing-inspect, tiktoken, openapi-schema-pydantic, langchainplus-sdk, openai, dataclasses-json, langchain\n",
            "  Attempting uninstall: pydantic\n",
            "    Found existing installation: pydantic 1.10.13\n",
            "    Uninstalling pydantic-1.10.13:\n",
            "      Successfully uninstalled pydantic-1.10.13\n",
            "Successfully installed dataclasses-json-0.5.14 faiss-cpu-1.7.4 langchain-0.0.231 langchainplus-sdk-0.0.20 marshmallow-3.20.1 mypy-extensions-1.0.0 openai-0.27.8 openapi-schema-pydantic-1.2.4 pydantic-1.10.8 tiktoken-0.4.0 typing-inspect-0.9.0\n"
          ]
        }
      ],
      "source": [
        "!pip  install  tiktoken==0.4.0  langchain==0.0.231 openai==0.27.8 faiss-cpu==1.7.4 gspread oauth2client nltk pydantic==1.10.8"
      ]
    },
    {
      "cell_type": "markdown",
      "metadata": {
        "id": "8l6EU0C7uUFp"
      },
      "source": [
        "## Собрать новую базу FAISS"
      ]
    },
    {
      "cell_type": "code",
      "execution_count": null,
      "metadata": {
        "id": "YnSehGphiewU"
      },
      "outputs": [],
      "source": [
        "from langchain.text_splitter import MarkdownHeaderTextSplitter\n",
        "import re\n",
        "from langchain.vectorstores import FAISS\n",
        "\n",
        "def load_file_knowledge(file_path: str) -> str:\n",
        "    # Чтение текстового файла\n",
        "    with open(file_path, 'r', encoding='utf-8') as file:\n",
        "        text = file.read()\n",
        "\n",
        "    headers_to_split_on = [\n",
        "        (\"#\", \"Header 1\"),\n",
        "        (\"##\", \"Header 2\"),\n",
        "        (\"###\", \"Header 3\"),\n",
        "        (\"####\", \"Header 4\"),\n",
        "    ]\n",
        "\n",
        "    markdown_splitter = MarkdownHeaderTextSplitter(headers_to_split_on=headers_to_split_on)\n",
        "    md_header_splits = markdown_splitter.split_text(text)\n",
        "\n",
        "    # Предполагается, что FAISS и OpenAIEmbeddings были импортированы или определены где-то выше\n",
        "    vectordateBase = FAISS.from_documents(md_header_splits, OpenAIEmbeddings())\n",
        "    vectordateBase.save_local(\"faiss\")\n",
        "\n",
        "    return\n",
        "\n"
      ]
    },
    {
      "cell_type": "code",
      "execution_count": null,
      "metadata": {
        "id": "9CrXhbfVqtP_"
      },
      "outputs": [],
      "source": [
        "# load_file_knowledge('database.md')\n",
        "# БД сохранитсья в коллабе в папке faiss нужно подождать какое-то время"
      ]
    },
    {
      "cell_type": "markdown",
      "metadata": {
        "id": "QsFGkXMMwcX3"
      },
      "source": [
        "## Проверка чанков **БЕЗ** сбора нового файла FAISS **БЕЗ** обращения к OpenAI\n"
      ]
    },
    {
      "cell_type": "code",
      "execution_count": null,
      "metadata": {
        "colab": {
          "base_uri": "https://localhost:8080/"
        },
        "id": "-nH2KyinoxhE",
        "outputId": "5e36bc0b-d0b8-44df-9046-df3733f7ae0b"
      },
      "outputs": [
        {
          "name": "stdout",
          "output_type": "stream",
          "text": [
            "Requirement already satisfied: tiktoken==0.4.0 in /usr/local/lib/python3.10/dist-packages (0.4.0)\n",
            "Requirement already satisfied: langchain==0.0.231 in /usr/local/lib/python3.10/dist-packages (0.0.231)\n",
            "Requirement already satisfied: openai==0.27.8 in /usr/local/lib/python3.10/dist-packages (0.27.8)\n",
            "Requirement already satisfied: faiss-cpu==1.7.4 in /usr/local/lib/python3.10/dist-packages (1.7.4)\n",
            "Requirement already satisfied: gspread in /usr/local/lib/python3.10/dist-packages (3.4.2)\n",
            "Requirement already satisfied: oauth2client in /usr/local/lib/python3.10/dist-packages (4.1.3)\n",
            "Requirement already satisfied: nltk in /usr/local/lib/python3.10/dist-packages (3.8.1)\n",
            "Requirement already satisfied: pydantic==1.10.8 in /usr/local/lib/python3.10/dist-packages (1.10.8)\n",
            "Requirement already satisfied: regex>=2022.1.18 in /usr/local/lib/python3.10/dist-packages (from tiktoken==0.4.0) (2023.6.3)\n",
            "Requirement already satisfied: requests>=2.26.0 in /usr/local/lib/python3.10/dist-packages (from tiktoken==0.4.0) (2.31.0)\n",
            "Requirement already satisfied: PyYAML>=5.4.1 in /usr/local/lib/python3.10/dist-packages (from langchain==0.0.231) (6.0.1)\n",
            "Requirement already satisfied: SQLAlchemy<3,>=1.4 in /usr/local/lib/python3.10/dist-packages (from langchain==0.0.231) (2.0.21)\n",
            "Requirement already satisfied: aiohttp<4.0.0,>=3.8.3 in /usr/local/lib/python3.10/dist-packages (from langchain==0.0.231) (3.8.6)\n",
            "Requirement already satisfied: async-timeout<5.0.0,>=4.0.0 in /usr/local/lib/python3.10/dist-packages (from langchain==0.0.231) (4.0.3)\n",
            "Requirement already satisfied: dataclasses-json<0.6.0,>=0.5.7 in /usr/local/lib/python3.10/dist-packages (from langchain==0.0.231) (0.5.14)\n",
            "Requirement already satisfied: langchainplus-sdk<0.0.21,>=0.0.20 in /usr/local/lib/python3.10/dist-packages (from langchain==0.0.231) (0.0.20)\n",
            "Requirement already satisfied: numexpr<3.0.0,>=2.8.4 in /usr/local/lib/python3.10/dist-packages (from langchain==0.0.231) (2.8.7)\n",
            "Requirement already satisfied: numpy<2,>=1 in /usr/local/lib/python3.10/dist-packages (from langchain==0.0.231) (1.23.5)\n",
            "Requirement already satisfied: openapi-schema-pydantic<2.0,>=1.2 in /usr/local/lib/python3.10/dist-packages (from langchain==0.0.231) (1.2.4)\n",
            "Requirement already satisfied: tenacity<9.0.0,>=8.1.0 in /usr/local/lib/python3.10/dist-packages (from langchain==0.0.231) (8.2.3)\n",
            "Requirement already satisfied: tqdm in /usr/local/lib/python3.10/dist-packages (from openai==0.27.8) (4.66.1)\n",
            "Requirement already satisfied: typing-extensions>=4.2.0 in /usr/local/lib/python3.10/dist-packages (from pydantic==1.10.8) (4.5.0)\n",
            "Requirement already satisfied: google-auth in /usr/local/lib/python3.10/dist-packages (from gspread) (2.17.3)\n",
            "Requirement already satisfied: httplib2>=0.9.1 in /usr/local/lib/python3.10/dist-packages (from oauth2client) (0.22.0)\n",
            "Requirement already satisfied: pyasn1>=0.1.7 in /usr/local/lib/python3.10/dist-packages (from oauth2client) (0.5.0)\n",
            "Requirement already satisfied: pyasn1-modules>=0.0.5 in /usr/local/lib/python3.10/dist-packages (from oauth2client) (0.3.0)\n",
            "Requirement already satisfied: rsa>=3.1.4 in /usr/local/lib/python3.10/dist-packages (from oauth2client) (4.9)\n",
            "Requirement already satisfied: six>=1.6.1 in /usr/local/lib/python3.10/dist-packages (from oauth2client) (1.16.0)\n",
            "Requirement already satisfied: click in /usr/local/lib/python3.10/dist-packages (from nltk) (8.1.7)\n",
            "Requirement already satisfied: joblib in /usr/local/lib/python3.10/dist-packages (from nltk) (1.3.2)\n",
            "Requirement already satisfied: attrs>=17.3.0 in /usr/local/lib/python3.10/dist-packages (from aiohttp<4.0.0,>=3.8.3->langchain==0.0.231) (23.1.0)\n",
            "Requirement already satisfied: charset-normalizer<4.0,>=2.0 in /usr/local/lib/python3.10/dist-packages (from aiohttp<4.0.0,>=3.8.3->langchain==0.0.231) (3.3.0)\n",
            "Requirement already satisfied: multidict<7.0,>=4.5 in /usr/local/lib/python3.10/dist-packages (from aiohttp<4.0.0,>=3.8.3->langchain==0.0.231) (6.0.4)\n",
            "Requirement already satisfied: yarl<2.0,>=1.0 in /usr/local/lib/python3.10/dist-packages (from aiohttp<4.0.0,>=3.8.3->langchain==0.0.231) (1.9.2)\n",
            "Requirement already satisfied: frozenlist>=1.1.1 in /usr/local/lib/python3.10/dist-packages (from aiohttp<4.0.0,>=3.8.3->langchain==0.0.231) (1.4.0)\n",
            "Requirement already satisfied: aiosignal>=1.1.2 in /usr/local/lib/python3.10/dist-packages (from aiohttp<4.0.0,>=3.8.3->langchain==0.0.231) (1.3.1)\n",
            "Requirement already satisfied: marshmallow<4.0.0,>=3.18.0 in /usr/local/lib/python3.10/dist-packages (from dataclasses-json<0.6.0,>=0.5.7->langchain==0.0.231) (3.20.1)\n",
            "Requirement already satisfied: typing-inspect<1,>=0.4.0 in /usr/local/lib/python3.10/dist-packages (from dataclasses-json<0.6.0,>=0.5.7->langchain==0.0.231) (0.9.0)\n",
            "Requirement already satisfied: pyparsing!=3.0.0,!=3.0.1,!=3.0.2,!=3.0.3,<4,>=2.4.2 in /usr/local/lib/python3.10/dist-packages (from httplib2>=0.9.1->oauth2client) (3.1.1)\n",
            "Requirement already satisfied: idna<4,>=2.5 in /usr/local/lib/python3.10/dist-packages (from requests>=2.26.0->tiktoken==0.4.0) (3.4)\n",
            "Requirement already satisfied: urllib3<3,>=1.21.1 in /usr/local/lib/python3.10/dist-packages (from requests>=2.26.0->tiktoken==0.4.0) (2.0.6)\n",
            "Requirement already satisfied: certifi>=2017.4.17 in /usr/local/lib/python3.10/dist-packages (from requests>=2.26.0->tiktoken==0.4.0) (2023.7.22)\n",
            "Requirement already satisfied: greenlet!=0.4.17 in /usr/local/lib/python3.10/dist-packages (from SQLAlchemy<3,>=1.4->langchain==0.0.231) (3.0.0)\n",
            "Requirement already satisfied: cachetools<6.0,>=2.0.0 in /usr/local/lib/python3.10/dist-packages (from google-auth->gspread) (5.3.1)\n",
            "Requirement already satisfied: packaging>=17.0 in /usr/local/lib/python3.10/dist-packages (from marshmallow<4.0.0,>=3.18.0->dataclasses-json<0.6.0,>=0.5.7->langchain==0.0.231) (23.2)\n",
            "Requirement already satisfied: mypy-extensions>=0.3.0 in /usr/local/lib/python3.10/dist-packages (from typing-inspect<1,>=0.4.0->dataclasses-json<0.6.0,>=0.5.7->langchain==0.0.231) (1.0.0)\n"
          ]
        }
      ],
      "source": [
        "!pip  install  tiktoken==0.4.0  langchain==0.0.231 openai==0.27.8 faiss-cpu==1.7.4 gspread oauth2client nltk pydantic==1.10.8"
      ]
    },
    {
      "cell_type": "code",
      "execution_count": null,
      "metadata": {
        "id": "wNTJkb02qexK"
      },
      "outputs": [],
      "source": [
        "import gdown\n",
        "from langchain.llms import OpenAI\n",
        "from langchain.docstore.document import Document\n",
        "import requests\n",
        "#database\n",
        "from langchain.embeddings.openai import OpenAIEmbeddings\n",
        "from langchain.vectorstores import FAISS\n",
        "from langchain.text_splitter import RecursiveCharacterTextSplitter\n",
        "#from langchain.document_loaders import TextLoader\n",
        "\n",
        "from langchain.prompts import PromptTemplate\n",
        "import pathlib\n",
        "import subprocess\n",
        "import tempfile\n",
        "import ipywidgets as widgets\n",
        "import gspread\n",
        "from oauth2client.service_account import ServiceAccountCredentials\n",
        "import re\n",
        "import getpass\n",
        "import os\n",
        "import openai\n",
        "import tiktoken\n",
        "\n",
        "class bcolors:\n",
        "    HEADER = '\\033[95m'\n",
        "    OKBLUE = '\\033[94m'\n",
        "    OKCYAN = '\\033[96m'\n",
        "    OKGREEN = '\\033[92m'\n",
        "    WARNING = '\\033[93m'\n",
        "    FAIL = '\\033[91m'\n",
        "    ENDC = '\\033[0m'\n",
        "    BOLD = '\\033[1m'\n",
        "    UNDERLINE = '\\033[4m'\n",
        "\n",
        "\n",
        "HISTORY = []"
      ]
    },
    {
      "cell_type": "code",
      "execution_count": null,
      "metadata": {
        "id": "JGGCoN9RNAmm"
      },
      "outputs": [],
      "source": [
        "MODEL_GPT_3_5_TURBO_16K = ['gpt-3.5-turbo-16k', 0.003, 0.004]\n",
        "MODEL_GPT_3_5_TURBO = ['gpt-3.5-turbo', 0.0015, 0.002]  # 4,097 tokens\n",
        "MODEL_GPT_4 = ['gpt-4', 0.03, 0.06]  # 8,192 tokens\n",
        "SELECT_MODEL_GPT = MODEL_GPT_3_5_TURBO_16K"
      ]
    },
    {
      "cell_type": "code",
      "execution_count": null,
      "metadata": {
        "colab": {
          "base_uri": "https://localhost:8080/"
        },
        "id": "jSdHAWANqs7C",
        "outputId": "72986ae6-a13e-47e7-f1ed-c945fafd7f78"
      },
      "outputs": [
        {
          "name": "stdout",
          "output_type": "stream",
          "text": [
            "OpenAI API Key:··········\n"
          ]
        }
      ],
      "source": [
        "openai_key = getpass.getpass(\"OpenAI API Key:\")\n",
        "os.environ[\"OPENAI_API_KEY\"] = openai_key\n",
        "openai.api_key = openai_key"
      ]
    },
    {
      "cell_type": "code",
      "execution_count": null,
      "metadata": {
        "id": "XdiDI_MZwHKm"
      },
      "outputs": [],
      "source": [
        "# Загружаем векторный файл базы знаний! В коллаб надо в папку faiss загрузить 2 файла\n",
        "\n",
        "knowledge_only_langchain = FAISS.load_local(\"faiss\", OpenAIEmbeddings())"
      ]
    },
    {
      "cell_type": "code",
      "execution_count": null,
      "metadata": {
        "id": "eJG2gn2UNapo"
      },
      "outputs": [],
      "source": [
        "def insert_newlines(textstr: str, max_len: int = 170) -> str:\n",
        "    words = textstr.split()\n",
        "    lines = []\n",
        "    current_line = \"\"\n",
        "    for word in words:\n",
        "        if len(current_line + \" \" + word) > max_len:\n",
        "            lines.append(current_line)\n",
        "            current_line = \"\"\n",
        "        current_line += \" \" + word\n",
        "    lines.append(current_line)\n",
        "    return \"\\n\".join(lines)"
      ]
    },
    {
      "cell_type": "code",
      "execution_count": null,
      "metadata": {
        "id": "Qzkek3SlNaj9"
      },
      "outputs": [],
      "source": [
        "# функция для загрузки документа по ссылке из гугл драйв\n",
        "def load_document_text(url: str) -> str:\n",
        "    # Extract the document ID from the URL\n",
        "    match_ = re.search('/document/d/([a-zA-Z0-9-_]+)', url)\n",
        "    if match_ is None:\n",
        "        raise ValueError('Invalid Google Docs URL')\n",
        "    doc_id = match_.group(1)\n",
        "\n",
        "    # Download the document as plain text\n",
        "    response = requests.get(f'https://docs.google.com/document/d/{doc_id}/export?format=txt')\n",
        "    response.raise_for_status()\n",
        "    text = response.text\n",
        "\n",
        "    return text"
      ]
    },
    {
      "cell_type": "code",
      "execution_count": null,
      "metadata": {
        "id": "dsEKLyifvEto"
      },
      "outputs": [],
      "source": [
        "def _summarize_topic( dialog):\n",
        "        messages = [\n",
        "            {\"role\": \"system\",\n",
        "             \"content\": \"Ты - ассистент консультанта, основанный на AI. Ты умеешь профессионально суммаризировать присланные тебе диалоги консультанта и клиента. Твоя задача - суммаризировать диалог, который тебе пришел.\"},\n",
        "            {\"role\": \"user\",\n",
        "             \"content\": \"Суммаризируй следующий диалог консультанта и клиента: \" + \" \".join(dialog)}\n",
        "        ]\n",
        "\n",
        "        completion = openai.ChatCompletion.create(\n",
        "            model=SELECT_MODEL_GPT[0],\n",
        "            messages=messages,\n",
        "            temperature=0.1,  # Используем более низкую температуру для более определенной суммаризации\n",
        "            max_tokens=1000  # Ограничиваем количество токенов для суммаризации\n",
        "        )\n",
        "\n",
        "        return completion.choices[0].message.content\n",
        "\n",
        "\n",
        "\n",
        "def answer_index(knowledge_base, topic, temp=0.1, top_similar_documents=5):\n",
        "        summarize_text = ''\n",
        "        if len(HISTORY) > 0:\n",
        "            summarize_text = \"Вот краткий обзор предыдущего диалога: \" + _summarize_topic(\n",
        "                [q + ' ' + (a if a is not None else '') for q, a in HISTORY])\n",
        "            print(f'САММАРИ \\n=== {summarize_text} \\n')\n",
        "\n",
        "        # Добавляем явное разделение между историей диалога и текущим вопросом\n",
        "        input_text = summarize_text + \"\\n\\nТекущий вопрос: \" + topic\n",
        "\n",
        "        docs = knowledge_base.similarity_search_with_score(topic, k=top_similar_documents)\n",
        "        responses = []\n",
        "        for i, (doc, score) in enumerate(docs):\n",
        "            if score < 1: # ТУТ ТЫ МОЖЕШЬ УПРАВЛЯТЬ праметром Л2 для чанков. 0..1\n",
        "                content = doc.page_content\n",
        "                response = f'\\n=====================Отрывок документа №{i + 1}=====================\\n{content}\\n'\n",
        "                print(f'\\n=====================Отрывок документа №{i + 1}=====================\\n')\n",
        "                print(f'=== score = {score}  Metadata документа ------------ {doc.metadata}')\n",
        "                print(f'\\n{content}\\n')\n",
        "                responses.append(response)\n",
        "\n",
        "\n",
        "        messages = [\n",
        "            {\"role\": \"system\", \"content\": prompt},\n",
        "            {\"role\": \"user\",\n",
        "             \"content\": f\"Документ с информацией для ответа пользователю: {responses}\\n\\nВопрос клиента: \\n{input_text}\"}\n",
        "        ]\n",
        "\n",
        "        completion = openai.ChatCompletion.create(\n",
        "            model=SELECT_MODEL_GPT[0],\n",
        "            messages=messages,\n",
        "            temperature=temp\n",
        "        )\n",
        "\n",
        "        answer = completion.choices[0].message.content\n",
        "\n",
        "        # Добавляем вопрос пользователя и ответ системы в историю\n",
        "        HISTORY.append((topic, answer if answer is not None else ''))\n",
        "\n",
        "        return insert_newlines(answer)  # возвращает ответ\n"
      ]
    },
    {
      "cell_type": "code",
      "execution_count": null,
      "metadata": {
        "id": "g8N4WuC7qtKO"
      },
      "outputs": [],
      "source": [
        "def run_dialog(system_doc_url, knowledge_base_url):\n",
        "    topic = 'Приветствую, я нейро-помощник KIA. Подскажите, какая у Вас марка машины? Как я могу к Вам обращаться?'\n",
        "    print('\\nМенеджер: ', topic+'\\n\\n')\n",
        "    user_question = input('\\nКлиент: ')\n",
        "    answer = answer_index(knowledge_base_url, user_question)\n",
        "    HISTORY.append((topic, answer if answer is not None else ''))\n",
        "    print('\\nМенеджер: ', 'Какая Вам требуется помощь?'+'\\n\\n')\n",
        "    while True:\n",
        "        user_question = input('\\nКлиент: ')\n",
        "        if ((user_question.lower() == 'stop') or (user_question.lower() == 'стоп')):\n",
        "            break\n",
        "        answer = answer_index(knowledge_base_url, user_question)\n",
        "        print('\\nМенеджер: ', answer+'\\n\\n')\n",
        "\n",
        "    return"
      ]
    },
    {
      "cell_type": "code",
      "execution_count": null,
      "metadata": {
        "id": "YCBakZx6qtVM"
      },
      "outputs": [],
      "source": [
        "# Промпт моделей машин\n",
        "prompt = load_document_text ('https://docs.google.com/document/d/1i8HA7cX4Ut-tb9rf8wOgERU7lLe66xJYscizGtSSJl0')"
      ]
    },
    {
      "cell_type": "code",
      "execution_count": null,
      "metadata": {
        "colab": {
          "background_save": true,
          "base_uri": "https://localhost:8080/"
        },
        "id": "WWY1AS2GvTN5",
        "outputId": "8146f524-0a6d-4669-e140-621efa4c9ed1"
      },
      "outputs": [
        {
          "name": "stdout",
          "output_type": "stream",
          "text": [
            "\n",
            "Менеджер:  Приветствую, я нейро-помощник KIA. Подскажите, какая у Вас марка машины? Как я могу к Вам обращаться?\n",
            "\n",
            "\n",
            "\n",
            "=====================Отрывок документа №1=====================\n",
            "\n",
            "=== score = 0.23519188165664673  Metadata документа ------------ {'Header 1': 'models', 'Header 2': 'Kia Carnival 2022', 'Header 3': 'Территория стиля и комфорта'}\n",
            "\n",
            "Территория стиля и комфорта\n",
            "Что перед вами? Роскошный и брутальный кроссовер? Солидный и практичный семейный автомобиль? Высокотехнологичное средство передвижения или просторный и комфортный пати-вэн для большой компании? Kia Carnival совмещает все это и готов удивлять вас долгие годы.\n",
            "Фото https://cdn.kia.ru/resize/1920x960/media-data/infographic/file/b32628c8-1d7d-401c-a57a-1169c5700dcf.jpeg\n",
            "\n",
            "\n",
            "=====================Отрывок документа №2=====================\n",
            "\n",
            "=== score = 0.2443714141845703  Metadata документа ------------ {'Header 1': 'models', 'Header 2': 'Kia Carnival 2022', 'Header 3': 'Комплектации', 'Header 4': 'Комплектация: Kia Carnival Prestige 3.5 MPI / 249 л.с. / Бензин / Автомат, 8AT / Передний привод'}\n",
            "\n",
            "Комплектация: Kia Carnival Prestige 3.5 MPI / 249 л.с. / Бензин / Автомат, 8AT / Передний привод\n",
            "Цена: 4 934 900 ₽\n",
            "Стандартное оборудование : Светодиодные дневные ходовые огни, Дополнительный светодиодный стоп-сигнал, Два разъёма USB для зарядки мобильных устройств в передней панели, Разъём USB для зарядки мобильных устройств в боковой части спинки передних сидений, Дополнительная розетка 12V в багажном отделении, Крепления для детского кресла ISOFIX на втором и третьем ряду сидений, Система помощи при старте на подъёме (HAC), Система активного управления стабилизацией (VSM), Фронтальные подушки безопасности, Передние боковые подушки и шторки безопасности, Коленная подушка безопасности водителя, Крепления для детского кресла ISOFIX на втором и третьем ряду сидений, Система экстренной связи ЭРА-ГЛОНАСС, Система контроля давления в шинах (TPMS), Запасное колесо временного использования, Круиз-контроль, Механическая регулировка сидений второго ряда в продольном направлении, Сиденья третьего ряда со спинками, складывающимися в пол в соотношении 60:40, Bluetooth для подключения мобильных устройств , Регулировка рулевой колонки по высоте и вылету, Система выбора режима движения (Drive Mode Select), Электрический стояночный тормоз (EPB)\n",
            "Опции комплектации : Сдвижные задние боковые двери с электроприводом и дистанционным управлением, Интеллектуальная система открывания багажника и сдвижных задних боковых дверей , Решетка радиатора с отделкой хромом, Задняя стойка с отделкой хромом, Рейлинги на крыше, Светодиодные противотуманные фары, Светодиодные задние фонари , Проекционные светодиодные фары, Сиденья с отделкой искусственной кожей, Рулевое колесо с отделкой кожей*, Органайзер в боковой панели багажника, Сетка для крепления багажа, Передняя панель с отделкой вставками под текстуру дерева, Система предупреждения о столкновении с автомобилем в слепой зоне (BCW), Система предупреждения бокового столкновения при выезде с парковки задним ходом (RCCW), Система безопасного выхода из автомобиля (SEW), Климат-контроль для второго и третьего ряда сидений , Передние и задние стеклоподъёмники с функцией Auto, Система бесключевого доступа Smart Key и запуск двигателя кнопкой, Дистанционный запуск двигателя с ключа, Телематические сервисы Kia Connect**, Розетка 220в в центральной консоли, Беспроводная зарядка для мобильных устройств , Задние датчики парковки, Передние датчики парковки, Салонное зеркало заднего вида с автоматическим затемнением, Напоминание о пассажирах на заднем ряду (ROA), Электрорегулировка сиденья водителя в 10 направлениях, Камера для общения с пассажирами второго и третьего ряда, Навигационная система 12,3'' с поддержкой Apple Carplay и Android Auto, Электропривод складывания боковых зеркал заднего вида, Солнцезащитные шторки для пассажиров второго и третьего рядов, 3 отдельных сиденья второго ряда, съемные, с возможностью установки против хода движения , 8 посадочных мест, Подогрев передних сидений , Электрообогрев лобового стекла, Подогрев форсунок омывателя лобового стекла, Боковые зеркала заднего вида с электрорегулировкой и подогревом, Подогрев рулевого колеса\n",
            "Технические характеристики : Тип кузова: Кроссвэн; Габариты (длина/ширина/высота), мм: 5155 / 1995 / 1750 ; Колесная база, мм: 3090; Дорожный просвет, мм: 182; Объём багажника (VDA), л: 2905-627; Город, г/км: 332; Трасса, г/км: 179; В комбинированном цикле, г/км: 235; Двигатель: 3.5 MPI; Мощность, л.с.: 249; Крутящий момент, Н·м: 331.5 ; Тип топлива: Бензин, АИ 92-95; Рабочий объем, см3: 3470; Экологический класс: Евро-5; Коробка передач: Автомат (8AT); Привод: Передний; Время разгона 0-100 км/ч, с: 8.5; Расход топлива комбинированный, л/100 км: 10.3; Максимальная скорость (км/ч): 190; Ускорение (сек) 0->100 (км/ч): 8.5; Ускорение (сек) 60->100 (км/ч): 4,5; Ускорение (сек) 80->120 (км/ч): 5,6; Путь при торможении со 100 до 0 км/ч (м): 42.2; В городском цикле (л. / 100 км): 14.6; Объем топливного бака (л.): 72; В загородном цикле (л. / 100 км): 7.8; В комбинированном цикле (л. / 100 км): 10.3\n",
            "Спецификация : Код модели: HSB8J961J; OCN: G617; Модельный год: 2022; Год производства: 2022\n",
            "\n",
            "\n",
            "=====================Отрывок документа №3=====================\n",
            "\n",
            "=== score = 0.24495673179626465  Metadata документа ------------ {'Header 1': 'models', 'Header 2': 'Kia Carnival 2022', 'Header 3': 'Комплектации', 'Header 4': 'Комплектация: Kia Carnival Premium+ 3.5 MPI / 249 л.с. / Бензин / Автомат, 8AT / Передний привод'}\n",
            "\n",
            "Комплектация: Kia Carnival Premium+ 3.5 MPI / 249 л.с. / Бензин / Автомат, 8AT / Передний привод\n",
            "Цена: 5 324 900 ₽\n",
            "Стандартное оборудование : Светодиодные дневные ходовые огни, Дополнительный светодиодный стоп-сигнал, Два разъёма USB для зарядки мобильных устройств в передней панели, Разъём USB для зарядки мобильных устройств в боковой части спинки передних сидений, Дополнительная розетка 12V в багажном отделении, Крепления для детского кресла ISOFIX на втором и третьем ряду сидений, Система помощи при старте на подъёме (HAC), Система активного управления стабилизацией (VSM), Фронтальные подушки безопасности, Передние боковые подушки и шторки безопасности, Коленная подушка безопасности водителя, Крепления для детского кресла ISOFIX на втором и третьем ряду сидений, Система экстренной связи ЭРА-ГЛОНАСС, Система контроля давления в шинах (TPMS), Запасное колесо временного использования, Круиз-контроль, Механическая регулировка сидений второго ряда в продольном направлении, Сиденья третьего ряда со спинками, складывающимися в пол в соотношении 60:40, Bluetooth для подключения мобильных устройств , Регулировка рулевой колонки по высоте и вылету, Система выбора режима движения (Drive Mode Select), Электрический стояночный тормоз (EPB)\n",
            "Опции комплектации : Сдвижные задние боковые двери с электроприводом и дистанционным управлением, Интеллектуальная система открывания багажника и сдвижных задних боковых дверей , Решетка радиатора с отделкой хромом, Задняя стойка с отделкой хромом, Рейлинги на крыше, Светодиодные противотуманные фары, Светодиодные задние фонари , Два люка с электроприводом , Тонировка стёкол задних дверей, Проекционные светодиодные фары, Электропривод складывания боковых зеркал заднего вида, Климат-контроль для второго и третьего ряда сидений , Передние и задние стеклоподъёмники с функцией Auto, Система бесключевого доступа Smart Key и запуск двигателя кнопкой, Дистанционный запуск двигателя с ключа, Премиальная аудиосистема Bose с 11 динамиками, сабвуфером и внешним усилителем, Камера для общения с пассажирами второго и третьего ряда, Розетка 220в в центральной консоли, Беспроводная зарядка для мобильных устройств , Задние датчики парковки, Передние датчики парковки, Салонное зеркало заднего вида с автоматическим затемнением, Напоминание о пассажирах на заднем ряду (ROA), Электрорегулировка сиденья переднего пассажира в 8 направлениях, Вентиляция передних сидений , Вентиляция сидений второго ряда, Навигационная система 12,3'' с поддержкой Apple Carplay и Android Auto, Телематические сервисы Kia Connect**, Электронный селектор трансмиссии (Shift by Wire), Подрулевые \"лепестки\" переключения передач, Солнцезащитные шторки для пассажиров второго и третьего рядов, 7 посадочных мест , 2 отдельных сиденья второго ряда с подлокотниками и поддержкой для ног , Электрорегулировка сидений второго ряда в 6 направлениях с функцией перевода сидений в режим релаксации, Сиденья с комбинированной кожаной отделкой*, Рулевое колесо с отделкой кожей*, Сетка для крепления багажа, Интеллектуальный круиз-контроль (SCC) c функцией Stop&Go , Интеллектуальный ограничитель скорости (ISLA), Система предотвращения фронтального столкновения с функцией предупреждения столкновения при повороте на перекрестке (FCA-JT) , Система предотвращения выезда из полосы движения (LKA), Ассистент движения в полосе (LFA) , Система предупреждения о столкновении с автомобилем в слепой зоне (BCW), Система предупреждения бокового столкновения при выезде с парковки задним ходом (RCCW), Система предотвращения столкновения с автомобилем в слепой зоне (BCA) , Система предотвращения бокового столкновения при выезде с парковки задним ходом (RCCA), Камеры, отображающие слепые зоны на панель приборов (BVM) , Система безопасного выхода из автомобиля (SEW), Система контроля внимания водителя (DAW), Ассистент управления дальним светом (HBA), Предупреждение о начале движения впередиидущего автомобиля (LVDA), Подогрев передних сидений , Электрообогрев лобового стекла, Подогрев форсунок омывателя лобового стекла, Боковые зеркала заднего вида с электрорегулировкой и подогревом, Подогрев рулевого колеса, Подогрев сидений второго ряда\n",
            "Технические характеристики : Тип кузова: Кроссвэн; Габариты (длина/ширина/высота), мм: 5155 / 1995 / 1750 ; Колесная база, мм: 3090; Дорожный просвет, мм: 182; Объём багажника (VDA), л: 2827-627; Город, г/км: 332; Трасса, г/км: 179; В комбинированном цикле, г/км: 235; Двигатель: 3.5 MPI; Мощность, л.с.: 249; Крутящий момент, Н·м: 331.5 ; Тип топлива: Бензин, АИ 92-95; Рабочий объем, см3: 3470; Экологический класс: Евро-5; Коробка передач: Автомат (8AT); Привод: Передний; Время разгона 0-100 км/ч, с: 8.5; Расход топлива комбинированный, л/100 км: 10.3; Максимальная скорость (км/ч): 190; Ускорение (сек) 0->100 (км/ч): 8.5; Ускорение (сек) 60->100 (км/ч): 4,5; Ускорение (сек) 80->120 (км/ч): 5,6; Путь при торможении со 100 до 0 км/ч (м): 42.2; В городском цикле (л. / 100 км): 14.6; Объем топливного бака (л.): 72; В загородном цикле (л. / 100 км): 7.8; В комбинированном цикле (л. / 100 км): 10.3\n",
            "Спецификация : Код модели: HSB7J961J; OCN: H212; Модельный год: 2022; Год производства: 2022\n",
            "\n",
            "\n",
            "=====================Отрывок документа №4=====================\n",
            "\n",
            "=== score = 0.24602735042572021  Metadata документа ------------ {'Header 1': 'models', 'Header 2': 'Kia Carnival 2022', 'Header 3': 'Комплектации', 'Header 4': 'Комплектация: Kia Carnival Premium 3.5 MPI / 249 л.с. / Бензин / Автомат, 8AT / Передний привод'}\n",
            "\n",
            "Комплектация: Kia Carnival Premium 3.5 MPI / 249 л.с. / Бензин / Автомат, 8AT / Передний привод\n",
            "Цена: 5 174 900 ₽\n",
            "Стандартное оборудование : Светодиодные дневные ходовые огни, Дополнительный светодиодный стоп-сигнал, Два разъёма USB для зарядки мобильных устройств в передней панели, Разъём USB для зарядки мобильных устройств в боковой части спинки передних сидений, Дополнительная розетка 12V в багажном отделении, Крепления для детского кресла ISOFIX на втором и третьем ряду сидений, Система помощи при старте на подъёме (HAC), Система активного управления стабилизацией (VSM), Фронтальные подушки безопасности, Передние боковые подушки и шторки безопасности, Коленная подушка безопасности водителя, Крепления для детского кресла ISOFIX на втором и третьем ряду сидений, Система экстренной связи ЭРА-ГЛОНАСС, Система контроля давления в шинах (TPMS), Запасное колесо временного использования, Круиз-контроль, Механическая регулировка сидений второго ряда в продольном направлении, Сиденья третьего ряда со спинками, складывающимися в пол в соотношении 60:40, Bluetooth для подключения мобильных устройств , Регулировка рулевой колонки по высоте и вылету, Система выбора режима движения (Drive Mode Select), Электрический стояночный тормоз (EPB)\n",
            "Опции комплектации : Сдвижные задние боковые двери с электроприводом и дистанционным управлением, Интеллектуальная система открывания багажника и сдвижных задних боковых дверей , Решетка радиатора с отделкой хромом, Задняя стойка с отделкой хромом, Рейлинги на крыше, Светодиодные противотуманные фары, Светодиодные задние фонари , Два люка с электроприводом , Тонировка стёкол задних дверей, Проекционные светодиодные фары, Сиденья с отделкой искусственной кожей, Рулевое колесо с отделкой кожей*, Сетка для крепления багажа, Интеллектуальный круиз-контроль (SCC) c функцией Stop&Go , Интеллектуальный ограничитель скорости (ISLA), Система предотвращения фронтального столкновения с функцией предупреждения столкновения при повороте на перекрестке (FCA-JT) , Система предотвращения выезда из полосы движения (LKA), Ассистент движения в полосе (LFA) , Система предупреждения о столкновении с автомобилем в слепой зоне (BCW), Система предупреждения бокового столкновения при выезде с парковки задним ходом (RCCW), Система предотвращения столкновения с автомобилем в слепой зоне (BCA) , Система предотвращения бокового столкновения при выезде с парковки задним ходом (RCCA), Камеры, отображающие слепые зоны на панель приборов (BVM) , Система безопасного выхода из автомобиля (SEW), Предупреждение о начале движения впередиидущего автомобиля (LVDA), Система контроля внимания водителя (DAW), Ассистент управления дальним светом (HBA), Климат-контроль для второго и третьего ряда сидений , Передние и задние стеклоподъёмники с функцией Auto, Система бесключевого доступа Smart Key и запуск двигателя кнопкой, Дистанционный запуск двигателя с ключа, Телематические сервисы Kia Connect**, Камера для общения с пассажирами второго и третьего ряда, Розетка 220в в центральной консоли, Беспроводная зарядка для мобильных устройств , Задние датчики парковки, Передние датчики парковки, Салонное зеркало заднего вида с автоматическим затемнением, Напоминание о пассажирах на заднем ряду (ROA), Вентиляция передних сидений , Навигационная система 12,3'' с поддержкой Apple Carplay и Android Auto, Электронный селектор трансмиссии (Shift by Wire), Подрулевые \"лепестки\" переключения передач, Электропривод складывания боковых зеркал заднего вида, Солнцезащитные шторки для пассажиров второго и третьего рядов, 3 отдельных сиденья второго ряда, съемные, с возможностью установки против хода движения , Электрорегулировка сиденья переднего пассажира в 8 направлениях, 8 посадочных мест, Подогрев передних сидений , Электрообогрев лобового стекла, Подогрев форсунок омывателя лобового стекла, Боковые зеркала заднего вида с электрорегулировкой и подогревом, Подогрев рулевого колеса\n",
            "Технические характеристики : Тип кузова: Кроссвэн; Габариты (длина/ширина/высота), мм: 5155 / 1995 / 1750 ; Колесная база, мм: 3090; Дорожный просвет, мм: 182; Объём багажника (VDA), л: 2905-627; Город, г/км: 332; Трасса, г/км: 179; В комбинированном цикле, г/км: 235; Двигатель: 3.5 MPI; Мощность, л.с.: 249; Крутящий момент, Н·м: 331.5 ; Тип топлива: Бензин, АИ 92-95; Рабочий объем, см3: 3470; Экологический класс: Евро-5; Коробка передач: Автомат (8AT); Привод: Передний; Время разгона 0-100 км/ч, с: 8.5; Расход топлива комбинированный, л/100 км: 10.3; Максимальная скорость (км/ч): 190; Ускорение (сек) 0->100 (км/ч): 8.5; Ускорение (сек) 60->100 (км/ч): 4,5; Ускорение (сек) 80->120 (км/ч): 5,6; Путь при торможении со 100 до 0 км/ч (м): 42.2; В городском цикле (л. / 100 км): 14.6; Объем топливного бака (л.): 72; В загородном цикле (л. / 100 км): 7.8; В комбинированном цикле (л. / 100 км): 10.3\n",
            "Спецификация : Код модели: HSB8J961J; OCN: H211; Модельный год: 2022; Год производства: 2022\n",
            "\n",
            "\n",
            "=====================Отрывок документа №5=====================\n",
            "\n",
            "=== score = 0.2510903477668762  Metadata документа ------------ {'Header 1': 'models', 'Header 2': 'Kia Carnival 2022'}\n",
            "\n",
            "Kia Carnival 2022 - https://www.kia.ru/models/carnival/desc/\n",
            "\n",
            "\n",
            "Менеджер:  Какая Вам требуется помощь?\n",
            "\n",
            "\n",
            "САММАРИ \n",
            "=== Вот краткий обзор предыдущего диалога: Консультант отвечает на вопрос клиента Юрия относительно стандартной комплектации KIA Carnival. Он перечисляет особенности этой комплектации, включая светодиодные дневные ходовые огни, разъемы USB для зарядки мобильных устройств, крепления для детского кресла ISOFIX, систему помощи при старте на подъеме и активное управление стабилизацией, подушки безопасности, систему экстренной связи, контроль давления в шинах, круиз-контроль и другие функции. Консультант также предлагает дополнительную информацию и готов ответить на дополнительные вопросы клиента. \n",
            "\n",
            "\n",
            "=====================Отрывок документа №1=====================\n",
            "\n",
            "=== score = 0.2555895149707794  Metadata документа ------------ {'Header 1': 'models', 'Header 2': 'Kia Sportage 2022', 'Header 3': 'Для бесконечного вдохновения'}\n",
            "\n",
            "Для бесконечного вдохновения\n",
            "У Kia Sportage смелый и стремительный дизайн. Автомобиль создан с учетом современных технологий, которые позволяют чувствовать себя в дороге еще более уверенно, независимо от того, где вы находитесь и куда стремитесь. Для тех, кто продолжает двигаться. Вдохновение всегда рядом.. Kia Sportage - победитель Гран-при «За рулем 2023»\n",
            "Фото https://cdn.kia.ru/resize/1920x960/media-data/infographics/sportage_new/40c1dddc-fccd-49c7-8ace-2772c12e8fe8.jpg\n",
            "\n",
            "\n",
            "=====================Отрывок документа №2=====================\n",
            "\n",
            "=== score = 0.2559523284435272  Metadata документа ------------ {'Header 1': 'models', 'Header 2': 'Kia Sportage 2022', 'Header 3': 'Двигатель'}\n",
            "\n",
            "Двигатель\n",
            "Покоряя дороги и вершины. Благодаря сочетанию мощности и топливной экономичности двигателей Kia Sportage вы сможете преодолевать большее расстояние, не отказывая себе в наслаждении динамикой и управляемостью при любых дорожных и погодных условиях.\n",
            "Модели двигателей: 2.5 Smartstream GDI, 2.0 Smartstream MPI\n",
            "\n",
            "\n",
            "=====================Отрывок документа №3=====================\n",
            "\n",
            "=== score = 0.2600075602531433  Metadata документа ------------ {'Header 1': 'technology', 'Header 2': 'Современные системы полного привода Kia'}\n",
            "\n",
            "Современные системы полного привода Kia\n",
            "Современные системы полного привода Kia устанавливаются как на легковые автомобили (Stinger, K900), так и на кроссоверы и внедорожники (Seltos, Sportage, Sorento, Sorento Prime, Mohave). Они помогают преодолевать сложные участки дороги, а также обеспечивают дополнительную безопасность при вождении на дорогах со скользким покрытием. Система управления автоматически подключаемого полного привода оценивает дорожные условия, скорость вращения колес, ускорение, стиль вождения и распределяет крутящий момент между передней и задней осями в оптимальных пропорциях. Для кроссоверов и внедорожников предусмотрен режим 4WD Lock - принудительная блокировка межосевой муфты, отвечающей за распределение крутящего момента. При активации режима распределение момента между передними и задними колёсами будет зафиксировано в соотношении 50:50. При превышении скорости 40 км/ч система самостоятельно переключится в автоматический режим. Более сложная и многофункциональная система постоянного полного привода устанавливается на внедорожник Mohave. Отличную проходимость этому автомобилю обеспечивает двухступенчатая раздаточная коробка с пониженной передачей и функцией центральной блокировки.\n",
            "\n",
            "\n",
            "=====================Отрывок документа №4=====================\n",
            "\n",
            "=== score = 0.2675546705722809  Metadata документа ------------ {'Header 1': 'technology', 'Header 2': 'Система предотвращения выезда из полосы движения (LKA)'}\n",
            "\n",
            "Система предотвращения выезда из полосы движения (LKA)\n",
            "Водитель может случайно выехать из своего ряда, но система удержания автомобиля в полосе постоянно следит за дорожной разметкой с помощью камеры в верхней части лобового стекла. В случае, если Вы нечаянно выйдете за границу полосы, система подаст сигнал, а при необходимости поможет Вам вернуть автомобиль в занимаемый ряд.\n",
            "\n",
            "\n",
            "=====================Отрывок документа №5=====================\n",
            "\n",
            "=== score = 0.26761746406555176  Metadata документа ------------ {'Header 1': 'tech', 'Header 2': 'tech67'}\n",
            "\n",
            "Информацию о задних амортизаторах на Kia Sportage 4 и других технических параметрах автомобиля можно уточнить в официальных дилерских центрах Kia, которые обладают\n",
            "необходимым оборудованием, обученным персоналом и всей сопутствующей документацией. Список и координаты всех официальных дилеров доступны на сайте Kia.\n",
            "\n",
            "\n",
            "Менеджер:   KIA Sportage использует несколько технологий, чтобы обеспечить хорошую управляемость и устойчивость на дороге. Одна из таких технологий - это система полного привода,\n",
            " которая помогает преодолевать сложные участки дороги и обеспечивает дополнительную безопасность при вождении на дорогах со скользким покрытием. Эта система автоматически\n",
            " оценивает дорожные условия, скорость вращения колес, ускорение и стиль вождения, распределяя крутящий момент между передней и задней осями в оптимальных пропорциях.\n",
            " Кроме того, KIA Sportage также оснащается системой предотвращения выезда из полосы движения (LKA), которая следит за дорожной разметкой с помощью камеры в верхней части\n",
            " лобового стекла. В случае, если вы случайно выедете за границу полосы, система подаст сигнал и поможет вернуть автомобиль в занимаемый ряд. Эти технологии помогают KIA\n",
            " Sportage держать дорогу и обеспечивают безопасность и комфорт во время вождения. Если у вас есть дополнительные вопросы, я готов на них ответить.\n",
            "\n",
            "\n",
            "САММАРИ \n",
            "=== Вот краткий обзор предыдущего диалога: Клиент Юрий задал вопрос о стандартной комплектации KIA Carnival. Консультант перечислил особенности комплектации, включая светодиодные огни, разъемы USB для зарядки устройств, крепления для детского кресла, системы безопасности, систему помощи при старте на подъеме, систему активного управления стабилизацией, систему экстренной связи, систему контроля давления в шинах, круиз-контроль и другие функции. Затем клиент Юрий задал вопрос о технологиях, используемых в KIA Sportage для устойчивости на дороге. Консультант объяснил, что Sportage использует систему полного привода и систему предотвращения выезда из полосы движения для обеспечения хорошей управляемости и безопасности на дороге. \n",
            "\n",
            "\n",
            "=====================Отрывок документа №1=====================\n",
            "\n",
            "=== score = 0.23531650006771088  Metadata документа ------------ {'Header 1': 'models', 'Header 2': 'Kia Sportage 2022', 'Header 3': 'Для бесконечного вдохновения'}\n",
            "\n",
            "Для бесконечного вдохновения\n",
            "У Kia Sportage смелый и стремительный дизайн. Автомобиль создан с учетом современных технологий, которые позволяют чувствовать себя в дороге еще более уверенно, независимо от того, где вы находитесь и куда стремитесь. Для тех, кто продолжает двигаться. Вдохновение всегда рядом.. Kia Sportage - победитель Гран-при «За рулем 2023»\n",
            "Фото https://cdn.kia.ru/resize/1920x960/media-data/infographics/sportage_new/40c1dddc-fccd-49c7-8ace-2772c12e8fe8.jpg\n",
            "\n",
            "\n",
            "=====================Отрывок документа №2=====================\n",
            "\n",
            "=== score = 0.23748761415481567  Metadata документа ------------ {'Header 1': 'sales_purchases', 'Header 2': 'sales_purchases423'}\n",
            "\n",
            "Автомобиль Sportage доступен в 14 вариантах комплектаций стоимостью от 2 849 900 ₽. Комплектация Luxe включает 18-дюймовые легкосплавные диски с шинами 235/60 R18,\n",
            "8-дюймовую мультимедиа систему с поддержкой Apple Carplay и Android Auto, электрообогрев лобового стекла и телематические сервисы Kia Connect.\n",
            "\n",
            "\n",
            "=====================Отрывок документа №3=====================\n",
            "\n",
            "=== score = 0.2382017970085144  Metadata документа ------------ {'Header 1': 'models', 'Header 2': 'Kia Sportage 2022', 'Header 3': 'Смелый и выразительный'}\n",
            "\n",
            "Смелый и выразительный\n",
            "Kia Sportage в версии X-Line еще ярче раскрывает самобытныйи уверенный характер кроссовера. Его отличают внедорожные элементыи уникальный природный цвет кузова.\n",
            "Фото https://cdn.kia.ru/resize/1920x960/media-data/infographics/sportage_new/74d8ed59-963e-40d2-a332-d179512148d9.jpg\n",
            "\n",
            "\n",
            "=====================Отрывок документа №4=====================\n",
            "\n",
            "=== score = 0.24312856793403625  Metadata документа ------------ {'Header 1': 'models', 'Header 2': 'Kia Sportage 2022', 'Header 3': 'Двигатель'}\n",
            "\n",
            "Двигатель\n",
            "Покоряя дороги и вершины. Благодаря сочетанию мощности и топливной экономичности двигателей Kia Sportage вы сможете преодолевать большее расстояние, не отказывая себе в наслаждении динамикой и управляемостью при любых дорожных и погодных условиях.\n",
            "Модели двигателей: 2.5 Smartstream GDI, 2.0 Smartstream MPI\n",
            "\n",
            "\n",
            "=====================Отрывок документа №5=====================\n",
            "\n",
            "=== score = 0.24587687849998474  Metadata документа ------------ {'Header 1': 'models', 'Header 2': 'Kia Sportage 2022', 'Header 3': 'Иммерсивное пространство'}\n",
            "\n",
            "Иммерсивное пространство\n",
            "Интерьер Kia Sportage сочетает премиальное качество и ориентированныйна водителя дизайн. Изящный и тонкий изогнутый панорамный дисплей,обрамленный стильными дефлекторами воздуховодов, как будто огибаетводителя, открывая ему доступ к новейшим достижениям в областимультимедиа.\n",
            "Фото https://cdn.kia.ru/resize/1920x960/media-data/infographics/sportage_new/31a15033-ed3c-4bd8-855c-3e91867699c0.jpg\n",
            "\n",
            "\n",
            "Менеджер:   Kia Sportage offers several advantages compared to other cars. Some of the key benefits include: 1. Bold and Expressive Design: The Sportage features a bold and dynamic\n",
            " design that sets it apart from other vehicles in its class. Its modern and stylish appearance makes a statement on the road. 2. Advanced Technology: The Sportage is\n",
            " equipped with advanced technologies that enhance both safety and convenience. These include features like Apple CarPlay and Android Auto compatibility, a panoramic\n",
            " display, and telematics services like Kia Connect. 3. Powerful and Fuel-Efficient Engines: The Sportage offers a range of engine options, including the 2.5 Smartstream\n",
            " GDI and 2.0 Smartstream MPI engines. These engines provide a balance of power and fuel efficiency, allowing for an enjoyable driving experience while saving on fuel\n",
            " costs. 4. Immersive Interior: The interior of the Sportage combines premium quality with a driver-oriented design. The elegant and curved panoramic display, surrounded\n",
            " by stylish air vent deflectors, provides access to the latest multimedia features. 5. Safety Features: Kia Sportage prioritizes safety with a range of advanced safety\n",
            " features. These include systems like lane departure prevention, active stabilization management, emergency communication systems, and tire pressure monitoring. These\n",
            " advantages make the Kia Sportage a compelling choice for those seeking a stylish, technologically advanced, and safe vehicle.\n",
            "\n",
            "\n",
            "САММАРИ \n",
            "=== Вот краткий обзор предыдущего диалога: Консультант и клиент обсуждают две модели автомобилей - KIA Carnival и KIA Sportage. Консультант предоставляет информацию о стандартной комплектации KIA Carnival, включая особенности, такие как светодиодные огни, USB-разъемы для зарядки устройств, системы безопасности и другие. Затем клиент задает вопрос о технологиях, используемых в KIA Sportage для улучшения управляемости и устойчивости на дороге. Консультант отвечает, что KIA Sportage оснащается системой полного привода и системой предотвращения выезда из полосы движения, которые обеспечивают безопасность и комфорт во время вождения. Затем клиент интересуется преимуществами KIA Sportage по сравнению с другими автомобилями. Консультант перечисляет несколько преимуществ, включая смелый дизайн, передовые технологии, мощные и экономичные двигатели, качественный интерьер и системы безопасности. В целом, KIA Sportage предлагает стильный, технологически продвинутый и безопасный автомобиль. \n",
            "\n",
            "\n",
            "=====================Отрывок документа №1=====================\n",
            "\n",
            "=== score = 0.4229097366333008  Metadata документа ------------ {'Header 1': 'sevice_maintence', 'Header 2': 'sevice_maintence551'}\n",
            "\n",
            "Если возникают проблемы с выполнением гарантийных работ, следует обратиться к руководству дилерского центра с подробным описанием ситуации. Если вопрос не решается на\n",
            "уровне руководства, можно оставить обращение через форму обратной связи на официальном сайте Kia. В случае неудовлетворительного решения, обращение в суд является\n",
            "гражданским правом.\n",
            "\n",
            "\n",
            "=====================Отрывок документа №2=====================\n",
            "\n",
            "=== score = 0.45294660329818726  Metadata документа ------------ {'Header 1': 'sevice_maintence', 'Header 2': 'sevice_maintence538'}\n",
            "\n",
            "Обработанная запись базы знаний: Информация о гарантийном обслуживании в дилерском центре \"Юг-Авто Яблоновский\".\n",
            "\n",
            "\n",
            "=====================Отрывок документа №3=====================\n",
            "\n",
            "=== score = 0.45475834608078003  Metadata документа ------------ {'Header 1': 'sevice_maintence', 'Header 2': 'sevice_maintence554'}\n",
            "\n",
            "В случае гарантийного ремонта, все работы проводятся бесплатно. Если клиент не согласен с решением, рекомендуется обратиться к руководству дилерского центра.\n",
            "\n",
            "\n",
            "=====================Отрывок документа №4=====================\n",
            "\n",
            "=== score = 0.456766277551651  Metadata документа ------------ {'Header 1': 'sevice_maintence', 'Header 2': 'sevice_maintence21'}\n",
            "\n",
            "В перечень работ ТО 6 для киа сид jd 2017 года входит...\n",
            "\n",
            "\n",
            "=====================Отрывок документа №5=====================\n",
            "\n",
            "=== score = 0.45730528235435486  Metadata документа ------------ {'Header 1': 'sevice_maintence', 'Header 2': 'sevice_maintence309'}\n",
            "\n",
            "Отклеивание молдинга заднего крыла на Киа К5 может являться гарантийным случаем.\n",
            "\n",
            "\n",
            "Менеджер:   Я понимаю, что вы можете быть недовольными, но я здесь, чтобы помочь вам с информацией и услугами, связанными с автомобилями KIA. Если у вас есть какие-либо проблемы или\n",
            " вопросы, я постараюсь помочь вам в рамках моей компетенции. Если у вас возникли проблемы с гарантийными работами, рекомендуется обратиться к руководству дилерского\n",
            " центра с подробным описанием ситуации. Если вопрос не решается на уровне руководства, можно оставить обращение через форму обратной связи на официальном сайте Kia. В\n",
            " случае неудовлетворительного решения, обращение в суд является гражданским правом. Если у вас есть другие вопросы или нужна дополнительная информация, пожалуйста,\n",
            " сообщите мне.\n",
            "\n",
            "\n",
            "САММАРИ \n",
            "=== Вот краткий обзор предыдущего диалога: Консультант отвечает на вопросы клиента Юрия относительно комплектации KIA Carnival и технологий, используемых в KIA Sportage. Он предоставляет подробную информацию о стандартных особенностях комплектации KIA Carnival, включая светодиодные огни, разъемы USB, крепления для детского кресла, системы безопасности и другие функции. Консультант также объясняет, что KIA Sportage предлагает ряд преимуществ, включая смелый дизайн, передовые технологии, мощные и экономичные двигатели, комфортный интерьер и системы безопасности. Когда клиент задает вопрос о возможности подачи в суд, консультант отвечает, что он готов помочь в рамках своей компетенции и рекомендует обратиться к руководству дилерского центра или оставить обращение через форму обратной связи на официальном сайте Kia. \n",
            "\n",
            "\n",
            "=====================Отрывок документа №1=====================\n",
            "\n",
            "=== score = 0.4027217626571655  Metadata документа ------------ {'Header 1': 'sales_purchases', 'Header 2': 'sales_purchases149'}\n",
            "\n",
            "Запрос на европейский каталог для Соренто.\n",
            "\n",
            "\n",
            "=====================Отрывок документа №2=====================\n",
            "\n",
            "=== score = 0.41670775413513184  Metadata документа ------------ {'Header 1': 'sales_purchases', 'Header 2': 'sales_purchases236'}\n",
            "\n",
            "Обработанная запись базы знаний: Клиенты могут иметь вопросы по поводу кредита.\n",
            "\n",
            "\n",
            "=====================Отрывок документа №3=====================\n",
            "\n",
            "=== score = 0.4219202995300293  Metadata документа ------------ {'Header 1': 'sales_purchases', 'Header 2': 'sales_purchases109'}\n",
            "\n",
            "Заказ звонка или самостоятельный звонок можно осуществить по номеру 88003010880. Это бесплатный звонок.\n",
            "\n",
            "\n",
            "=====================Отрывок документа №4=====================\n",
            "\n",
            "=== score = 0.42235615849494934  Metadata документа ------------ {'Header 1': 'tech', 'Header 2': 'tech106'}\n",
            "\n",
            "Обработанная запись базы знаний: Клиент интересуется информацией о масле, которое заливают дилеры.\n",
            "\n",
            "\n",
            "=====================Отрывок документа №5=====================\n",
            "\n",
            "=== score = 0.4231884777545929  Metadata документа ------------ {'Header 1': 'sales_purchases', 'Header 2': 'sales_purchases283'}\n",
            "\n",
            "Предложения о сотрудничестве можно направить через форму Обратной связи на сайте. Ответственные сотрудники рассмотрят предложение.\n",
            "\n",
            "\n",
            "Менеджер:   Извините, но я не могу ответить на ваш вопрос, так как он не связан с продуктами и услугами компании KIA. Я здесь, чтобы помочь вам с информацией о моделях автомобилей\n",
            " KIA, запчастях, специальных предложениях, сервисе, технологиях и программном обеспечении. Если у вас есть вопросы по этим темам, я с радостью помогу вам.\n",
            "\n",
            "\n"
          ]
        }
      ],
      "source": [
        "temperature=0.3\n",
        "verbose=0\n",
        "#HISTORY = [] # Убери решетку если нужно обновлять историю диалогов после запуска, если не нужно обновлять то оставь так\n",
        "\n",
        "run_dialog(prompt, knowledge_only_langchain)"
      ]
    }
  ],
  "metadata": {
    "colab": {
      "provenance": []
    },
    "kernelspec": {
      "display_name": "Python 3",
      "name": "python3"
    },
    "language_info": {
      "name": "python"
    }
  },
  "nbformat": 4,
  "nbformat_minor": 0
}