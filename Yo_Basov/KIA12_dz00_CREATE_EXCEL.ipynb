{
  "nbformat": 4,
  "nbformat_minor": 0,
  "metadata": {
    "colab": {
      "provenance": [],
      "gpuType": "T4"
    },
    "kernelspec": {
      "name": "python3",
      "display_name": "Python 3"
    },
    "language_info": {
      "name": "python"
    },
    "accelerator": "GPU"
  },
  "cells": [
    {
      "cell_type": "code",
      "source": [
        "# ЧЕРНОВОЙ ВАРИАНТ готовит эксель для самых важных данных (текущие цены, стоимость аренды и т д)\n",
        "\n",
        "from google.colab import drive\n",
        "drive.mount('/content/drive')"
      ],
      "metadata": {
        "colab": {
          "base_uri": "https://localhost:8080/"
        },
        "id": "S9sUplYYCU0P",
        "outputId": "5cd40a49-cc30-441c-a355-e4b0a0b12f83"
      },
      "execution_count": null,
      "outputs": [
        {
          "output_type": "stream",
          "name": "stdout",
          "text": [
            "Drive already mounted at /content/drive; to attempt to forcibly remount, call drive.mount(\"/content/drive\", force_remount=True).\n"
          ]
        }
      ]
    },
    {
      "cell_type": "code",
      "source": [
        "with open(\"config.txt\", \"w\") as fw:\n",
        "    fw.write(\"[COLAB]\\n\")\n",
        "    fw.write(\"knowledge_dir=/content/drive/MyDrive/KIA_AVATAR/Scripts/knowledge\\n\")\n",
        "    fw.write(\"prev_knowledge_dir=/content/drive/MyDrive/KIA_AVATAR/Scripts/../knowledge\\n\")\n",
        "    fw.write(\"\\n\")\n",
        "    fw.write(\"[PROM]\\n\")\n",
        "    fw.write(\"knowledge_dir=/opt/knowledge\\n\")\n",
        "    fw.write(\"prev_knowledge_dir=/knowledge\\n\")\n",
        "    fw.write(\"\\n\")\n",
        "    fw.write(\"[STEP03_COPY_WEBSITE]\\n\")\n",
        "    fw.write(\"api_key=?\\n\")\n",
        "    fw.write(\"neuro_copyrighter_limit=2\\n\")\n",
        "\n",
        "msg = \"\""
      ],
      "metadata": {
        "id": "bwait5-PBFum"
      },
      "execution_count": null,
      "outputs": []
    },
    {
      "cell_type": "code",
      "source": [
        "        # 1. Автомобили Kia в кредит - расчитать кредит на покупку https://www.kia.ru/buy/calc/\n",
        "        # 2. Расчет стоимости ТО - https://www.kia.ru/service/calculator_to/\n",
        "        # 3. Программа Trade-In - https://www.kia.ru/buy/trade-in/\n",
        "        import configparser\n",
        "        import pathlib\n",
        "        import os\n",
        "        import openpyxl\n",
        "        config = configparser.ConfigParser()\n",
        "        config.read('config.txt')\n",
        "        knowledge_dir = config[\"COLAB\"][\"knowledge_dir\"]\n",
        "        if knowledge_dir is None: knowledge_dir = \"./knowledge\"\n",
        "        pathlib.Path(knowledge_dir).mkdir(parents=True, exist_ok=True)\n",
        "        filepath_01 = os.path.join(knowledge_dir, \"01_calc_credit.xlsx\")\n",
        "        wb_01 = openpyxl.Workbook()\n",
        "        for wn_01 in [\"Модели\",\"Двигатель и КПП\",\"Комплектация\",\"Условия кредита\",\"Результаты расчета\"]:\n",
        "            wb_01.create_sheet(wn_01)\n",
        "            ws_01 = wb_01.worksheets[0]\n",
        "            wd_01 = {1: \"N_\", 2: \"Модельный ряд\", 3: \"Комплектация\", 4: \"Цена покупки (руб)\"}\n",
        "            for col_idx_01 in range(1, 10):\n",
        "                ws_01.cell(col_idx_01, 1).value = wd_01[col_idx_01] if col_idx_01 in wd_01 else \"_\"\n",
        "            for col_idx_01 in range(1, 10):\n",
        "                col_01 = col_idx_01\n",
        "                for row_01 in range(2, 10):\n",
        "                    ws_01.cell(col_01, row_01).value = \"?\"\n",
        "        wb_01.save(filepath_01)\n",
        "        filepath_02 = os.path.join(knowledge_dir, \"02_calc_tech.xlsx\")\n",
        "        wb_02 = openpyxl.Workbook()\n",
        "        for wn_02 in [\"Введите Госномер\", \"Введите VIN-номер\"]:\n",
        "            wb_02.create_sheet(wn_02)\n",
        "            ws_02 = wb_02.worksheets[0]\n",
        "            wd_02 = {1: \"N_\", 2: \"Модельный ряд\", 3: \"Комплектация\", 4: \"Цена покупки (руб)\"}\n",
        "            for col_idx_02 in range(1, 10):\n",
        "                ws_02.cell(col_idx_02, 1).value = wd_02[col_idx_02] if col_idx_02 in wd_02 else \"_\"\n",
        "            for col_idx_02 in range(1, 10):\n",
        "                col_02 = col_idx_02\n",
        "                for row_02 in range(2, 10):\n",
        "                    ws_02.cell(col_02, row_02).value = \"?\"\n",
        "        wb_02.save(filepath_02)\n",
        "        filepath_03 = os.path.join(knowledge_dir, \"03_calc_tradein.xlsx\")\n",
        "        wb_03 = openpyxl.Workbook()\n",
        "        for wn_03 in [\"Ваш автомобиль\", \"Характеристики вашего авто\", \"Результаты оценки\"]:\n",
        "            wb_03.create_sheet(wn_03)\n",
        "            ws_03 = wb_03.worksheets[0]\n",
        "            wd_03 = {1: \"N_\", 2: \"Модельный ряд\", 3: \"Комплектация\", 4: \"Цена покупки (руб)\"}\n",
        "            for col_idx_03 in range(1, 10):\n",
        "                ws_03.cell(col_idx_03, 1).value = wd_03[col_idx_03] if col_idx_03 in wd_03 else \"_\"\n",
        "            for col_idx_03 in range(1, 10):\n",
        "                col_03 = col_idx_03\n",
        "                for row_03 in range(2, 10):\n",
        "                    ws_03.cell(col_03, row_03).value = \"?\"\n",
        "        wb_03.save(filepath_03)\n",
        "        print(msg, \" ... OK\")"
      ],
      "metadata": {
        "id": "Yz9gPQrsBAcR",
        "colab": {
          "base_uri": "https://localhost:8080/"
        },
        "outputId": "54ccf4ec-932e-4091-cc35-8127445de220"
      },
      "execution_count": null,
      "outputs": [
        {
          "output_type": "stream",
          "name": "stdout",
          "text": [
            "  ... OK\n"
          ]
        }
      ]
    }
  ]
}