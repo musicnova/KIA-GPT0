{
  "cells": [
    {
      "cell_type": "markdown",
      "metadata": {
        "id": "view-in-github",
        "colab_type": "text"
      },
      "source": [
        "<a href=\"https://colab.research.google.com/github/TasksAndreySorokin/KIA-GPT1/blob/feature%2Fupdate_faiss/Alex_Minkin/%D0%B1%D0%BB%D0%BE%D0%BA%D0%BD%D0%BE%D1%82_%22KIAv3_%D1%81_%D0%BB%D0%BE%D0%BA%D0%B0%D0%BB%D1%8C%D0%BD%D0%BE%D0%B9_FAISS_%D0%B8_%D0%B0%D0%B2%D1%82%D0%BE%D0%B7%D0%B0%D0%BF%D0%BE%D0%BB%D0%BD%D0%B5%D0%BD%D0%B8%D0%B5%D0%BC_%D1%82%D0%B0%D0%B1%D0%BB%D0%B8%D1%86%D1%8B_%D0%B4%D0%BB%D1%8F_%D1%82%D0%B5%D1%81%D1%82%D0%B8%D1%80%D0%BE%D0%B2%D0%B0%D0%BD%D0%B8%D1%8F%22.ipynb\" target=\"_parent\"><img src=\"https://colab.research.google.com/assets/colab-badge.svg\" alt=\"Open In Colab\"/></a>"
      ]
    },
    {
      "cell_type": "markdown",
      "metadata": {
        "id": "QsFGkXMMwcX3"
      },
      "source": [
        "# Code"
      ]
    },
    {
      "cell_type": "markdown",
      "source": [
        "## Установка библиотек и функций"
      ],
      "metadata": {
        "id": "bCb0s1_XVXz5"
      }
    },
    {
      "cell_type": "code",
      "execution_count": null,
      "metadata": {
        "id": "-nH2KyinoxhE"
      },
      "outputs": [],
      "source": [
        "!pip  install  tiktoken==0.4.0  langchain==0.0.231 openai==0.27.8 faiss-cpu==1.7.4 gspread oauth2client nltk pydantic==1.10.8 openpyxl"
      ]
    },
    {
      "cell_type": "code",
      "execution_count": null,
      "metadata": {
        "id": "wNTJkb02qexK"
      },
      "outputs": [],
      "source": [
        "import gdown\n",
        "from langchain.llms import OpenAI\n",
        "from langchain.docstore.document import Document\n",
        "import requests\n",
        "#database\n",
        "from langchain.embeddings.openai import OpenAIEmbeddings\n",
        "from langchain.vectorstores import FAISS\n",
        "from langchain.text_splitter import RecursiveCharacterTextSplitter\n",
        "from langchain.text_splitter import MarkdownHeaderTextSplitter\n",
        "import re\n",
        "#from langchain.document_loaders import TextLoader\n",
        "\n",
        "from langchain.prompts import PromptTemplate\n",
        "import pathlib\n",
        "import subprocess\n",
        "import tempfile\n",
        "import ipywidgets as widgets\n",
        "import gspread\n",
        "from oauth2client.service_account import ServiceAccountCredentials\n",
        "import re\n",
        "import getpass\n",
        "import os\n",
        "import openai\n",
        "import tiktoken\n",
        "from io import BytesIO\n",
        "import openpyxl\n",
        "import pandas as pd\n",
        "from tqdm.auto import tqdm"
      ]
    },
    {
      "cell_type": "code",
      "source": [
        "import os\n",
        "import platform\n",
        "\n",
        "def clear_screen():\n",
        "    system_platform = platform.system()  # определить операционную систему\n",
        "    if system_platform == \"Windows\":\n",
        "        os.system('cls')\n",
        "    else:\n",
        "        os.system('clear')"
      ],
      "metadata": {
        "id": "BAWhNQ0K7x6k"
      },
      "execution_count": null,
      "outputs": []
    },
    {
      "cell_type": "code",
      "execution_count": null,
      "metadata": {
        "id": "Lh42jUHVy3fq"
      },
      "outputs": [],
      "source": [
        "MODEL_GPT_3_5_TURBO_16K = ['gpt-3.5-turbo-16k', 0.003, 0.004]\n",
        "MODEL_GPT_3_5_TURBO = ['gpt-3.5-turbo', 0.0015, 0.002]  # 4,097 tokens\n",
        "MODEL_GPT_3_5_TURBO_INSTRUCT = ['gpt-3.5-turbo-instruct', 0.0015, 0.002]  # 4,097 tokens\n",
        "MODEL_GPT_4 = ['gpt-4', 0.03, 0.06]  # 8,192 tokens\n",
        "SELECT_MODEL_GPT = MODEL_GPT_3_5_TURBO_16K # выбери нужную модель"
      ]
    },
    {
      "cell_type": "code",
      "execution_count": null,
      "metadata": {
        "colab": {
          "base_uri": "https://localhost:8080/"
        },
        "id": "jSdHAWANqs7C",
        "outputId": "2d5e8b8a-6dda-48eb-f72b-647ccf02d3ff"
      },
      "outputs": [
        {
          "name": "stdout",
          "output_type": "stream",
          "text": [
            "OpenAI API Key:··········\n"
          ]
        }
      ],
      "source": [
        "openai_key = getpass.getpass(\"OpenAI API Key:\")\n",
        "os.environ[\"OPENAI_API_KEY\"] = openai_key\n",
        "openai.api_key = openai_key"
      ]
    },
    {
      "cell_type": "code",
      "execution_count": null,
      "metadata": {
        "id": "eAafR4VwqtFS"
      },
      "outputs": [],
      "source": [
        "def insert_newlines(textstr: str, max_len: int = 170) -> str:\n",
        "    words = textstr.split()\n",
        "    lines = []\n",
        "    current_line = \"\"\n",
        "    for word in words:\n",
        "        if len(current_line + \" \" + word) > max_len:\n",
        "            lines.append(current_line)\n",
        "            current_line = \"\"\n",
        "        current_line += \" \" + word\n",
        "    lines.append(current_line)\n",
        "    return \"\\n\".join(lines)"
      ]
    },
    {
      "cell_type": "code",
      "execution_count": null,
      "metadata": {
        "id": "1YFsrIhi4Yct"
      },
      "outputs": [],
      "source": [
        "# функция для загрузки документа по ссылке из гугл драйв\n",
        "def load_document_text(url: str) -> str:\n",
        "    # Extract the document ID from the URL\n",
        "    match_ = re.search('/document/d/([a-zA-Z0-9-_]+)', url)\n",
        "    if match_ is None:\n",
        "        raise ValueError('Invalid Google Docs URL')\n",
        "    doc_id = match_.group(1)\n",
        "\n",
        "    # Download the document as plain text\n",
        "    response = requests.get(f'https://docs.google.com/document/d/{doc_id}/export?format=txt')\n",
        "    response.raise_for_status()\n",
        "    text = response.text\n",
        "\n",
        "    return text"
      ]
    },
    {
      "cell_type": "code",
      "source": [
        "# функция для загрузки txt файла по ссылке\n",
        "def load_text(url: str) -> str:\n",
        "    # Download the document as plain text\n",
        "    response = requests.get(url)\n",
        "    response.raise_for_status()\n",
        "    text = response.text\n",
        "\n",
        "    return text"
      ],
      "metadata": {
        "id": "tcaQWY3RnbgS"
      },
      "execution_count": null,
      "outputs": []
    },
    {
      "cell_type": "code",
      "execution_count": null,
      "metadata": {
        "id": "YnSehGphiewU"
      },
      "outputs": [],
      "source": [
        "# Функция загрузки базы знаний из файла и создания векторной базы\n",
        "def load_file_knowledge(file_path: str) -> str:\n",
        "    # Чтение текстового файла\n",
        "    with open(file_path, 'r', encoding='utf-8') as file:\n",
        "        text = file.read()\n",
        "\n",
        "    headers_to_split_on = [\n",
        "        (\"#\", \"Router\"),\n",
        "        (\"##\", \"Header2\"),\n",
        "        (\"###\", \"Header3\"),\n",
        "        (\"####\", \"Header4\"),\n",
        "    ]\n",
        "\n",
        "    markdown_splitter = MarkdownHeaderTextSplitter(headers_to_split_on=headers_to_split_on)\n",
        "    md_header_splits = markdown_splitter.split_text(text)\n",
        "\n",
        "    # Предполагается, что FAISS и OpenAIEmbeddings были импортированы или определены где-то выше\n",
        "    vectordateBase = FAISS.from_documents(md_header_splits, OpenAIEmbeddings())\n",
        "    vectordateBase.save_local(\"/content/faiss\")   # сохраняем векторную базу локально\n",
        "\n",
        "    return vectordateBase\n",
        "\n"
      ]
    },
    {
      "cell_type": "code",
      "source": [
        "# Функция загрузки векторной базы из папки\n",
        "def load_vectordate_base(path_to_vectordate_base: str) -> str:\n",
        "\n",
        "    vectordate_base = FAISS.load_local(path_to_vectordate_base, OpenAIEmbeddings())\n",
        "    return vectordate_base"
      ],
      "metadata": {
        "id": "nxFFAU9znF3_"
      },
      "execution_count": null,
      "outputs": []
    },
    {
      "cell_type": "markdown",
      "source": [
        "### Загрузка таблицы для тестирования"
      ],
      "metadata": {
        "id": "H4FCS6EIVTZC"
      }
    },
    {
      "cell_type": "code",
      "source": [
        "# функция для загрузки таблицы по ссылке из гугл драйв\n",
        "#def load_xls_pd(url: str) -> str:\n",
        "def load_xls_pd(url: str, sheet_name: str = 0) -> str:\n",
        "\n",
        "    # Extract the document ID from the URL\n",
        "    match_ = re.search('/spreadsheets/d/([a-zA-Z0-9-_]+)', url)\n",
        "    if match_ is None:\n",
        "        raise ValueError('Invalid Google Sheets URL')\n",
        "    doc_id = match_.group(1)\n",
        "\n",
        "    if sheet_name is None:\n",
        "        raise ValueError('Invalid sheet_name')\n",
        "\n",
        "    # Download the table as pandas\n",
        "    response = requests.get(f'https://docs.google.com/spreadsheets/d/{doc_id}/export?format=xlsx')\n",
        "    response.raise_for_status()     #проверяет статус код ответа. Если получен ответ с кодом ошибки (4xx или 5xx), вызывается исключение HTTPError.\n",
        "    #data = pd.read_excel(BytesIO(response.content), sheet_name=0)  #чтение первого листа из книги\n",
        "    data = pd.read_excel(BytesIO(response.content),sheet_name = sheet_name, header=None) #чтение конкретного листа из Книги Excel\n",
        "\n",
        "    ''' Разъяснение:\n",
        "        Когда мы хотим прочитать данные Excel с помощью функции pd.read_excel(), она требует передачи ей пути к файлу или объекта, представляющего файл.\n",
        "        В параметре io функции pd.read_excel() необходимо указать путь к файлу (в виде строки, содержащей путь к файлу) или объект файлового типа (такой как BufferedWriter, BufferedReader и другие).\n",
        "        response.content возвращает содержимое ответа на запрос HTTP в виде байтового массива (bytes array).\n",
        "        Чтобы передать эти данные в функцию pd.read_excel(), нужно создать объект файла из байтового массива.\n",
        "        Для этой цели используется объект BytesIO из модуля io, который предоставляет интерфейс для работы с данными в памяти, как если бы они находились в файле.\n",
        "    '''\n",
        "    return data"
      ],
      "metadata": {
        "id": "NBUpulGKUkvc"
      },
      "execution_count": null,
      "outputs": []
    },
    {
      "cell_type": "code",
      "source": [
        "# Шаг 1: Загрузить xlsx файл из Google Drive\n",
        "google_sheet_url = \"https://docs.google.com/spreadsheets/d/1ewjENXCLwfmzGA9FFTqb6lcg4Ob9N505Lg-4H8oQvoI\"\n",
        "sheet_name='Вопросы с 10.11'\n",
        "\n",
        "#data = load_xls_pd(google_sheet_url)   #если в таблице только один лист\n",
        "df = load_xls_pd(google_sheet_url, sheet_name)"
      ],
      "metadata": {
        "id": "g3mw1qPpUwrs"
      },
      "execution_count": null,
      "outputs": []
    },
    {
      "cell_type": "code",
      "source": [
        "# проверка\n",
        "df"
      ],
      "metadata": {
        "id": "Dmkq48x4U6p_"
      },
      "execution_count": null,
      "outputs": []
    },
    {
      "cell_type": "code",
      "source": [
        "# установить первую строку в виде строки заголовков столбцов\n",
        "df.set_axis(df.iloc[0], axis='columns', inplace=True)\n",
        "# проверка\n",
        "df.info()\n",
        "df"
      ],
      "metadata": {
        "id": "S0drsewsVAt4"
      },
      "execution_count": null,
      "outputs": []
    },
    {
      "cell_type": "code",
      "source": [
        "#df['Чанки'] = pd.Series(dtype=str)   # так можно добавить столбец \"Чанки\", если его нет"
      ],
      "metadata": {
        "id": "thCybnl4gydb"
      },
      "execution_count": null,
      "outputs": []
    },
    {
      "cell_type": "code",
      "source": [
        "#df = df.drop('Чанки', axis=1)         # а так можно удалить столбец"
      ],
      "metadata": {
        "id": "aUIzGf_oixHO"
      },
      "execution_count": null,
      "outputs": []
    },
    {
      "cell_type": "code",
      "source": [
        "#df.insert(loc=10, column='Чанки', value='') #2ой способ добавить пустой столбец \"Чанки\", если он отсутствует 11 столбцом"
      ],
      "metadata": {
        "id": "htmUaYgWh64I"
      },
      "execution_count": null,
      "outputs": []
    },
    {
      "cell_type": "markdown",
      "source": [
        "## Загружаем векторное хранилище либо из базы знаний:\n",
        "Предварительно нужно загрузить файл базы знаний 'database.md' в колаб"
      ],
      "metadata": {
        "id": "eqKvdptPvmVb"
      }
    },
    {
      "cell_type": "code",
      "execution_count": null,
      "metadata": {
        "id": "9CrXhbfVqtP_"
      },
      "outputs": [],
      "source": [
        "#Если заново собирать векторную базу из базы знаний, то нужно раскоментировать этот код\n",
        "'''\n",
        "!git clone -b develop https://github.com/TasksAndreySorokin/KIA-GPT1.git\n",
        "!cp /content/KIA-GPT1/knowledge/database.md /content/database.md\n",
        "!rm -r /content/KIA-GPT1\n",
        "knowledge_base = load_file_knowledge('database.md')\n",
        "'''"
      ]
    },
    {
      "cell_type": "code",
      "source": [
        "#!zip -r faiss.zip faiss     #для архивирования папки, чтобы ее можно было скачать себе"
      ],
      "metadata": {
        "id": "G0Re7K69T1t7"
      },
      "execution_count": null,
      "outputs": []
    },
    {
      "cell_type": "markdown",
      "source": [
        "## Либо используем уже готовую векторную базу (два раза НЕ НУЖНО):\n",
        "Предварительно загрузим папку FAISS_routing с векторными базами в колаб и скопируем ее в нужное место:"
      ],
      "metadata": {
        "id": "RHUWglXmvxYJ"
      }
    },
    {
      "cell_type": "code",
      "source": [
        "!git clone -b develop https://github.com/TasksAndreySorokin/KIA-GPT1.git\n",
        "!cp -r /content/KIA-GPT1/knowledge/faiss /content/faiss\n",
        "!rm -r /content/KIA-GPT1"
      ],
      "metadata": {
        "id": "9ZrvvPkq2BjT"
      },
      "execution_count": null,
      "outputs": []
    },
    {
      "cell_type": "code",
      "source": [
        "#!unzip /content/faiss.zip   #можно загрузить в колаб из локальной  папки с векторным хранилищем и разархиваровать"
      ],
      "metadata": {
        "id": "EmO7lWCYYu6o"
      },
      "execution_count": null,
      "outputs": []
    },
    {
      "cell_type": "markdown",
      "source": [
        "Теперь подгружаем векторные хранилища:"
      ],
      "metadata": {
        "id": "rsJWyJ0IEYgA"
      }
    },
    {
      "cell_type": "code",
      "source": [
        "knowledge_base = load_vectordate_base('faiss')"
      ],
      "metadata": {
        "id": "UoUYZVuHnw36"
      },
      "execution_count": null,
      "outputs": []
    },
    {
      "cell_type": "code",
      "source": [
        "# функция суммаризации диалогов\n",
        "def _summarize_topic(dialog):\n",
        "        messages = [\n",
        "            {\"role\": \"system\",\n",
        "             \"content\": \"Ты - ассистент консультанта, основанный на AI. Ты умеешь профессионально суммаризировать присланные тебе диалоги консультанта и клиента. Твоя задача - суммаризировать диалог, который тебе пришел.\"},\n",
        "            {\"role\": \"user\",\n",
        "             \"content\": \"Суммаризируй следующий диалог консультанта и клиента: \" + \" \".join(dialog)}\n",
        "        ]\n",
        "\n",
        "        completion = openai.ChatCompletion.create(\n",
        "            model=SELECT_MODEL_GPT[0],\n",
        "            messages=messages,\n",
        "            temperature=0.1,  # Используем более низкую температуру для более определенной суммаризации\n",
        "            max_tokens=1000  # Ограничиваем количество токенов для суммаризации\n",
        "        )\n",
        "\n",
        "        return completion.choices[0].message.content"
      ],
      "metadata": {
        "id": "PdWHpQcgigI6"
      },
      "execution_count": null,
      "outputs": []
    },
    {
      "cell_type": "markdown",
      "source": [
        "## Функция запроса к ChatGPT"
      ],
      "metadata": {
        "id": "KvaMsWU6WcUA"
      }
    },
    {
      "cell_type": "code",
      "execution_count": null,
      "metadata": {
        "id": "dsEKLyifvEto"
      },
      "outputs": [],
      "source": [
        "def answer_index(topic, temp=0.1, top_similar_documents=3):\n",
        "        summarize_text = ''\n",
        "        HISTORY = '' # ОТКЛЮЧАЕТ САММОРИЗАЦИЮ! ЕСТЬ НУЖНО ЕЕ ВКЛЮЧИТЬ ТОГДА ЗАКОМЕНТИРУЙ\n",
        "        if len(HISTORY) > 0:\n",
        "            summarize_text = \"Вот краткий обзор предыдущего диалога: \" + _summarize_topic(\n",
        "                [q + ' ' + (a if a is not None else '') for q, a in HISTORY])\n",
        "            print(f'САММАРИ \\n=== {summarize_text} \\n')\n",
        "\n",
        "        # Добавляем явное разделение между историей диалога и текущим вопросом\n",
        "        input_text = summarize_text + \"\\n\\nТекущий вопрос: \" + topic\n",
        "\n",
        "        docs = knowledge_base.similarity_search_with_score(topic, k=top_similar_documents)\n",
        "\n",
        "        responses = []\n",
        "        for i, (doc, score) in enumerate(docs):\n",
        "            if score < 1: # ТУТ ТЫ МОЖЕШЬ УПРАВЛЯТЬ праметром Л2 для чанков. 0..1\n",
        "                content = doc.page_content\n",
        "                response = f' ___ score = {score} ___ Metadata документа = {doc.metadata}\\n___Отрывок документа №{i + 1}___\\n{content}\\n'\n",
        "                # раскомментируй строки ниже для вывода на экран найденных чанков\n",
        "                '''\n",
        "                print(f'\\n=====================Отрывок документа №{i + 1}=====================\\n')\n",
        "                print(f'=== score = {score}  Metadata документа ------------ {doc.metadata}')\n",
        "                print(f'\\n{content}\\n')\n",
        "                '''\n",
        "                responses.append(response)\n",
        "\n",
        "        messages = [\n",
        "            {\"role\": \"system\", \"content\": prompt},\n",
        "            {\"role\": \"user\",\n",
        "             \"content\": f\"Документ с информацией для ответа клиенту: {responses}\\n\\nВопрос клиента: \\n{input_text}\"}\n",
        "        ]\n",
        "\n",
        "        completion = openai.ChatCompletion.create(\n",
        "            model=SELECT_MODEL_GPT[0],\n",
        "            messages=messages,\n",
        "            temperature=temp\n",
        "        )\n",
        "\n",
        "        answer = completion.choices[0].message.content\n",
        "\n",
        "        # Добавляем вопрос пользователя и ответ системы в историю\n",
        "        if len(HISTORY) > 0:      #а нужно ли здесь проверять? Ведь она у нас изначально пустая, т.е. ничего не добавиться\n",
        "            HISTORY.append((topic, answer if answer is not None else ''))\n",
        "\n",
        "        return  insert_newlines(answer), responses"
      ]
    },
    {
      "cell_type": "code",
      "execution_count": null,
      "metadata": {
        "id": "YCBakZx6qtVM"
      },
      "outputs": [],
      "source": [
        "# Промпт моделей машин\n",
        "prompt = load_text('https://github.com/TasksAndreySorokin/KIA-GPT1/blob/develop/Prompts/kia_main_%20promt.txt')"
      ]
    },
    {
      "cell_type": "markdown",
      "source": [
        "## Для обработки диалогов вручную"
      ],
      "metadata": {
        "id": "5fEYnrJNq_xn"
      }
    },
    {
      "cell_type": "code",
      "source": [
        "\n",
        "def run_dialog():\n",
        "\n",
        "    while True:\n",
        "        user_question = input('\\nКлиент: ')\n",
        "        if ((user_question.lower() == 'stop') or (user_question.lower() == 'стоп')):\n",
        "            break\n",
        "        answer = answer_index(user_question)\n",
        "        print('\\nМенеджер: ', answer+'\\n\\n')\n",
        "\n",
        "    return\n"
      ],
      "metadata": {
        "id": "oNhb3ocGq_I_"
      },
      "execution_count": null,
      "outputs": []
    },
    {
      "cell_type": "code",
      "source": [
        "verbose=0\n",
        "#HISTORY = [] # Убери решетку если нужно обновлять историю диалогов после запуска, если не нужно обновлять то оставь так\n",
        "\n",
        "run_dialog()"
      ],
      "metadata": {
        "id": "ATxpWbOLr4aW"
      },
      "execution_count": null,
      "outputs": []
    },
    {
      "cell_type": "markdown",
      "source": [
        "## Сохранение ответов ChatGPT и чанков в таблицу"
      ],
      "metadata": {
        "id": "1OcbK6V0WyZ9"
      }
    },
    {
      "cell_type": "code",
      "source": [
        "# Переменная для подсчета количества строк, обработанных по условию\n",
        "count = 0\n",
        "# Цикл для обхода строк DataFrame\n",
        "for index, row in tqdm(df.iterrows()):\n",
        "    if (row['Тема'] == 'Технологии') & (pd.isna(row['Ответ GPT'])):       # Выбираем строки со своей Темой для тестирования, и если не пустые\n",
        "        # Ваш код для обработки данных текущей строки\n",
        "        user_question = row['Вопрос']\n",
        "        answer, chanks = answer_index(user_question)\n",
        "\n",
        "        # Записываем результат в столбец \"Ответ\"\n",
        "        df.at[index, 'Ответ GPT'] = answer\n",
        "        # Записываем чанки\n",
        "        df.at[index, 'Чанки'] = chanks\n",
        "        # Увеличиваем значение счетчика и проверяем, достигли ли мы нужного количества запросов\n",
        "        count += 1\n",
        "        print('Количество обработанных запросов: ' + count, end=' ')\n",
        "        if count >= 5:          # количество задаваемых вопросов к ChatGPT\n",
        "            break\n"
      ],
      "metadata": {
        "id": "WosnZKycW7Rl"
      },
      "execution_count": null,
      "outputs": []
    },
    {
      "cell_type": "code",
      "source": [
        "df[df['Тема'] == 'Технологии'][['Вопрос', 'Ответ GPT', 'Чанки']].head(15)   #проверка записей в таблице"
      ],
      "metadata": {
        "id": "zBdA0GORlBhz"
      },
      "execution_count": null,
      "outputs": []
    },
    {
      "cell_type": "code",
      "source": [
        "df[(df['Тема'] == 'Технологии') & (df['Ответ GPT'].isna())].head(10) #проверка записей в таблице"
      ],
      "metadata": {
        "id": "9T2wQtoPm4an"
      },
      "execution_count": null,
      "outputs": []
    },
    {
      "cell_type": "code",
      "source": [
        "df.to_excel('test.xlsx')      # загрузка df в таблицу 'test.xlsx'"
      ],
      "metadata": {
        "id": "dlDc6nYZoMxA"
      },
      "execution_count": null,
      "outputs": []
    },
    {
      "cell_type": "markdown",
      "source": [
        "Далее:\n",
        "- в исходной таблице установить фильтр для отображения только своего раздела, чтобы не перезаписать чужие разделы.\n",
        "- открыть созданную таблицу в Гугл Таблицах, установить фильтр для отображения только своего раздела, чтобы не перезаписать чужие разделы.\n",
        "- скопировать по очереди целиком столбцы 'Ответ GPT' и 'Чанки' в исходную таблицу для тестирования."
      ],
      "metadata": {
        "id": "Bntx6Rz3zUAu"
      }
    }
  ],
  "metadata": {
    "colab": {
      "provenance": [],
      "collapsed_sections": [
        "eqKvdptPvmVb",
        "RHUWglXmvxYJ",
        "Mf46e49WWM8J",
        "KvaMsWU6WcUA"
      ],
      "toc_visible": true,
      "include_colab_link": true
    },
    "kernelspec": {
      "display_name": "Python 3",
      "name": "python3"
    },
    "language_info": {
      "name": "python"
    }
  },
  "nbformat": 4,
  "nbformat_minor": 0
}